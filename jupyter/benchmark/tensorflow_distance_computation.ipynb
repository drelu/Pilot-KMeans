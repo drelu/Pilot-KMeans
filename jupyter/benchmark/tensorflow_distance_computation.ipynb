{
 "cells": [
  {
   "cell_type": "markdown",
   "metadata": {},
   "source": [
    "# Numpy Distance versus Tensorflow "
   ]
  },
  {
   "cell_type": "code",
   "execution_count": 6,
   "metadata": {
    "collapsed": false
   },
   "outputs": [],
   "source": [
    "from MDAnalysis.core.distances import distance_array, self_distance_array\n",
    "from MDAnalysis.analysis.distances import contact_matrix\n",
    "import scipy.sparse\n",
    "from scipy.spatial.distance import cdist\n",
    "import numpy as np\n",
    "import time, os, sys, gc\n",
    "import datetime\n",
    "import logging\n",
    "logger = logging.getLogger(\"py4j\")\n",
    "logger.setLevel(logging.ERROR)"
   ]
  },
  {
   "cell_type": "markdown",
   "metadata": {},
   "source": [
    "# Small Test Data"
   ]
  },
  {
   "cell_type": "code",
   "execution_count": 8,
   "metadata": {
    "collapsed": false
   },
   "outputs": [],
   "source": [
    "x = np.array((np.random.rand(10, 3)*10).astype(int))"
   ]
  },
  {
   "cell_type": "markdown",
   "metadata": {},
   "source": [
    "# Numpy Broadcast Version"
   ]
  },
  {
   "cell_type": "code",
   "execution_count": 9,
   "metadata": {
    "collapsed": false
   },
   "outputs": [],
   "source": [
    "def dist(x): \n",
    "    return np.sqrt(((x[:, None, :] - x) ** 2).sum(-1))"
   ]
  },
  {
   "cell_type": "code",
   "execution_count": 10,
   "metadata": {
    "collapsed": false
   },
   "outputs": [
    {
     "data": {
      "text/plain": [
       "array([[  0.        ,  10.72380529,   7.34846923,   4.12310563,\n",
       "          3.        ,   8.30662386,   6.40312424,   7.68114575,\n",
       "          5.        ,   7.14142843],\n",
       "       [ 10.72380529,   0.        ,  11.35781669,   9.48683298,\n",
       "          9.69535971,   6.164414  ,   9.05538514,   9.16515139,\n",
       "          6.78232998,   6.        ],\n",
       "       [  7.34846923,  11.35781669,   0.        ,   3.60555128,\n",
       "          8.66025404,   8.66025404,   7.68114575,   5.        ,\n",
       "          9.43398113,   5.38516481],\n",
       "       [  4.12310563,   9.48683298,   3.60555128,   0.        ,\n",
       "          5.09901951,   7.34846923,   5.09901951,   4.24264069,\n",
       "          6.        ,   4.24264069],\n",
       "       [  3.        ,   9.69535971,   8.66025404,   5.09901951,\n",
       "          0.        ,   9.16515139,   4.47213595,   7.07106781,\n",
       "          3.16227766,   7.34846923],\n",
       "       [  8.30662386,   6.164414  ,   8.66025404,   7.34846923,\n",
       "          9.16515139,   0.        ,  10.19803903,   9.48683298,\n",
       "          7.34846923,   4.69041576],\n",
       "       [  6.40312424,   9.05538514,   7.68114575,   5.09901951,\n",
       "          4.47213595,  10.19803903,   0.        ,   3.74165739,\n",
       "          5.09901951,   6.4807407 ],\n",
       "       [  7.68114575,   9.16515139,   5.        ,   4.24264069,\n",
       "          7.07106781,   9.48683298,   3.74165739,   0.        ,\n",
       "          7.34846923,   4.89897949],\n",
       "       [  5.        ,   6.78232998,   9.43398113,   6.        ,\n",
       "          3.16227766,   7.34846923,   5.09901951,   7.34846923,\n",
       "          0.        ,   6.164414  ],\n",
       "       [  7.14142843,   6.        ,   5.38516481,   4.24264069,\n",
       "          7.34846923,   4.69041576,   6.4807407 ,   4.89897949,\n",
       "          6.164414  ,   0.        ]])"
      ]
     },
     "execution_count": 10,
     "metadata": {},
     "output_type": "execute_result"
    }
   ],
   "source": [
    "dist(x)"
   ]
  },
  {
   "cell_type": "markdown",
   "metadata": {},
   "source": [
    "# Scikit Learn"
   ]
  },
  {
   "cell_type": "code",
   "execution_count": 11,
   "metadata": {
    "collapsed": false
   },
   "outputs": [
    {
     "data": {
      "text/plain": [
       "array([[  0.        ,  10.72380529,   7.34846923,   4.12310563,\n",
       "          3.        ,   8.30662386,   6.40312424,   7.68114575,\n",
       "          5.        ,   7.14142843],\n",
       "       [ 10.72380529,   0.        ,  11.35781669,   9.48683298,\n",
       "          9.69535971,   6.164414  ,   9.05538514,   9.16515139,\n",
       "          6.78232998,   6.        ],\n",
       "       [  7.34846923,  11.35781669,   0.        ,   3.60555128,\n",
       "          8.66025404,   8.66025404,   7.68114575,   5.        ,\n",
       "          9.43398113,   5.38516481],\n",
       "       [  4.12310563,   9.48683298,   3.60555128,   0.        ,\n",
       "          5.09901951,   7.34846923,   5.09901951,   4.24264069,\n",
       "          6.        ,   4.24264069],\n",
       "       [  3.        ,   9.69535971,   8.66025404,   5.09901951,\n",
       "          0.        ,   9.16515139,   4.47213595,   7.07106781,\n",
       "          3.16227766,   7.34846923],\n",
       "       [  8.30662386,   6.164414  ,   8.66025404,   7.34846923,\n",
       "          9.16515139,   0.        ,  10.19803903,   9.48683298,\n",
       "          7.34846923,   4.69041576],\n",
       "       [  6.40312424,   9.05538514,   7.68114575,   5.09901951,\n",
       "          4.47213595,  10.19803903,   0.        ,   3.74165739,\n",
       "          5.09901951,   6.4807407 ],\n",
       "       [  7.68114575,   9.16515139,   5.        ,   4.24264069,\n",
       "          7.07106781,   9.48683298,   3.74165739,   0.        ,\n",
       "          7.34846923,   4.89897949],\n",
       "       [  5.        ,   6.78232998,   9.43398113,   6.        ,\n",
       "          3.16227766,   7.34846923,   5.09901951,   7.34846923,\n",
       "          0.        ,   6.164414  ],\n",
       "       [  7.14142843,   6.        ,   5.38516481,   4.24264069,\n",
       "          7.34846923,   4.69041576,   6.4807407 ,   4.89897949,\n",
       "          6.164414  ,   0.        ]])"
      ]
     },
     "execution_count": 11,
     "metadata": {},
     "output_type": "execute_result"
    }
   ],
   "source": [
    "from sklearn.metrics.pairwise import euclidean_distances\n",
    "euclidean_distances(x,x)"
   ]
  },
  {
   "cell_type": "code",
   "execution_count": 12,
   "metadata": {
    "collapsed": false
   },
   "outputs": [
    {
     "data": {
      "text/plain": [
       "array([ 10.72380529,   7.34846923,   4.12310563,   3.        ,\n",
       "         8.30662386,   6.40312424,   7.68114575,   5.        ,\n",
       "         7.14142843,  11.35781669,   9.48683298,   9.69535971,\n",
       "         6.164414  ,   9.05538514,   9.16515139,   6.78232998,\n",
       "         6.        ,   3.60555128,   8.66025404,   8.66025404,\n",
       "         7.68114575,   5.        ,   9.43398113,   5.38516481,\n",
       "         5.09901951,   7.34846923,   5.09901951,   4.24264069,\n",
       "         6.        ,   4.24264069,   9.16515139,   4.47213595,\n",
       "         7.07106781,   3.16227766,   7.34846923,  10.19803903,\n",
       "         9.48683298,   7.34846923,   4.69041576,   3.74165739,\n",
       "         5.09901951,   6.4807407 ,   7.34846923,   4.89897949,   6.164414  ])"
      ]
     },
     "execution_count": 12,
     "metadata": {},
     "output_type": "execute_result"
    }
   ],
   "source": [
    "from scipy.spatial.distance import pdist\n",
    "pdist(x)"
   ]
  },
  {
   "cell_type": "markdown",
   "metadata": {},
   "source": [
    "# MD Analysis"
   ]
  },
  {
   "cell_type": "code",
   "execution_count": 18,
   "metadata": {
    "collapsed": true
   },
   "outputs": [],
   "source": [
    "def compute_distance_mdanalysis(coord):\n",
    "    start = time.time()\n",
    "    contact_matrix(coord, returntype=\"sparse\")\n",
    "    result=\"ComputeDistanceMDAnalysisSparse, %d, %.2f\"%(len(coord), (time.time()-start))\n",
    "    return result"
   ]
  },
  {
   "cell_type": "markdown",
   "metadata": {},
   "source": [
    "# Tensorflow"
   ]
  },
  {
   "cell_type": "code",
   "execution_count": null,
   "metadata": {
    "collapsed": true
   },
   "outputs": [],
   "source": [
    "import tensorflow as tf\n",
    "import numpy as np\n",
    "\n",
    "def compute_distance_tf(coord):\n",
    "    start = time.time()\n",
    "    sess = tf.Session(config=tf.ConfigProto(log_device_placement=True))\n",
    "    matrix1 = tf.convert_to_tensor(coord.astype(\"float32\"))\n",
    "    matrix_extend=tf.expand_dims(matrix1, 1)\n",
    "    dist_matrix=tf.sub(matrix_extend, matrix1)\n",
    "    dist_matrix_pow=tf.pow(dist_matrix, 2)\n",
    "    dist_matrix_pow_red=tf.reduce_sum(dist_matrix_pow, 2)\n",
    "    dist_matrix_euc=tf.sqrt(dist_matrix_pow_red)\n",
    "    rc=sess.run(dist_matrix_euc)\n",
    "    result=\"ComputeDistanceTensorflow, %d, %.2f\"%(len(coord), (time.time()-start))\n",
    "    sess.close()\n",
    "    return result"
   ]
  },
  {
   "cell_type": "code",
   "execution_count": 22,
   "metadata": {
    "collapsed": false
   },
   "outputs": [
    {
     "data": {
      "text/plain": [
       "'ComputeDistanceTensorflow, 10, 0.06'"
      ]
     },
     "execution_count": 22,
     "metadata": {},
     "output_type": "execute_result"
    }
   ],
   "source": [
    "compute_distance_tf(x)"
   ]
  },
  {
   "cell_type": "markdown",
   "metadata": {
    "collapsed": true
   },
   "source": [
    "# Benchmark"
   ]
  },
  {
   "cell_type": "code",
   "execution_count": null,
   "metadata": {
    "collapsed": false
   },
   "outputs": [
    {
     "name": "stdout",
     "output_type": "stream",
     "text": [
      "Process: ../../data/mdanalysis/synthetic/traj/10.np_txt\n",
      "ComputeDistanceTensorflow, 10, 0.10\n",
      "Process: ../../data/mdanalysis/synthetic/traj/100.np_txt\n",
      "ComputeDistanceTensorflow, 100, 0.05"
     ]
    }
   ],
   "source": [
    "DATA_PATH=\"../../data/mdanalysis/synthetic/traj/\"\n",
    "files=[os.path.join(DATA_PATH, i) for i in os.listdir(DATA_PATH)]\n",
    "\n",
    "for file_name in files:\n",
    "    print \"Process: \" + file_name\n",
    "    coord = np.loadtxt(file_name, dtype='float32')\n",
    "    start = time.time()\n",
    "    result=compute_distance_tf(coord)\n",
    "    print result"
   ]
  },
  {
   "cell_type": "code",
   "execution_count": null,
   "metadata": {
    "collapsed": true
   },
   "outputs": [],
   "source": []
  }
 ],
 "metadata": {
  "kernelspec": {
   "display_name": "Python 2",
   "language": "python",
   "name": "python2"
  },
  "language_info": {
   "codemirror_mode": {
    "name": "ipython",
    "version": 2
   },
   "file_extension": ".py",
   "mimetype": "text/x-python",
   "name": "python",
   "nbconvert_exporter": "python",
   "pygments_lexer": "ipython2",
   "version": "2.7.11"
  }
 },
 "nbformat": 4,
 "nbformat_minor": 0
}
