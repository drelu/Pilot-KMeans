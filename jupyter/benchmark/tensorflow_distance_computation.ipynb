{
 "cells": [
  {
   "cell_type": "markdown",
   "metadata": {},
   "source": [
    "# Numpy Distance versus Tensorflow "
   ]
  },
  {
   "cell_type": "code",
   "execution_count": 4,
   "metadata": {
    "collapsed": false
   },
   "outputs": [
    {
     "name": "stderr",
     "output_type": "stream",
     "text": [
      "/Users/luckow/anaconda/lib/python2.7/site-packages/MDAnalysis/core/distances.py:9: DeprecationWarning: distances has moved to MDAnalysis.lib.distances and will be removed from here in release 1.0\n",
      "  DeprecationWarning)\n"
     ]
    }
   ],
   "source": [
    "from MDAnalysis.core.distances import distance_array, self_distance_array\n",
    "from MDAnalysis.analysis.distances import contact_matrix\n",
    "import scipy.sparse\n",
    "from scipy.spatial.distance import cdist\n",
    "import numpy as np\n",
    "import time, os, sys, gc\n",
    "import datetime\n",
    "import logging\n",
    "import tensorflow as tf\n",
    "logger = logging.getLogger(\"py4j\")\n",
    "logger.setLevel(logging.ERROR)"
   ]
  },
  {
   "cell_type": "markdown",
   "metadata": {},
   "source": [
    "# Small Test Data"
   ]
  },
  {
   "cell_type": "code",
   "execution_count": 5,
   "metadata": {
    "collapsed": false
   },
   "outputs": [],
   "source": [
    "x = np.array((np.random.rand(10, 3)*10).astype(int))"
   ]
  },
  {
   "cell_type": "markdown",
   "metadata": {},
   "source": [
    "# Numpy Broadcast Version\n",
    "\n",
    "We extend both our 2-D array into 3 dimensions so that we can do an element-wise subtraction (broadcast): `x[:, None, :]`\n",
    "\n",
    "\n",
    "From **Python Data Science Handbook** by Jake Vanderblas:\n",
    "\n",
    "Broadcasting in NumPy follows a strict set of rules to determine the interaction between the two arrays:\n",
    "\n",
    "1. If the two arrays differ in their number of dimensions, the shape of the one with fewer dimensions is padded with ones on its leading (left) side.\n",
    "\n",
    "1. If the shape of the two arrays does not match in any dimension, the array with shape equal to 1 in that dimension is stretched to match the other shape.\n",
    "\n",
    "1. If in any dimension the sizes disagree and neither is equal to 1, an error is raised.\n",
    "\n"
   ]
  },
  {
   "cell_type": "code",
   "execution_count": 6,
   "metadata": {
    "collapsed": false
   },
   "outputs": [
    {
     "data": {
      "text/plain": [
       "(10, 1, 3)"
      ]
     },
     "execution_count": 6,
     "metadata": {},
     "output_type": "execute_result"
    }
   ],
   "source": [
    "x[:, None, :].shape"
   ]
  },
  {
   "cell_type": "code",
   "execution_count": 7,
   "metadata": {
    "collapsed": false
   },
   "outputs": [
    {
     "data": {
      "text/plain": [
       "(10, 3)"
      ]
     },
     "execution_count": 7,
     "metadata": {},
     "output_type": "execute_result"
    }
   ],
   "source": [
    "x.shape"
   ]
  },
  {
   "cell_type": "code",
   "execution_count": 8,
   "metadata": {
    "collapsed": false
   },
   "outputs": [
    {
     "data": {
      "text/plain": [
       "(10, 10, 3)"
      ]
     },
     "execution_count": 8,
     "metadata": {},
     "output_type": "execute_result"
    }
   ],
   "source": [
    "(x[:, None, :]-x).shape"
   ]
  },
  {
   "cell_type": "code",
   "execution_count": 9,
   "metadata": {
    "collapsed": false
   },
   "outputs": [
    {
     "data": {
      "text/plain": [
       "array([[6, 6, 6, 3, 3, 1, 2, 2, 8, 4],\n",
       "       [6, 6, 7, 6, 8, 6, 5, 5, 2, 9],\n",
       "       [5, 8, 9, 1, 7, 5, 2, 5, 4, 5]])"
      ]
     },
     "execution_count": 9,
     "metadata": {},
     "output_type": "execute_result"
    }
   ],
   "source": [
    "x.reshape(3,10)"
   ]
  },
  {
   "cell_type": "code",
   "execution_count": 39,
   "metadata": {
    "collapsed": false
   },
   "outputs": [],
   "source": [
    "def dist(x): \n",
    "    return np.sqrt(((x[:, None, :] - x) ** 2).sum(-1))"
   ]
  },
  {
   "cell_type": "code",
   "execution_count": 40,
   "metadata": {
    "collapsed": false
   },
   "outputs": [
    {
     "data": {
      "text/plain": [
       "array([[  0.        ,   6.55743852,   6.        ,   2.        ,\n",
       "          2.23606798,   1.41421356,   5.09901951,   6.164414  ,\n",
       "          4.24264069,   2.44948974],\n",
       "       [  6.55743852,   0.        ,   7.14142843,   5.91607978,\n",
       "          8.60232527,   5.38516481,   7.28010989,   7.81024968,\n",
       "          4.58257569,   4.58257569],\n",
       "       [  6.        ,   7.14142843,   0.        ,   4.89897949,\n",
       "          6.40312424,   5.83095189,   7.61577311,  11.5758369 ,\n",
       "          8.36660027,   4.69041576],\n",
       "       [  2.        ,   5.91607978,   4.89897949,   0.        ,\n",
       "          3.60555128,   2.44948974,   3.74165739,   7.07106781,\n",
       "          5.09901951,   2.44948974],\n",
       "       [  2.23606798,   8.60232527,   6.40312424,   3.60555128,\n",
       "          0.        ,   3.31662479,   6.55743852,   7.68114575,\n",
       "          6.08276253,   4.12310563],\n",
       "       [  1.41421356,   5.38516481,   5.83095189,   2.44948974,\n",
       "          3.31662479,   0.        ,   5.65685425,   6.        ,\n",
       "          3.16227766,   1.41421356],\n",
       "       [  5.09901951,   7.28010989,   7.61577311,   3.74165739,\n",
       "          6.55743852,   5.65685425,   0.        ,   7.21110255,\n",
       "          7.07106781,   5.83095189],\n",
       "       [  6.164414  ,   7.81024968,  11.5758369 ,   7.07106781,\n",
       "          7.68114575,   6.        ,   7.21110255,   0.        ,\n",
       "          4.24264069,   7.07106781],\n",
       "       [  4.24264069,   4.58257569,   8.36660027,   5.09901951,\n",
       "          6.08276253,   3.16227766,   7.07106781,   4.24264069,\n",
       "          0.        ,   3.74165739],\n",
       "       [  2.44948974,   4.58257569,   4.69041576,   2.44948974,\n",
       "          4.12310563,   1.41421356,   5.83095189,   7.07106781,\n",
       "          3.74165739,   0.        ]])"
      ]
     },
     "execution_count": 40,
     "metadata": {},
     "output_type": "execute_result"
    }
   ],
   "source": [
    "dist(x)"
   ]
  },
  {
   "cell_type": "markdown",
   "metadata": {},
   "source": [
    "# Scikit Learn"
   ]
  },
  {
   "cell_type": "code",
   "execution_count": 11,
   "metadata": {
    "collapsed": false
   },
   "outputs": [
    {
     "data": {
      "text/plain": [
       "array([[  0.        ,  10.72380529,   7.34846923,   4.12310563,\n",
       "          3.        ,   8.30662386,   6.40312424,   7.68114575,\n",
       "          5.        ,   7.14142843],\n",
       "       [ 10.72380529,   0.        ,  11.35781669,   9.48683298,\n",
       "          9.69535971,   6.164414  ,   9.05538514,   9.16515139,\n",
       "          6.78232998,   6.        ],\n",
       "       [  7.34846923,  11.35781669,   0.        ,   3.60555128,\n",
       "          8.66025404,   8.66025404,   7.68114575,   5.        ,\n",
       "          9.43398113,   5.38516481],\n",
       "       [  4.12310563,   9.48683298,   3.60555128,   0.        ,\n",
       "          5.09901951,   7.34846923,   5.09901951,   4.24264069,\n",
       "          6.        ,   4.24264069],\n",
       "       [  3.        ,   9.69535971,   8.66025404,   5.09901951,\n",
       "          0.        ,   9.16515139,   4.47213595,   7.07106781,\n",
       "          3.16227766,   7.34846923],\n",
       "       [  8.30662386,   6.164414  ,   8.66025404,   7.34846923,\n",
       "          9.16515139,   0.        ,  10.19803903,   9.48683298,\n",
       "          7.34846923,   4.69041576],\n",
       "       [  6.40312424,   9.05538514,   7.68114575,   5.09901951,\n",
       "          4.47213595,  10.19803903,   0.        ,   3.74165739,\n",
       "          5.09901951,   6.4807407 ],\n",
       "       [  7.68114575,   9.16515139,   5.        ,   4.24264069,\n",
       "          7.07106781,   9.48683298,   3.74165739,   0.        ,\n",
       "          7.34846923,   4.89897949],\n",
       "       [  5.        ,   6.78232998,   9.43398113,   6.        ,\n",
       "          3.16227766,   7.34846923,   5.09901951,   7.34846923,\n",
       "          0.        ,   6.164414  ],\n",
       "       [  7.14142843,   6.        ,   5.38516481,   4.24264069,\n",
       "          7.34846923,   4.69041576,   6.4807407 ,   4.89897949,\n",
       "          6.164414  ,   0.        ]])"
      ]
     },
     "execution_count": 11,
     "metadata": {},
     "output_type": "execute_result"
    }
   ],
   "source": [
    "from sklearn.metrics.pairwise import euclidean_distances\n",
    "euclidean_distances(x,x)"
   ]
  },
  {
   "cell_type": "code",
   "execution_count": 12,
   "metadata": {
    "collapsed": false
   },
   "outputs": [
    {
     "data": {
      "text/plain": [
       "array([ 10.72380529,   7.34846923,   4.12310563,   3.        ,\n",
       "         8.30662386,   6.40312424,   7.68114575,   5.        ,\n",
       "         7.14142843,  11.35781669,   9.48683298,   9.69535971,\n",
       "         6.164414  ,   9.05538514,   9.16515139,   6.78232998,\n",
       "         6.        ,   3.60555128,   8.66025404,   8.66025404,\n",
       "         7.68114575,   5.        ,   9.43398113,   5.38516481,\n",
       "         5.09901951,   7.34846923,   5.09901951,   4.24264069,\n",
       "         6.        ,   4.24264069,   9.16515139,   4.47213595,\n",
       "         7.07106781,   3.16227766,   7.34846923,  10.19803903,\n",
       "         9.48683298,   7.34846923,   4.69041576,   3.74165739,\n",
       "         5.09901951,   6.4807407 ,   7.34846923,   4.89897949,   6.164414  ])"
      ]
     },
     "execution_count": 12,
     "metadata": {},
     "output_type": "execute_result"
    }
   ],
   "source": [
    "from scipy.spatial.distance import pdist\n",
    "pdist(x)"
   ]
  },
  {
   "cell_type": "markdown",
   "metadata": {},
   "source": [
    "# MD Analysis"
   ]
  },
  {
   "cell_type": "code",
   "execution_count": 18,
   "metadata": {
    "collapsed": true
   },
   "outputs": [],
   "source": [
    "def compute_distance_mdanalysis(coord):\n",
    "    start = time.time()\n",
    "    contact_matrix(coord, returntype=\"sparse\")\n",
    "    result=\"ComputeDistanceMDAnalysisSparse, %d, %.2f\"%(len(coord), (time.time()-start))\n",
    "    return result"
   ]
  },
  {
   "cell_type": "markdown",
   "metadata": {},
   "source": [
    "# Tensorflow"
   ]
  },
  {
   "cell_type": "code",
   "execution_count": 38,
   "metadata": {
    "collapsed": true
   },
   "outputs": [],
   "source": [
    "import tensorflow as tf\n",
    "import numpy as np\n",
    "\n",
    "def compute_distance_tf(coord):\n",
    "    start = time.time()\n",
    "    sess = tf.Session(config=tf.ConfigProto(log_device_placement=True))\n",
    "    matrix1 = tf.convert_to_tensor(coord.astype(\"float32\"))\n",
    "    matrix_extend=tf.expand_dims(matrix1, 1)\n",
    "    dist_matrix=tf.sub(matrix_extend, matrix1)\n",
    "    dist_matrix_pow=tf.pow(dist_matrix, 2)\n",
    "    dist_matrix_pow_red=tf.reduce_sum(dist_matrix_pow, 2)\n",
    "    dist_matrix_euc=tf.sqrt(dist_matrix_pow_red)\n",
    "    rc=sess.run(dist_matrix_euc)\n",
    "    result=\"ComputeDistanceTensorflow, %d, %.2f\"%(len(coord), (time.time()-start))\n",
    "    sess.close()\n",
    "    return result, rc"
   ]
  },
  {
   "cell_type": "code",
   "execution_count": 39,
   "metadata": {
    "collapsed": true
   },
   "outputs": [
    {
     "data": {
      "text/plain": [
       "('ComputeDistanceTensorflow, 10, 0.03',\n",
       " array([[  0.        ,   9.64365005,   8.60232449,   7.8740077 ,\n",
       "           6.48074055,   9.43398094,   9.21954441,   5.        ,\n",
       "           8.12403774,  10.86277962],\n",
       "        [  9.64365005,   0.        ,   6.08276224,   7.14142799,\n",
       "           4.12310553,   1.99999988,   7.34846973,  10.48808861,\n",
       "           8.66025352,   7.28010893],\n",
       "        [  8.60232449,   6.08276224,   0.        ,   1.41421342,\n",
       "           7.48331451,   6.70820427,   3.31662488,   6.5574379 ,\n",
       "           9.48683357,   3.1622777 ],\n",
       "        [  7.8740077 ,   7.14142799,   1.41421342,   0.        ,\n",
       "           7.8740077 ,   7.68114567,   3.60555077,   5.38516474,\n",
       "           9.38083076,   3.74165726],\n",
       "        [  6.48074055,   4.12310553,   7.48331451,   7.8740077 ,\n",
       "           0.        ,   4.12310553,   8.66025352,   9.11043262,\n",
       "           6.78233004,   9.27361774],\n",
       "        [  9.43398094,   1.99999988,   6.70820427,   7.68114567,\n",
       "           4.12310553,   0.        ,   7.07106733,  10.2956295 ,\n",
       "           9.94987392,   8.54400253],\n",
       "        [  9.21954441,   7.34846973,   3.31662488,   3.60555077,\n",
       "           8.66025352,   7.07106733,   0.        ,   6.3245554 ,\n",
       "          12.20655632,   6.08276224],\n",
       "        [  5.        ,  10.48808861,   6.5574379 ,   5.38516474,\n",
       "           9.11043262,  10.2956295 ,   6.3245554 ,   0.        ,\n",
       "          10.81665325,   8.99999905],\n",
       "        [  8.12403774,   8.66025352,   9.48683357,   9.38083076,\n",
       "           6.78233004,   9.94987392,  12.20655632,  10.81665325,\n",
       "           0.        ,   9.48683357],\n",
       "        [ 10.86277962,   7.28010893,   3.1622777 ,   3.74165726,\n",
       "           9.27361774,   8.54400253,   6.08276224,   8.99999905,\n",
       "           9.48683357,   0.        ]], dtype=float32))"
      ]
     },
     "execution_count": 39,
     "metadata": {},
     "output_type": "execute_result"
    }
   ],
   "source": [
    "compute_distance_tf(x)"
   ]
  },
  {
   "cell_type": "code",
   "execution_count": 44,
   "metadata": {
    "collapsed": true
   },
   "outputs": [],
   "source": [
    "cutoff = 15.0\n",
    "\n",
    "def get_edges_point(self, point_index, adjacency_matrix, cutoff=15.0):\n",
    "    edge_list = []\n",
    "    for index, i in np.ndenumerate(adjacency_matrix):\n",
    "        print (\"Index: %d, Value: %d\"%(index[i], i))\n",
    "        #if i==True and point_index<=index[1]:\n",
    "        if point_index<=index[1] and i<cutoff:\n",
    "            # Attention we only compute the upper half of the adjacency matrix\n",
    "            # thus we need to offset the target edge vertice by point_index\n",
    "            edge_list.append((point_index, point_index+index[1]))\n",
    "    return edge_list\n",
    "    \n",
    "def compute_distance_tf_batch(coord, batch_size=5):\n",
    "    start_time = time.time()\n",
    "    num_batches = len(coord)/batch_size\n",
    "    sess = tf.Session(config=tf.ConfigProto(log_device_placement=True))\n",
    "    matrix2 = tf.convert_to_tensor(coord.astype(\"float32\"))\n",
    "    print matrix2.get_shape()\n",
    "    matrix1_splits = tf.split(0, num_batches, matrix2)\n",
    "    edges=[]\n",
    "    for split in matrix1_splits:\n",
    "    #for i in range(num_batches):\n",
    "        #start=i*batch_size\n",
    "        #end=start+batch_size\n",
    "        #print \"Compute batch from %d to %d\"%(start, end)\n",
    "        #matrix1 = tf.convert_to_tensor(coord[start:end].astype(\"float32\"))\n",
    "        #matrix1 = tf.slice(matrix2, [start], [batch_size])\n",
    "        matrix1 = split\n",
    "        matrix_extend=tf.expand_dims(matrix1, 1)\n",
    "        dist_matrix=tf.sub(matrix_extend, matrix2)\n",
    "        dist_matrix_pow=tf.pow(dist_matrix, 2)\n",
    "        dist_matrix_pow_red=tf.reduce_sum(dist_matrix_pow, 2)\n",
    "        dist_matrix_euc=tf.sqrt(dist_matrix_pow_red) >cutoff\n",
    "        dist_custoff_true=tf.where(dist_matrix_euc)\n",
    "        #edges.append(sess.run(dist_matrix_euc))\n",
    "        edges.append(sess.run(dist_custoff_true))\n",
    "    sess.close()    \n",
    "    result=\"ComputeDistanceTensorflow, %d, %.2f\"%(len(coord), (time.time()-start_time))\n",
    "    return (result, edges)"
   ]
  },
  {
   "cell_type": "code",
   "execution_count": 45,
   "metadata": {
    "collapsed": false
   },
   "outputs": [
    {
     "data": {
      "text/plain": [
       "3"
      ]
     },
     "execution_count": 45,
     "metadata": {},
     "output_type": "execute_result"
    }
   ],
   "source": [
    "len(x)/3"
   ]
  },
  {
   "cell_type": "code",
   "execution_count": 46,
   "metadata": {
    "collapsed": false
   },
   "outputs": [
    {
     "name": "stdout",
     "output_type": "stream",
     "text": [
      "TensorShape([Dimension(10), Dimension(3)])\n"
     ]
    },
    {
     "data": {
      "text/plain": [
       "('ComputeDistanceTensorflow, 10, 0.10',\n",
       " [array([], shape=(0, 2), dtype=int64), array([], shape=(0, 2), dtype=int64)])"
      ]
     },
     "execution_count": 46,
     "metadata": {},
     "output_type": "execute_result"
    }
   ],
   "source": [
    "compute_distance_tf_batch(x)"
   ]
  },
  {
   "cell_type": "markdown",
   "metadata": {
    "collapsed": true
   },
   "source": [
    "# Benchmark"
   ]
  },
  {
   "cell_type": "code",
   "execution_count": 48,
   "metadata": {
    "collapsed": false
   },
   "outputs": [
    {
     "name": "stdout",
     "output_type": "stream",
     "text": [
      "Process: ../../data/mdanalysis/synthetic/traj/10000.np_txt\n",
      "TensorShape([Dimension(10000), Dimension(3)])\n",
      "ComputeDistanceTensorflow, 10000, 10.01\n"
     ]
    }
   ],
   "source": [
    "DATA_PATH=\"../../data/mdanalysis/synthetic/traj/\"\n",
    "files=[os.path.join(DATA_PATH, i) for i in os.listdir(DATA_PATH)]\n",
    "\n",
    "files=[\"../../data/mdanalysis/synthetic/traj/10000.np_txt\"]\n",
    "\n",
    "for file_name in files:\n",
    "    print \"Process: \" + file_name\n",
    "    coord = np.loadtxt(file_name, dtype='float32')\n",
    "    start = time.time()\n",
    "    result=compute_distance_tf_batch(coord, batch_size=4000)\n",
    "    print result[0]"
   ]
  },
  {
   "cell_type": "code",
   "execution_count": 7,
   "metadata": {
    "collapsed": false
   },
   "outputs": [
    {
     "name": "stdout",
     "output_type": "stream",
     "text": [
      "10.np_txt      100.np_txt     100000.np_txt  1600000.np_txt 200000.np_txt  400000.np_txt  800000.np_txt\r\n"
     ]
    }
   ],
   "source": [
    "!ls \"../../data/mdanalysis/synthetic/traj/\""
   ]
  },
  {
   "cell_type": "code",
   "execution_count": null,
   "metadata": {
    "collapsed": true
   },
   "outputs": [],
   "source": []
  },
  {
   "cell_type": "markdown",
   "metadata": {},
   "source": [
    "# Theano"
   ]
  },
  {
   "cell_type": "code",
   "execution_count": 12,
   "metadata": {
    "collapsed": false
   },
   "outputs": [
    {
     "data": {
      "text/plain": [
       "array([[0, 0, 0],\n",
       "       [0, 0, 0],\n",
       "       [0, 0, 0],\n",
       "       [0, 0, 0],\n",
       "       [0, 0, 0],\n",
       "       [0, 0, 0],\n",
       "       [0, 0, 0],\n",
       "       [0, 0, 0],\n",
       "       [0, 0, 0],\n",
       "       [0, 0, 0]])"
      ]
     },
     "execution_count": 12,
     "metadata": {},
     "output_type": "execute_result"
    }
   ],
   "source": [
    "import theano\n",
    "import theano.tensor as T\n",
    "from theano import shared\n",
    "\n",
    "tx=shared(x)\n",
    "diff=tx-tx\n",
    "diff_squared=diff**2\n",
    "\n",
    "diff_squared.eval()"
   ]
  }
 ],
 "metadata": {
  "kernelspec": {
   "display_name": "Python 2",
   "language": "python",
   "name": "python2"
  },
  "language_info": {
   "codemirror_mode": {
    "name": "ipython",
    "version": 2
   },
   "file_extension": ".py",
   "mimetype": "text/x-python",
   "name": "python",
   "nbconvert_exporter": "python",
   "pygments_lexer": "ipython2",
   "version": "2.7.11"
  }
 },
 "nbformat": 4,
 "nbformat_minor": 0
}
