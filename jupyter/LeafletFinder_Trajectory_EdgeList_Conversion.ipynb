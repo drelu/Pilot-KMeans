{
 "cells": [
  {
   "cell_type": "markdown",
   "metadata": {},
   "source": [
    "# Leafletfinder to Edge List\n",
    "\n",
    "Use Leaflet Finder Code to create an graph based on Oliver's MD trajectory.\n",
    "\n",
    "**Data:**"
   ]
  },
  {
   "cell_type": "code",
   "execution_count": null,
   "metadata": {
    "collapsed": true
   },
   "outputs": [],
   "source": [
    "import numpy as np\n",
    "np.__config__.show() "
   ]
  },
  {
   "cell_type": "code",
   "execution_count": 8,
   "metadata": {
    "collapsed": false
   },
   "outputs": [
    {
     "name": "stdout",
     "output_type": "stream",
     "text": [
      "63342lip_576TMprotein_nowat_10us_1us_timestep_fixed.xtc\r\n",
      "63342lip_576TMprotein_nowat_start.pdb\r\n",
      "cg_membrane1.jpg\r\n",
      "cg_membrane_outlier_micelle1.jpg\r\n",
      "cg_membrane.pdb.bz2\r\n",
      "find_leaflets.py\r\n",
      "leafletformation.py\r\n",
      "leaflets_12x12.txt\r\n",
      "leaflets_63342lip_576TMprotein_nowat_10us_1us_timestep_fixed.txt\r\n",
      "md_centered.xtc\r\n",
      "md.pdb\r\n",
      "md_prod_12x12_everymicroS_pbcmolcenter.xtc\r\n",
      "md_prod_12x12_lastframe.pdb\r\n",
      "README_2.txt\r\n",
      "TRPV1_VS_self_assembly_lipidgroups.pdf\r\n",
      "vesicle_1_5M_373_first.gro\r\n",
      "vesicle_1_5M_373_last.gro\r\n",
      "vesicle_1_5M_373_stride1000.xtc\r\n",
      "vesicle_1_5M_373.tpr\r\n"
     ]
    }
   ],
   "source": [
    "!ls /data/leafletfinder/large/"
   ]
  },
  {
   "cell_type": "code",
   "execution_count": 1,
   "metadata": {
    "collapsed": false
   },
   "outputs": [],
   "source": [
    "import MDAnalysis\n",
    "topology = \"/data/leafletfinder/large/vesicle_1_5M_373.tpr\"\n",
    "trajectory = \"/data/leafletfinder/large/vesicle_1_5M_373_stride1000.xtc\"\n",
    "u = MDAnalysis.Universe(topology, trajectory)"
   ]
  },
  {
   "cell_type": "code",
   "execution_count": 2,
   "metadata": {
    "collapsed": false
   },
   "outputs": [],
   "source": [
    "import MDAnalysis.analysis.leaflet\n",
    "L = MDAnalysis.analysis.leaflet.LeafletFinder(u, \"name P*\", pbc=True, sparse=True)"
   ]
  },
  {
   "cell_type": "code",
   "execution_count": 3,
   "metadata": {
    "collapsed": true
   },
   "outputs": [],
   "source": [
    "graph = L.graph"
   ]
  },
  {
   "cell_type": "code",
   "execution_count": 7,
   "metadata": {
    "collapsed": false
   },
   "outputs": [],
   "source": [
    "import networkx as NX\n",
    "NX.write_edgelist(graph,\n",
    "                  \"graph_edges_%d_%d.csv\"%(NX.number_of_nodes(graph), NX.number_of_edges(graph)),\n",
    "                  delimiter=\",\")"
   ]
  },
  {
   "cell_type": "code",
   "execution_count": 8,
   "metadata": {
    "collapsed": true
   },
   "outputs": [],
   "source": [
    "a = [i for i in NX.connected_components(graph)]"
   ]
  },
  {
   "cell_type": "code",
   "execution_count": 10,
   "metadata": {
    "collapsed": false
   },
   "outputs": [
    {
     "data": {
      "text/plain": [
       "4"
      ]
     },
     "execution_count": 10,
     "metadata": {},
     "output_type": "execute_result"
    }
   ],
   "source": [
    "len(a)"
   ]
  },
  {
   "cell_type": "code",
   "execution_count": null,
   "metadata": {
    "collapsed": true
   },
   "outputs": [],
   "source": []
  }
 ],
 "metadata": {
  "kernelspec": {
   "display_name": "Python 2",
   "language": "python",
   "name": "python2"
  },
  "language_info": {
   "codemirror_mode": {
    "name": "ipython",
    "version": 2
   },
   "file_extension": ".py",
   "mimetype": "text/x-python",
   "name": "python",
   "nbconvert_exporter": "python",
   "pygments_lexer": "ipython2",
   "version": "2.7.10"
  }
 },
 "nbformat": 4,
 "nbformat_minor": 0
}
