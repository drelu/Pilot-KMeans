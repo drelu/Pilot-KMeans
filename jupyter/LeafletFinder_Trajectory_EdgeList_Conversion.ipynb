{
 "cells": [
  {
   "cell_type": "markdown",
   "metadata": {},
   "source": [
    "# Leafletfinder to Edge List\n",
    "\n",
    "Use Leaflet Finder Code to create an graph based on Oliver's MD trajectory.\n",
    "\n",
    "Info from Mail:\n",
    "\n",
    "We uploaded a test system for you via our file share service and you should have received a barrage of emails from the service (apologies!).\n",
    "\n",
    "It is a system with 1.7 M particles and almost 150,000 lipids (i.e. 150,000 nodes in the network). There's also a mini python script that shows how to run it. Please note that we just fixed a bug in the MDAnalysis leaflet finder code that crept in one release ago. It is fixed in the 0.12.1 release that will be out tomorrow (or get the develop branch from github).\n",
    "\n",
    "We tried running the basic version of leaflet finder on it but got a MemoryError; apparently, it tries to allocate 2 TiB of RAM... The \"sparse\" option works\n",
    "\n",
    "        L = LeafletFinder(u, \"name P*\", sparse=True, pbc=True)\n",
    "\n",
    "but took over 4 min for a single frame (and a bit over 1 min with pbc=False)  so this is too slow (and pbc=True is typically necessary).\n",
    "\n",
    "The trajectory itself only contains 15 frames (1/1000th of the original one) but our file sharing service does not lik 80 GiB files...\n",
    "\n",
    "The trajectory is not the nicest example yet in terms of the kind of fusion between vesicles that we want to observe but it should give you something to play with.\n",
    "\n",
    "**Data:**"
   ]
  },
  {
   "cell_type": "code",
   "execution_count": 1,
   "metadata": {
    "collapsed": false
   },
   "outputs": [],
   "source": [
    "import numpy as np\n",
    "import time, os, sys\n",
    "#np.__config__.show() "
   ]
  },
  {
   "cell_type": "markdown",
   "metadata": {},
   "source": [
    "The first step in any MDAnalysis script is to load a topology file (which contains a list of particles and possibly additional static data such as bonds or partial charges) and a trajectory file. The trajectory contains the coordinates, which change for each time step. In MDAnalysis, the Universe object ties the topology and the trajectory together and part of\n",
    "the process of instantiating Universe (topology, trajectory ) is to parse these files.\n",
    "\n",
    "Source: <http://dx.doi.org/10.6084/m9.figshare.1588804>\n",
    "\n",
    "File Types:\n",
    "* `.xtc` compressed trajectory file from Gromacs\n",
    "* `.tpr` topology files"
   ]
  },
  {
   "cell_type": "code",
   "execution_count": 3,
   "metadata": {
    "collapsed": false
   },
   "outputs": [
    {
     "name": "stdout",
     "output_type": "stream",
     "text": [
      "-rw-r--r-- 1 iparask iparask 71M Nov  4 20:22 /data/leafletfinder/large/vesicle_1_5M_373_first.gro\r\n",
      "-rw-r--r-- 1 iparask iparask 71M Nov  4 20:20 /data/leafletfinder/large/vesicle_1_5M_373_last.gro\r\n",
      "-rw-r--r-- 1 iparask iparask 90M Nov  4 20:21 /data/leafletfinder/large/vesicle_1_5M_373_stride1000.xtc\r\n",
      "-rw-r--r-- 1 iparask iparask 41M Nov  4 20:22 /data/leafletfinder/large/vesicle_1_5M_373.tpr\r\n"
     ]
    }
   ],
   "source": [
    "!ls -lh /data/leafletfinder/large/vesicle_1_5M_373*"
   ]
  },
  {
   "cell_type": "code",
   "execution_count": 25,
   "metadata": {
    "collapsed": false
   },
   "outputs": [
    {
     "name": "stdout",
     "output_type": "stream",
     "text": [
      "Loading Time: 14.98\n"
     ]
    }
   ],
   "source": [
    "import MDAnalysis, time\n",
    "topology = \"/data/leafletfinder/large/vesicle_1_5M_373.tpr\"\n",
    "trajectory = \"/data/leafletfinder/large/vesicle_1_5M_373_stride1000.xtc\"\n",
    "\n",
    "start = time.time()\n",
    "u = MDAnalysis.Universe(topology, trajectory)\n",
    "print \"Loading Time: %.2f\"%(time.time()-start)"
   ]
  },
  {
   "cell_type": "code",
   "execution_count": 26,
   "metadata": {
    "collapsed": false
   },
   "outputs": [
    {
     "name": "stdout",
     "output_type": "stream",
     "text": [
      "Selection Time: 1.69\n"
     ]
    }
   ],
   "source": [
    "start = time.time()\n",
    "selection = u.select_atoms(\"name P*\")\n",
    "print \"Selection Time: %.2f\"%(time.time()-start)"
   ]
  },
  {
   "cell_type": "code",
   "execution_count": 22,
   "metadata": {
    "collapsed": false
   },
   "outputs": [
    {
     "data": {
      "text/plain": [
       "<Universe with 1748952 atoms and 1603206 bonds>"
      ]
     },
     "execution_count": 22,
     "metadata": {},
     "output_type": "execute_result"
    }
   ],
   "source": [
    "u"
   ]
  },
  {
   "cell_type": "code",
   "execution_count": 29,
   "metadata": {
    "collapsed": false
   },
   "outputs": [
    {
     "name": "stdout",
     "output_type": "stream",
     "text": [
      "Frame:     0, Time:    0.000 ps\n",
      "Rgyr: 652.801 A\n",
      "Frame:     1, Time: 50000.000 ps\n",
      "Rgyr: 650.131 A\n",
      "Frame:     2, Time: 100000.000 ps\n",
      "Rgyr: 637.096 A\n",
      "Frame:     3, Time: 150000.000 ps\n",
      "Rgyr: 627.282 A\n",
      "Frame:     4, Time: 200000.000 ps\n",
      "Rgyr: 618.614 A\n",
      "Frame:     5, Time: 250000.000 ps\n",
      "Rgyr: 609.713 A\n",
      "Frame:     6, Time: 300000.000 ps\n",
      "Rgyr: 599.82 A\n",
      "Frame:     7, Time: 350000.000 ps\n",
      "Rgyr: 588.657 A\n",
      "Frame:     8, Time: 400000.000 ps\n",
      "Rgyr: 578.532 A\n",
      "Frame:     9, Time: 450000.000 ps\n",
      "Rgyr: 564.654 A\n",
      "Frame:    10, Time: 500000.000 ps\n",
      "Rgyr: 550.324 A\n",
      "Frame:    11, Time: 550000.000 ps\n",
      "Rgyr: 533.978 A\n",
      "Frame:    12, Time: 600000.000 ps\n",
      "Rgyr: 516.298 A\n",
      "Frame:    13, Time: 650000.000 ps\n",
      "Rgyr: 499.393 A\n",
      "Frame:    14, Time: 700000.000 ps\n",
      "Rgyr: 483.763 A\n",
      "Number of frames: 15\n"
     ]
    }
   ],
   "source": [
    "count = 0\n",
    "for ts in u.trajectory:\n",
    "    print(\"Frame: %5d, Time: %8.3f ps\" % (ts.frame, u.trajectory.time))\n",
    "    print(\"Rgyr: %g A\" % (u.atoms.radius_of_gyration(), ))\n",
    "    count = count + 1 \n",
    "print \"Number of frames: %d\"%count "
   ]
  },
  {
   "cell_type": "code",
   "execution_count": 10,
   "metadata": {
    "collapsed": false
   },
   "outputs": [
    {
     "data": {
      "text/plain": [
       "<AtomGroup with 145746 atoms>"
      ]
     },
     "execution_count": 10,
     "metadata": {},
     "output_type": "execute_result"
    }
   ],
   "source": [
    "selection"
   ]
  },
  {
   "cell_type": "markdown",
   "metadata": {},
   "source": [
    "## Write filtered coordinates to Disk for later use"
   ]
  },
  {
   "cell_type": "code",
   "execution_count": 47,
   "metadata": {
    "collapsed": false
   },
   "outputs": [
    {
     "name": "stdout",
     "output_type": "stream",
     "text": [
      "Topology: /home/luckow/notebooks/Pilot-Memory/data/mdanalysis/md.pdb, Traj: /home/luckow/notebooks/Pilot-Memory/data/mdanalysis/md_centered.xtc, NumAtoms: 95\n"
     ]
    }
   ],
   "source": [
    "import numpy as np\n",
    "import MDAnalysis, time\n",
    "\n",
    "# BIG\n",
    "topology1 = \"/data/leafletfinder/large/vesicle_1_5M_373.tpr\"\n",
    "trajectory1 = \"/data/leafletfinder/large/vesicle_1_5M_373_stride1000.xtc\"\n",
    "\n",
    "# SMALL\n",
    "trajectory2 = \"/home/luckow/notebooks/Pilot-Memory/data/mdanalysis/md_prod_12x12_everymicroS_pbcmolcenter.xtc\"\n",
    "topology2 = \"/home/luckow/notebooks/Pilot-Memory/data/mdanalysis/md_prod_12x12_lastframe.pdb\"\n",
    "\n",
    "\n",
    "trajectory3 = \"/home/luckow/notebooks/Pilot-Memory/data/mdanalysis/md_centered.xtc\"\n",
    "topology3 = \"/home/luckow/notebooks/Pilot-Memory/data/mdanalysis/md.pdb\"\n",
    "\n",
    "# MEDIUM\n",
    "trajectory4 = \"/home/luckow/notebooks/Pilot-Memory/data/mdanalysis/63342lip_576TMprotein_nowat_10us_1us_timestep_fixed.xtc\"\n",
    "topology4 = \"/home/luckow/notebooks/Pilot-Memory/data/mdanalysis/63342lip_576TMprotein_nowat_start.pdb\"\n",
    "\n",
    "topologies = [topology1, topology2, topology3, topology4]\n",
    "trajectories =[trajectory1, trajectory2, trajectory3, trajectory4]\n",
    "\n",
    "\n",
    "topologies = [topology3]\n",
    "trajectories =[trajectory3]\n",
    "\n",
    "for idx, t in enumerate(topologies):\n",
    "    topology = t\n",
    "    trajectory = trajectories[idx]\n",
    "    u = MDAnalysis.Universe(topology, trajectory)\n",
    "    selection = u.select_atoms(\"name P*\")\n",
    "    coord = selection.positions\n",
    "    num_atoms=len(coord)\n",
    "    print \"Topology: %s, Traj: %s, NumAtoms: %d\"%(topology, trajectory, num_atoms)\n",
    "    np.savetxt(os.path.basename(trajectory)+\"_\" + str(num_atoms) + \"Atoms.np_txt\", coord)"
   ]
  },
  {
   "cell_type": "markdown",
   "metadata": {},
   "source": [
    "## Benchmark of pairwise distance computation (Scikit Learn)"
   ]
  },
  {
   "cell_type": "code",
   "execution_count": 11,
   "metadata": {
    "collapsed": false
   },
   "outputs": [
    {
     "data": {
      "text/plain": [
       "array([[  458.09997559,   510.39996338,    59.09999847],\n",
       "       [  453.69998169,   525.39996338,    53.5       ],\n",
       "       [  448.5       ,   524.39996338,    49.5       ],\n",
       "       ..., \n",
       "       [ 1803.69995117,   503.79998779,   142.3999939 ],\n",
       "       [ 1816.90002441,   499.69998169,   147.29998779],\n",
       "       [ 1814.5       ,   508.        ,   142.1000061 ]], dtype=float32)"
      ]
     },
     "execution_count": 11,
     "metadata": {},
     "output_type": "execute_result"
    }
   ],
   "source": [
    "coord"
   ]
  },
  {
   "cell_type": "code",
   "execution_count": 3,
   "metadata": {
    "collapsed": false
   },
   "outputs": [],
   "source": [
    "coord=np.loadtxt(\"vesicle_1_5M_373_P_145746.np_txt\")"
   ]
  },
  {
   "cell_type": "markdown",
   "metadata": {},
   "source": [
    "### MDAnalysis Implementation\n",
    "\n",
    "Dense"
   ]
  },
  {
   "cell_type": "code",
   "execution_count": 2,
   "metadata": {
    "collapsed": false
   },
   "outputs": [],
   "source": [
    "files=!ls *.np_txt"
   ]
  },
  {
   "cell_type": "code",
   "execution_count": 7,
   "metadata": {
    "collapsed": false
   },
   "outputs": [
    {
     "data": {
      "text/plain": [
       "['63342lip_576TMprotein_nowat_10us_1us_timestep_fixed.xtc_50652Atoms.np_txt',\n",
       " 'md_centered.xtc_95Atoms.np_txt',\n",
       " 'md_prod_12x12_everymicroS_pbcmolcenter.xtc_44784Atoms.np_txt',\n",
       " 'vesicle_1_5M_373_stride1000.xtc_145746Atoms.np_txt']"
      ]
     },
     "execution_count": 7,
     "metadata": {},
     "output_type": "execute_result"
    }
   ],
   "source": [
    "files"
   ]
  },
  {
   "cell_type": "code",
   "execution_count": 8,
   "metadata": {
    "collapsed": false
   },
   "outputs": [
    {
     "name": "stdout",
     "output_type": "stream",
     "text": [
      "md_prod_12x12_everymicroS_pbcmolcenter.xtc_44784Atoms.np_txt\n",
      "ComputeDistanceMDAnalysis, 44784, 11.98\n"
     ]
    },
    {
     "name": "stderr",
     "output_type": "stream",
     "text": [
      "/opt/anaconda/lib/python2.7/site-packages/MDAnalysis/core/distances.py:9: DeprecationWarning: distances has moved to MDAnalysis.lib.distances and will be removed from here in release 1.0\n",
      "  DeprecationWarning)\n"
     ]
    }
   ],
   "source": [
    "from MDAnalysis.core.distances import distance_array, self_distance_array\n",
    "from MDAnalysis.analysis.distances import contact_matrix\n",
    "import numpy as np\n",
    "import time, os, sys, gc\n",
    "\n",
    "files=[\"md_prod_12x12_everymicroS_pbcmolcenter.xtc_44784Atoms.np_txt\"]\n",
    "\n",
    "results=[]\n",
    "for f in files:\n",
    "    print f\n",
    "    coord = np.loadtxt(f, dtype='float32')\n",
    "    start = time.time()\n",
    "    distance_array(coord, coord, box=None)\n",
    "    print \"ComputeDistanceMDAnalysisDense, %d, %.2f\"%(len(coord), (time.time()-start))\n",
    "    del coord\n",
    "    gc.collect()"
   ]
  },
  {
   "cell_type": "markdown",
   "metadata": {},
   "source": [
    "Sparse"
   ]
  },
  {
   "cell_type": "code",
   "execution_count": 1,
   "metadata": {
    "collapsed": false
   },
   "outputs": [],
   "source": [
    "import numpy as np\n",
    "coord = np.loadtxt(\"vesicle_1_5M_373_stride1000.xtc_145746Atoms.np_txt\", dtype='float32')"
   ]
  },
  {
   "cell_type": "code",
   "execution_count": 6,
   "metadata": {
    "collapsed": true
   },
   "outputs": [
    {
     "ename": "NameError",
     "evalue": "name 'contact_matrix' is not defined",
     "output_type": "error",
     "traceback": [
      "\u001b[1;31m---------------------------------------------------------------------------\u001b[0m",
      "\u001b[1;31mNameError\u001b[0m                                 Traceback (most recent call last)",
      "\u001b[1;32m<ipython-input-6-104231c8ef8c>\u001b[0m in \u001b[0;36m<module>\u001b[1;34m()\u001b[0m\n\u001b[0;32m      1\u001b[0m \u001b[0mstart\u001b[0m \u001b[1;33m=\u001b[0m \u001b[0mtime\u001b[0m\u001b[1;33m.\u001b[0m\u001b[0mtime\u001b[0m\u001b[1;33m(\u001b[0m\u001b[1;33m)\u001b[0m\u001b[1;33m\u001b[0m\u001b[0m\n\u001b[1;32m----> 2\u001b[1;33m \u001b[0mdistances_mdasparse\u001b[0m\u001b[1;33m=\u001b[0m\u001b[0mcontact_matrix\u001b[0m\u001b[1;33m(\u001b[0m\u001b[0mcoord\u001b[0m\u001b[1;33m,\u001b[0m \u001b[0mreturntype\u001b[0m\u001b[1;33m=\u001b[0m\u001b[1;34m\"sparse\"\u001b[0m\u001b[1;33m)\u001b[0m\u001b[1;33m\u001b[0m\u001b[0m\n\u001b[0m\u001b[0;32m      3\u001b[0m \u001b[1;32mprint\u001b[0m \u001b[1;34m\"ComputeDistanceMDAnalysisSparse, %.2f\"\u001b[0m\u001b[1;33m%\u001b[0m\u001b[1;33m(\u001b[0m\u001b[0mtime\u001b[0m\u001b[1;33m.\u001b[0m\u001b[0mtime\u001b[0m\u001b[1;33m(\u001b[0m\u001b[1;33m)\u001b[0m\u001b[1;33m-\u001b[0m\u001b[0mstart\u001b[0m\u001b[1;33m)\u001b[0m\u001b[1;33m\u001b[0m\u001b[0m\n",
      "\u001b[1;31mNameError\u001b[0m: name 'contact_matrix' is not defined"
     ]
    }
   ],
   "source": [
    "start = time.time()\n",
    "distances_mdasparse=contact_matrix(coord, returntype=\"sparse\")\n",
    "print \"ComputeDistanceMDAnalysisSparse, %.2f\"%(time.time()-start)"
   ]
  },
  {
   "cell_type": "markdown",
   "metadata": {},
   "source": [
    "### Scikit Learn Method"
   ]
  },
  {
   "cell_type": "code",
   "execution_count": 7,
   "metadata": {
    "collapsed": true
   },
   "outputs": [
    {
     "ename": "MemoryError",
     "evalue": "",
     "output_type": "error",
     "traceback": [
      "\u001b[1;31m---------------------------------------------------------------------------\u001b[0m",
      "\u001b[1;31mMemoryError\u001b[0m                               Traceback (most recent call last)",
      "\u001b[1;32m<ipython-input-7-876cba7f4dd2>\u001b[0m in \u001b[0;36m<module>\u001b[1;34m()\u001b[0m\n\u001b[0;32m      2\u001b[0m \u001b[1;32mimport\u001b[0m \u001b[0msklearn\u001b[0m\u001b[1;33m.\u001b[0m\u001b[0mmetrics\u001b[0m\u001b[1;33m\u001b[0m\u001b[0m\n\u001b[0;32m      3\u001b[0m \u001b[0mstart\u001b[0m \u001b[1;33m=\u001b[0m \u001b[0mtime\u001b[0m\u001b[1;33m.\u001b[0m\u001b[0mtime\u001b[0m\u001b[1;33m(\u001b[0m\u001b[1;33m)\u001b[0m\u001b[1;33m\u001b[0m\u001b[0m\n\u001b[1;32m----> 4\u001b[1;33m \u001b[0mdistances\u001b[0m\u001b[1;33m=\u001b[0m\u001b[0mscipy\u001b[0m\u001b[1;33m.\u001b[0m\u001b[0mspatial\u001b[0m\u001b[1;33m.\u001b[0m\u001b[0mdistance\u001b[0m\u001b[1;33m.\u001b[0m\u001b[0mcdist\u001b[0m\u001b[1;33m(\u001b[0m\u001b[0mcoord\u001b[0m\u001b[1;33m,\u001b[0m \u001b[0mcoord\u001b[0m\u001b[1;33m)\u001b[0m\u001b[1;33m\u001b[0m\u001b[0m\n\u001b[0m\u001b[0;32m      5\u001b[0m \u001b[0mdistances\u001b[0m\u001b[1;33m.\u001b[0m\u001b[0mshape\u001b[0m\u001b[1;33m\u001b[0m\u001b[0m\n\u001b[0;32m      6\u001b[0m \u001b[1;32mprint\u001b[0m \u001b[1;34m\"ComputeDistanceScikit, %.2f\"\u001b[0m\u001b[1;33m%\u001b[0m\u001b[1;33m(\u001b[0m\u001b[0mtime\u001b[0m\u001b[1;33m.\u001b[0m\u001b[0mtime\u001b[0m\u001b[1;33m(\u001b[0m\u001b[1;33m)\u001b[0m\u001b[1;33m-\u001b[0m\u001b[0mstart\u001b[0m\u001b[1;33m)\u001b[0m\u001b[1;33m\u001b[0m\u001b[0m\n",
      "\u001b[1;32m/opt/anaconda/lib/python2.7/site-packages/scipy/spatial/distance.pyc\u001b[0m in \u001b[0;36mcdist\u001b[1;34m(XA, XB, metric, p, V, VI, w)\u001b[0m\n\u001b[0;32m   2042\u001b[0m     \u001b[0mmB\u001b[0m \u001b[1;33m=\u001b[0m \u001b[0msB\u001b[0m\u001b[1;33m[\u001b[0m\u001b[1;36m0\u001b[0m\u001b[1;33m]\u001b[0m\u001b[1;33m\u001b[0m\u001b[0m\n\u001b[0;32m   2043\u001b[0m     \u001b[0mn\u001b[0m \u001b[1;33m=\u001b[0m \u001b[0ms\u001b[0m\u001b[1;33m[\u001b[0m\u001b[1;36m1\u001b[0m\u001b[1;33m]\u001b[0m\u001b[1;33m\u001b[0m\u001b[0m\n\u001b[1;32m-> 2044\u001b[1;33m     \u001b[0mdm\u001b[0m \u001b[1;33m=\u001b[0m \u001b[0mnp\u001b[0m\u001b[1;33m.\u001b[0m\u001b[0mzeros\u001b[0m\u001b[1;33m(\u001b[0m\u001b[1;33m(\u001b[0m\u001b[0mmA\u001b[0m\u001b[1;33m,\u001b[0m \u001b[0mmB\u001b[0m\u001b[1;33m)\u001b[0m\u001b[1;33m,\u001b[0m \u001b[0mdtype\u001b[0m\u001b[1;33m=\u001b[0m\u001b[0mnp\u001b[0m\u001b[1;33m.\u001b[0m\u001b[0mdouble\u001b[0m\u001b[1;33m)\u001b[0m\u001b[1;33m\u001b[0m\u001b[0m\n\u001b[0m\u001b[0;32m   2045\u001b[0m \u001b[1;33m\u001b[0m\u001b[0m\n\u001b[0;32m   2046\u001b[0m     \u001b[1;32mif\u001b[0m \u001b[0mcallable\u001b[0m\u001b[1;33m(\u001b[0m\u001b[0mmetric\u001b[0m\u001b[1;33m)\u001b[0m\u001b[1;33m:\u001b[0m\u001b[1;33m\u001b[0m\u001b[0m\n",
      "\u001b[1;31mMemoryError\u001b[0m: "
     ]
    }
   ],
   "source": [
    "import scipy.spatial.distance\n",
    "import sklearn.metrics\n",
    "start = time.time()\n",
    "distances=scipy.spatial.distance.cdist(coord, coord)\n",
    "distances.shape\n",
    "print \"ComputeDistanceScikit, %.2f\"%(time.time()-start)"
   ]
  },
  {
   "cell_type": "code",
   "execution_count": 14,
   "metadata": {
    "collapsed": false
   },
   "outputs": [
    {
     "data": {
      "text/plain": [
       "array([[    0.        ,    77.27516937,    52.5474205 , ...,\n",
       "         1782.68078613,  1784.84057617,  1786.69934082],\n",
       "       [   77.27516937,     0.        ,    68.39854431, ...,\n",
       "         1742.26013184,  1744.61645508,  1746.34912109],\n",
       "       [   52.5474205 ,    68.39854431,     0.        , ...,\n",
       "         1742.17370605,  1744.35229492,  1746.32629395],\n",
       "       ..., \n",
       "       [ 1782.68078613,  1742.26013184,  1742.17370605, ...,\n",
       "            0.        ,     5.72276163,     8.17006779],\n",
       "       [ 1784.84057617,  1744.61645508,  1744.35229492, ...,\n",
       "            5.72276163,     0.        ,     7.71362448],\n",
       "       [ 1786.69921875,  1746.34899902,  1746.32629395, ...,\n",
       "            8.17006779,     7.71362448,     0.        ]], dtype=float32)"
      ]
     },
     "execution_count": 14,
     "metadata": {},
     "output_type": "execute_result"
    }
   ],
   "source": [
    "distances"
   ]
  },
  {
   "cell_type": "code",
   "execution_count": 4,
   "metadata": {
    "collapsed": false
   },
   "outputs": [
    {
     "name": "stdout",
     "output_type": "stream",
     "text": [
      "ComputeDistanceSklearnMetrics, 95.33\n"
     ]
    }
   ],
   "source": [
    "import sklearn.metrics\n",
    "start = time.time()\n",
    "distances=sklearn.metrics.pairwise.euclidean_distances(coord, coord)\n",
    "distances.shape\n",
    "print \"ComputeDistanceSklearnMetrics, %.2f\"%(time.time()-start)"
   ]
  },
  {
   "cell_type": "markdown",
   "metadata": {},
   "source": [
    "# Synthetic Data Gen"
   ]
  },
  {
   "cell_type": "code",
   "execution_count": 39,
   "metadata": {
    "collapsed": false
   },
   "outputs": [
    {
     "data": {
      "text/plain": [
       "array([[  458.09997559,   510.39996338,    59.09999847],\n",
       "       [  453.69998169,   525.39996338,    53.5       ],\n",
       "       [  448.5       ,   524.39996338,    49.5       ],\n",
       "       ..., \n",
       "       [ 1803.69995117,   503.79998779,   142.3999939 ],\n",
       "       [ 1816.90002441,   499.69998169,   147.29998779],\n",
       "       [ 1814.5       ,   508.        ,   142.1000061 ]], dtype=float32)"
      ]
     },
     "execution_count": 39,
     "metadata": {},
     "output_type": "execute_result"
    }
   ],
   "source": [
    "coord"
   ]
  },
  {
   "cell_type": "code",
   "execution_count": 40,
   "metadata": {
    "collapsed": false
   },
   "outputs": [
    {
     "name": "stdout",
     "output_type": "stream",
     "text": [
      "Mean: [ 1134.39465332   424.06729126   418.1980896 ] Stddev: [ 586.35089111  202.54875183  204.76069641]\n"
     ]
    }
   ],
   "source": [
    "mean=np.mean(coord, axis=0)\n",
    "stddev=np.std(coord, axis=0)\n",
    "print \"Mean: %s Stddev: %s\"%(str(mean), str(stddev))"
   ]
  },
  {
   "cell_type": "code",
   "execution_count": 3,
   "metadata": {
    "collapsed": false
   },
   "outputs": [],
   "source": [
    "mean=[1134.39465332, 424.06729126, 418.1980896]\n",
    "stddev=[586.35089111, 202.54875183,  204.76069641]"
   ]
  },
  {
   "cell_type": "code",
   "execution_count": 10,
   "metadata": {
    "collapsed": false
   },
   "outputs": [],
   "source": [
    "!ls ../data/mdanalysis/synthetic/traj/"
   ]
  },
  {
   "cell_type": "code",
   "execution_count": 11,
   "metadata": {
    "collapsed": false
   },
   "outputs": [],
   "source": [
    "OUTPUT_DIR=\"../data/mdanalysis/synthetic/traj/\"\n",
    "for i in [10000, 20000, 40000, 80000, 160000]:\n",
    "#for i in [10000, 1000]:\n",
    "    x=np.random.normal(mean[0], stddev[0], i)\n",
    "    y=np.random.normal(mean[1], stddev[1], i)\n",
    "    z=np.random.normal(mean[2], stddev[2], i)\n",
    "    x=x.reshape(len(x),1)\n",
    "    y=y.reshape(len(x),1)\n",
    "    z=z.reshape(len(z),1)\n",
    "    synthetic=np.concatenate((x,y,z), axis=1)\n",
    "    np.savetxt(\"%s%d.np_txt\"%(OUTPUT_DIR,i), synthetic)"
   ]
  },
  {
   "cell_type": "code",
   "execution_count": 5,
   "metadata": {
    "collapsed": false
   },
   "outputs": [
    {
     "name": "stdout",
     "output_type": "stream",
     "text": [
      "total 456200\r\n",
      "-rw-r--r--  1 luckow  staff    73K Dec 20 21:54 1000.np_txt\r\n",
      "-rw-r--r--  1 luckow  staff   733K Dec 20 21:54 10000.np_txt\r\n",
      "-rw-r--r--  1 luckow  staff   115M Dec 19 20:34 1600000.np_txt\r\n",
      "-rw-r--r--  1 luckow  staff    14M Dec 19 20:34 200000.np_txt\r\n",
      "-rw-r--r--  1 luckow  staff    29M Dec 19 20:34 400000.np_txt\r\n",
      "-rw-r--r--  1 luckow  staff    57M Dec 19 20:34 800000.np_txt\r\n",
      "-rw-r--r--  1 luckow  staff   750B Dec 19 20:34 10.np_txt\r\n",
      "-rw-r--r--  1 luckow  staff   7.3K Dec 19 20:34 100.np_txt\r\n",
      "-rw-r--r--  1 luckow  staff   7.2M Dec 19 20:34 100000.np_txt\r\n"
     ]
    }
   ],
   "source": [
    "!ls -lth {OUTPUT_DIR}"
   ]
  },
  {
   "cell_type": "code",
   "execution_count": 44,
   "metadata": {
    "collapsed": false
   },
   "outputs": [
    {
     "name": "stdout",
     "output_type": "stream",
     "text": [
      "Mean: [ 1380.07811707   397.62971063   384.52701735] Stddev: [ 663.1345921   135.62573427  233.03352284]\n"
     ]
    }
   ],
   "source": [
    "mean=np.mean(synthetic, axis=0)\n",
    "stddev=np.std(synthetic, axis=0)\n",
    "print \"Mean: %s Stddev: %s\"%(str(mean), str(stddev))"
   ]
  },
  {
   "cell_type": "markdown",
   "metadata": {},
   "source": [
    "## Leaflet Finder"
   ]
  },
  {
   "cell_type": "code",
   "execution_count": 8,
   "metadata": {
    "collapsed": false
   },
   "outputs": [
    {
     "name": "stdout",
     "output_type": "stream",
     "text": [
      "Create Graph Time: 73.10\n"
     ]
    }
   ],
   "source": [
    "import MDAnalysis.analysis.leaflet\n",
    "start=time.time()\n",
    "L = MDAnalysis.analysis.leaflet.LeafletFinder(u, \"name P*\", pbc=False, sparse=True)\n",
    "print \"Create Graph Time: %.2f\"%(time.time()-start)"
   ]
  },
  {
   "cell_type": "code",
   "execution_count": 9,
   "metadata": {
    "collapsed": false
   },
   "outputs": [
    {
     "name": "stdout",
     "output_type": "stream",
     "text": [
      "19\n",
      "CC Time: 1.09\n"
     ]
    }
   ],
   "source": [
    "import networkx as NX\n",
    "start = time.time()\n",
    "graph = L.graph\n",
    "cc = NX.connected_components(graph)\n",
    "count = 0\n",
    "for i in cc:\n",
    "    count = count + 1\n",
    "print str(count)\n",
    "print \"CC Time: %.2f\"%(time.time()-start)"
   ]
  },
  {
   "cell_type": "code",
   "execution_count": 7,
   "metadata": {
    "collapsed": false
   },
   "outputs": [],
   "source": [
    "NX.write_edgelist(graph,\n",
    "                  \"graph_edges_%d_%d.csv\"%(NX.number_of_nodes(graph), NX.number_of_edges(graph)),\n",
    "                  delimiter=\",\")"
   ]
  },
  {
   "cell_type": "code",
   "execution_count": null,
   "metadata": {
    "collapsed": true
   },
   "outputs": [],
   "source": []
  }
 ],
 "metadata": {
  "kernelspec": {
   "display_name": "Python 2",
   "language": "python",
   "name": "python2"
  },
  "language_info": {
   "codemirror_mode": {
    "name": "ipython",
    "version": 2
   },
   "file_extension": ".py",
   "mimetype": "text/x-python",
   "name": "python",
   "nbconvert_exporter": "python",
   "pygments_lexer": "ipython2",
   "version": "2.7.11"
  }
 },
 "nbformat": 4,
 "nbformat_minor": 0
}
