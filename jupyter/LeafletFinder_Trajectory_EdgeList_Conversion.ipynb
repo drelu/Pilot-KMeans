{
 "cells": [
  {
   "cell_type": "markdown",
   "metadata": {},
   "source": [
    "# Leafletfinder to Edge List\n",
    "\n",
    "Use Leaflet Finder Code to create an graph based on Oliver's MD trajectory.\n",
    "\n",
    "Info from Mail:\n",
    "\n",
    "We uploaded a test system for you via our file share service and you should have received a barrage of emails from the service (apologies!).\n",
    "\n",
    "It is a system with 1.7 M particles and almost 150,000 lipids (i.e. 150,000 nodes in the network). There's also a mini python script that shows how to run it. Please note that we just fixed a bug in the MDAnalysis leaflet finder code that crept in one release ago. It is fixed in the 0.12.1 release that will be out tomorrow (or get the develop branch from github).\n",
    "\n",
    "We tried running the basic version of leaflet finder on it but got a MemoryError; apparently, it tries to allocate 2 TiB of RAM... The \"sparse\" option works\n",
    "\n",
    "        L = LeafletFinder(u, \"name P*\", sparse=True, pbc=True)\n",
    "\n",
    "but took over 4 min for a single frame (and a bit over 1 min with pbc=False)  so this is too slow (and pbc=True is typically necessary).\n",
    "\n",
    "The trajectory itself only contains 15 frames (1/1000th of the original one) but our file sharing service does not lik 80 GiB files...\n",
    "\n",
    "The trajectory is not the nicest example yet in terms of the kind of fusion between vesicles that we want to observe but it should give you something to play with.\n",
    "\n",
    "**Data:**"
   ]
  },
  {
   "cell_type": "code",
   "execution_count": null,
   "metadata": {
    "collapsed": true
   },
   "outputs": [],
   "source": [
    "import numpy as np\n",
    "np.__config__.show() "
   ]
  },
  {
   "cell_type": "markdown",
   "metadata": {},
   "source": [
    "The first step in any MDAnalysis script is to load a topology file (which contains a list of particles and possibly additional static data such as bonds or partial charges) and a trajectory file. The trajectory contains the coordinates, which change for each time step. In MDAnalysis, the Universe object ties the topology and the trajectory together and part of\n",
    "the process of instantiating Universe (topology, trajectory ) is to parse these files.\n",
    "\n",
    "Source: <http://dx.doi.org/10.6084/m9.figshare.1588804>\n",
    "\n",
    "File Types:\n",
    "* `.xtc` compressed trajectory file from Gromacs\n",
    "* `.tpr` topology files"
   ]
  },
  {
   "cell_type": "code",
   "execution_count": 13,
   "metadata": {
    "collapsed": false
   },
   "outputs": [
    {
     "name": "stdout",
     "output_type": "stream",
     "text": [
      "-rw-r--r-- 1 iparask iparask 71M Nov  4 20:22 /data/leafletfinder/large/vesicle_1_5M_373_first.gro\r\n",
      "-rw-r--r-- 1 iparask iparask 71M Nov  4 20:20 /data/leafletfinder/large/vesicle_1_5M_373_last.gro\r\n",
      "-rw-r--r-- 1 iparask iparask 90M Nov  4 20:21 /data/leafletfinder/large/vesicle_1_5M_373_stride1000.xtc\r\n",
      "-rw-r--r-- 1 iparask iparask 41M Nov  4 20:22 /data/leafletfinder/large/vesicle_1_5M_373.tpr\r\n"
     ]
    }
   ],
   "source": [
    "!ls -lh /data/leafletfinder/large/vesicle_1_5M_373*"
   ]
  },
  {
   "cell_type": "code",
   "execution_count": 1,
   "metadata": {
    "collapsed": false
   },
   "outputs": [
    {
     "name": "stdout",
     "output_type": "stream",
     "text": [
      "Loading Time: 14.42\n"
     ]
    }
   ],
   "source": [
    "import MDAnalysis, time\n",
    "topology = \"/data/leafletfinder/large/vesicle_1_5M_373.tpr\"\n",
    "trajectory = \"/data/leafletfinder/large/vesicle_1_5M_373_stride1000.xtc\"\n",
    "\n",
    "start = time.time()\n",
    "u = MDAnalysis.Universe(topology, trajectory)\n",
    "print \"Loading Time: %.2f\"%(time.time()-start)"
   ]
  },
  {
   "cell_type": "code",
   "execution_count": 2,
   "metadata": {
    "collapsed": false
   },
   "outputs": [
    {
     "name": "stdout",
     "output_type": "stream",
     "text": [
      "CPU times: user 3 µs, sys: 2 µs, total: 5 µs\n",
      "Wall time: 9.06 µs\n",
      "Selection Time: 3.03\n"
     ]
    }
   ],
   "source": [
    "%time\n",
    "start = time.time()\n",
    "selection = u.select_atoms(\"name P*\")\n",
    "print \"Selection Time: %.2f\"%(time.time()-start)"
   ]
  },
  {
   "cell_type": "code",
   "execution_count": 22,
   "metadata": {
    "collapsed": false
   },
   "outputs": [
    {
     "data": {
      "text/plain": [
       "<Universe with 1748952 atoms and 1603206 bonds>"
      ]
     },
     "execution_count": 22,
     "metadata": {},
     "output_type": "execute_result"
    }
   ],
   "source": [
    "u"
   ]
  },
  {
   "cell_type": "code",
   "execution_count": 29,
   "metadata": {
    "collapsed": false
   },
   "outputs": [
    {
     "name": "stdout",
     "output_type": "stream",
     "text": [
      "Frame:     0, Time:    0.000 ps\n",
      "Rgyr: 652.801 A\n",
      "Frame:     1, Time: 50000.000 ps\n",
      "Rgyr: 650.131 A\n",
      "Frame:     2, Time: 100000.000 ps\n",
      "Rgyr: 637.096 A\n",
      "Frame:     3, Time: 150000.000 ps\n",
      "Rgyr: 627.282 A\n",
      "Frame:     4, Time: 200000.000 ps\n",
      "Rgyr: 618.614 A\n",
      "Frame:     5, Time: 250000.000 ps\n",
      "Rgyr: 609.713 A\n",
      "Frame:     6, Time: 300000.000 ps\n",
      "Rgyr: 599.82 A\n",
      "Frame:     7, Time: 350000.000 ps\n",
      "Rgyr: 588.657 A\n",
      "Frame:     8, Time: 400000.000 ps\n",
      "Rgyr: 578.532 A\n",
      "Frame:     9, Time: 450000.000 ps\n",
      "Rgyr: 564.654 A\n",
      "Frame:    10, Time: 500000.000 ps\n",
      "Rgyr: 550.324 A\n",
      "Frame:    11, Time: 550000.000 ps\n",
      "Rgyr: 533.978 A\n",
      "Frame:    12, Time: 600000.000 ps\n",
      "Rgyr: 516.298 A\n",
      "Frame:    13, Time: 650000.000 ps\n",
      "Rgyr: 499.393 A\n",
      "Frame:    14, Time: 700000.000 ps\n",
      "Rgyr: 483.763 A\n",
      "Number of frames: 15\n"
     ]
    }
   ],
   "source": [
    "count = 0\n",
    "for ts in u.trajectory:\n",
    "    print(\"Frame: %5d, Time: %8.3f ps\" % (ts.frame, u.trajectory.time))\n",
    "    print(\"Rgyr: %g A\" % (u.atoms.radius_of_gyration(), ))\n",
    "    count = count + 1 \n",
    "print \"Number of frames: %d\"%count "
   ]
  },
  {
   "cell_type": "code",
   "execution_count": 23,
   "metadata": {
    "collapsed": false
   },
   "outputs": [
    {
     "data": {
      "text/plain": [
       "<AtomGroup with 145746 atoms>"
      ]
     },
     "execution_count": 23,
     "metadata": {},
     "output_type": "execute_result"
    }
   ],
   "source": [
    "selection"
   ]
  },
  {
   "cell_type": "code",
   "execution_count": null,
   "metadata": {
    "collapsed": false
   },
   "outputs": [],
   "source": [
    "import MDAnalysis.analysis.leaflet\n",
    "start=time.time()\n",
    "L = MDAnalysis.analysis.leaflet.LeafletFinder(u, \"name P*\", pbc=False, sparse=True)\n",
    "print \"Create Graph Time: %.2f\"%(time.time()-start)"
   ]
  },
  {
   "cell_type": "code",
   "execution_count": null,
   "metadata": {
    "collapsed": false
   },
   "outputs": [],
   "source": [
    "import networkx as NX\n",
    "start = time.time()\n",
    "graph = L.graph\n",
    "cc = NX.connected_components(graph)\n",
    "count = 0\n",
    "for i in cc:\n",
    "    count = count + 1\n",
    "print str(count)\n",
    "print \"CC Time: %.2f\"%(time.time()-start)"
   ]
  },
  {
   "cell_type": "code",
   "execution_count": null,
   "metadata": {
    "collapsed": false
   },
   "outputs": [],
   "source": [
    "NX.write_edgelist(graph,\n",
    "                  \"graph_edges_%d_%d.csv\"%(NX.number_of_nodes(graph), NX.number_of_edges(graph)),\n",
    "                  delimiter=\",\")"
   ]
  },
  {
   "cell_type": "code",
   "execution_count": null,
   "metadata": {
    "collapsed": true
   },
   "outputs": [],
   "source": []
  }
 ],
 "metadata": {
  "kernelspec": {
   "display_name": "Python 2",
   "language": "python",
   "name": "python2"
  },
  "language_info": {
   "codemirror_mode": {
    "name": "ipython",
    "version": 2
   },
   "file_extension": ".py",
   "mimetype": "text/x-python",
   "name": "python",
   "nbconvert_exporter": "python",
   "pygments_lexer": "ipython2",
   "version": "2.7.10"
  }
 },
 "nbformat": 4,
 "nbformat_minor": 0
}
