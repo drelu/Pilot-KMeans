{
 "cells": [
  {
   "cell_type": "markdown",
   "metadata": {},
   "source": [
    "# Leafletfinder to Edge List\n",
    "\n",
    "Use Leaflet Finder Code to create an graph based on Oliver's MD trajectory.\n",
    "\n",
    "**Data:**"
   ]
  },
  {
   "cell_type": "code",
   "execution_count": null,
   "metadata": {
    "collapsed": true
   },
   "outputs": [],
   "source": [
    "import numpy as np\n",
    "np.__config__.show() "
   ]
  },
  {
   "cell_type": "markdown",
   "metadata": {},
   "source": [
    "The first step in any MDAnalysis script is to load a topology file (which contains a list of particles and possibly additional static data such as bonds or partial charges) and a trajectory file. The trajectory contains the coordinates, which change for each time step. In MDAnalysis, the Universe object ties the topology and the trajectory together and part of\n",
    "the process of instantiating Universe (topology, trajectory ) is to parse these files.\n",
    "\n",
    "File Types:\n",
    "* `.xtc` compressed trajectory file from Gromacs\n",
    "* `.tpr` topology files"
   ]
  },
  {
   "cell_type": "code",
   "execution_count": 13,
   "metadata": {
    "collapsed": false
   },
   "outputs": [
    {
     "name": "stdout",
     "output_type": "stream",
     "text": [
      "-rw-r--r-- 1 iparask iparask 71M Nov  4 20:22 /data/leafletfinder/large/vesicle_1_5M_373_first.gro\r\n",
      "-rw-r--r-- 1 iparask iparask 71M Nov  4 20:20 /data/leafletfinder/large/vesicle_1_5M_373_last.gro\r\n",
      "-rw-r--r-- 1 iparask iparask 90M Nov  4 20:21 /data/leafletfinder/large/vesicle_1_5M_373_stride1000.xtc\r\n",
      "-rw-r--r-- 1 iparask iparask 41M Nov  4 20:22 /data/leafletfinder/large/vesicle_1_5M_373.tpr\r\n"
     ]
    }
   ],
   "source": [
    "!ls -lh /data/leafletfinder/large/vesicle_1_5M_373*"
   ]
  },
  {
   "cell_type": "code",
   "execution_count": 14,
   "metadata": {
    "collapsed": false
   },
   "outputs": [],
   "source": [
    "import MDAnalysis\n",
    "topology = \"/data/leafletfinder/large/vesicle_1_5M_373.tpr\"\n",
    "trajectory = \"/data/leafletfinder/large/vesicle_1_5M_373_stride1000.xtc\"\n",
    "u = MDAnalysis.Universe(topology, trajectory)"
   ]
  },
  {
   "cell_type": "code",
   "execution_count": 19,
   "metadata": {
    "collapsed": false
   },
   "outputs": [
    {
     "name": "stdout",
     "output_type": "stream",
     "text": [
      "CPU times: user 3 µs, sys: 0 ns, total: 3 µs\n",
      "Wall time: 7.15 µs\n"
     ]
    }
   ],
   "source": [
    "%time\n",
    "selection = u.select_atoms(\"name P*\")"
   ]
  },
  {
   "cell_type": "code",
   "execution_count": 22,
   "metadata": {
    "collapsed": false
   },
   "outputs": [
    {
     "data": {
      "text/plain": [
       "<Universe with 1748952 atoms and 1603206 bonds>"
      ]
     },
     "execution_count": 22,
     "metadata": {},
     "output_type": "execute_result"
    }
   ],
   "source": [
    "u"
   ]
  },
  {
   "cell_type": "code",
   "execution_count": 29,
   "metadata": {
    "collapsed": false
   },
   "outputs": [
    {
     "name": "stdout",
     "output_type": "stream",
     "text": [
      "Frame:     0, Time:    0.000 ps\n",
      "Rgyr: 652.801 A\n",
      "Frame:     1, Time: 50000.000 ps\n",
      "Rgyr: 650.131 A\n",
      "Frame:     2, Time: 100000.000 ps\n",
      "Rgyr: 637.096 A\n",
      "Frame:     3, Time: 150000.000 ps\n",
      "Rgyr: 627.282 A\n",
      "Frame:     4, Time: 200000.000 ps\n",
      "Rgyr: 618.614 A\n",
      "Frame:     5, Time: 250000.000 ps\n",
      "Rgyr: 609.713 A\n",
      "Frame:     6, Time: 300000.000 ps\n",
      "Rgyr: 599.82 A\n",
      "Frame:     7, Time: 350000.000 ps\n",
      "Rgyr: 588.657 A\n",
      "Frame:     8, Time: 400000.000 ps\n",
      "Rgyr: 578.532 A\n",
      "Frame:     9, Time: 450000.000 ps\n",
      "Rgyr: 564.654 A\n",
      "Frame:    10, Time: 500000.000 ps\n",
      "Rgyr: 550.324 A\n",
      "Frame:    11, Time: 550000.000 ps\n",
      "Rgyr: 533.978 A\n",
      "Frame:    12, Time: 600000.000 ps\n",
      "Rgyr: 516.298 A\n",
      "Frame:    13, Time: 650000.000 ps\n",
      "Rgyr: 499.393 A\n",
      "Frame:    14, Time: 700000.000 ps\n",
      "Rgyr: 483.763 A\n",
      "Number of frames: 15\n"
     ]
    }
   ],
   "source": [
    "count = 0\n",
    "for ts in u.trajectory:\n",
    "    print(\"Frame: %5d, Time: %8.3f ps\" % (ts.frame, u.trajectory.time))\n",
    "    print(\"Rgyr: %g A\" % (u.atoms.radius_of_gyration(), ))\n",
    "    count = count + 1 \n",
    "print \"Number of frames: %d\"%count "
   ]
  },
  {
   "cell_type": "code",
   "execution_count": 23,
   "metadata": {
    "collapsed": false
   },
   "outputs": [
    {
     "data": {
      "text/plain": [
       "<AtomGroup with 145746 atoms>"
      ]
     },
     "execution_count": 23,
     "metadata": {},
     "output_type": "execute_result"
    }
   ],
   "source": [
    "selection"
   ]
  },
  {
   "cell_type": "code",
   "execution_count": 28,
   "metadata": {
    "collapsed": true
   },
   "outputs": [],
   "source": [
    "selection"
   ]
  },
  {
   "cell_type": "code",
   "execution_count": 2,
   "metadata": {
    "collapsed": false
   },
   "outputs": [],
   "source": [
    "import MDAnalysis.analysis.leaflet\n",
    "L = MDAnalysis.analysis.leaflet.LeafletFinder(u, \"name P*\", pbc=True, sparse=True)"
   ]
  },
  {
   "cell_type": "code",
   "execution_count": 3,
   "metadata": {
    "collapsed": true
   },
   "outputs": [],
   "source": [
    "graph = L.graph"
   ]
  },
  {
   "cell_type": "code",
   "execution_count": 24,
   "metadata": {
    "collapsed": false
   },
   "outputs": [],
   "source": [
    "import networkx as NX\n",
    "NX.write_edgelist(graph,\n",
    "                  \"graph_edges_%d_%d.csv\"%(NX.number_of_nodes(graph), NX.number_of_edges(graph)),\n",
    "                  delimiter=\",\")"
   ]
  },
  {
   "cell_type": "code",
   "execution_count": 26,
   "metadata": {
    "collapsed": false
   },
   "outputs": [
    {
     "name": "stdout",
     "output_type": "stream",
     "text": [
      "4\n"
     ]
    }
   ],
   "source": [
    "count = 0\n",
    "for i in NX.connected_components(graph):\n",
    "    count = count + 1\n",
    "    \n",
    "print str(count)"
   ]
  }
 ],
 "metadata": {
  "kernelspec": {
   "display_name": "Python 2",
   "language": "python",
   "name": "python2"
  },
  "language_info": {
   "codemirror_mode": {
    "name": "ipython",
    "version": 2
   },
   "file_extension": ".py",
   "mimetype": "text/x-python",
   "name": "python",
   "nbconvert_exporter": "python",
   "pygments_lexer": "ipython2",
   "version": "2.7.10"
  }
 },
 "nbformat": 4,
 "nbformat_minor": 0
}
