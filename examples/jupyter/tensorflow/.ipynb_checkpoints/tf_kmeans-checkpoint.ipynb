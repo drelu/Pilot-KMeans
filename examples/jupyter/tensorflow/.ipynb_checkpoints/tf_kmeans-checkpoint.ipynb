{
 "cells": [
  {
   "cell_type": "markdown",
   "metadata": {},
   "source": [
    "# KMeans\n",
    "KMeans Tensorflow Exploration\n",
    "\n",
    "Adapted from: https://gist.github.com/dave-andersen/265e68a5e879b5540ebc\n",
    "\n",
    "\n",
    "Useful links:\n",
    "    \n",
    "    http://esciencegroup.com/2016/01/05/an-encounter-with-googles-tensorflow/\n",
    "    http://learningtensorflow.com/lesson6/"
   ]
  },
  {
   "cell_type": "code",
   "execution_count": 27,
   "metadata": {
    "collapsed": false
   },
   "outputs": [
    {
     "name": "stderr",
     "output_type": "stream",
     "text": [
      "Exception AssertionError: AssertionError() in <bound method InteractiveSession.__del__ of <tensorflow.python.client.session.InteractiveSession object at 0x11a401390>> ignored\n"
     ]
    }
   ],
   "source": [
    "import tensorflow as tf\n",
    "import time\n",
    "import tensorflow.contrib\n",
    "sess = tf.InteractiveSession()"
   ]
  },
  {
   "cell_type": "code",
   "execution_count": 31,
   "metadata": {
    "collapsed": false
   },
   "outputs": [],
   "source": [
    "N=10\n",
    "K=4\n",
    "\n",
    "start = time.time()\n",
    "\n",
    "points = tf.Variable(tf.random_uniform([N,2]))\n",
    "cluster_assignments = tf.Variable(tf.zeros([N], dtype=tf.int64))\n",
    "\n",
    "init_op = tf.initialize_all_variables()\n",
    "init_op.run()\n"
   ]
  },
  {
   "cell_type": "markdown",
   "metadata": {},
   "source": [
    "# Printing out Tensors"
   ]
  },
  {
   "cell_type": "code",
   "execution_count": 35,
   "metadata": {
    "collapsed": false
   },
   "outputs": [
    {
     "data": {
      "text/plain": [
       "array([[ 0.71060359,  0.65956318],\n",
       "       [ 0.94522274,  0.15105975],\n",
       "       [ 0.20394874,  0.09603846],\n",
       "       [ 0.54403341,  0.71190012],\n",
       "       [ 0.16887903,  0.17972386],\n",
       "       [ 0.87691057,  0.56219232],\n",
       "       [ 0.41861391,  0.48413432],\n",
       "       [ 0.24750733,  0.27626193],\n",
       "       [ 0.01457477,  0.02739894],\n",
       "       [ 0.73448992,  0.23426902]], dtype=float32)"
      ]
     },
     "execution_count": 35,
     "metadata": {},
     "output_type": "execute_result"
    }
   ],
   "source": [
    "tf.Print(points, [points], \"These are the points\").eval()"
   ]
  },
  {
   "cell_type": "markdown",
   "metadata": {},
   "source": [
    "# Reshaping Points"
   ]
  },
  {
   "cell_type": "code",
   "execution_count": 40,
   "metadata": {
    "collapsed": false
   },
   "outputs": [
    {
     "data": {
      "text/plain": [
       "array([[[ 0.71060359,  0.65956318],\n",
       "        [ 0.71060359,  0.65956318],\n",
       "        [ 0.71060359,  0.65956318],\n",
       "        [ 0.71060359,  0.65956318]],\n",
       "\n",
       "       [[ 0.94522274,  0.15105975],\n",
       "        [ 0.94522274,  0.15105975],\n",
       "        [ 0.94522274,  0.15105975],\n",
       "        [ 0.94522274,  0.15105975]],\n",
       "\n",
       "       [[ 0.20394874,  0.09603846],\n",
       "        [ 0.20394874,  0.09603846],\n",
       "        [ 0.20394874,  0.09603846],\n",
       "        [ 0.20394874,  0.09603846]],\n",
       "\n",
       "       [[ 0.54403341,  0.71190012],\n",
       "        [ 0.54403341,  0.71190012],\n",
       "        [ 0.54403341,  0.71190012],\n",
       "        [ 0.54403341,  0.71190012]],\n",
       "\n",
       "       [[ 0.16887903,  0.17972386],\n",
       "        [ 0.16887903,  0.17972386],\n",
       "        [ 0.16887903,  0.17972386],\n",
       "        [ 0.16887903,  0.17972386]],\n",
       "\n",
       "       [[ 0.87691057,  0.56219232],\n",
       "        [ 0.87691057,  0.56219232],\n",
       "        [ 0.87691057,  0.56219232],\n",
       "        [ 0.87691057,  0.56219232]],\n",
       "\n",
       "       [[ 0.41861391,  0.48413432],\n",
       "        [ 0.41861391,  0.48413432],\n",
       "        [ 0.41861391,  0.48413432],\n",
       "        [ 0.41861391,  0.48413432]],\n",
       "\n",
       "       [[ 0.24750733,  0.27626193],\n",
       "        [ 0.24750733,  0.27626193],\n",
       "        [ 0.24750733,  0.27626193],\n",
       "        [ 0.24750733,  0.27626193]],\n",
       "\n",
       "       [[ 0.01457477,  0.02739894],\n",
       "        [ 0.01457477,  0.02739894],\n",
       "        [ 0.01457477,  0.02739894],\n",
       "        [ 0.01457477,  0.02739894]],\n",
       "\n",
       "       [[ 0.73448992,  0.23426902],\n",
       "        [ 0.73448992,  0.23426902],\n",
       "        [ 0.73448992,  0.23426902],\n",
       "        [ 0.73448992,  0.23426902]]], dtype=float32)"
      ]
     },
     "execution_count": 40,
     "metadata": {},
     "output_type": "execute_result"
    }
   ],
   "source": [
    "rep_points = tf.reshape(tf.tile(points, [1, K]), [N, K, 2])\n",
    "rep_points.eval()"
   ]
  },
  {
   "cell_type": "code",
   "execution_count": null,
   "metadata": {
    "collapsed": true
   },
   "outputs": [],
   "source": [
    "# Silly initialization:  Use the first K points as the starting\n",
    "# centroids.  In the real world, do this better.\n",
    "centroids = tf.Variable(tf.slice(points.initialized_value(), [0,0], [K,2]))\n",
    "\n",
    "# Replicate to N copies of each centroid and K copies of each\n",
    "# point, then subtract and compute the sum of squared distances.\n",
    "rep_centroids = tf.reshape(tf.tile(centroids, [N, 1]), [N, K, 2])\n",
    "rep_points = tf.reshape(tf.tile(points, [1, K]), [N, K, 2])\n",
    "sum_squares = tf.reduce_sum(tf.square(rep_points - rep_centroids), \n",
    "                            reduction_indices=2)\n"
   ]
  },
  {
   "cell_type": "code",
   "execution_count": null,
   "metadata": {
    "collapsed": true
   },
   "outputs": [],
   "source": [
    "MAX_ITERS = 1000\n",
    "\n",
    "\n",
    "# Use argmin to select the lowest-distance point\n",
    "best_centroids = tf.argmin(sum_squares, 1)\n",
    "did_assignments_change = tf.reduce_any(tf.not_equal(best_centroids, \n",
    "                                                    cluster_assignments))\n",
    "\n",
    "def bucket_mean(data, bucket_ids, num_buckets):\n",
    "    total = tf.unsorted_segment_sum(data, bucket_ids, num_buckets)\n",
    "    count = tf.unsorted_segment_sum(tf.ones_like(data), bucket_ids, num_buckets)\n",
    "    return total / count\n",
    "\n",
    "means = bucket_mean(points, best_centroids, K)\n",
    "\n",
    "# Do not write to the assigned clusters variable until after\n",
    "# computing whether the assignments have changed - hence with_dependencies\n",
    "with tf.control_dependencies([did_assignments_change]):\n",
    "    do_updates = tf.group(\n",
    "        centroids.assign(means),\n",
    "        cluster_assignments.assign(best_centroids))\n",
    "\n",
    "init = tf.initialize_all_variables()\n",
    "\n",
    "sess = tf.Session()\n",
    "sess.run(init)\n",
    "\n",
    "changed = True\n",
    "iters = 0\n",
    "\n",
    "while changed and iters < MAX_ITERS:\n",
    "    iters += 1\n",
    "    [changed, _] = sess.run([did_assignments_change, do_updates])\n",
    "\n",
    "[centers, assignments] = sess.run([centroids, cluster_assignments])\n",
    "end = time.time()\n",
    "print (\"Found in %.2f seconds\" % (end-start)), iters, \"iterations\"\n",
    "print \"Centroids:\"\n",
    "print centers\n",
    "print \"Cluster assignments:\", assignments"
   ]
  }
 ],
 "metadata": {
  "kernelspec": {
   "display_name": "Python 2",
   "language": "python",
   "name": "python2"
  },
  "language_info": {
   "codemirror_mode": {
    "name": "ipython",
    "version": 2
   },
   "file_extension": ".py",
   "mimetype": "text/x-python",
   "name": "python",
   "nbconvert_exporter": "python",
   "pygments_lexer": "ipython2",
   "version": "2.7.11"
  }
 },
 "nbformat": 4,
 "nbformat_minor": 0
}
