{
 "cells": [
  {
   "cell_type": "markdown",
   "metadata": {},
   "source": [
    "# Distance Computation and KMeans\n",
    "\n",
    "KMeans Tensorflow Exploration\n",
    "\n",
    "Adapted from: https://gist.github.com/dave-andersen/265e68a5e879b5540ebc\n",
    "\n",
    "\n",
    "Useful links:\n",
    "    \n",
    "    http://esciencegroup.com/2016/01/05/an-encounter-with-googles-tensorflow/\n",
    "    http://learningtensorflow.com/lesson6/"
   ]
  },
  {
   "cell_type": "code",
   "execution_count": 1,
   "metadata": {
    "ExecuteTime": {
     "end_time": "2016-05-13T21:43:59.698483",
     "start_time": "2016-05-13T21:43:57.641255"
    },
    "collapsed": false,
    "run_control": {
     "frozen": false,
     "read_only": false
    }
   },
   "outputs": [],
   "source": [
    "import tensorflow as tf\n",
    "import time\n",
    "import tensorflow.contrib\n",
    "sess = tf.InteractiveSession()"
   ]
  },
  {
   "cell_type": "code",
   "execution_count": 5,
   "metadata": {
    "ExecuteTime": {
     "end_time": "2016-05-13T21:45:15.173886",
     "start_time": "2016-05-13T21:45:15.150706"
    },
    "collapsed": false,
    "run_control": {
     "frozen": false,
     "read_only": false
    }
   },
   "outputs": [],
   "source": [
    "N=5\n",
    "K=4\n",
    "\n",
    "start = time.time()\n",
    "\n",
    "points = tf.Variable(tf.random_uniform([N,2]))\n",
    "cluster_assignments = tf.Variable(tf.zeros([N], dtype=tf.int64))\n",
    "\n",
    "init_op = tf.initialize_all_variables()\n",
    "init_op.run()\n"
   ]
  },
  {
   "cell_type": "markdown",
   "metadata": {},
   "source": [
    "# Printing out Tensors"
   ]
  },
  {
   "cell_type": "code",
   "execution_count": 6,
   "metadata": {
    "ExecuteTime": {
     "end_time": "2016-05-13T21:45:16.765110",
     "start_time": "2016-05-13T21:45:16.757683"
    },
    "collapsed": false,
    "run_control": {
     "frozen": false,
     "read_only": false
    }
   },
   "outputs": [
    {
     "data": {
      "text/plain": [
       "array([[ 0.87300801,  0.77612352],\n",
       "       [ 0.65893841,  0.41622484],\n",
       "       [ 0.06771493,  0.03780019],\n",
       "       [ 0.39849794,  0.18587363],\n",
       "       [ 0.12047112,  0.13196683]], dtype=float32)"
      ]
     },
     "execution_count": 6,
     "metadata": {},
     "output_type": "execute_result"
    }
   ],
   "source": [
    "tf.Print(points, [points], \"These are the points\").eval()"
   ]
  },
  {
   "cell_type": "markdown",
   "metadata": {},
   "source": [
    "# Reshaping Points"
   ]
  },
  {
   "cell_type": "code",
   "execution_count": 8,
   "metadata": {
    "ExecuteTime": {
     "end_time": "2016-05-13T21:47:22.076842",
     "start_time": "2016-05-13T21:47:22.066551"
    },
    "collapsed": false,
    "run_control": {
     "frozen": false,
     "read_only": false
    }
   },
   "outputs": [
    {
     "data": {
      "text/plain": [
       "array([[[ 0.87300801,  0.77612352],\n",
       "        [ 0.87300801,  0.77612352],\n",
       "        [ 0.87300801,  0.77612352],\n",
       "        [ 0.87300801,  0.77612352],\n",
       "        [ 0.87300801,  0.77612352]],\n",
       "\n",
       "       [[ 0.65893841,  0.41622484],\n",
       "        [ 0.65893841,  0.41622484],\n",
       "        [ 0.65893841,  0.41622484],\n",
       "        [ 0.65893841,  0.41622484],\n",
       "        [ 0.65893841,  0.41622484]],\n",
       "\n",
       "       [[ 0.06771493,  0.03780019],\n",
       "        [ 0.06771493,  0.03780019],\n",
       "        [ 0.06771493,  0.03780019],\n",
       "        [ 0.06771493,  0.03780019],\n",
       "        [ 0.06771493,  0.03780019]],\n",
       "\n",
       "       [[ 0.39849794,  0.18587363],\n",
       "        [ 0.39849794,  0.18587363],\n",
       "        [ 0.39849794,  0.18587363],\n",
       "        [ 0.39849794,  0.18587363],\n",
       "        [ 0.39849794,  0.18587363]],\n",
       "\n",
       "       [[ 0.12047112,  0.13196683],\n",
       "        [ 0.12047112,  0.13196683],\n",
       "        [ 0.12047112,  0.13196683],\n",
       "        [ 0.12047112,  0.13196683],\n",
       "        [ 0.12047112,  0.13196683]]], dtype=float32)"
      ]
     },
     "execution_count": 8,
     "metadata": {},
     "output_type": "execute_result"
    }
   ],
   "source": [
    "rep_points = tf.reshape(tf.tile(points, [1, N]), [N, N, 2])\n",
    "rep_points.eval()"
   ]
  },
  {
   "cell_type": "code",
   "execution_count": 9,
   "metadata": {
    "ExecuteTime": {
     "end_time": "2016-05-13T21:48:30.909179",
     "start_time": "2016-05-13T21:48:30.904137"
    },
    "collapsed": true
   },
   "outputs": [],
   "source": [
    "sum_squares = tf.reduce_sum(tf.square(rep_points - rep_points), \n",
    "                            reduction_indices=2)"
   ]
  },
  {
   "cell_type": "code",
   "execution_count": 10,
   "metadata": {
    "ExecuteTime": {
     "end_time": "2016-05-13T21:48:39.933201",
     "start_time": "2016-05-13T21:48:39.925985"
    },
    "collapsed": false
   },
   "outputs": [
    {
     "data": {
      "text/plain": [
       "array([[ 0.,  0.,  0.,  0.,  0.],\n",
       "       [ 0.,  0.,  0.,  0.,  0.],\n",
       "       [ 0.,  0.,  0.,  0.,  0.],\n",
       "       [ 0.,  0.,  0.,  0.,  0.],\n",
       "       [ 0.,  0.,  0.,  0.,  0.]], dtype=float32)"
      ]
     },
     "execution_count": 10,
     "metadata": {},
     "output_type": "execute_result"
    }
   ],
   "source": [
    "sum_squares.eval()"
   ]
  },
  {
   "cell_type": "markdown",
   "metadata": {},
   "source": [
    "## Validation Against Native Python Version"
   ]
  },
  {
   "cell_type": "code",
   "execution_count": 19,
   "metadata": {
    "ExecuteTime": {
     "end_time": "2016-05-13T21:58:00.025792",
     "start_time": "2016-05-13T21:58:00.022772"
    },
    "collapsed": false
   },
   "outputs": [],
   "source": [
    "p_np=points.eval()"
   ]
  },
  {
   "cell_type": "code",
   "execution_count": 20,
   "metadata": {
    "ExecuteTime": {
     "end_time": "2016-05-13T21:58:00.355997",
     "start_time": "2016-05-13T21:58:00.351153"
    },
    "collapsed": false
   },
   "outputs": [
    {
     "data": {
      "text/plain": [
       "array([[ 0.        ,  0.41875163,  1.09252834,  0.75733399,  0.9905805 ],\n",
       "       [ 0.41875163,  0.        ,  0.70196187,  0.34769371,  0.6088922 ],\n",
       "       [ 1.09252834,  0.70196187,  0.        ,  0.36241293,  0.10793781],\n",
       "       [ 0.75733399,  0.34769371,  0.36241293,  0.        ,  0.28320459],\n",
       "       [ 0.9905805 ,  0.6088922 ,  0.10793781,  0.28320459,  0.        ]], dtype=float32)"
      ]
     },
     "execution_count": 20,
     "metadata": {},
     "output_type": "execute_result"
    }
   ],
   "source": [
    "from sklearn.metrics.pairwise import euclidean_distances\n",
    "euclidean_distances(p_np, p_np)"
   ]
  },
  {
   "cell_type": "code",
   "execution_count": 21,
   "metadata": {
    "ExecuteTime": {
     "end_time": "2016-05-13T21:58:00.706747",
     "start_time": "2016-05-13T21:58:00.702641"
    },
    "collapsed": false
   },
   "outputs": [
    {
     "data": {
      "text/plain": [
       "array([ 0.41875155,  1.09252839,  0.75733398,  0.99058045,  0.70196183,\n",
       "        0.34769371,  0.60889214,  0.36241294,  0.10793781,  0.28320462])"
      ]
     },
     "execution_count": 21,
     "metadata": {},
     "output_type": "execute_result"
    }
   ],
   "source": [
    "from scipy.spatial.distance import pdist\n",
    "pdist(p_np)"
   ]
  },
  {
   "cell_type": "markdown",
   "metadata": {},
   "source": [
    "# KMeans"
   ]
  },
  {
   "cell_type": "code",
   "execution_count": null,
   "metadata": {
    "collapsed": true,
    "run_control": {
     "frozen": false,
     "read_only": false
    }
   },
   "outputs": [],
   "source": [
    "# Silly initialization:  Use the first K points as the starting\n",
    "# centroids.  In the real world, do this better.\n",
    "centroids = tf.Variable(tf.slice(points.initialized_value(), [0,0], [K,2]))\n",
    "\n",
    "# Replicate to N copies of each centroid and K copies of each\n",
    "# point, then subtract and compute the sum of squared distances.\n",
    "rep_centroids = tf.reshape(tf.tile(centroids, [N, 1]), [N, K, 2])\n",
    "rep_points = tf.reshape(tf.tile(points, [1, K]), [N, K, 2])\n",
    "sum_squares = tf.reduce_sum(tf.square(rep_points - rep_centroids), \n",
    "                            reduction_indices=2)\n"
   ]
  },
  {
   "cell_type": "code",
   "execution_count": null,
   "metadata": {
    "collapsed": true,
    "run_control": {
     "frozen": false,
     "read_only": false
    }
   },
   "outputs": [],
   "source": [
    "MAX_ITERS = 1000\n",
    "\n",
    "\n",
    "# Use argmin to select the lowest-distance point\n",
    "best_centroids = tf.argmin(sum_squares, 1)\n",
    "did_assignments_change = tf.reduce_any(tf.not_equal(best_centroids, \n",
    "                                                    cluster_assignments))\n",
    "\n",
    "def bucket_mean(data, bucket_ids, num_buckets):\n",
    "    total = tf.unsorted_segment_sum(data, bucket_ids, num_buckets)\n",
    "    count = tf.unsorted_segment_sum(tf.ones_like(data), bucket_ids, num_buckets)\n",
    "    return total / count\n",
    "\n",
    "means = bucket_mean(points, best_centroids, K)\n",
    "\n",
    "# Do not write to the assigned clusters variable until after\n",
    "# computing whether the assignments have changed - hence with_dependencies\n",
    "with tf.control_dependencies([did_assignments_change]):\n",
    "    do_updates = tf.group(\n",
    "        centroids.assign(means),\n",
    "        cluster_assignments.assign(best_centroids))\n",
    "\n",
    "init = tf.initialize_all_variables()\n",
    "\n",
    "sess = tf.Session()\n",
    "sess.run(init)\n",
    "\n",
    "changed = True\n",
    "iters = 0\n",
    "\n",
    "while changed and iters < MAX_ITERS:\n",
    "    iters += 1\n",
    "    [changed, _] = sess.run([did_assignments_change, do_updates])\n",
    "\n",
    "[centers, assignments] = sess.run([centroids, cluster_assignments])\n",
    "end = time.time()\n",
    "print (\"Found in %.2f seconds\" % (end-start)), iters, \"iterations\"\n",
    "print \"Centroids:\"\n",
    "print centers\n",
    "print \"Cluster assignments:\", assignments"
   ]
  }
 ],
 "metadata": {
  "celltoolbar": "Raw Cell Format",
  "kernelspec": {
   "display_name": "Python 2",
   "language": "python",
   "name": "python2"
  },
  "language_info": {
   "codemirror_mode": {
    "name": "ipython",
    "version": 2
   },
   "file_extension": ".py",
   "mimetype": "text/x-python",
   "name": "python",
   "nbconvert_exporter": "python",
   "pygments_lexer": "ipython2",
   "version": "2.7.11"
  },
  "toc": {
   "toc_cell": false,
   "toc_number_sections": true,
   "toc_threshold": 6,
   "toc_window_display": true
  }
 },
 "nbformat": 4,
 "nbformat_minor": 0
}
