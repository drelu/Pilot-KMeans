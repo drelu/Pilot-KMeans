{
 "cells": [
  {
   "cell_type": "markdown",
   "metadata": {},
   "source": [
    "# Numpy Distance versus Tensorflow "
   ]
  },
  {
   "cell_type": "code",
   "execution_count": null,
   "metadata": {
    "ExecuteTime": {
     "end_time": "2016-05-15T13:25:55.637433",
     "start_time": "2016-05-15T13:25:53.500842"
    },
    "collapsed": false,
    "run_control": {
     "frozen": false,
     "read_only": false
    }
   },
   "outputs": [],
   "source": [
    "from MDAnalysis.core.distances import distance_array, self_distance_array\n",
    "from MDAnalysis.analysis.distances import contact_matrix\n",
    "import scipy.sparse\n",
    "from scipy.spatial.distance import cdist\n",
    "import numpy as np\n",
    "import time, os, sys, gc\n",
    "import datetime\n",
    "import logging\n",
    "import tensorflow as tf\n",
    "logger = logging.getLogger(\"py4j\")\n",
    "logger.setLevel(logging.ERROR)\n",
    "import warnings\n",
    "warnings.filterwarnings(\"ignore\")"
   ]
  },
  {
   "cell_type": "markdown",
   "metadata": {},
   "source": [
    "# Small Test Data"
   ]
  },
  {
   "cell_type": "code",
   "execution_count": null,
   "metadata": {
    "ExecuteTime": {
     "end_time": "2016-05-15T13:25:55.678901",
     "start_time": "2016-05-15T13:25:55.675558"
    },
    "collapsed": false,
    "run_control": {
     "frozen": false,
     "read_only": false
    }
   },
   "outputs": [],
   "source": [
    "x = np.array((np.random.rand(10, 3)*10).astype(int))"
   ]
  },
  {
   "cell_type": "markdown",
   "metadata": {},
   "source": [
    "# Numpy Broadcast Version\n",
    "\n",
    "We extend both our 2-D array into 3 dimensions so that we can do an element-wise subtraction (broadcast): `x[:, None, :]`\n",
    "\n",
    "\n",
    "From **Python Data Science Handbook** by Jake Vanderblas:\n",
    "\n",
    "Broadcasting in NumPy follows a strict set of rules to determine the interaction between the two arrays:\n",
    "\n",
    "1. If the two arrays differ in their number of dimensions, the shape of the one with fewer dimensions is padded with ones on its leading (left) side.\n",
    "\n",
    "1. If the shape of the two arrays does not match in any dimension, the array with shape equal to 1 in that dimension is stretched to match the other shape.\n",
    "\n",
    "1. If in any dimension the sizes disagree and neither is equal to 1, an error is raised.\n",
    "\n"
   ]
  },
  {
   "cell_type": "code",
   "execution_count": null,
   "metadata": {
    "ExecuteTime": {
     "end_time": "2016-05-15T13:25:57.404039",
     "start_time": "2016-05-15T13:25:57.393330"
    },
    "collapsed": false,
    "run_control": {
     "frozen": false,
     "read_only": false
    }
   },
   "outputs": [],
   "source": [
    "x[:, None, :].shape"
   ]
  },
  {
   "cell_type": "code",
   "execution_count": null,
   "metadata": {
    "ExecuteTime": {
     "end_time": "2016-05-15T13:25:57.988868",
     "start_time": "2016-05-15T13:25:57.985494"
    },
    "collapsed": false,
    "run_control": {
     "frozen": false,
     "read_only": false
    }
   },
   "outputs": [],
   "source": [
    "x.shape"
   ]
  },
  {
   "cell_type": "code",
   "execution_count": null,
   "metadata": {
    "ExecuteTime": {
     "end_time": "2016-05-15T13:25:58.917054",
     "start_time": "2016-05-15T13:25:58.913540"
    },
    "collapsed": false,
    "run_control": {
     "frozen": false,
     "read_only": false
    }
   },
   "outputs": [],
   "source": [
    "(x[:, None, :]-x).shape"
   ]
  },
  {
   "cell_type": "code",
   "execution_count": null,
   "metadata": {
    "ExecuteTime": {
     "end_time": "2016-05-15T13:25:59.318141",
     "start_time": "2016-05-15T13:25:59.314116"
    },
    "collapsed": false,
    "run_control": {
     "frozen": false,
     "read_only": false
    }
   },
   "outputs": [],
   "source": [
    "x.reshape(3,10)"
   ]
  },
  {
   "cell_type": "code",
   "execution_count": null,
   "metadata": {
    "ExecuteTime": {
     "end_time": "2016-05-13T22:06:23.739139",
     "start_time": "2016-05-13T22:06:23.736321"
    },
    "collapsed": false,
    "run_control": {
     "frozen": false,
     "read_only": false
    }
   },
   "outputs": [],
   "source": [
    "def dist(x): \n",
    "    return np.sqrt(((x[:, None, :] - x) ** 2).sum(-1))"
   ]
  },
  {
   "cell_type": "code",
   "execution_count": null,
   "metadata": {
    "ExecuteTime": {
     "end_time": "2016-05-13T22:07:02.421657",
     "start_time": "2016-05-13T22:07:02.415411"
    },
    "collapsed": false,
    "run_control": {
     "frozen": false,
     "read_only": false
    }
   },
   "outputs": [],
   "source": [
    "dist(x)"
   ]
  },
  {
   "cell_type": "markdown",
   "metadata": {},
   "source": [
    "# Scikit Learn"
   ]
  },
  {
   "cell_type": "code",
   "execution_count": null,
   "metadata": {
    "ExecuteTime": {
     "end_time": "2016-05-13T22:07:05.045618",
     "start_time": "2016-05-13T22:07:05.039068"
    },
    "collapsed": false,
    "run_control": {
     "frozen": false,
     "read_only": false
    }
   },
   "outputs": [],
   "source": [
    "from sklearn.metrics.pairwise import euclidean_distances\n",
    "euclidean_distances(x,x)"
   ]
  },
  {
   "cell_type": "code",
   "execution_count": null,
   "metadata": {
    "ExecuteTime": {
     "end_time": "2016-05-13T22:06:27.842120",
     "start_time": "2016-05-13T22:06:27.837847"
    },
    "collapsed": false,
    "run_control": {
     "frozen": false,
     "read_only": false
    }
   },
   "outputs": [],
   "source": [
    "from scipy.spatial.distance import pdist\n",
    "pdist(x)"
   ]
  },
  {
   "cell_type": "markdown",
   "metadata": {},
   "source": [
    "# MD Analysis"
   ]
  },
  {
   "cell_type": "code",
   "execution_count": null,
   "metadata": {
    "collapsed": true,
    "run_control": {
     "frozen": false,
     "read_only": false
    }
   },
   "outputs": [],
   "source": [
    "def compute_distance_mdanalysis(coord):\n",
    "    start = time.time()\n",
    "    contact_matrix(coord, returntype=\"sparse\")\n",
    "    result=\"ComputeDistanceMDAnalysisSparse, %d, %.2f\"%(len(coord), (time.time()-start))\n",
    "    return result"
   ]
  },
  {
   "cell_type": "markdown",
   "metadata": {},
   "source": [
    "# Tensorflow"
   ]
  },
  {
   "cell_type": "code",
   "execution_count": null,
   "metadata": {
    "ExecuteTime": {
     "end_time": "2016-05-13T22:07:21.111736",
     "start_time": "2016-05-13T22:07:21.103346"
    },
    "collapsed": false,
    "run_control": {
     "frozen": false,
     "read_only": false
    }
   },
   "outputs": [],
   "source": [
    "import tensorflow as tf\n",
    "import numpy as np\n",
    "\n",
    "def compute_distance_tf(coord):\n",
    "    start = time.time()\n",
    "    sess = tf.Session(config=tf.ConfigProto(log_device_placement=True))\n",
    "    matrix1 = tf.convert_to_tensor(coord.astype(\"float32\"))\n",
    "    matrix_extend=tf.expand_dims(matrix1, 1)\n",
    "    dist_matrix=tf.sub(matrix_extend, matrix1)\n",
    "    dist_matrix_pow=tf.pow(dist_matrix, 2)\n",
    "    dist_matrix_pow_red=tf.reduce_sum(dist_matrix_pow, 2)\n",
    "    dist_matrix_euc=tf.sqrt(dist_matrix_pow_red)\n",
    "    rc=sess.run(dist_matrix_euc)\n",
    "    result=\"ComputeDistanceTensorflow, %d, %.2f\"%(len(coord), (time.time()-start))\n",
    "    sess.close()\n",
    "    return result, rc"
   ]
  },
  {
   "cell_type": "code",
   "execution_count": null,
   "metadata": {
    "ExecuteTime": {
     "end_time": "2016-05-13T22:08:51.411428",
     "start_time": "2016-05-13T22:08:51.403971"
    },
    "collapsed": true,
    "run_control": {
     "frozen": false,
     "read_only": false
    }
   },
   "outputs": [],
   "source": [
    "def compute_distance_tf2(coord):\n",
    "    start = time.time()\n",
    "    sess = tf.Session(config=tf.ConfigProto(log_device_placement=True))\n",
    "    matrix1 = tf.convert_to_tensor(coord.astype(\"float32\"))\n",
    "    expanded_vectors = tf.expand_dims(matrix1, 0)\n",
    "    expanded_centroids = tf.expand_dims(matrix1, 1)\n",
    "    distances = tf.sqrt(tf.reduce_sum(tf.square(tf.sub(expanded_vectors, expanded_centroids)), 2))\n",
    "    rc=sess.run(distances)\n",
    "    result=\"ComputeDistanceTensorflow2, %d, %.2f\"%(len(coord), (time.time()-start))\n",
    "    sess.close()\n",
    "    #print rc\n",
    "    return rc"
   ]
  },
  {
   "cell_type": "code",
   "execution_count": null,
   "metadata": {
    "ExecuteTime": {
     "end_time": "2016-05-13T22:08:52.198727",
     "start_time": "2016-05-13T22:08:52.156011"
    },
    "collapsed": false,
    "run_control": {
     "frozen": false,
     "read_only": false
    }
   },
   "outputs": [],
   "source": [
    "result= compute_distance_tf2(x)\n",
    "result"
   ]
  },
  {
   "cell_type": "code",
   "execution_count": null,
   "metadata": {
    "ExecuteTime": {
     "end_time": "2016-05-13T22:07:24.252265",
     "start_time": "2016-05-13T22:07:24.246352"
    },
    "collapsed": false,
    "run_control": {
     "frozen": false,
     "read_only": false
    }
   },
   "outputs": [],
   "source": [
    "result"
   ]
  },
  {
   "cell_type": "markdown",
   "metadata": {},
   "source": [
    "http://esciencegroup.com/2016/01/05/an-encounter-with-googles-tensorflow/\n",
    "http://learningtensorflow.com/lesson6/"
   ]
  },
  {
   "cell_type": "code",
   "execution_count": null,
   "metadata": {
    "ExecuteTime": {
     "end_time": "2016-05-15T13:26:05.847094",
     "start_time": "2016-05-15T13:26:05.826040"
    },
    "collapsed": true,
    "run_control": {
     "frozen": false,
     "read_only": false
    }
   },
   "outputs": [],
   "source": [
    "cutoff = 15.0\n",
    "\n",
    "def get_edges_point(self, point_index, adjacency_matrix, cutoff=15.0):\n",
    "    edge_list = []\n",
    "    for index, i in np.ndenumerate(adjacency_matrix):\n",
    "        print (\"Index: %d, Value: %d\"%(index[i], i))\n",
    "        #if i==True and point_index<=index[1]:\n",
    "        if point_index<=index[1] and i<cutoff:\n",
    "            # Attention we only compute the upper half of the adjacency matrix\n",
    "            # thus we need to offset the target edge vertice by point_index\n",
    "            edge_list.append((point_index, point_index+index[1]))\n",
    "    return edge_list\n",
    "    \n",
    "def compute_distance_tf_batch(coord, batch_size=5):\n",
    "    start_time = time.time()\n",
    "    num_batches = len(coord)/batch_size\n",
    "    sess = tf.Session(config=tf.ConfigProto(log_device_placement=True))\n",
    "    matrix2 = tf.convert_to_tensor(coord.astype(\"float32\"))\n",
    "    print matrix2.get_shape()\n",
    "    matrix1_splits = tf.split(0, num_batches, matrix2)\n",
    "    edges=[]\n",
    "    for split in matrix1_splits:\n",
    "    #for i in range(num_batches):\n",
    "        #start=i*batch_size\n",
    "        #end=start+batch_size\n",
    "        #print \"Compute batch from %d to %d\"%(start, end)\n",
    "        #matrix1 = tf.convert_to_tensor(coord[start:end].astype(\"float32\"))\n",
    "        #matrix1 = tf.slice(matrix2, [start], [batch_size])\n",
    "        matrix1 = split\n",
    "        matrix_extend=tf.expand_dims(matrix1, 1)\n",
    "        dist_matrix=tf.sub(matrix_extend, matrix2)\n",
    "        dist_matrix_pow=tf.pow(dist_matrix, 2)\n",
    "        dist_matrix_pow_red=tf.reduce_sum(dist_matrix_pow, 2)\n",
    "        dist_matrix_euc=tf.sqrt(dist_matrix_pow_red)>cutoff\n",
    "        dist_custoff_true=tf.where(dist_matrix_euc)\n",
    "        #edges.append(sess.run(dist_matrix_euc))\n",
    "        edges.append(sess.run(dist_custoff_true))\n",
    "    sess.close()    \n",
    "    result=\"ComputeDistanceTensorflow, %d, %.2f\"%(len(coord), (time.time()-start_time))\n",
    "    return (result, edges)"
   ]
  },
  {
   "cell_type": "code",
   "execution_count": null,
   "metadata": {
    "ExecuteTime": {
     "end_time": "2016-05-15T13:26:07.156950",
     "start_time": "2016-05-15T13:26:07.153036"
    },
    "collapsed": false,
    "run_control": {
     "frozen": false,
     "read_only": false
    }
   },
   "outputs": [],
   "source": [
    "len(x)/3"
   ]
  },
  {
   "cell_type": "code",
   "execution_count": null,
   "metadata": {
    "ExecuteTime": {
     "end_time": "2016-05-15T13:26:08.290135",
     "start_time": "2016-05-15T13:26:08.257556"
    },
    "collapsed": false,
    "run_control": {
     "frozen": false,
     "read_only": false
    }
   },
   "outputs": [],
   "source": [
    "compute_distance_tf_batch(x)"
   ]
  },
  {
   "cell_type": "markdown",
   "metadata": {
    "collapsed": true
   },
   "source": [
    "# Benchmark"
   ]
  },
  {
   "cell_type": "code",
   "execution_count": null,
   "metadata": {
    "collapsed": false,
    "run_control": {
     "frozen": false,
     "read_only": false
    }
   },
   "outputs": [],
   "source": [
    "DATA_PATH=\"../../data/mdanalysis/synthetic/traj/\"\n",
    "files=[os.path.join(DATA_PATH, i) for i in os.listdir(DATA_PATH)]\n",
    "\n",
    "files=[\"../../data/mdanalysis/synthetic/traj/10000.np_txt\"]\n",
    "\n",
    "for file_name in files:\n",
    "    print \"Process: \" + file_name\n",
    "    coord = np.loadtxt(file_name, dtype='float32')\n",
    "    start = time.time()\n",
    "    result=compute_distance_tf_batch(coord, batch_size=4000)\n",
    "    print result[0]"
   ]
  },
  {
   "cell_type": "code",
   "execution_count": null,
   "metadata": {
    "ExecuteTime": {
     "end_time": "2016-05-13T22:09:20.529588",
     "start_time": "2016-05-13T22:09:20.411065"
    },
    "collapsed": false,
    "run_control": {
     "frozen": false,
     "read_only": false
    }
   },
   "outputs": [],
   "source": [
    "!ls \"../../data/mdanalysis/synthetic/traj/\""
   ]
  },
  {
   "cell_type": "code",
   "execution_count": null,
   "metadata": {
    "collapsed": true,
    "run_control": {
     "frozen": false,
     "read_only": false
    }
   },
   "outputs": [],
   "source": []
  },
  {
   "cell_type": "markdown",
   "metadata": {},
   "source": [
    "# Theano"
   ]
  },
  {
   "cell_type": "code",
   "execution_count": null,
   "metadata": {
    "collapsed": false,
    "run_control": {
     "frozen": false,
     "read_only": false
    }
   },
   "outputs": [],
   "source": [
    "import theano\n",
    "import theano.tensor as T\n",
    "from theano import shared\n",
    "\n",
    "tx=shared(x)\n",
    "diff=tx-tx\n",
    "diff_squared=diff**2\n",
    "\n",
    "diff_squared.eval()"
   ]
  }
 ],
 "metadata": {
  "kernelspec": {
   "display_name": "Python 2",
   "language": "python",
   "name": "python2"
  },
  "language_info": {
   "codemirror_mode": {
    "name": "ipython",
    "version": 2
   },
   "file_extension": ".py",
   "mimetype": "text/x-python",
   "name": "python",
   "nbconvert_exporter": "python",
   "pygments_lexer": "ipython2",
   "version": "2.7.11"
  },
  "toc": {
   "toc_cell": false,
   "toc_number_sections": true,
   "toc_threshold": 6,
   "toc_window_display": false
  },
  "toc_position": {
   "height": "590px",
   "left": "1021.97px",
   "right": "20px",
   "top": "120px",
   "width": "258px"
  }
 },
 "nbformat": 4,
 "nbformat_minor": 0
}
