{
 "cells": [
  {
   "cell_type": "markdown",
   "metadata": {},
   "source": [
    "# Parquet Tests"
   ]
  },
  {
   "cell_type": "code",
   "execution_count": 26,
   "metadata": {
    "collapsed": false
   },
   "outputs": [
    {
     "name": "stdout",
     "output_type": "stream",
     "text": [
      "Loaded Spark: 1.3.1\n"
     ]
    }
   ],
   "source": [
    "import os, sys\n",
    "os.environ['SPARK_HOME']=\"/usr/local/Cellar/apache-spark/1.3.1/\"\n",
    "sys.path.append( os.path.join(os.environ['SPARK_HOME'], 'libexec/python') )\n",
    "sys.path.append( os.path.join(os.environ['SPARK_HOME'], 'bin') )\n",
    "sys.path.append( os.path.join(os.environ['SPARK_HOME'], 'libexec/python/lib/py4j-0.8.2.1-src.zip') )\n",
    "\n",
    "from pyspark import SparkContext, SparkConf, Accumulator, AccumulatorParam\n",
    "from pyspark.sql import SQLContext\n",
    "from pyspark.sql.types import *\n",
    "from pyspark.mllib.linalg import Vector\n",
    "\n",
    "try:\n",
    "    sc\n",
    "except NameError:\n",
    "    sc = SparkContext(\"local[1]\")\n",
    "    sqlCtx=SQLContext(sc)\n",
    "\n",
    "print \"Loaded Spark: %s\"%(sc.version)"
   ]
  },
  {
   "cell_type": "code",
   "execution_count": 28,
   "metadata": {
    "collapsed": false
   },
   "outputs": [
    {
     "data": {
      "text/plain": [
       "u'local[1]'"
      ]
     },
     "execution_count": 28,
     "metadata": {},
     "output_type": "execute_result"
    }
   ],
   "source": [
    "sc.master"
   ]
  },
  {
   "cell_type": "code",
   "execution_count": 10,
   "metadata": {
    "collapsed": true
   },
   "outputs": [],
   "source": [
    "DATA_DIR=\"../data/mdanalysis/\"\n",
    "FILE=os.path.join(DATA_DIR,\"small/graph_edges_95_215.csv\")\n",
    "data = sc.textFile(FILE)"
   ]
  },
  {
   "cell_type": "code",
   "execution_count": 7,
   "metadata": {
    "collapsed": false
   },
   "outputs": [],
   "source": [
    "edges = data.map(lambda l: l.split(\",\")).map(lambda p: (int(p[0]), int(p[1])))\n",
    "schemaString = \"source destination\"\n",
    "fields = [StructField(field_name, IntegerType(), True) for field_name in schemaString.split()]\n",
    "schema = StructType(fields)\n",
    "\n",
    "df_edges = sqlCtx.createDataFrame(edges, schema)"
   ]
  },
  {
   "cell_type": "code",
   "execution_count": 8,
   "metadata": {
    "collapsed": false
   },
   "outputs": [
    {
     "name": "stdout",
     "output_type": "stream",
     "text": [
      "source destination\n",
      "0      0          \n",
      "0      67         \n",
      "0      14         \n",
      "1      1          \n",
      "1      41         \n",
      "2      2          \n",
      "2      34         \n",
      "2      13         \n",
      "2      62         \n",
      "3      59         \n",
      "3      3          \n",
      "3      94         \n",
      "3      39         \n",
      "4      68         \n",
      "4      33         \n",
      "4      27         \n",
      "4      4          \n",
      "4      94         \n",
      "5      37         \n",
      "5      61         \n"
     ]
    }
   ],
   "source": [
    "df_edges.show()"
   ]
  },
  {
   "cell_type": "code",
   "execution_count": 23,
   "metadata": {
    "collapsed": false
   },
   "outputs": [
    {
     "name": "stdout",
     "output_type": "stream",
     "text": [
      "Save dataframe to: ../data/mdanalysis/small/graph_edges_95_215.parquet\n"
     ]
    }
   ],
   "source": [
    "filename=FILE\n",
    "filename_parquet = os.path.splitext(os.path.basename(filename))[0] + \".parquet\"\n",
    "fq_filename_parquet=os.path.join(os.path.dirname (filename), filename_parquet)\n",
    "print(\"Save dataframe to: \" + fq_filename_parquet)\n",
    "df_edges.saveAsParquetFile(fq_filename_parquet)"
   ]
  },
  {
   "cell_type": "code",
   "execution_count": null,
   "metadata": {
    "collapsed": true
   },
   "outputs": [],
   "source": []
  }
 ],
 "metadata": {
  "kernelspec": {
   "display_name": "Python 2",
   "language": "python",
   "name": "python2"
  },
  "language_info": {
   "codemirror_mode": {
    "name": "ipython",
    "version": 2
   },
   "file_extension": ".py",
   "mimetype": "text/x-python",
   "name": "python",
   "nbconvert_exporter": "python",
   "pygments_lexer": "ipython2",
   "version": "2.7.11"
  }
 },
 "nbformat": 4,
 "nbformat_minor": 0
}
