{
 "cells": [
  {
   "cell_type": "markdown",
   "metadata": {},
   "source": [
    "# RADICAL-Pilot Tutorial\n",
    "\n",
    "Utilize the examples below to familiarize yourself with RADICAL-Pilot.\n",
    "\n",
    "We will:\n",
    "* Modify settings (environment variables) if needed\n",
    "* Modify the example to print out the hostname of the machine that runs the Pilot\n",
    "\n",
    "\n",
    "**Please make sure that you always close the session before terminating the notebook using `session.close()`**\n",
    "\n",
    "## 1 RADICAL-Pilot Setup\n",
    "\n",
    "Documentation: http://radicalpilot.readthedocs.org/en/latest/machconf.html#preconfigured-resources\n",
    "\n",
    "First, we will import the necessary dependencies and define some helper functions."
   ]
  },
  {
   "cell_type": "code",
   "execution_count": 2,
   "metadata": {
    "collapsed": false
   },
   "outputs": [],
   "source": [
    "%matplotlib inline\n",
    "import os, sys\n",
    "import commands\n",
    "import radical.pilot as rp\n",
    "import random\n",
    "import pandas as pd\n",
    "import ast\n",
    "import seaborn as sns\n",
    "\n",
    "def print_details(detail_object):\n",
    "    if type(detail_object)==str:\n",
    "        detail_object = ast.literal_eval(detail_object)\n",
    "    for i in detail_object:\n",
    "        detail_object[i]=str(detail_object[i])\n",
    "    return pd.DataFrame(detail_object.values(), \n",
    "             index=detail_object.keys(), \n",
    "             columns=[\"Value\"])\n",
    "\n",
    "os.environ[\"RADICAL_PILOT_VERBOSE\"]=\"ERROR\"\n",
    "os.environ[\"RADICAL_SAGA_PTY_VERBOSE\"]=\"DEBUG\" \n",
    "#os.environ[\"RADICAL_PILOT_DBURL\"]=\"mongodb://mongo.radical-cybertools.org:24242/sc15-test000\"\n",
    "os.environ[\"RADICAL_PILOT_DBURL\"]=\"mongodb://localhost:27017/sc15-test000\""
   ]
  },
  {
   "cell_type": "markdown",
   "metadata": {},
   "source": [
    "## 2. Local Pilot Example\n",
    "\n",
    "This example shows how to execute a task using a Pilot-Job running on the local machine. In this case, the Pilot-Job is started using **ssh** on the edge node machine of the Hadoop cluster (which runs Jupyterhub - the iPython notebook server).\n",
    "\n",
    "### 2.1 Create a new Session and Pilot-Manager. "
   ]
  },
  {
   "cell_type": "code",
   "execution_count": 3,
   "metadata": {
    "collapsed": false
   },
   "outputs": [
    {
     "name": "stdout",
     "output_type": "stream",
     "text": [
      "Session id: rp.session.LW10619037.q224516.016894.0000 Pilot Manager: {'uid': 'pmgr.0000'}\n"
     ]
    }
   ],
   "source": [
    "session = rp.Session()\n",
    "pmgr = rp.PilotManager(session=session)\n",
    "umgr = rp.UnitManager (session=session,\n",
    "                       scheduler=rp.SCHED_ROUND_ROBIN)\n",
    "print \"Session id: %s Pilot Manager: %s\" % (session.uid, str(pmgr.as_dict()))"
   ]
  },
  {
   "cell_type": "code",
   "execution_count": 4,
   "metadata": {
    "collapsed": false
   },
   "outputs": [
    {
     "data": {
      "text/html": [
       "<div>\n",
       "<table border=\"1\" class=\"dataframe\">\n",
       "  <thead>\n",
       "    <tr style=\"text-align: right;\">\n",
       "      <th></th>\n",
       "      <th>Value</th>\n",
       "    </tr>\n",
       "  </thead>\n",
       "  <tbody>\n",
       "    <tr>\n",
       "      <th>uid</th>\n",
       "      <td>umgr.0000</td>\n",
       "    </tr>\n",
       "    <tr>\n",
       "      <th>scheduler</th>\n",
       "      <td>RoundRobinScheduler</td>\n",
       "    </tr>\n",
       "    <tr>\n",
       "      <th>scheduler_details</th>\n",
       "      <td>NO SCHEDULER DETAILS (Not Implemented)</td>\n",
       "    </tr>\n",
       "  </tbody>\n",
       "</table>\n",
       "</div>"
      ],
      "text/plain": [
       "                                                    Value\n",
       "uid                                             umgr.0000\n",
       "scheduler                             RoundRobinScheduler\n",
       "scheduler_details  NO SCHEDULER DETAILS (Not Implemented)"
      ]
     },
     "execution_count": 4,
     "metadata": {},
     "output_type": "execute_result"
    }
   ],
   "source": [
    "print_details(umgr.as_dict())"
   ]
  },
  {
   "cell_type": "markdown",
   "metadata": {},
   "source": [
    "### 2.2 Submit Pilot and add to Unit Manager"
   ]
  },
  {
   "cell_type": "code",
   "execution_count": 5,
   "metadata": {
    "collapsed": false
   },
   "outputs": [
    {
     "name": "stderr",
     "output_type": "stream",
     "text": [
      "2016-04-03 09:38:59,424: radical.saga.pty    : MainProcess                     : MainThread     : INFO    : python.interpreter   version: 2.7.11 |Anaconda 2.5.0 (x86_64)| (default, Dec 6 2015, 18:57:58) [GCC 4.2.1 (Apple Inc. build 5577)]\n",
      "2016-04-03 09:38:59,424: radical.saga.pty    : MainProcess                     : MainThread     : INFO    :                      pid: 31796\n",
      "2016-04-03 09:38:59,424: radical.saga.pty    : MainProcess                     : MainThread     : INFO    :                      tid: MainThread\n",
      "2016-04-03 09:38:59,424: radical.saga.pty    : MainProcess                     : MainThread     : DEBUG   : PTYShell init <saga.utils.pty_shell.PTYShell object at 0x116bfdcd0>\n",
      "2016-04-03 09:38:59,425: radical.saga.pty    : MainProcess                     : MainThread     : INFO    : PTY prompt pattern: [\\$#%>\\]]\\s*$\n",
      "2016-04-03 09:38:59,426: radical.saga.pty    : MainProcess                     : MainThread     : INFO    : ssh copy  mode set to 'sftp'\n",
      "2016-04-03 09:38:59,426: radical.saga.pty    : MainProcess                     : MainThread     : INFO    : ssh share mode set to 'auto'\n",
      "2016-04-03 09:38:59,426: radical.saga.pty    : MainProcess                     : MainThread     : INFO    : ssh timeout    set to '10.0'\n",
      "2016-04-03 09:38:59,426: radical.saga.pty    : MainProcess                     : MainThread     : DEBUG   : open master pty for [sh] [localhost] q224516: /usr/bin/env TERM=vt100  \"/bin/bash\"  -i'\n",
      "2016-04-03 09:38:59,426: radical.saga.pty    : MainProcess                     : MainThread     : DEBUG   : PTYProcess init <saga.utils.pty_process.PTYProcess object at 0x1169c5690>\n",
      "2016-04-03 09:38:59,427: radical.saga.pty    : MainProcess                     : MainThread     : INFO    : running: /usr/bin/env TERM=vt100 /bin/bash -i\n",
      "2016-04-03 09:38:59,429: radical.saga.pty    : MainProcess                     : MainThread     : DEBUG   : write: [   64] [   33] ( export PS1='$' ; set prompt='$'\\n)\n",
      "2016-04-03 09:38:59,465: radical.saga.pty    : MainProcess                     : MainThread     : DEBUG   : read : [   64] [   10] (bash-3.2$ )\n",
      "2016-04-03 09:38:59,465: radical.saga.pty    : MainProcess                     : MainThread     : DEBUG   : got initial shell prompt (6) (bash-3.2$ )\n",
      "2016-04-03 09:38:59,465: radical.saga.pty    : MainProcess                     : MainThread     : DEBUG   : Got initial shell prompt (6) (bash-3.2$ )\n",
      "2016-04-03 09:38:59,466: radical.saga.pty    : MainProcess                     : MainThread     : DEBUG   : PTYProcess init <saga.utils.pty_process.PTYProcess object at 0x116bfdf50>\n",
      "2016-04-03 09:38:59,466: radical.saga.pty    : MainProcess                     : MainThread     : INFO    : running: /usr/bin/env TERM=vt100 /bin/bash -i\n",
      "2016-04-03 09:38:59,468: radical.saga.pty    : MainProcess                     : MainThread     : DEBUG   : write: [   63] [   33] ( export PS1='$' ; set prompt='$'\\n)\n",
      "2016-04-03 09:38:59,500: radical.saga.pty    : MainProcess                     : MainThread     : DEBUG   : read : [   63] [   10] (bash-3.2$ )\n",
      "2016-04-03 09:38:59,503: radical.saga.pty    : MainProcess                     : MainThread     : DEBUG   : got initial shell prompt (6) (bash-3.2$ )\n",
      "2016-04-03 09:38:59,503: radical.saga.pty    : MainProcess                     : MainThread     : DEBUG   : Got initial shell prompt (6) (bash-3.2$ )\n",
      "2016-04-03 09:38:59,503: radical.saga.pty    : MainProcess                     : MainThread     : DEBUG   : running command shell:         exec /bin/sh -i\n",
      "2016-04-03 09:38:59,503: radical.saga.pty    : MainProcess                     : MainThread     : DEBUG   : write: [   63] [   47] ( stty -echo ; unset HISTFILE ; exec /bin/sh -i\\n)\n",
      "2016-04-03 09:38:59,503: radical.saga.pty    : MainProcess                     : MainThread     : DEBUG   : read : [   63] [    1] ($)\n",
      "2016-04-03 09:38:59,503: radical.saga.pty    : MainProcess                     : MainThread     : DEBUG   : flush: [   63] [     ] (flush pty read cache)\n",
      "2016-04-03 09:38:59,512: radical.saga.pty    : MainProcess                     : MainThread     : DEBUG   : read : [   63] [    1] ($)\n",
      "2016-04-03 09:38:59,512: radical.saga.pty    : MainProcess                     : MainThread     : WARNING : flush: [   63] [    1] (discard data: '$')\n",
      "2016-04-03 09:38:59,614: radical.saga.pty    : MainProcess                     : MainThread     : DEBUG   : write: [   63] [  123] (unset PROMPT_COMMAND ; unset HISTFILE ; PS1='PROMPT-$?->'; PS2=''; export PS1 PS2 2>&1 >/dev/null;cd $HOME 2>&1 >/dev/null\\n)\n",
      "2016-04-03 09:38:59,615: radical.saga.pty    : MainProcess                     : MainThread     : DEBUG   : read : [   63] [   10] (PROMPT-0->)\n",
      "2016-04-03 09:38:59,615: radical.saga.pty    : MainProcess                     : MainThread     : DEBUG   : got new shell prompt\n",
      "2016-04-03 09:38:59,615: radical.saga.pty    : MainProcess                     : MainThread     : DEBUG   : flush: [   63] [     ] (flush pty read cache)\n",
      "2016-04-03 09:38:59,719: radical.saga.pty    : MainProcess                     : MainThread     : DEBUG   : flush: [   63] [     ] (flush pty read cache)\n",
      "2016-04-03 09:38:59,828: radical.saga.pty    : MainProcess                     : MainThread     : DEBUG   : run_sync: echo \"WORKDIR: $HOME\"\n",
      "2016-04-03 09:38:59,828: radical.saga.pty    : MainProcess                     : MainThread     : DEBUG   : write: [   63] [   22] (echo \"WORKDIR: $HOME\"\\n)\n",
      "2016-04-03 09:38:59,828: radical.saga.pty    : MainProcess                     : MainThread     : DEBUG   : read : [   63] [   25] (WORKDIR: /Users/q224516\\n)\n",
      "2016-04-03 09:38:59,828: radical.saga.pty    : MainProcess                     : MainThread     : DEBUG   : read : [   63] [   10] (PROMPT-0->)\n",
      "2016-04-03 09:38:59,872: radical.saga.pty    : MainProcess                     : MainThread     : DEBUG   : PTYShell del  <saga.utils.pty_shell.PTYShell object at 0x116bfdcd0>\n",
      "2016-04-03 09:38:59,974: radical.saga.pty    : MainProcess                     : MainThread     : DEBUG   : PTYProcess del  <saga.utils.pty_process.PTYProcess object at 0x116bfdf50>\n",
      "2016-04-03 09:39:00,302: radical.saga.pty    : MainProcess                     : PilotLauncherWorker-1: DEBUG   : PTYProcess init <saga.utils.pty_process.PTYProcess object at 0x1169d1f10>\n",
      "2016-04-03 09:39:00,302: radical.saga.pty    : MainProcess                     : PilotLauncherWorker-1: INFO    : running: /usr/bin/env TERM=vt100 /bin/bash -i\n",
      "2016-04-03 09:39:00,304: radical.saga.pty    : MainProcess                     : PilotLauncherWorker-1: DEBUG   : write: [   66] [   33] ( export PS1='$' ; set prompt='$'\\n)\n",
      "2016-04-03 09:39:00,339: radical.saga.pty    : MainProcess                     : PilotLauncherWorker-1: DEBUG   : read : [   66] [   10] (bash-3.2$ )\n",
      "2016-04-03 09:39:00,339: radical.saga.pty    : MainProcess                     : PilotLauncherWorker-1: DEBUG   : got initial shell prompt (6) (bash-3.2$ )\n",
      "2016-04-03 09:39:00,339: radical.saga.pty    : MainProcess                     : PilotLauncherWorker-1: DEBUG   : Got initial shell prompt (6) (bash-3.2$ )\n",
      "2016-04-03 09:39:00,340: radical.saga.pty    : MainProcess                     : PilotLauncherWorker-1: DEBUG   : write: [   66] [   47] ( stty -echo ; unset HISTFILE ; exec /bin/sh -i\\n)\n",
      "2016-04-03 09:39:00,340: radical.saga.pty    : MainProcess                     : PilotLauncherWorker-1: DEBUG   : read : [   66] [    1] ($)\n",
      "2016-04-03 09:39:00,340: radical.saga.pty    : MainProcess                     : PilotLauncherWorker-1: DEBUG   : flush: [   66] [     ] (flush pty read cache)\n",
      "2016-04-03 09:39:00,344: radical.saga.pty    : MainProcess                     : PilotLauncherWorker-1: DEBUG   : read : [   66] [    1] ($)\n",
      "2016-04-03 09:39:00,344: radical.saga.pty    : MainProcess                     : PilotLauncherWorker-1: WARNING : flush: [   66] [    1] (discard data: '$')\n",
      "2016-04-03 09:39:00,454: radical.saga.pty    : MainProcess                     : PilotLauncherWorker-1: DEBUG   : write: [   66] [  123] (unset PROMPT_COMMAND ; unset HISTFILE ; PS1='PROMPT-$?->'; PS2=''; export PS1 PS2 2>&1 >/dev/null;cd $HOME 2>&1 >/dev/null\\n)\n",
      "2016-04-03 09:39:00,456: radical.saga.pty    : MainProcess                     : PilotLauncherWorker-1: DEBUG   : read : [   66] [   10] (PROMPT-0->)\n",
      "2016-04-03 09:39:00,456: radical.saga.pty    : MainProcess                     : PilotLauncherWorker-1: DEBUG   : flush: [   66] [     ] (flush pty read cache)\n",
      "2016-04-03 09:39:00,562: radical.saga.pty    : MainProcess                     : PilotLauncherWorker-1: DEBUG   : flush: [   66] [     ] (flush pty read cache)\n",
      "2016-04-03 09:39:00,668: radical.saga.pty    : MainProcess                     : PilotLauncherWorker-1: DEBUG   : write: [   66] [  224] (mkdir -p / && cd / &&  mkdir -p '/Users/q224516/radical.pilot.sandbox/rp.session.LW10619037.q224516.016894.0000-pilot.0000/' ;  cd '/Users/q224516/radical.pilot.sandbox/rp.session.LW10619037.q224516.016894.0000-pilot.0000/'\\n)\n",
      "2016-04-03 09:39:00,672: radical.saga.pty    : MainProcess                     : PilotLauncherWorker-1: DEBUG   : read : [   66] [   10] (PROMPT-0->)\n",
      "2016-04-03 09:39:00,674: radical.saga.pty    : MainProcess                     : PilotLauncherWorker-1: DEBUG   : PTYProcess init <saga.utils.pty_process.PTYProcess object at 0x1163a8250>\n",
      "2016-04-03 09:39:00,674: radical.saga.pty    : MainProcess                     : PilotLauncherWorker-1: INFO    : running: /usr/bin/env TERM=vt100 /bin/bash -i\n",
      "2016-04-03 09:39:00,676: radical.saga.pty    : MainProcess                     : PilotLauncherWorker-1: DEBUG   : write: [   67] [   33] ( export PS1='$' ; set prompt='$'\\n)\n",
      "2016-04-03 09:39:00,711: radical.saga.pty    : MainProcess                     : PilotLauncherWorker-1: DEBUG   : read : [   67] [   10] (bash-3.2$ )\n",
      "2016-04-03 09:39:00,711: radical.saga.pty    : MainProcess                     : PilotLauncherWorker-1: DEBUG   : got initial shell prompt (6) (bash-3.2$ )\n",
      "2016-04-03 09:39:00,711: radical.saga.pty    : MainProcess                     : PilotLauncherWorker-1: DEBUG   : Got initial shell prompt (6) (bash-3.2$ )\n",
      "2016-04-03 09:39:00,712: radical.saga.pty    : MainProcess                     : PilotLauncherWorker-1: DEBUG   : write: [   67] [   47] ( stty -echo ; unset HISTFILE ; exec /bin/sh -i\\n)\n",
      "2016-04-03 09:39:00,712: radical.saga.pty    : MainProcess                     : PilotLauncherWorker-1: DEBUG   : read : [   67] [    1] ($)\n",
      "2016-04-03 09:39:00,712: radical.saga.pty    : MainProcess                     : PilotLauncherWorker-1: DEBUG   : flush: [   67] [     ] (flush pty read cache)\n",
      "2016-04-03 09:39:00,716: radical.saga.pty    : MainProcess                     : PilotLauncherWorker-1: DEBUG   : read : [   67] [    1] ($)\n",
      "2016-04-03 09:39:00,716: radical.saga.pty    : MainProcess                     : PilotLauncherWorker-1: WARNING : flush: [   67] [    1] (discard data: '$')\n",
      "2016-04-03 09:39:00,828: radical.saga.pty    : MainProcess                     : PilotLauncherWorker-1: DEBUG   : write: [   67] [  123] (unset PROMPT_COMMAND ; unset HISTFILE ; PS1='PROMPT-$?->'; PS2=''; export PS1 PS2 2>&1 >/dev/null;cd $HOME 2>&1 >/dev/null\\n)\n",
      "2016-04-03 09:39:00,830: radical.saga.pty    : MainProcess                     : PilotLauncherWorker-1: DEBUG   : read : [   67] [   10] (PROMPT-0->)\n",
      "2016-04-03 09:39:00,830: radical.saga.pty    : MainProcess                     : PilotLauncherWorker-1: DEBUG   : flush: [   67] [     ] (flush pty read cache)\n",
      "2016-04-03 09:39:00,938: radical.saga.pty    : MainProcess                     : PilotLauncherWorker-1: DEBUG   : flush: [   66] [     ] (flush pty read cache)\n",
      "2016-04-03 09:39:01,047: radical.saga.pty    : MainProcess                     : PilotLauncherWorker-1: DEBUG   : write: [   66] [  305] (cd /Users/q224516/radical.pilot.sandbox/rp.session.LW10619037.q224516.016894.0000-pilot.0000/ &&  cp  '/Users/q224516/anaconda/lib/python2.7/site-packages/radical/pilot/bootstrapper/bootstrap_1.sh' '/Users/q224516/radical.pilot.sandbox/rp.session.LW10619037.q224516.016894.0000-pilot.0000/bootstrap_1.sh'\\n)\n",
      "2016-04-03 09:39:01,051: radical.saga.pty    : MainProcess                     : PilotLauncherWorker-1: DEBUG   : read : [   66] [   10] (PROMPT-0->)\n",
      "2016-04-03 09:39:01,052: radical.saga.pty    : MainProcess                     : PilotLauncherWorker-1: DEBUG   : flush: [   66] [     ] (flush pty read cache)\n",
      "2016-04-03 09:39:01,164: radical.saga.pty    : MainProcess                     : PilotLauncherWorker-1: DEBUG   : write: [   66] [  330] (cd /Users/q224516/radical.pilot.sandbox/rp.session.LW10619037.q224516.016894.0000-pilot.0000/ &&  cp  '/Users/q224516/anaconda/lib/python2.7/site-packages/radical/utils/radical.utils-v0.40-master.tar.gz' '/Users/q224516/radical.pilot.sandbox/rp.session.LW10619037.q224516.016894.0000-pilot.0000/radical.utils-v0.40-master.tar.gz'\\n)\n",
      "2016-04-03 09:39:01,167: radical.saga.pty    : MainProcess                     : PilotLauncherWorker-1: DEBUG   : read : [   66] [   10] (PROMPT-0->)\n",
      "2016-04-03 09:39:01,169: radical.saga.pty    : MainProcess                     : PilotLauncherWorker-1: DEBUG   : flush: [   66] [     ] (flush pty read cache)\n",
      "2016-04-03 09:39:01,276: radical.saga.pty    : MainProcess                     : PilotLauncherWorker-1: DEBUG   : write: [   66] [  305] (cd /Users/q224516/radical.pilot.sandbox/rp.session.LW10619037.q224516.016894.0000-pilot.0000/ &&  cp  '/Users/q224516/anaconda/lib/python2.7/site-packages/saga/saga-python-0.40.1.tar.gz' '/Users/q224516/radical.pilot.sandbox/rp.session.LW10619037.q224516.016894.0000-pilot.0000/saga-python-0.40.1.tar.gz'\\n)\n",
      "2016-04-03 09:39:01,280: radical.saga.pty    : MainProcess                     : PilotLauncherWorker-1: DEBUG   : read : [   66] [   10] (PROMPT-0->)\n",
      "2016-04-03 09:39:01,281: radical.saga.pty    : MainProcess                     : PilotLauncherWorker-1: DEBUG   : flush: [   66] [     ] (flush pty read cache)\n",
      "2016-04-03 09:39:01,389: radical.saga.pty    : MainProcess                     : PilotLauncherWorker-1: DEBUG   : write: [   66] [  416] (cd /Users/q224516/radical.pilot.sandbox/rp.session.LW10619037.q224516.016894.0000-pilot.0000/ &&  cp  '/Users/q224516/anaconda/lib/python2.7/site-packages/radical/pilot/radical.pilot-v0.40.1-18-g737f634-feature-resource-cfg-to-agent-spark.tar.gz' '/Users/q224516/radical.pilot.sandbox/rp.session.LW10619037.q224516.016894.0000-pilot.0000/radical.pilot-v0.40.1-18-g737f634-feature-resource-cfg-to-agent-spark.tar.gz'\\n)\n",
      "2016-04-03 09:39:01,393: radical.saga.pty    : MainProcess                     : PilotLauncherWorker-1: DEBUG   : read : [   66] [   10] (PROMPT-0->)\n",
      "2016-04-03 09:39:01,397: radical.saga.pty    : MainProcess                     : PilotLauncherWorker-1: DEBUG   : flush: [   66] [     ] (flush pty read cache)\n",
      "2016-04-03 09:39:01,501: radical.saga.pty    : MainProcess                     : PilotLauncherWorker-1: DEBUG   : write: [   66] [  292] (cd /Users/q224516/radical.pilot.sandbox/rp.session.LW10619037.q224516.016894.0000-pilot.0000/ &&  cp  '/var/folders/f1/13wgdp7n01sg06llx4hcsv9nr44gjx/T/rp_agent_cfg_dirZHI37p/agent_0.cfg' '/Users/q224516/radical.pilot.sandbox/rp.session.LW10619037.q224516.016894.0000-pilot.0000/agent_0.cfg'\\n)\n",
      "2016-04-03 09:39:01,504: radical.saga.pty    : MainProcess                     : PilotLauncherWorker-1: DEBUG   : read : [   66] [   10] (PROMPT-0->)\n",
      "2016-04-03 09:39:01,607: radical.saga.pty    : MainProcess                     : PilotLauncherWorker-1: DEBUG   : PTYProcess del  <saga.utils.pty_process.PTYProcess object at 0x1163a8250>\n",
      "2016-04-03 09:39:01,651: radical.saga.pty    : MainProcess                     : PilotLauncherWorker-1: DEBUG   : PTYProcess init <saga.utils.pty_process.PTYProcess object at 0x116961f10>\n",
      "2016-04-03 09:39:01,652: radical.saga.pty    : MainProcess                     : PilotLauncherWorker-1: INFO    : running: /usr/bin/env TERM=vt100 /bin/bash -i\n",
      "2016-04-03 09:39:01,654: radical.saga.pty    : MainProcess                     : PilotLauncherWorker-1: DEBUG   : write: [   67] [   33] ( export PS1='$' ; set prompt='$'\\n)\n",
      "2016-04-03 09:39:01,688: radical.saga.pty    : MainProcess                     : PilotLauncherWorker-1: DEBUG   : read : [   67] [   10] (bash-3.2$ )\n",
      "2016-04-03 09:39:01,688: radical.saga.pty    : MainProcess                     : PilotLauncherWorker-1: DEBUG   : got initial shell prompt (6) (bash-3.2$ )\n",
      "2016-04-03 09:39:01,689: radical.saga.pty    : MainProcess                     : PilotLauncherWorker-1: DEBUG   : Got initial shell prompt (6) (bash-3.2$ )\n",
      "2016-04-03 09:39:01,689: radical.saga.pty    : MainProcess                     : PilotLauncherWorker-1: DEBUG   : write: [   67] [   47] ( stty -echo ; unset HISTFILE ; exec /bin/sh -i\\n)\n",
      "2016-04-03 09:39:01,689: radical.saga.pty    : MainProcess                     : PilotLauncherWorker-1: DEBUG   : read : [   67] [    1] ($)\n",
      "2016-04-03 09:39:01,689: radical.saga.pty    : MainProcess                     : PilotLauncherWorker-1: DEBUG   : flush: [   67] [     ] (flush pty read cache)\n",
      "2016-04-03 09:39:01,694: radical.saga.pty    : MainProcess                     : PilotLauncherWorker-1: DEBUG   : read : [   67] [    1] ($)\n",
      "2016-04-03 09:39:01,694: radical.saga.pty    : MainProcess                     : PilotLauncherWorker-1: WARNING : flush: [   67] [    1] (discard data: '$')\n",
      "2016-04-03 09:39:01,802: radical.saga.pty    : MainProcess                     : PilotLauncherWorker-1: DEBUG   : write: [   67] [  123] (unset PROMPT_COMMAND ; unset HISTFILE ; PS1='PROMPT-$?->'; PS2=''; export PS1 PS2 2>&1 >/dev/null;cd $HOME 2>&1 >/dev/null\\n)\n",
      "2016-04-03 09:39:01,803: radical.saga.pty    : MainProcess                     : PilotLauncherWorker-1: DEBUG   : read : [   67] [   10] (PROMPT-0->)\n",
      "2016-04-03 09:39:01,804: radical.saga.pty    : MainProcess                     : PilotLauncherWorker-1: DEBUG   : flush: [   67] [     ] (flush pty read cache)\n",
      "2016-04-03 09:39:01,914: radical.saga.pty    : MainProcess                     : PilotLauncherWorker-1: DEBUG   : PTYProcess init <saga.utils.pty_process.PTYProcess object at 0x116961fd0>\n",
      "2016-04-03 09:39:01,915: radical.saga.pty    : MainProcess                     : PilotLauncherWorker-1: INFO    : running: /usr/bin/env TERM=vt100 /bin/bash -i\n",
      "2016-04-03 09:39:01,917: radical.saga.pty    : MainProcess                     : PilotLauncherWorker-1: DEBUG   : write: [   68] [   33] ( export PS1='$' ; set prompt='$'\\n)\n",
      "2016-04-03 09:39:01,952: radical.saga.pty    : MainProcess                     : PilotLauncherWorker-1: DEBUG   : read : [   68] [   10] (bash-3.2$ )\n",
      "2016-04-03 09:39:01,953: radical.saga.pty    : MainProcess                     : PilotLauncherWorker-1: DEBUG   : got initial shell prompt (6) (bash-3.2$ )\n",
      "2016-04-03 09:39:01,953: radical.saga.pty    : MainProcess                     : PilotLauncherWorker-1: DEBUG   : Got initial shell prompt (6) (bash-3.2$ )\n",
      "2016-04-03 09:39:01,953: radical.saga.pty    : MainProcess                     : PilotLauncherWorker-1: DEBUG   : write: [   68] [   47] ( stty -echo ; unset HISTFILE ; exec /bin/sh -i\\n)\n",
      "2016-04-03 09:39:01,953: radical.saga.pty    : MainProcess                     : PilotLauncherWorker-1: DEBUG   : read : [   68] [    1] ($)\n",
      "2016-04-03 09:39:01,953: radical.saga.pty    : MainProcess                     : PilotLauncherWorker-1: DEBUG   : flush: [   68] [     ] (flush pty read cache)\n",
      "2016-04-03 09:39:01,958: radical.saga.pty    : MainProcess                     : PilotLauncherWorker-1: DEBUG   : read : [   68] [    1] ($)\n",
      "2016-04-03 09:39:01,958: radical.saga.pty    : MainProcess                     : PilotLauncherWorker-1: WARNING : flush: [   68] [    1] (discard data: '$')\n",
      "2016-04-03 09:39:02,065: radical.saga.pty    : MainProcess                     : PilotLauncherWorker-1: DEBUG   : write: [   68] [  123] (unset PROMPT_COMMAND ; unset HISTFILE ; PS1='PROMPT-$?->'; PS2=''; export PS1 PS2 2>&1 >/dev/null;cd $HOME 2>&1 >/dev/null\\n)\n",
      "2016-04-03 09:39:02,067: radical.saga.pty    : MainProcess                     : PilotLauncherWorker-1: DEBUG   : read : [   68] [   10] (PROMPT-0->)\n",
      "2016-04-03 09:39:02,067: radical.saga.pty    : MainProcess                     : PilotLauncherWorker-1: DEBUG   : flush: [   68] [     ] (flush pty read cache)\n",
      "2016-04-03 09:39:02,174: radical.saga.pty    : MainProcess                     : PilotLauncherWorker-1: DEBUG   : flush: [   67] [     ] (flush pty read cache)\n",
      "2016-04-03 09:39:02,279: radical.saga.pty    : MainProcess                     : PilotLauncherWorker-1: DEBUG   : write: [   67] [   36] (mkdir -p ~/.saga/adaptors/shell_job\\n)\n",
      "2016-04-03 09:39:02,282: radical.saga.pty    : MainProcess                     : PilotLauncherWorker-1: DEBUG   : read : [   67] [   10] (PROMPT-0->)\n",
      "2016-04-03 09:39:02,282: radical.saga.pty    : MainProcess                     : PilotLauncherWorker-1: DEBUG   : flush: [   67] [     ] (flush pty read cache)\n",
      "2016-04-03 09:39:02,389: radical.saga.pty    : MainProcess                     : PilotLauncherWorker-1: DEBUG   : write: [   67] [   44] (test -f .saga/adaptors/shell_job/wrapper.sh\\n)\n",
      "2016-04-03 09:39:02,390: radical.saga.pty    : MainProcess                     : PilotLauncherWorker-1: DEBUG   : read : [   67] [   10] (PROMPT-1->)\n",
      "2016-04-03 09:39:02,392: radical.saga.pty    : MainProcess                     : PilotLauncherWorker-1: DEBUG   : flush: [   67] [     ] (flush pty read cache)\n",
      "2016-04-03 09:39:02,499: radical.saga.pty    : MainProcess                     : PilotLauncherWorker-1: DEBUG   : PTYProcess init <saga.utils.pty_process.PTYProcess object at 0x1171cead0>\n",
      "2016-04-03 09:39:02,499: radical.saga.pty    : MainProcess                     : PilotLauncherWorker-1: INFO    : running: /usr/bin/env TERM=vt100 /bin/bash -i\n",
      "2016-04-03 09:39:02,502: radical.saga.pty    : MainProcess                     : PilotLauncherWorker-1: DEBUG   : write: [   69] [   33] ( export PS1='$' ; set prompt='$'\\n)\n",
      "2016-04-03 09:39:02,537: radical.saga.pty    : MainProcess                     : PilotLauncherWorker-1: DEBUG   : read : [   69] [   10] (bash-3.2$ )\n",
      "2016-04-03 09:39:02,538: radical.saga.pty    : MainProcess                     : PilotLauncherWorker-1: DEBUG   : got initial shell prompt (6) (bash-3.2$ )\n",
      "2016-04-03 09:39:02,538: radical.saga.pty    : MainProcess                     : PilotLauncherWorker-1: DEBUG   : Got initial shell prompt (6) (bash-3.2$ )\n",
      "2016-04-03 09:39:02,538: radical.saga.pty    : MainProcess                     : PilotLauncherWorker-1: DEBUG   : flush: [   69] [     ] (flush pty read cache)\n",
      "2016-04-03 09:39:02,538: radical.saga.pty    : MainProcess                     : PilotLauncherWorker-1: DEBUG   : read : [   69] [    1] ($)\n",
      "2016-04-03 09:39:02,538: radical.saga.pty    : MainProcess                     : PilotLauncherWorker-1: WARNING : flush: [   69] [    1] (discard data: '$')\n",
      "2016-04-03 09:39:02,640: radical.saga.pty    : MainProcess                     : PilotLauncherWorker-1: DEBUG   : flush: [   69] [     ] (flush pty read cache)\n",
      "2016-04-03 09:39:02,748: radical.saga.pty    : MainProcess                     : PilotLauncherWorker-1: DEBUG   : write: [   69] [  137] (cd ~ && \"/bin/cp\" -v  \"/var/folders/f1/13wgdp7n01sg06llx4hcsv9nr44gjx/T/rs_pty_staging_YUv6Hx.tmp\" \".saga/adaptors/shell_job/wrapper.sh\"\\n)\n",
      "2016-04-03 09:39:02,751: radical.saga.pty    : MainProcess                     : PilotLauncherWorker-1: DEBUG   : read : [   69] [  115] (/var/folders/f1/13wgdp7n01sg06llx4hcsv9nr44gjx/T/rs_pty_staging_YUv6Hx.tmp -> .saga/adaptors/shell_job/wrapper.sh\\n)\n",
      "2016-04-03 09:39:02,752: radical.saga.pty    : MainProcess                     : PilotLauncherWorker-1: DEBUG   : read : [   69] [    1] ($)\n",
      "2016-04-03 09:39:02,752: radical.saga.pty    : MainProcess                     : PilotLauncherWorker-1: DEBUG   : copy done: ['/var/folders/f1/13wgdp7n01sg06llx4hcsv9nr44gjx/T/rs_pty_staging_YUv6Hx.tmp', '$']\n",
      "2016-04-03 09:39:02,752: radical.saga.pty    : MainProcess                     : PilotLauncherWorker-1: DEBUG   : flush: [   67] [     ] (flush pty read cache)\n",
      "2016-04-03 09:39:02,856: radical.saga.pty    : MainProcess                     : PilotLauncherWorker-1: DEBUG   : write: [   67] [   46] (/bin/sh ~/.saga/adaptors/shell_job/wrapper.sh\\n)\n",
      "2016-04-03 09:39:02,874: radical.saga.pty    : MainProcess                     : PilotLauncherWorker-1: DEBUG   : read : [   67] [   12] (PID: 31916\\n)\n",
      "2016-04-03 09:39:02,910: radical.saga.pty    : MainProcess                     : PilotLauncherWorker-1: DEBUG   : read : [   67] [   12] (PROMPT-0->\\n)\n",
      "2016-04-03 09:39:02,910: radical.saga.pty    : MainProcess                     : PilotLauncherWorker-1: DEBUG   : flush: [   68] [     ] (flush pty read cache)\n",
      "2016-04-03 09:39:03,018: radical.saga.pty    : MainProcess                     : PilotLauncherWorker-1: DEBUG   : write: [   68] [   46] (/bin/sh ~/.saga/adaptors/shell_job/wrapper.sh\\n)\n",
      "2016-04-03 09:39:03,046: radical.saga.pty    : MainProcess                     : PilotLauncherWorker-1: DEBUG   : read : [   68] [   12] (PID: 31941\\n)\n",
      "2016-04-03 09:39:03,076: radical.saga.pty    : MainProcess                     : PilotLauncherWorker-1: DEBUG   : read : [   68] [   12] (PROMPT-0->\\n)\n",
      "2016-04-03 09:39:03,076: radical.saga.pty    : MainProcess                     : Thread-10      : DEBUG   : flush: [   68] [     ] (flush pty read cache)\n",
      "2016-04-03 09:39:03,076: radical.saga.pty    : MainProcess                     : Thread-10      : WARNING : flush: [   68] [    1] (discard data: '\n",
      "')\n",
      "2016-04-03 09:39:03,092: radical.saga.pty    : MainProcess                     : PilotLauncherWorker-1: DEBUG   : flush: [   67] [     ] (flush pty read cache)\n",
      "2016-04-03 09:39:03,092: radical.saga.pty    : MainProcess                     : PilotLauncherWorker-1: WARNING : flush: [   67] [    1] (discard data: '\n",
      "')\n",
      "2016-04-03 09:39:03,185: radical.saga.pty    : MainProcess                     : Thread-10      : DEBUG   : write: [   68] [    8] (MONITOR\\n)\n",
      "2016-04-03 09:39:03,198: radical.saga.pty    : MainProcess                     : PilotLauncherWorker-1: DEBUG   : write: [   67] [  592] (RUN true && mkdir -p /Users/q224516/radical.pilot.sandbox/rp.session.LW10619037.q224516.016894.0000-pilot.0000/ && cd /Users/q224516/radical.pilot.sandbox/rp.session.LW10619037.q224516.016894.0000-pilot.0000/ && ( /bin/bash -l bootstrap_1.sh  -d 'radical.utils-v0.40-master.tar.gz:saga-python-0.40.1.tar.gz:radical.pilot-v0.40.1-18-g737f634-feature-resource-cfg-to-agent-spark.tar.gz' -m 'create' -p 'pilot.0000' -r 'debug' -s 'rp.session.LW10619037.q224516.016894.0000' -v '/Users/q224516/radical.pilot.sandbox/ve_localhost' -b 'default' -a 'multicore' ) 1>bootstrap_1.out 2>bootstrap_1.err\\n)\n",
      "2016-04-03 09:39:03,214: radical.saga.pty    : MainProcess                     : Thread-10      : DEBUG   : read : [   68] [   19] (31969.0:RUNNING: \\n)\n",
      "2016-04-03 09:39:03,216: radical.saga.pty    : MainProcess                     : PilotLauncherWorker-1: DEBUG   : read : [   67] [   10] (RUNNING \\n)\n",
      "2016-04-03 09:39:03,217: radical.saga.pty    : MainProcess                     : PilotLauncherWorker-1: DEBUG   : read : [   67] [   13] (OK\\n31969.0\\n)\n",
      "2016-04-03 09:39:03,218: radical.saga.pty    : MainProcess                     : PilotLauncherWorker-1: DEBUG   : read : [   67] [   12] (PROMPT-0->\\n)\n",
      "2016-04-03 09:39:03,219: radical.saga.pty    : MainProcess                     : PilotLauncherWorker-1: DEBUG   : flush: [   67] [     ] (flush pty read cache)\n",
      "2016-04-03 09:39:03,219: radical.saga.pty    : MainProcess                     : PilotLauncherWorker-1: WARNING : flush: [   67] [    1] (discard data: '\n",
      "')\n",
      "2016-04-03 09:39:03,325: radical.saga.pty    : MainProcess                     : PilotLauncherWorker-1: DEBUG   : write: [   67] [   14] (STATS 31969.0\\n)\n",
      "2016-04-03 09:39:03,339: radical.saga.pty    : MainProcess                     : PilotLauncherWorker-1: DEBUG   : read : [   67] [    4] (OK\\n)\n",
      "2016-04-03 09:39:03,340: radical.saga.pty    : MainProcess                     : PilotLauncherWorker-1: DEBUG   : read : [   67] [  102] (STATE : RUNNING\\n\\nSTART  : 1459690743\\n\\nSTART_STDERR\\n\\nEND_STDERR\\n\\nSTART_STDOUT\\n\\nEND_STDOUT\\n\\n)\n",
      "2016-04-03 09:39:03,343: radical.saga.pty    : MainProcess                     : PilotLauncherWorker-1: DEBUG   : read : [   67] [   12] (PROMPT-0->\\n)\n",
      "2016-04-03 09:39:56,537: radical.saga.pty    : MainProcess                     : PilotLauncherWorker-1: DEBUG   : PTYProcess init <saga.utils.pty_process.PTYProcess object at 0x116972950>\n",
      "2016-04-03 09:39:56,538: radical.saga.pty    : MainProcess                     : PilotLauncherWorker-1: INFO    : running: /usr/bin/env TERM=vt100 /bin/bash -i\n",
      "2016-04-03 09:39:56,540: radical.saga.pty    : MainProcess                     : PilotLauncherWorker-1: DEBUG   : write: [   70] [   33] ( export PS1='$' ; set prompt='$'\\n)\n",
      "2016-04-03 09:39:56,582: radical.saga.pty    : MainProcess                     : PilotLauncherWorker-1: DEBUG   : read : [   70] [   10] (bash-3.2$ )\n",
      "2016-04-03 09:39:56,582: radical.saga.pty    : MainProcess                     : PilotLauncherWorker-1: DEBUG   : got initial shell prompt (6) (bash-3.2$ )\n",
      "2016-04-03 09:39:56,582: radical.saga.pty    : MainProcess                     : PilotLauncherWorker-1: DEBUG   : Got initial shell prompt (6) (bash-3.2$ )\n",
      "2016-04-03 09:39:56,583: radical.saga.pty    : MainProcess                     : PilotLauncherWorker-1: DEBUG   : write: [   70] [   47] ( stty -echo ; unset HISTFILE ; exec /bin/sh -i\\n)\n",
      "2016-04-03 09:39:56,583: radical.saga.pty    : MainProcess                     : PilotLauncherWorker-1: DEBUG   : read : [   70] [    1] ($)\n",
      "2016-04-03 09:39:56,583: radical.saga.pty    : MainProcess                     : PilotLauncherWorker-1: DEBUG   : flush: [   70] [     ] (flush pty read cache)\n",
      "2016-04-03 09:39:56,589: radical.saga.pty    : MainProcess                     : PilotLauncherWorker-1: DEBUG   : read : [   70] [    1] ($)\n",
      "2016-04-03 09:39:56,589: radical.saga.pty    : MainProcess                     : PilotLauncherWorker-1: WARNING : flush: [   70] [    1] (discard data: '$')\n",
      "2016-04-03 09:39:56,695: radical.saga.pty    : MainProcess                     : PilotLauncherWorker-1: DEBUG   : write: [   70] [  123] (unset PROMPT_COMMAND ; unset HISTFILE ; PS1='PROMPT-$?->'; PS2=''; export PS1 PS2 2>&1 >/dev/null;cd $HOME 2>&1 >/dev/null\\n)\n",
      "2016-04-03 09:39:56,697: radical.saga.pty    : MainProcess                     : PilotLauncherWorker-1: DEBUG   : read : [   70] [   10] (PROMPT-0->)\n",
      "2016-04-03 09:39:56,697: radical.saga.pty    : MainProcess                     : PilotLauncherWorker-1: DEBUG   : flush: [   70] [     ] (flush pty read cache)\n",
      "2016-04-03 09:39:56,810: radical.saga.pty    : MainProcess                     : PilotLauncherWorker-1: DEBUG   : PTYProcess init <saga.utils.pty_process.PTYProcess object at 0x116981090>\n",
      "2016-04-03 09:39:56,811: radical.saga.pty    : MainProcess                     : PilotLauncherWorker-1: INFO    : running: /usr/bin/env TERM=vt100 /bin/bash -i\n",
      "2016-04-03 09:39:56,814: radical.saga.pty    : MainProcess                     : PilotLauncherWorker-1: DEBUG   : write: [   71] [   33] ( export PS1='$' ; set prompt='$'\\n)\n",
      "2016-04-03 09:39:56,861: radical.saga.pty    : MainProcess                     : PilotLauncherWorker-1: DEBUG   : read : [   71] [   10] (bash-3.2$ )\n",
      "2016-04-03 09:39:56,862: radical.saga.pty    : MainProcess                     : PilotLauncherWorker-1: DEBUG   : got initial shell prompt (6) (bash-3.2$ )\n",
      "2016-04-03 09:39:56,862: radical.saga.pty    : MainProcess                     : PilotLauncherWorker-1: DEBUG   : Got initial shell prompt (6) (bash-3.2$ )\n",
      "2016-04-03 09:39:56,862: radical.saga.pty    : MainProcess                     : PilotLauncherWorker-1: DEBUG   : write: [   71] [   47] ( stty -echo ; unset HISTFILE ; exec /bin/sh -i\\n)\n",
      "2016-04-03 09:39:56,862: radical.saga.pty    : MainProcess                     : PilotLauncherWorker-1: DEBUG   : read : [   71] [    1] ($)\n",
      "2016-04-03 09:39:56,863: radical.saga.pty    : MainProcess                     : PilotLauncherWorker-1: DEBUG   : flush: [   71] [     ] (flush pty read cache)\n",
      "2016-04-03 09:39:56,870: radical.saga.pty    : MainProcess                     : PilotLauncherWorker-1: DEBUG   : read : [   71] [    1] ($)\n",
      "2016-04-03 09:39:56,870: radical.saga.pty    : MainProcess                     : PilotLauncherWorker-1: WARNING : flush: [   71] [    1] (discard data: '$')\n",
      "2016-04-03 09:39:56,977: radical.saga.pty    : MainProcess                     : PilotLauncherWorker-1: DEBUG   : write: [   71] [  123] (unset PROMPT_COMMAND ; unset HISTFILE ; PS1='PROMPT-$?->'; PS2=''; export PS1 PS2 2>&1 >/dev/null;cd $HOME 2>&1 >/dev/null\\n)\n",
      "2016-04-03 09:39:56,979: radical.saga.pty    : MainProcess                     : PilotLauncherWorker-1: DEBUG   : read : [   71] [   10] (PROMPT-0->)\n",
      "2016-04-03 09:39:56,979: radical.saga.pty    : MainProcess                     : PilotLauncherWorker-1: DEBUG   : flush: [   71] [     ] (flush pty read cache)\n",
      "2016-04-03 09:39:57,089: radical.saga.pty    : MainProcess                     : PilotLauncherWorker-1: DEBUG   : flush: [   70] [     ] (flush pty read cache)\n",
      "2016-04-03 09:39:57,198: radical.saga.pty    : MainProcess                     : PilotLauncherWorker-1: DEBUG   : write: [   70] [   36] (mkdir -p ~/.saga/adaptors/shell_job\\n)\n",
      "2016-04-03 09:39:57,205: radical.saga.pty    : MainProcess                     : PilotLauncherWorker-1: DEBUG   : read : [   70] [   10] (PROMPT-0->)\n",
      "2016-04-03 09:39:57,205: radical.saga.pty    : MainProcess                     : PilotLauncherWorker-1: DEBUG   : flush: [   70] [     ] (flush pty read cache)\n",
      "2016-04-03 09:39:57,307: radical.saga.pty    : MainProcess                     : PilotLauncherWorker-1: DEBUG   : write: [   70] [   44] (test -f .saga/adaptors/shell_job/wrapper.sh\\n)\n",
      "2016-04-03 09:39:57,308: radical.saga.pty    : MainProcess                     : PilotLauncherWorker-1: DEBUG   : read : [   70] [   10] (PROMPT-0->)\n",
      "2016-04-03 09:39:57,308: radical.saga.pty    : MainProcess                     : PilotLauncherWorker-1: DEBUG   : flush: [   70] [     ] (flush pty read cache)\n",
      "2016-04-03 09:39:57,418: radical.saga.pty    : MainProcess                     : PilotLauncherWorker-1: DEBUG   : write: [   70] [   46] (/bin/sh ~/.saga/adaptors/shell_job/wrapper.sh\\n)\n",
      "2016-04-03 09:39:57,436: radical.saga.pty    : MainProcess                     : PilotLauncherWorker-1: DEBUG   : read : [   70] [   12] (PID: 32565\\n)\n",
      "2016-04-03 09:39:57,468: radical.saga.pty    : MainProcess                     : PilotLauncherWorker-1: DEBUG   : read : [   70] [   12] (PROMPT-0->\\n)\n",
      "2016-04-03 09:39:57,468: radical.saga.pty    : MainProcess                     : PilotLauncherWorker-1: DEBUG   : flush: [   71] [     ] (flush pty read cache)\n",
      "2016-04-03 09:39:57,575: radical.saga.pty    : MainProcess                     : PilotLauncherWorker-1: DEBUG   : write: [   71] [   46] (/bin/sh ~/.saga/adaptors/shell_job/wrapper.sh\\n)\n",
      "2016-04-03 09:39:57,587: radical.saga.pty    : MainProcess                     : PilotLauncherWorker-1: DEBUG   : read : [   71] [   12] (PID: 32591\\n)\n",
      "2016-04-03 09:39:57,614: radical.saga.pty    : MainProcess                     : PilotLauncherWorker-1: DEBUG   : read : [   71] [   12] (PROMPT-0->\\n)\n",
      "2016-04-03 09:39:57,615: radical.saga.pty    : MainProcess                     : Thread-11      : DEBUG   : flush: [   71] [     ] (flush pty read cache)\n",
      "2016-04-03 09:39:57,615: radical.saga.pty    : MainProcess                     : Thread-11      : WARNING : flush: [   71] [    1] (discard data: '\n",
      "')\n",
      "2016-04-03 09:39:57,615: radical.saga.pty    : MainProcess                     : PilotLauncherWorker-1: DEBUG   : flush: [   70] [     ] (flush pty read cache)\n",
      "2016-04-03 09:39:57,615: radical.saga.pty    : MainProcess                     : PilotLauncherWorker-1: WARNING : flush: [   70] [    1] (discard data: '\n",
      "')\n",
      "2016-04-03 09:39:57,723: radical.saga.pty    : MainProcess                     : Thread-11      : DEBUG   : write: [   71] [    8] (MONITOR\\n)\n",
      "2016-04-03 09:39:57,723: radical.saga.pty    : MainProcess                     : PilotLauncherWorker-1: DEBUG   : write: [   70] [    5] (LIST\\n)\n",
      "2016-04-03 09:39:57,733: radical.saga.pty    : MainProcess                     : PilotLauncherWorker-1: DEBUG   : read : [   70] [   13] (OK\\n31969.0\\n)\n",
      "2016-04-03 09:39:57,737: radical.saga.pty    : MainProcess                     : PilotLauncherWorker-1: DEBUG   : read : [   70] [   12] (PROMPT-0->\\n)\n",
      "2016-04-03 09:39:57,741: radical.saga.pty    : MainProcess                     : PilotLauncherWorker-1: DEBUG   : flush: [   70] [     ] (flush pty read cache)\n",
      "2016-04-03 09:39:57,741: radical.saga.pty    : MainProcess                     : PilotLauncherWorker-1: WARNING : flush: [   70] [    1] (discard data: '\n",
      "')\n",
      "2016-04-03 09:39:57,847: radical.saga.pty    : MainProcess                     : PilotLauncherWorker-1: DEBUG   : write: [   70] [   14] (STATS 31969.0\\n)\n",
      "2016-04-03 09:39:57,863: radical.saga.pty    : MainProcess                     : PilotLauncherWorker-1: DEBUG   : read : [   70] [    4] (OK\\n)\n",
      "2016-04-03 09:39:57,863: radical.saga.pty    : MainProcess                     : PilotLauncherWorker-1: DEBUG   : read : [   70] [  102] (STATE : RUNNING\\n\\nSTART  : 1459690743\\n\\nSTART_STDERR\\n\\nEND_STDERR\\n\\nSTART_STDOUT\\n\\nEND_STDOUT\\n\\n)\n",
      "2016-04-03 09:39:57,865: radical.saga.pty    : MainProcess                     : PilotLauncherWorker-1: DEBUG   : read : [   70] [   12] (PROMPT-0->\\n)\n",
      "2016-04-03 09:39:57,865: radical.saga.pty    : MainProcess                     : PilotLauncherWorker-1: DEBUG   : flush: [   70] [     ] (flush pty read cache)\n",
      "2016-04-03 09:39:57,865: radical.saga.pty    : MainProcess                     : PilotLauncherWorker-1: WARNING : flush: [   70] [    1] (discard data: '\n",
      "')\n",
      "2016-04-03 09:39:57,967: radical.saga.pty    : MainProcess                     : PilotLauncherWorker-1: DEBUG   : write: [   70] [   14] (STATS 31969.0\\n)\n",
      "2016-04-03 09:39:57,980: radical.saga.pty    : MainProcess                     : PilotLauncherWorker-1: DEBUG   : read : [   70] [  106] (OK\\nSTATE : RUNNING\\n\\nSTART  : 1459690743\\n\\nSTART_STDERR\\n\\nEND_STDERR\\n\\nSTART_STDOUT\\n\\nEND_STDOUT\\n\\n)\n",
      "2016-04-03 09:39:57,982: radical.saga.pty    : MainProcess                     : PilotLauncherWorker-1: DEBUG   : read : [   70] [   12] (PROMPT-0->\\n)\n",
      "2016-04-03 09:40:15,144: radical.saga.pty    : MainProcess                     : Thread-11      : DEBUG   : read : [   71] [   19] (31969.0:FAILED:1 \\n)\n",
      "2016-04-03 09:40:15,144: radical.saga.pty    : MainProcess                     : Thread-10      : DEBUG   : read : [   68] [   19] (31969.0:FAILED:1 \\n)\n",
      "2016-04-03 09:40:57,135: radical.saga.pty    : MainProcess                     : PilotLauncherWorker-1: DEBUG   : flush: [   70] [     ] (flush pty read cache)\n",
      "2016-04-03 09:40:57,136: radical.saga.pty    : MainProcess                     : PilotLauncherWorker-1: WARNING : flush: [   70] [    1] (discard data: '\n",
      "')\n",
      "2016-04-03 09:40:57,240: radical.saga.pty    : MainProcess                     : PilotLauncherWorker-1: DEBUG   : write: [   70] [    5] (LIST\\n)\n",
      "2016-04-03 09:40:57,248: radical.saga.pty    : MainProcess                     : PilotLauncherWorker-1: DEBUG   : read : [   70] [   13] (OK\\n31969.0\\n)\n",
      "2016-04-03 09:40:57,250: radical.saga.pty    : MainProcess                     : PilotLauncherWorker-1: DEBUG   : read : [   70] [   12] (PROMPT-0->\\n)\n",
      "2016-04-03 09:40:57,254: radical.saga.pty    : MainProcess                     : PilotLauncherWorker-1: DEBUG   : flush: [   70] [     ] (flush pty read cache)\n",
      "2016-04-03 09:40:57,254: radical.saga.pty    : MainProcess                     : PilotLauncherWorker-1: WARNING : flush: [   70] [    1] (discard data: '\n",
      "')\n",
      "2016-04-03 09:40:57,359: radical.saga.pty    : MainProcess                     : PilotLauncherWorker-1: DEBUG   : write: [   70] [   14] (STATS 31969.0\\n)\n"
     ]
    }
   ],
   "source": [
    "pdesc = rp.ComputePilotDescription()\n",
    "pdesc.resource = \"local.localhost_spark_ana\"  # NOTE: This is a \"label\", not a hostname\n",
    "pdesc.runtime  = 10 # minutes\n",
    "pdesc.cores    = 2\n",
    "pdesc.cleanup  = False\n",
    "pilot = pmgr.submit_pilots(pdesc)\n",
    "umgr.add_pilots(pilot)"
   ]
  },
  {
   "cell_type": "code",
   "execution_count": 15,
   "metadata": {
    "collapsed": false
   },
   "outputs": [
    {
     "name": "stdout",
     "output_type": "stream",
     "text": [
      "HEAD\r\n",
      "fatal: ambiguous argument 'HEAD': unknown revision or path not in the working tree.\r\n",
      "Use '--' to separate paths from revisions, like this:\r\n",
      "'git <command> [<revision>...] -- [<file>...]'\r\n"
     ]
    }
   ],
   "source": [
    "!git rev-parse HEAD"
   ]
  },
  {
   "cell_type": "code",
   "execution_count": 8,
   "metadata": {
    "collapsed": false
   },
   "outputs": [
    {
     "data": {
      "text/html": [
       "<div>\n",
       "<table border=\"1\" class=\"dataframe\">\n",
       "  <thead>\n",
       "    <tr style=\"text-align: right;\">\n",
       "      <th></th>\n",
       "      <th>Value</th>\n",
       "    </tr>\n",
       "  </thead>\n",
       "  <tbody>\n",
       "    <tr>\n",
       "      <th>uid</th>\n",
       "      <td>pilot.0000</td>\n",
       "    </tr>\n",
       "    <tr>\n",
       "      <th>stdout</th>\n",
       "      <td>None</td>\n",
       "    </tr>\n",
       "    <tr>\n",
       "      <th>start_time</th>\n",
       "      <td>None</td>\n",
       "    </tr>\n",
       "    <tr>\n",
       "      <th>resource_detail</th>\n",
       "      <td>{'cores_per_node': None, 'nodes': None}</td>\n",
       "    </tr>\n",
       "    <tr>\n",
       "      <th>submission_time</th>\n",
       "      <td>1459021729.72</td>\n",
       "    </tr>\n",
       "    <tr>\n",
       "      <th>logfile</th>\n",
       "      <td>None</td>\n",
       "    </tr>\n",
       "    <tr>\n",
       "      <th>resource</th>\n",
       "      <td>local.localhost_spark</td>\n",
       "    </tr>\n",
       "    <tr>\n",
       "      <th>log</th>\n",
       "      <td>[]</td>\n",
       "    </tr>\n",
       "    <tr>\n",
       "      <th>sandbox</th>\n",
       "      <td>file://localhost/Users/luckow/radical.pilot.sa...</td>\n",
       "    </tr>\n",
       "    <tr>\n",
       "      <th>state</th>\n",
       "      <td>Launching</td>\n",
       "    </tr>\n",
       "    <tr>\n",
       "      <th>stop_time</th>\n",
       "      <td>None</td>\n",
       "    </tr>\n",
       "    <tr>\n",
       "      <th>stderr</th>\n",
       "      <td>None</td>\n",
       "    </tr>\n",
       "  </tbody>\n",
       "</table>\n",
       "</div>"
      ],
      "text/plain": [
       "                                                             Value\n",
       "uid                                                     pilot.0000\n",
       "stdout                                                        None\n",
       "start_time                                                    None\n",
       "resource_detail            {'cores_per_node': None, 'nodes': None}\n",
       "submission_time                                      1459021729.72\n",
       "logfile                                                       None\n",
       "resource                                     local.localhost_spark\n",
       "log                                                             []\n",
       "sandbox          file://localhost/Users/luckow/radical.pilot.sa...\n",
       "state                                                    Launching\n",
       "stop_time                                                     None\n",
       "stderr                                                        None"
      ]
     },
     "execution_count": 8,
     "metadata": {},
     "output_type": "execute_result"
    },
    {
     "name": "stderr",
     "output_type": "stream",
     "text": [
      "2016-03-26 15:48:52,734: radical.pilot       : MainProcess                     : PilotLauncherWorker-1: ERROR   : Using bootstrapper /Users/luckow/anaconda2/lib/python2.7/site-packages/radical/pilot/bootstrapper/bootstrap_1.sh\n",
      "Copying bootstrapper 'file://localhost/Users/luckow/anaconda2/lib/python2.7/site-packages/radical/pilot/bootstrapper/bootstrap_1.sh' to agent sandbox (<saga.filesystem.directory.Directory object at 0x1172bead0>).\n",
      "Copying sdist 'file://localhost/Users/luckow/anaconda2/lib/python2.7/site-packages/radical/utils/radical.utils-0.40.tar.gz' to sandbox (file://localhost/Users/luckow/radical.pilot.sandbox/rp.session.b152.hm.vpn.lrz.de.luckow.016886.0001-pilot.0000/).\n",
      "Copying sdist 'file://localhost/Users/luckow/anaconda2/lib/python2.7/site-packages/saga/saga-python-0.40.1.tar.gz' to sandbox (file://localhost/Users/luckow/radical.pilot.sandbox/rp.session.b152.hm.vpn.lrz.de.luckow.016886.0001-pilot.0000/).\n",
      "Copying sdist 'file://localhost/Users/luckow/anaconda2/lib/python2.7/site-packages/radical/pilot/controller/..//radical.pilot-v0.40.1-17-gaf60db8-feature-resource-cfg-to-agent-spark.tar.gz' to sandbox (file://localhost/Users/luckow/radical.pilot.sandbox/rp.session.b152.hm.vpn.lrz.de.luckow.016886.0001-pilot.0000/).\n",
      "Writing agent configuration to file '/var/folders/2l/tqpv1wn90cd6blxb6961dqtw0000gn/T/rp_agent_cfg_diryUMIHp/agent_0.cfg'.\n",
      "Copying agent configuration file 'file://localhost/var/folders/2l/tqpv1wn90cd6blxb6961dqtw0000gn/T/rp_agent_cfg_diryUMIHp/agent_0.cfg' to sandbox (file://localhost/Users/luckow/radical.pilot.sandbox/rp.session.b152.hm.vpn.lrz.de.luckow.016886.0001-pilot.0000/).\n",
      "Pilot launching failed! (failed to run bootstrap: (127)(/bin/sh: /Users/luckow/.saga/adaptors/shell_job/wrapper.sh: No such file or directory\n",
      ") (/Users/luckow/anaconda2/lib/python2.7/site-packages/saga/adaptors/shell/shell_job.py +605 (initialize)  :  raise saga.NoSuccess (\"failed to run bootstrap: (%s)(%s)\" % (ret, out))))\n",
      "Traceback (most recent call last):\n",
      "  File \"/Users/luckow/anaconda2/lib/python2.7/site-packages/radical/pilot/controller/pilot_launcher_worker.py\", line 714, in run\n",
      "    js = saga.job.Service(js_url, session=self._session)\n",
      "  File \"/Users/luckow/anaconda2/lib/python2.7/site-packages/saga/job/service.py\", line 115, in __init__\n",
      "    url, session, ttype=_ttype)\n",
      "  File \"/Users/luckow/anaconda2/lib/python2.7/site-packages/saga/base.py\", line 101, in __init__\n",
      "    self._init_task = self._adaptor.init_instance (adaptor_state, *args, **kwargs)\n",
      "  File \"/Users/luckow/anaconda2/lib/python2.7/site-packages/saga/adaptors/cpi/decorators.py\", line 57, in wrap_function\n",
      "    return sync_function (self, *args, **kwargs)\n",
      "  File \"/Users/luckow/anaconda2/lib/python2.7/site-packages/saga/adaptors/shell/shell_job.py\", line 507, in init_instance\n",
      "    self.initialize ()\n",
      "  File \"/Users/luckow/anaconda2/lib/python2.7/site-packages/saga/adaptors/shell/shell_job.py\", line 605, in initialize\n",
      "    raise saga.NoSuccess (\"failed to run bootstrap: (%s)(%s)\" % (ret, out))\n",
      "NoSuccess: failed to run bootstrap: (127)(/bin/sh: /Users/luckow/.saga/adaptors/shell_job/wrapper.sh: No such file or directory\n",
      ") (/Users/luckow/anaconda2/lib/python2.7/site-packages/saga/adaptors/shell/shell_job.py +605 (initialize)  :  raise saga.NoSuccess (\"failed to run bootstrap: (%s)(%s)\" % (ret, out)))\n"
     ]
    }
   ],
   "source": [
    "print_details(pilot.as_dict())"
   ]
  },
  {
   "cell_type": "markdown",
   "metadata": {},
   "source": [
    "### 2.3 Submit Compute Units\n",
    "\n",
    "Create a description of the compute unit, which specifies the details of the task to be executed."
   ]
  },
  {
   "cell_type": "code",
   "execution_count": 76,
   "metadata": {
    "collapsed": false
   },
   "outputs": [
    {
     "data": {
      "text/html": [
       "<div>\n",
       "<table border=\"1\" class=\"dataframe\">\n",
       "  <thead>\n",
       "    <tr style=\"text-align: right;\">\n",
       "      <th></th>\n",
       "      <th>Value</th>\n",
       "    </tr>\n",
       "  </thead>\n",
       "  <tbody>\n",
       "    <tr>\n",
       "      <th>kernel</th>\n",
       "      <td>None</td>\n",
       "    </tr>\n",
       "    <tr>\n",
       "      <th>executable</th>\n",
       "      <td>/bin/echo</td>\n",
       "    </tr>\n",
       "    <tr>\n",
       "      <th>name</th>\n",
       "      <td>None</td>\n",
       "    </tr>\n",
       "    <tr>\n",
       "      <th>restartable</th>\n",
       "      <td>False</td>\n",
       "    </tr>\n",
       "    <tr>\n",
       "      <th>output_staging</th>\n",
       "      <td>None</td>\n",
       "    </tr>\n",
       "    <tr>\n",
       "      <th>stdout</th>\n",
       "      <td>None</td>\n",
       "    </tr>\n",
       "    <tr>\n",
       "      <th>pre_exec</th>\n",
       "      <td>None</td>\n",
       "    </tr>\n",
       "    <tr>\n",
       "      <th>mpi</th>\n",
       "      <td>False</td>\n",
       "    </tr>\n",
       "    <tr>\n",
       "      <th>environment</th>\n",
       "      <td>{'CU_NO': 1}</td>\n",
       "    </tr>\n",
       "    <tr>\n",
       "      <th>cleanup</th>\n",
       "      <td>False</td>\n",
       "    </tr>\n",
       "    <tr>\n",
       "      <th>arguments</th>\n",
       "      <td>['I am CU number $CU_NO']</td>\n",
       "    </tr>\n",
       "    <tr>\n",
       "      <th>stderr</th>\n",
       "      <td>None</td>\n",
       "    </tr>\n",
       "    <tr>\n",
       "      <th>cores</th>\n",
       "      <td>1</td>\n",
       "    </tr>\n",
       "    <tr>\n",
       "      <th>post_exec</th>\n",
       "      <td>None</td>\n",
       "    </tr>\n",
       "    <tr>\n",
       "      <th>input_staging</th>\n",
       "      <td>None</td>\n",
       "    </tr>\n",
       "  </tbody>\n",
       "</table>\n",
       "</div>"
      ],
      "text/plain": [
       "                                    Value\n",
       "kernel                               None\n",
       "executable                      /bin/echo\n",
       "name                                 None\n",
       "restartable                         False\n",
       "output_staging                       None\n",
       "stdout                               None\n",
       "pre_exec                             None\n",
       "mpi                                 False\n",
       "environment                  {'CU_NO': 1}\n",
       "cleanup                             False\n",
       "arguments       ['I am CU number $CU_NO']\n",
       "stderr                               None\n",
       "cores                                   1\n",
       "post_exec                            None\n",
       "input_staging                        None"
      ]
     },
     "execution_count": 76,
     "metadata": {},
     "output_type": "execute_result"
    }
   ],
   "source": [
    "cudesc = rp.ComputeUnitDescription()\n",
    "cudesc.environment = {'CU_NO': 1}\n",
    "cudesc.executable  = \"/bin/echo\"\n",
    "cudesc.arguments   = ['I am CU number $CU_NO']\n",
    "cudesc.cores       = 1\n",
    "print_details(cudesc.as_dict())"
   ]
  },
  {
   "cell_type": "markdown",
   "metadata": {},
   "source": [
    "Submit the previously created ComputeUnit descriptions to the PilotManager. This will trigger the selected scheduler (in this case the round-robin scheduler) to start assigning ComputeUnits to the ComputePilots."
   ]
  },
  {
   "cell_type": "code",
   "execution_count": 78,
   "metadata": {
    "collapsed": false
   },
   "outputs": [
    {
     "name": "stdout",
     "output_type": "stream",
     "text": [
      "Submit Compute Units to Unit Manager ...\n",
      "Waiting for CUs to complete ...\n",
      "All CUs completed successfully!\n"
     ]
    }
   ],
   "source": [
    "print \"Submit Compute Units to Unit Manager ...\"\n",
    "cu_set = umgr.submit_units([cudesc])\n",
    "print \"Waiting for CUs to complete ...\"\n",
    "umgr.wait_units()\n",
    "print \"All CUs completed successfully!\"\n",
    "cu_results = cu_set[0]\n",
    "details=cu_results.as_dict()"
   ]
  },
  {
   "cell_type": "markdown",
   "metadata": {},
   "source": [
    "---\n",
    "The next command will provide the state of the Pilot and other pilot details."
   ]
  },
  {
   "cell_type": "code",
   "execution_count": 79,
   "metadata": {
    "collapsed": false
   },
   "outputs": [
    {
     "data": {
      "text/html": [
       "<div>\n",
       "<table border=\"1\" class=\"dataframe\">\n",
       "  <thead>\n",
       "    <tr style=\"text-align: right;\">\n",
       "      <th></th>\n",
       "      <th>Value</th>\n",
       "    </tr>\n",
       "  </thead>\n",
       "  <tbody>\n",
       "    <tr>\n",
       "      <th>log</th>\n",
       "      <td>[&lt;radical.pilot.logentry.Logentry object at 0x...</td>\n",
       "    </tr>\n",
       "    <tr>\n",
       "      <th>state</th>\n",
       "      <td>Done</td>\n",
       "    </tr>\n",
       "    <tr>\n",
       "      <th>working_directory</th>\n",
       "      <td>file://localhost/home/radical/radical.pilot.sa...</td>\n",
       "    </tr>\n",
       "    <tr>\n",
       "      <th>uid</th>\n",
       "      <td>unit.000046</td>\n",
       "    </tr>\n",
       "    <tr>\n",
       "      <th>submission_time</th>\n",
       "      <td>1447607526.08</td>\n",
       "    </tr>\n",
       "    <tr>\n",
       "      <th>execution_details</th>\n",
       "      <td>{u'control': u'umgr', u'stdout': u'I am CU num...</td>\n",
       "    </tr>\n",
       "    <tr>\n",
       "      <th>stop_time</th>\n",
       "      <td>None</td>\n",
       "    </tr>\n",
       "    <tr>\n",
       "      <th>start_time</th>\n",
       "      <td>None</td>\n",
       "    </tr>\n",
       "    <tr>\n",
       "      <th>exit_code</th>\n",
       "      <td>0</td>\n",
       "    </tr>\n",
       "    <tr>\n",
       "      <th>name</th>\n",
       "      <td>None</td>\n",
       "    </tr>\n",
       "  </tbody>\n",
       "</table>\n",
       "</div>"
      ],
      "text/plain": [
       "                                                               Value\n",
       "log                [<radical.pilot.logentry.Logentry object at 0x...\n",
       "state                                                           Done\n",
       "working_directory  file://localhost/home/radical/radical.pilot.sa...\n",
       "uid                                                      unit.000046\n",
       "submission_time                                        1447607526.08\n",
       "execution_details  {u'control': u'umgr', u'stdout': u'I am CU num...\n",
       "stop_time                                                       None\n",
       "start_time                                                      None\n",
       "exit_code                                                          0\n",
       "name                                                            None"
      ]
     },
     "execution_count": 79,
     "metadata": {},
     "output_type": "execute_result"
    }
   ],
   "source": [
    "print_details(details)"
   ]
  },
  {
   "cell_type": "markdown",
   "metadata": {},
   "source": [
    "And some more details..."
   ]
  },
  {
   "cell_type": "code",
   "execution_count": 80,
   "metadata": {
    "collapsed": false
   },
   "outputs": [
    {
     "data": {
      "text/html": [
       "<div>\n",
       "<table border=\"1\" class=\"dataframe\">\n",
       "  <thead>\n",
       "    <tr style=\"text-align: right;\">\n",
       "      <th></th>\n",
       "      <th>Value</th>\n",
       "    </tr>\n",
       "  </thead>\n",
       "  <tbody>\n",
       "    <tr>\n",
       "      <th>control</th>\n",
       "      <td>umgr</td>\n",
       "    </tr>\n",
       "    <tr>\n",
       "      <th>stdout</th>\n",
       "      <td>I am CU number 1\\n</td>\n",
       "    </tr>\n",
       "    <tr>\n",
       "      <th>callbackhistory</th>\n",
       "      <td>[{u'timestamp': 1447607526.828442, u'state': u...</td>\n",
       "    </tr>\n",
       "    <tr>\n",
       "      <th>Agent_Output_Directives</th>\n",
       "      <td>[]</td>\n",
       "    </tr>\n",
       "    <tr>\n",
       "      <th>Agent_Output_Status</th>\n",
       "      <td>None</td>\n",
       "    </tr>\n",
       "    <tr>\n",
       "      <th>Agent_Input_Status</th>\n",
       "      <td>None</td>\n",
       "    </tr>\n",
       "    <tr>\n",
       "      <th>exec_locs</th>\n",
       "      <td>None</td>\n",
       "    </tr>\n",
       "    <tr>\n",
       "      <th>FTW_Input_Directives</th>\n",
       "      <td>[]</td>\n",
       "    </tr>\n",
       "    <tr>\n",
       "      <th>log</th>\n",
       "      <td>[{u'timestamp': 1447607526.089792, u'message':...</td>\n",
       "    </tr>\n",
       "    <tr>\n",
       "      <th>exit_code</th>\n",
       "      <td>0</td>\n",
       "    </tr>\n",
       "    <tr>\n",
       "      <th>FTW_Input_Status</th>\n",
       "      <td>None</td>\n",
       "    </tr>\n",
       "    <tr>\n",
       "      <th>state</th>\n",
       "      <td>Done</td>\n",
       "    </tr>\n",
       "    <tr>\n",
       "      <th>unitmanager</th>\n",
       "      <td>umgr.0005</td>\n",
       "    </tr>\n",
       "    <tr>\n",
       "      <th>statehistory</th>\n",
       "      <td>[{u'timestamp': 1447607526.078748, u'state': u...</td>\n",
       "    </tr>\n",
       "    <tr>\n",
       "      <th>FTW_Output_Directives</th>\n",
       "      <td>[]</td>\n",
       "    </tr>\n",
       "    <tr>\n",
       "      <th>pilot_sandbox</th>\n",
       "      <td>file://localhost/home/radical/radical.pilot.sa...</td>\n",
       "    </tr>\n",
       "    <tr>\n",
       "      <th>description</th>\n",
       "      <td>{u'kernel': None, u'executable': u'/bin/echo',...</td>\n",
       "    </tr>\n",
       "    <tr>\n",
       "      <th>restartable</th>\n",
       "      <td>False</td>\n",
       "    </tr>\n",
       "    <tr>\n",
       "      <th>started</th>\n",
       "      <td>None</td>\n",
       "    </tr>\n",
       "    <tr>\n",
       "      <th>FTW_Output_Status</th>\n",
       "      <td>None</td>\n",
       "    </tr>\n",
       "    <tr>\n",
       "      <th>finished</th>\n",
       "      <td>None</td>\n",
       "    </tr>\n",
       "    <tr>\n",
       "      <th>Agent_Input_Directives</th>\n",
       "      <td>[]</td>\n",
       "    </tr>\n",
       "    <tr>\n",
       "      <th>pilot</th>\n",
       "      <td>pilot.0005</td>\n",
       "    </tr>\n",
       "    <tr>\n",
       "      <th>submitted</th>\n",
       "      <td>1447607526.08</td>\n",
       "    </tr>\n",
       "    <tr>\n",
       "      <th>sandbox</th>\n",
       "      <td>file://localhost/home/radical/radical.pilot.sa...</td>\n",
       "    </tr>\n",
       "    <tr>\n",
       "      <th>stderr</th>\n",
       "      <td></td>\n",
       "    </tr>\n",
       "    <tr>\n",
       "      <th>_id</th>\n",
       "      <td>unit.000046</td>\n",
       "    </tr>\n",
       "  </tbody>\n",
       "</table>\n",
       "</div>"
      ],
      "text/plain": [
       "                                                                     Value\n",
       "control                                                               umgr\n",
       "stdout                                                  I am CU number 1\\n\n",
       "callbackhistory          [{u'timestamp': 1447607526.828442, u'state': u...\n",
       "Agent_Output_Directives                                                 []\n",
       "Agent_Output_Status                                                   None\n",
       "Agent_Input_Status                                                    None\n",
       "exec_locs                                                             None\n",
       "FTW_Input_Directives                                                    []\n",
       "log                      [{u'timestamp': 1447607526.089792, u'message':...\n",
       "exit_code                                                                0\n",
       "FTW_Input_Status                                                      None\n",
       "state                                                                 Done\n",
       "unitmanager                                                      umgr.0005\n",
       "statehistory             [{u'timestamp': 1447607526.078748, u'state': u...\n",
       "FTW_Output_Directives                                                   []\n",
       "pilot_sandbox            file://localhost/home/radical/radical.pilot.sa...\n",
       "description              {u'kernel': None, u'executable': u'/bin/echo',...\n",
       "restartable                                                          False\n",
       "started                                                               None\n",
       "FTW_Output_Status                                                     None\n",
       "finished                                                              None\n",
       "Agent_Input_Directives                                                  []\n",
       "pilot                                                           pilot.0005\n",
       "submitted                                                    1447607526.08\n",
       "sandbox                  file://localhost/home/radical/radical.pilot.sa...\n",
       "stderr                                                                    \n",
       "_id                                                            unit.000046"
      ]
     },
     "execution_count": 80,
     "metadata": {},
     "output_type": "execute_result"
    }
   ],
   "source": [
    "print_details(details[\"execution_details\"])"
   ]
  },
  {
   "cell_type": "markdown",
   "metadata": {},
   "source": [
    "Parse the output of the CU"
   ]
  },
  {
   "cell_type": "code",
   "execution_count": 81,
   "metadata": {
    "collapsed": false
   },
   "outputs": [
    {
     "name": "stdout",
     "output_type": "stream",
     "text": [
      "I am CU number 1\n"
     ]
    }
   ],
   "source": [
    "print cu_results.stdout.strip()"
   ]
  },
  {
   "cell_type": "markdown",
   "metadata": {},
   "source": [
    "### 2.4 Exercise\n",
    "\n",
    "Write a task (i.e., a ComputeUnit) that prints out the hostname of the machine!\n",
    "\n",
    "Answer: In the example above, in cudesc.executable replace `/bin/echo` with `hostname`."
   ]
  },
  {
   "cell_type": "markdown",
   "metadata": {},
   "source": [
    "### 2.5 Performance Analysis\n",
    "\n",
    "In the examples below we will show how RADICAL-Pilot can be used for interactive analytics. We will plot and analyze the execution times of a set of ComputeUnits."
   ]
  },
  {
   "cell_type": "code",
   "execution_count": 82,
   "metadata": {
    "collapsed": false
   },
   "outputs": [],
   "source": [
    "def get_runtime(compute_unit):\n",
    "    details=compute_unit.as_dict()\n",
    "    execution_details=details['execution_details']\n",
    "    state_details=execution_details[\"statehistory\"]\n",
    "    results = {}\n",
    "    for i in state_details:\n",
    "        results[i[\"state\"]]=i[\"timestamp\"]\n",
    "    start = results[\"Scheduling\"]\n",
    "    end = results[\"Done\"]\n",
    "    runtime = end-start\n",
    "    return runtime"
   ]
  },
  {
   "cell_type": "code",
   "execution_count": 83,
   "metadata": {
    "collapsed": false
   },
   "outputs": [],
   "source": [
    "import random\n",
    "cudesc_list = []\n",
    "for i in range(20):\n",
    "    cudesc = rp.ComputeUnitDescription()\n",
    "    cudesc.executable  = \"/bin/sleep\"\n",
    "    cudesc.environment = {'CU_NO': i}\n",
    "    cudesc.arguments   = ['%d'%(random.randrange(10))]\n",
    "    cudesc.cores       = 1\n",
    "    cudesc_list.append(cudesc)"
   ]
  },
  {
   "cell_type": "code",
   "execution_count": 84,
   "metadata": {
    "collapsed": false
   },
   "outputs": [],
   "source": [
    "cu_set = umgr.submit_units(cudesc_list)"
   ]
  },
  {
   "cell_type": "code",
   "execution_count": 85,
   "metadata": {
    "collapsed": false
   },
   "outputs": [],
   "source": [
    "states = umgr.wait_units()"
   ]
  },
  {
   "cell_type": "code",
   "execution_count": 86,
   "metadata": {
    "collapsed": false
   },
   "outputs": [],
   "source": [
    "runtimes=[]\n",
    "for compute_unit in cu_set:\n",
    "    str(compute_unit)\n",
    "    runtimes.append(get_runtime(compute_unit))"
   ]
  },
  {
   "cell_type": "markdown",
   "metadata": {},
   "source": [
    "`/bin/sleep` assigns a random sleep time. We plot the distribution of runtimes of the above 20 ComputeUnits using [Seaborn](http://stanford.edu/~mwaskom/software/seaborn/). See [distplot documentation](http://stanford.edu/~mwaskom/software/seaborn/generated/seaborn.distplot.html?highlight=distplot)."
   ]
  },
  {
   "cell_type": "code",
   "execution_count": 87,
   "metadata": {
    "collapsed": false
   },
   "outputs": [
    {
     "data": {
      "image/png": "[encoded data removed]",
      "text/plain": [
       "<matplotlib.figure.Figure at 0x7fb5a0e85850>"
      ]
     },
     "metadata": {},
     "output_type": "display_data"
    }
   ],
   "source": [
    "plot=sns.distplot(runtimes, kde=False, axlabel=\"Runtime\")"
   ]
  },
  {
   "cell_type": "markdown",
   "metadata": {},
   "source": [
    "### 2.6 Close and Delete Session "
   ]
  },
  {
   "cell_type": "code",
   "execution_count": 88,
   "metadata": {
    "collapsed": false
   },
   "outputs": [],
   "source": [
    "session.close()\n",
    "del session"
   ]
  },
  {
   "cell_type": "markdown",
   "metadata": {},
   "source": [
    "## 3. YARN Pilot Example\n",
    "\n",
    "Having submitted multiple jobs using RADICAL-Pilot locally, in this section we will examine how to submit multiple tasks to a YARN cluster using RADICAL-Pilot. Although not of primary importance for this tutorial, it is worth noting that the YARN cluster is a remote resource compared to the submission host (edge node).\n",
    "\n",
    "\n",
    "![Pilot YARN](../figures/radical-pilot-yarn-cu.png)\n",
    "\n",
    "### 3.1 Create a new Session and Pilot-Manager. \n"
   ]
  },
  {
   "cell_type": "code",
   "execution_count": 89,
   "metadata": {
    "collapsed": false
   },
   "outputs": [
    {
     "name": "stdout",
     "output_type": "stream",
     "text": [
      "Session id: rp.session.ip-10-144-47-195.radical.016754.0006 Pilot Manager: {'uid': 'pmgr.0006'}\n"
     ]
    }
   ],
   "source": [
    "import getpass\n",
    "yarn_session = rp.Session()\n",
    "c = rp.Context('ssh')\n",
    "c.user_id = getpass.getuser()\n",
    "yarn_session.add_context(c)\n",
    "pmgr = rp.PilotManager(session=yarn_session)\n",
    "umgr = rp.UnitManager(session=yarn_session,\n",
    "                      scheduler=rp.SCHED_ROUND_ROBIN)\n",
    "print \"Session id: %s Pilot Manager: %s\" % (yarn_session.uid, str(pmgr.as_dict()))"
   ]
  },
  {
   "cell_type": "markdown",
   "metadata": {},
   "source": [
    "### 3.2 Submit Pilot and add to Unit Manager\n",
    "\n",
    "Note the change in the resource description:\n",
    "\n",
    "        pdesc.resource = \"yarn.aws-vm\"  # NOTE: This is a \"label\", not a hostname"
   ]
  },
  {
   "cell_type": "code",
   "execution_count": 90,
   "metadata": {
    "collapsed": false
   },
   "outputs": [
    {
     "name": "stdout",
     "output_type": "stream",
     "text": [
      "Submitting Compute Pilot to Pilot Manager ...\n"
     ]
    }
   ],
   "source": [
    "pdesc = rp.ComputePilotDescription ()\n",
    "pdesc.resource = \"yarn.aws-vm\"  # NOTE: This is a \"label\", not a hostname\n",
    "pdesc.runtime  = 30 # minutes\n",
    "pdesc.cores    = 1\n",
    "pdesc.cleanup  = False\n",
    "# submit the pilot.\n",
    "print \"Submitting Compute Pilot to Pilot Manager ...\"\n",
    "pilot = pmgr.submit_pilots(pdesc)\n",
    "umgr.add_pilots(pilot)"
   ]
  },
  {
   "cell_type": "code",
   "execution_count": 91,
   "metadata": {
    "collapsed": false
   },
   "outputs": [
    {
     "data": {
      "text/html": [
       "<div>\n",
       "<table border=\"1\" class=\"dataframe\">\n",
       "  <thead>\n",
       "    <tr style=\"text-align: right;\">\n",
       "      <th></th>\n",
       "      <th>Value</th>\n",
       "    </tr>\n",
       "  </thead>\n",
       "  <tbody>\n",
       "    <tr>\n",
       "      <th>uid</th>\n",
       "      <td>pilot.0006</td>\n",
       "    </tr>\n",
       "    <tr>\n",
       "      <th>stdout</th>\n",
       "      <td>None</td>\n",
       "    </tr>\n",
       "    <tr>\n",
       "      <th>start_time</th>\n",
       "      <td>None</td>\n",
       "    </tr>\n",
       "    <tr>\n",
       "      <th>resource_detail</th>\n",
       "      <td>{'cores_per_node': None, 'nodes': None}</td>\n",
       "    </tr>\n",
       "    <tr>\n",
       "      <th>submission_time</th>\n",
       "      <td>1447608249.47</td>\n",
       "    </tr>\n",
       "    <tr>\n",
       "      <th>logfile</th>\n",
       "      <td>None</td>\n",
       "    </tr>\n",
       "    <tr>\n",
       "      <th>resource</th>\n",
       "      <td>yarn.aws-vm</td>\n",
       "    </tr>\n",
       "    <tr>\n",
       "      <th>log</th>\n",
       "      <td>[]</td>\n",
       "    </tr>\n",
       "    <tr>\n",
       "      <th>sandbox</th>\n",
       "      <td>sftp://sc15.radical-cybertools.org/home/radica...</td>\n",
       "    </tr>\n",
       "    <tr>\n",
       "      <th>state</th>\n",
       "      <td>PendingLaunch</td>\n",
       "    </tr>\n",
       "    <tr>\n",
       "      <th>stop_time</th>\n",
       "      <td>None</td>\n",
       "    </tr>\n",
       "    <tr>\n",
       "      <th>stderr</th>\n",
       "      <td>None</td>\n",
       "    </tr>\n",
       "  </tbody>\n",
       "</table>\n",
       "</div>"
      ],
      "text/plain": [
       "                                                             Value\n",
       "uid                                                     pilot.0006\n",
       "stdout                                                        None\n",
       "start_time                                                    None\n",
       "resource_detail            {'cores_per_node': None, 'nodes': None}\n",
       "submission_time                                      1447608249.47\n",
       "logfile                                                       None\n",
       "resource                                               yarn.aws-vm\n",
       "log                                                             []\n",
       "sandbox          sftp://sc15.radical-cybertools.org/home/radica...\n",
       "state                                                PendingLaunch\n",
       "stop_time                                                     None\n",
       "stderr                                                        None"
      ]
     },
     "execution_count": 91,
     "metadata": {},
     "output_type": "execute_result"
    }
   ],
   "source": [
    "print_details(pilot.as_dict())"
   ]
  },
  {
   "cell_type": "markdown",
   "metadata": {},
   "source": [
    "### 3.3 Submit Compute Units\n",
    "\n",
    "Create a description of the compute unit, which specifies the details on the executed task."
   ]
  },
  {
   "cell_type": "code",
   "execution_count": 92,
   "metadata": {
    "collapsed": false
   },
   "outputs": [
    {
     "data": {
      "text/html": [
       "<div>\n",
       "<table border=\"1\" class=\"dataframe\">\n",
       "  <thead>\n",
       "    <tr style=\"text-align: right;\">\n",
       "      <th></th>\n",
       "      <th>Value</th>\n",
       "    </tr>\n",
       "  </thead>\n",
       "  <tbody>\n",
       "    <tr>\n",
       "      <th>kernel</th>\n",
       "      <td>None</td>\n",
       "    </tr>\n",
       "    <tr>\n",
       "      <th>executable</th>\n",
       "      <td>/bin/echo</td>\n",
       "    </tr>\n",
       "    <tr>\n",
       "      <th>name</th>\n",
       "      <td>None</td>\n",
       "    </tr>\n",
       "    <tr>\n",
       "      <th>restartable</th>\n",
       "      <td>False</td>\n",
       "    </tr>\n",
       "    <tr>\n",
       "      <th>output_staging</th>\n",
       "      <td>None</td>\n",
       "    </tr>\n",
       "    <tr>\n",
       "      <th>stdout</th>\n",
       "      <td>None</td>\n",
       "    </tr>\n",
       "    <tr>\n",
       "      <th>pre_exec</th>\n",
       "      <td>None</td>\n",
       "    </tr>\n",
       "    <tr>\n",
       "      <th>mpi</th>\n",
       "      <td>False</td>\n",
       "    </tr>\n",
       "    <tr>\n",
       "      <th>environment</th>\n",
       "      <td>{'CU_NO': '1'}</td>\n",
       "    </tr>\n",
       "    <tr>\n",
       "      <th>cleanup</th>\n",
       "      <td>False</td>\n",
       "    </tr>\n",
       "    <tr>\n",
       "      <th>arguments</th>\n",
       "      <td>['I am CU number $CU_NO']</td>\n",
       "    </tr>\n",
       "    <tr>\n",
       "      <th>stderr</th>\n",
       "      <td>None</td>\n",
       "    </tr>\n",
       "    <tr>\n",
       "      <th>cores</th>\n",
       "      <td>1</td>\n",
       "    </tr>\n",
       "    <tr>\n",
       "      <th>post_exec</th>\n",
       "      <td>None</td>\n",
       "    </tr>\n",
       "    <tr>\n",
       "      <th>input_staging</th>\n",
       "      <td>None</td>\n",
       "    </tr>\n",
       "  </tbody>\n",
       "</table>\n",
       "</div>"
      ],
      "text/plain": [
       "                                    Value\n",
       "kernel                               None\n",
       "executable                      /bin/echo\n",
       "name                                 None\n",
       "restartable                         False\n",
       "output_staging                       None\n",
       "stdout                               None\n",
       "pre_exec                             None\n",
       "mpi                                 False\n",
       "environment                {'CU_NO': '1'}\n",
       "cleanup                             False\n",
       "arguments       ['I am CU number $CU_NO']\n",
       "stderr                               None\n",
       "cores                                   1\n",
       "post_exec                            None\n",
       "input_staging                        None"
      ]
     },
     "execution_count": 92,
     "metadata": {},
     "output_type": "execute_result"
    }
   ],
   "source": [
    "cudesc = rp.ComputeUnitDescription()\n",
    "cudesc.environment = {'CU_NO': \"1\"}\n",
    "cudesc.executable  = \"/bin/echo\"\n",
    "cudesc.arguments   = ['I am CU number $CU_NO']\n",
    "cudesc.cores       = 1\n",
    "print_details(cudesc.as_dict())"
   ]
  },
  {
   "cell_type": "markdown",
   "metadata": {},
   "source": [
    "Submit the previously created ComputeUnit descriptions to the PilotManager. This will trigger the selected scheduler to start assigning ComputeUnits to the ComputePilots."
   ]
  },
  {
   "cell_type": "code",
   "execution_count": 93,
   "metadata": {
    "collapsed": false
   },
   "outputs": [
    {
     "name": "stdout",
     "output_type": "stream",
     "text": [
      "Submit Compute Units to Unit Manager ...\n",
      "Waiting for CUs to complete ...\n",
      "All CUs completed successfully!\n"
     ]
    }
   ],
   "source": [
    "print \"Submit Compute Units to Unit Manager ...\"\n",
    "cu_set = umgr.submit_units([cudesc])\n",
    "print \"Waiting for CUs to complete ...\"\n",
    "umgr.wait_units()\n",
    "print \"All CUs completed successfully!\"\n",
    "cu_results = cu_set[0]\n",
    "details=cu_results.as_dict()"
   ]
  },
  {
   "cell_type": "code",
   "execution_count": 94,
   "metadata": {
    "collapsed": false
   },
   "outputs": [
    {
     "data": {
      "text/html": [
       "<div>\n",
       "<table border=\"1\" class=\"dataframe\">\n",
       "  <thead>\n",
       "    <tr style=\"text-align: right;\">\n",
       "      <th></th>\n",
       "      <th>Value</th>\n",
       "    </tr>\n",
       "  </thead>\n",
       "  <tbody>\n",
       "    <tr>\n",
       "      <th>log</th>\n",
       "      <td>[&lt;radical.pilot.logentry.Logentry object at 0x...</td>\n",
       "    </tr>\n",
       "    <tr>\n",
       "      <th>state</th>\n",
       "      <td>Done</td>\n",
       "    </tr>\n",
       "    <tr>\n",
       "      <th>working_directory</th>\n",
       "      <td>sftp://sc15.radical-cybertools.org/home/radica...</td>\n",
       "    </tr>\n",
       "    <tr>\n",
       "      <th>uid</th>\n",
       "      <td>unit.000067</td>\n",
       "    </tr>\n",
       "    <tr>\n",
       "      <th>submission_time</th>\n",
       "      <td>1447608255.01</td>\n",
       "    </tr>\n",
       "    <tr>\n",
       "      <th>execution_details</th>\n",
       "      <td>{u'control': u'umgr', u'stdout': u'[... CONTEN...</td>\n",
       "    </tr>\n",
       "    <tr>\n",
       "      <th>stop_time</th>\n",
       "      <td>None</td>\n",
       "    </tr>\n",
       "    <tr>\n",
       "      <th>start_time</th>\n",
       "      <td>None</td>\n",
       "    </tr>\n",
       "    <tr>\n",
       "      <th>exit_code</th>\n",
       "      <td>0</td>\n",
       "    </tr>\n",
       "    <tr>\n",
       "      <th>name</th>\n",
       "      <td>None</td>\n",
       "    </tr>\n",
       "  </tbody>\n",
       "</table>\n",
       "</div>"
      ],
      "text/plain": [
       "                                                               Value\n",
       "log                [<radical.pilot.logentry.Logentry object at 0x...\n",
       "state                                                           Done\n",
       "working_directory  sftp://sc15.radical-cybertools.org/home/radica...\n",
       "uid                                                      unit.000067\n",
       "submission_time                                        1447608255.01\n",
       "execution_details  {u'control': u'umgr', u'stdout': u'[... CONTEN...\n",
       "stop_time                                                       None\n",
       "start_time                                                      None\n",
       "exit_code                                                          0\n",
       "name                                                            None"
      ]
     },
     "execution_count": 94,
     "metadata": {},
     "output_type": "execute_result"
    }
   ],
   "source": [
    "print_details(details)"
   ]
  },
  {
   "cell_type": "code",
   "execution_count": 63,
   "metadata": {
    "collapsed": false
   },
   "outputs": [
    {
     "data": {
      "text/html": [
       "<div>\n",
       "<table border=\"1\" class=\"dataframe\">\n",
       "  <thead>\n",
       "    <tr style=\"text-align: right;\">\n",
       "      <th></th>\n",
       "      <th>Value</th>\n",
       "    </tr>\n",
       "  </thead>\n",
       "  <tbody>\n",
       "    <tr>\n",
       "      <th>control</th>\n",
       "      <td>umgr</td>\n",
       "    </tr>\n",
       "    <tr>\n",
       "      <th>stdout</th>\n",
       "      <td>[... CONTENT SHORTENED ...]\\notobufRpcEngine:2...</td>\n",
       "    </tr>\n",
       "    <tr>\n",
       "      <th>callbackhistory</th>\n",
       "      <td>[{u'timestamp': 1447558876.250819, u'state': u...</td>\n",
       "    </tr>\n",
       "    <tr>\n",
       "      <th>Agent_Output_Directives</th>\n",
       "      <td>[]</td>\n",
       "    </tr>\n",
       "    <tr>\n",
       "      <th>Agent_Output_Status</th>\n",
       "      <td>None</td>\n",
       "    </tr>\n",
       "    <tr>\n",
       "      <th>Agent_Input_Status</th>\n",
       "      <td>None</td>\n",
       "    </tr>\n",
       "    <tr>\n",
       "      <th>exec_locs</th>\n",
       "      <td>None</td>\n",
       "    </tr>\n",
       "    <tr>\n",
       "      <th>FTW_Input_Directives</th>\n",
       "      <td>[]</td>\n",
       "    </tr>\n",
       "    <tr>\n",
       "      <th>log</th>\n",
       "      <td>[{u'timestamp': 1447558875.294721, u'message':...</td>\n",
       "    </tr>\n",
       "    <tr>\n",
       "      <th>exit_code</th>\n",
       "      <td>0</td>\n",
       "    </tr>\n",
       "    <tr>\n",
       "      <th>FTW_Input_Status</th>\n",
       "      <td>None</td>\n",
       "    </tr>\n",
       "    <tr>\n",
       "      <th>state</th>\n",
       "      <td>Done</td>\n",
       "    </tr>\n",
       "    <tr>\n",
       "      <th>unitmanager</th>\n",
       "      <td>umgr.0004</td>\n",
       "    </tr>\n",
       "    <tr>\n",
       "      <th>statehistory</th>\n",
       "      <td>[{u'timestamp': 1447558875.276375, u'state': u...</td>\n",
       "    </tr>\n",
       "    <tr>\n",
       "      <th>FTW_Output_Directives</th>\n",
       "      <td>[]</td>\n",
       "    </tr>\n",
       "    <tr>\n",
       "      <th>pilot_sandbox</th>\n",
       "      <td>sftp://sc15.radical-cybertools.org/home/radica...</td>\n",
       "    </tr>\n",
       "    <tr>\n",
       "      <th>description</th>\n",
       "      <td>{u'kernel': None, u'executable': u'/bin/echo',...</td>\n",
       "    </tr>\n",
       "    <tr>\n",
       "      <th>restartable</th>\n",
       "      <td>False</td>\n",
       "    </tr>\n",
       "    <tr>\n",
       "      <th>started</th>\n",
       "      <td>None</td>\n",
       "    </tr>\n",
       "    <tr>\n",
       "      <th>FTW_Output_Status</th>\n",
       "      <td>None</td>\n",
       "    </tr>\n",
       "    <tr>\n",
       "      <th>finished</th>\n",
       "      <td>None</td>\n",
       "    </tr>\n",
       "    <tr>\n",
       "      <th>Agent_Input_Directives</th>\n",
       "      <td>[]</td>\n",
       "    </tr>\n",
       "    <tr>\n",
       "      <th>pilot</th>\n",
       "      <td>pilot.0004</td>\n",
       "    </tr>\n",
       "    <tr>\n",
       "      <th>submitted</th>\n",
       "      <td>1447558875.28</td>\n",
       "    </tr>\n",
       "    <tr>\n",
       "      <th>sandbox</th>\n",
       "      <td>sftp://sc15.radical-cybertools.org/home/radica...</td>\n",
       "    </tr>\n",
       "    <tr>\n",
       "      <th>stderr</th>\n",
       "      <td></td>\n",
       "    </tr>\n",
       "    <tr>\n",
       "      <th>_id</th>\n",
       "      <td>unit.000044</td>\n",
       "    </tr>\n",
       "  </tbody>\n",
       "</table>\n",
       "</div>"
      ],
      "text/plain": [
       "                                                                     Value\n",
       "control                                                               umgr\n",
       "stdout                   [... CONTENT SHORTENED ...]\\notobufRpcEngine:2...\n",
       "callbackhistory          [{u'timestamp': 1447558876.250819, u'state': u...\n",
       "Agent_Output_Directives                                                 []\n",
       "Agent_Output_Status                                                   None\n",
       "Agent_Input_Status                                                    None\n",
       "exec_locs                                                             None\n",
       "FTW_Input_Directives                                                    []\n",
       "log                      [{u'timestamp': 1447558875.294721, u'message':...\n",
       "exit_code                                                                0\n",
       "FTW_Input_Status                                                      None\n",
       "state                                                                 Done\n",
       "unitmanager                                                      umgr.0004\n",
       "statehistory             [{u'timestamp': 1447558875.276375, u'state': u...\n",
       "FTW_Output_Directives                                                   []\n",
       "pilot_sandbox            sftp://sc15.radical-cybertools.org/home/radica...\n",
       "description              {u'kernel': None, u'executable': u'/bin/echo',...\n",
       "restartable                                                          False\n",
       "started                                                               None\n",
       "FTW_Output_Status                                                     None\n",
       "finished                                                              None\n",
       "Agent_Input_Directives                                                  []\n",
       "pilot                                                           pilot.0004\n",
       "submitted                                                    1447558875.28\n",
       "sandbox                  sftp://sc15.radical-cybertools.org/home/radica...\n",
       "stderr                                                                    \n",
       "_id                                                            unit.000044"
      ]
     },
     "execution_count": 63,
     "metadata": {},
     "output_type": "execute_result"
    }
   ],
   "source": [
    "print_details(details[\"execution_details\"])"
   ]
  },
  {
   "cell_type": "code",
   "execution_count": 64,
   "metadata": {
    "collapsed": false
   },
   "outputs": [
    {
     "name": "stdout",
     "output_type": "stream",
     "text": [
      "[... CONTENT SHORTENED ...]\n",
      "otobufRpcEngine:250 - Call: getApplicationReport took 1ms\n",
      "2015-11-15 03:41:44 DEBUG Client:1032 - IPC Client (1561421084) connection to /10.63.179.69:8050 from radical sending #530\n",
      "2015-11-15 03:41:44 DEBUG Client:1089 - IPC Client (1561421084) connection to /10.63.179.69:8050 from radical got value #530\n",
      "2015-11-15 03:41:44 DEBUG ProtobufRpcEngine:250 - Call: getApplicationReport took 0ms\n",
      "2015-11-15 03:41:44 DEBUG Client:1032 - IPC Client (1561421084) connection to /10.63.179.69:8050 from radical sending #531\n",
      "2015-11-15 03:41:44 DEBUG Client:1089 - IPC Client (1561421084) connection to /10.63.179.69:8050 from radical got value #531\n",
      "2015-11-15 03:41:44 DEBUG ProtobufRpcEngine:250 - Call: getApplicationReport took 0ms\n",
      "2015-11-15 03:41:44 INFO  Client:792 - Application has completed successfully. Breaking monitoring loop\n",
      "2015-11-15 03:41:44 INFO  Client:240 - Application completed successfully\n",
      "2015-11-15 03:41:44 DEBUG Client:97 - stopping client from cache: org.apache.hadoop.ipc.Client@8a051f4\n",
      "I am CU number 1\n"
     ]
    }
   ],
   "source": [
    "print cu_results.stdout.strip()"
   ]
  },
  {
   "cell_type": "markdown",
   "metadata": {},
   "source": [
    "## 4. Close and Delete Session"
   ]
  },
  {
   "cell_type": "code",
   "execution_count": 95,
   "metadata": {
    "collapsed": true
   },
   "outputs": [],
   "source": [
    "yarn_session.close()\n",
    "del yarn_session"
   ]
  }
 ],
 "metadata": {
  "kernelspec": {
   "display_name": "Python 2",
   "language": "python",
   "name": "python2"
  },
  "language_info": {
   "codemirror_mode": {
    "name": "ipython",
    "version": 2
   },
   "file_extension": ".py",
   "mimetype": "text/x-python",
   "name": "python",
   "nbconvert_exporter": "python",
   "pygments_lexer": "ipython2",
   "version": "2.7.11"
  }
 },
 "nbformat": 4,
 "nbformat_minor": 0
}
