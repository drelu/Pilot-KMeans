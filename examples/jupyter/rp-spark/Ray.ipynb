{
 "cells": [
  {
   "cell_type": "code",
   "execution_count": 14,
   "metadata": {
    "collapsed": true
   },
   "outputs": [
    {
     "name": "stdout",
     "output_type": "stream",
     "text": [
      "Waiting for redis server at 127.0.0.1:22360 to respond...\n",
      "Not starting the web UI because the web UI requires Python 3.\n"
     ]
    },
    {
     "ename": "AssertionError",
     "evalue": "Perhaps you called ray.init twice by accident?",
     "output_type": "error",
     "traceback": [
      "\u001b[0;31m\u001b[0m",
      "\u001b[0;31mAssertionError\u001b[0mTraceback (most recent call last)",
      "\u001b[0;32m<ipython-input-14-8cc5c629ad6e>\u001b[0m in \u001b[0;36m<module>\u001b[0;34m()\u001b[0m\n\u001b[1;32m      1\u001b[0m \u001b[0;32mimport\u001b[0m \u001b[0mray\u001b[0m\u001b[0;34m\u001b[0m\u001b[0m\n\u001b[1;32m      2\u001b[0m \u001b[0;32mimport\u001b[0m \u001b[0mtime\u001b[0m\u001b[0;34m\u001b[0m\u001b[0m\n\u001b[0;32m----> 3\u001b[0;31m \u001b[0mray\u001b[0m\u001b[0;34m.\u001b[0m\u001b[0minit\u001b[0m\u001b[0;34m(\u001b[0m\u001b[0;34m)\u001b[0m\u001b[0;34m\u001b[0m\u001b[0m\n\u001b[0m",
      "\u001b[0;32m/home/01131/tg804093/.local/lib/python2.7/site-packages/ray-0.0.1-py2.7.egg/ray/worker.pyc\u001b[0m in \u001b[0;36minit\u001b[0;34m(redis_address, node_ip_address, object_id_seed, num_workers, driver_mode, redirect_output, num_cpus, num_gpus)\u001b[0m\n\u001b[1;32m   1053\u001b[0m                \u001b[0mnum_workers\u001b[0m\u001b[0;34m=\u001b[0m\u001b[0mnum_workers\u001b[0m\u001b[0;34m,\u001b[0m \u001b[0mdriver_mode\u001b[0m\u001b[0;34m=\u001b[0m\u001b[0mdriver_mode\u001b[0m\u001b[0;34m,\u001b[0m\u001b[0;34m\u001b[0m\u001b[0m\n\u001b[1;32m   1054\u001b[0m                \u001b[0mredirect_output\u001b[0m\u001b[0;34m=\u001b[0m\u001b[0mredirect_output\u001b[0m\u001b[0;34m,\u001b[0m \u001b[0mnum_cpus\u001b[0m\u001b[0;34m=\u001b[0m\u001b[0mnum_cpus\u001b[0m\u001b[0;34m,\u001b[0m\u001b[0;34m\u001b[0m\u001b[0m\n\u001b[0;32m-> 1055\u001b[0;31m                num_gpus=num_gpus)\n\u001b[0m\u001b[1;32m   1056\u001b[0m \u001b[0;34m\u001b[0m\u001b[0m\n\u001b[1;32m   1057\u001b[0m \u001b[0;34m\u001b[0m\u001b[0m\n",
      "\u001b[0;32m/home/01131/tg804093/.local/lib/python2.7/site-packages/ray-0.0.1-py2.7.egg/ray/worker.pyc\u001b[0m in \u001b[0;36m_init\u001b[0;34m(address_info, start_ray_local, object_id_seed, num_workers, num_local_schedulers, driver_mode, redirect_output, start_workers_from_local_scheduler, num_cpus, num_gpus)\u001b[0m\n\u001b[1;32m   1007\u001b[0m                                         [\"local_scheduler_socket_names\"][0])}\n\u001b[1;32m   1008\u001b[0m   connect(driver_address_info, object_id_seed=object_id_seed, mode=driver_mode,\n\u001b[0;32m-> 1009\u001b[0;31m           worker=global_worker, actor_id=NIL_ACTOR_ID)\n\u001b[0m\u001b[1;32m   1010\u001b[0m   \u001b[0;32mreturn\u001b[0m \u001b[0maddress_info\u001b[0m\u001b[0;34m\u001b[0m\u001b[0m\n\u001b[1;32m   1011\u001b[0m \u001b[0;34m\u001b[0m\u001b[0m\n",
      "\u001b[0;32m/home/01131/tg804093/.local/lib/python2.7/site-packages/ray-0.0.1-py2.7.egg/ray/worker.pyc\u001b[0m in \u001b[0;36mconnect\u001b[0;34m(info, object_id_seed, mode, worker, actor_id)\u001b[0m\n\u001b[1;32m   1330\u001b[0m   \u001b[0;31m# Do some basic checking to make sure we didn't call ray.init twice.\u001b[0m\u001b[0;34m\u001b[0m\u001b[0;34m\u001b[0m\u001b[0m\n\u001b[1;32m   1331\u001b[0m   \u001b[0merror_message\u001b[0m \u001b[0;34m=\u001b[0m \u001b[0;34m\"Perhaps you called ray.init twice by accident?\"\u001b[0m\u001b[0;34m\u001b[0m\u001b[0m\n\u001b[0;32m-> 1332\u001b[0;31m   \u001b[0;32massert\u001b[0m \u001b[0;32mnot\u001b[0m \u001b[0mworker\u001b[0m\u001b[0;34m.\u001b[0m\u001b[0mconnected\u001b[0m\u001b[0;34m,\u001b[0m \u001b[0merror_message\u001b[0m\u001b[0;34m\u001b[0m\u001b[0m\n\u001b[0m\u001b[1;32m   1333\u001b[0m   \u001b[0;32massert\u001b[0m \u001b[0mworker\u001b[0m\u001b[0;34m.\u001b[0m\u001b[0mcached_functions_to_run\u001b[0m \u001b[0;32mis\u001b[0m \u001b[0;32mnot\u001b[0m \u001b[0mNone\u001b[0m\u001b[0;34m,\u001b[0m \u001b[0merror_message\u001b[0m\u001b[0;34m\u001b[0m\u001b[0m\n\u001b[1;32m   1334\u001b[0m   \u001b[0;32massert\u001b[0m \u001b[0mworker\u001b[0m\u001b[0;34m.\u001b[0m\u001b[0mcached_remote_functions\u001b[0m \u001b[0;32mis\u001b[0m \u001b[0;32mnot\u001b[0m \u001b[0mNone\u001b[0m\u001b[0;34m,\u001b[0m \u001b[0merror_message\u001b[0m\u001b[0;34m\u001b[0m\u001b[0m\n",
      "\u001b[0;31mAssertionError\u001b[0m: Perhaps you called ray.init twice by accident?"
     ]
    }
   ],
   "source": [
    "import ray\n",
    "import time\n",
    "ray.init()"
   ]
  },
  {
   "cell_type": "code",
   "execution_count": 15,
   "metadata": {
    "collapsed": true
   },
   "outputs": [],
   "source": [
    "import subprocess\n",
    "@ray.remote\n",
    "def output_date(n):\n",
    "    with open(\"/gpfs/flash/users/tg804093/ray-out-%d.txt\"%n, \"w\") as f:\n",
    "        f.write(subprocess.check_output([\"/bin/date\"]))"
   ]
  },
  {
   "cell_type": "code",
   "execution_count": 12,
   "metadata": {
    "collapsed": false
   },
   "outputs": [
    {
     "data": {
      "text/plain": [
       "[ObjectID(095a5973186a51e29ab0545ad693347f93e951d4),\n",
       " ObjectID(2f5c20bca56da677fdffed85e2f3eb79fea33797),\n",
       " ObjectID(2ff82a370df161bbf5659bb4d68f00f556b08763),\n",
       " ObjectID(26cb1561fda4959818800d837ef1176f7d58e20c),\n",
       " ObjectID(c923083765e34f02bfe18cb5fdb478e5f420a4d3),\n",
       " ObjectID(31bb4bf50930b584494590a8d39baf19e70a7cfe),\n",
       " ObjectID(052a1245f533cafd7e5ff7445aec81cf30bdd20a),\n",
       " ObjectID(cdc177d4ffa951915c5a0eb63e9ec89fbefa85b1),\n",
       " ObjectID(599637077bebf0b6b70cd0b8ffa0f8ac4aa94ca2),\n",
       " ObjectID(0415c30b6ee51f245b0a0f6b25c7b4dbde376b69)]"
      ]
     },
     "execution_count": 12,
     "metadata": {},
     "output_type": "execute_result"
    }
   ],
   "source": [
    "[output_date.remote(i) for i in range(10)]"
   ]
  },
  {
   "cell_type": "code",
   "execution_count": 18,
   "metadata": {
    "collapsed": false
   },
   "outputs": [
    {
     "name": "stdout",
     "output_type": "stream",
     "text": [
      "Ray-0.01, 1, Runtime, 0.0033\n",
      "Ray-0.01, 2, Runtime, 0.0033\n",
      "Ray-0.01, 4, Runtime, 0.0033\n",
      "Ray-0.01, 8, Runtime, 0.0032\n",
      "Ray-0.01, 16, Runtime, 0.0059\n",
      "Ray-0.01, 32, Runtime, 0.0095\n",
      "Ray-0.01, 64, Runtime, 0.0173\n",
      "Ray-0.01, 128, Runtime, 0.0337\n",
      "Ray-0.01, 256, Runtime, 0.0651\n",
      "Ray-0.01, 512, Runtime, 0.1258\n",
      "Ray-0.01, 1024, Runtime, 0.2352\n",
      "Ray-0.01, 2048, Runtime, 0.4302\n",
      "Ray-0.01, 4096, Runtime, 0.7924\n",
      "Ray-0.01, 8192, Runtime, 1.5542\n",
      "Ray-0.01, 16384, Runtime, 4.8964\n",
      "Ray-0.01, 32768, Runtime, 11.8675\n",
      "Ray-0.01, 65536, Runtime, 33.8528\n",
      "Ray-0.01, 131072, Runtime, 101.9104\n"
     ]
    }
   ],
   "source": [
    "scenarios = [1, 2, 4, 8, 16, 32, 64, 128, 256, 512, 1024, 2048, 4096, 8192, 16384, 32768, 65536, 131072]\n",
    "#scenarios = [16]    \n",
    "\n",
    "for n in scenarios:\n",
    "    start_time = time.time()\n",
    "    task_ids = [output_date.remote(i) for i in range(n)]\n",
    "    ray.wait(task_ids, num_returns=len(task_ids))\n",
    "    end_time= time.time()\n",
    "    print(\"Ray-%s, %d, Runtime, %.4f\"%(ray.__version__, n, (end_time-start_time)))"
   ]
  },
  {
   "cell_type": "code",
   "execution_count": null,
   "metadata": {
    "collapsed": true
   },
   "outputs": [],
   "source": []
  }
 ],
 "metadata": {
  "kernelspec": {
   "display_name": "Python 2",
   "language": "python",
   "name": "python2"
  },
  "language_info": {
   "codemirror_mode": {
    "name": "ipython",
    "version": 2
   },
   "file_extension": ".py",
   "mimetype": "text/x-python",
   "name": "python",
   "nbconvert_exporter": "python",
   "pygments_lexer": "ipython2",
   "version": "2.7.11"
  }
 },
 "nbformat": 4,
 "nbformat_minor": 0
}
