{
 "cells": [
  {
   "cell_type": "markdown",
   "metadata": {},
   "source": [
    "# Tensorflow Throughput Experiment"
   ]
  },
  {
   "cell_type": "code",
   "execution_count": 1,
   "metadata": {
    "ExecuteTime": {
     "end_time": "2017-04-30T22:05:47.556411",
     "start_time": "2017-04-30T22:05:45.776328"
    },
    "run_control": {
     "frozen": false,
     "read_only": false
    }
   },
   "outputs": [],
   "source": [
    "import tensorflow as tf\n",
    "import numpy as np\n",
    "import subprocess\n",
    "import sys, os\n",
    "import random\n",
    "import time\n",
    "import re\n",
    "import uuid\n",
    "tf.__version__\n",
    "sess = tf.InteractiveSession()"
   ]
  },
  {
   "cell_type": "markdown",
   "metadata": {
    "ExecuteTime": {
     "end_time": "2017-04-30T18:02:27.427183",
     "start_time": "2017-04-30T18:02:27.421146"
    }
   },
   "source": [
    "## Definition of Map Task"
   ]
  },
  {
   "cell_type": "code",
   "execution_count": 2,
   "metadata": {
    "ExecuteTime": {
     "end_time": "2017-04-30T22:05:47.570469",
     "start_time": "2017-04-30T22:05:47.563278"
    }
   },
   "outputs": [],
   "source": [
    "out_dir=\"out\"\n",
    "def output_date(a):\n",
    "    #tf.Print(a, [a], \"A: \")\n",
    "    #tf.get_variable_scope().reuse_variables()\n",
    "    #c = tf.get_variable(\"Count\", shape=[1])\n",
    "    uuid_str = uuid.uuid4()\n",
    "    #c = c + 1\n",
    "    #l=tf.unstack(a)\n",
    "    with open(os.path.join(out_dir,\"tf-out-%s.txt\"%uuid_str), \"a\") as f:\n",
    "        f.write(subprocess.check_output([\"/bin/date\"]))\n",
    "        #f.write(str(a))\n",
    "        f.flush()\n",
    "    return 0\n",
    "    #res = subprocess.check_output([\"/bin/date\"])\n",
    "    #return res    "
   ]
  },
  {
   "cell_type": "markdown",
   "metadata": {},
   "source": [
    "## Execution"
   ]
  },
  {
   "cell_type": "code",
   "execution_count": 3,
   "metadata": {
    "ExecuteTime": {
     "end_time": "2017-04-30T22:05:49.228476",
     "start_time": "2017-04-30T22:05:49.193508"
    }
   },
   "outputs": [],
   "source": [
    "counter = tf.get_variable(\"Count\", shape=[1], initializer=tf.constant_initializer(0))\n",
    "tf.get_variable_scope().reuse_variables()\n",
    "sess.run(tf.global_variables_initializer())"
   ]
  },
  {
   "cell_type": "code",
   "execution_count": 4,
   "metadata": {
    "ExecuteTime": {
     "end_time": "2017-04-30T22:05:49.891370",
     "start_time": "2017-04-30T22:05:49.819854"
    }
   },
   "outputs": [],
   "source": [
    "elems = np.array([1, 2, 3, 4, 5, 6])\n",
    "#elems = tf.placeholder(tf.int64, shape=(6))\n",
    "map_task = tf.map_fn(output_date, np.array([1]), dtype=tf.int32)"
   ]
  },
  {
   "cell_type": "code",
   "execution_count": 5,
   "metadata": {
    "ExecuteTime": {
     "end_time": "2017-04-30T22:05:50.334581",
     "start_time": "2017-04-30T22:05:50.291768"
    }
   },
   "outputs": [
    {
     "data": {
      "text/plain": [
       "array([0], dtype=int32)"
      ]
     },
     "execution_count": 5,
     "metadata": {},
     "output_type": "execute_result"
    }
   ],
   "source": [
    "sess.run(map_task)"
   ]
  },
  {
   "cell_type": "markdown",
   "metadata": {
    "ExecuteTime": {
     "end_time": "2017-04-30T18:02:51.791282",
     "start_time": "2017-04-30T18:02:51.788287"
    }
   },
   "source": [
    "# Performance Benchmark"
   ]
  },
  {
   "cell_type": "code",
   "execution_count": 15,
   "metadata": {
    "ExecuteTime": {
     "end_time": "2017-04-30T22:13:25.364667",
     "start_time": "2017-04-30T22:11:16.721151"
    }
   },
   "outputs": [
    {
     "name": "stdout",
     "output_type": "stream",
     "text": [
      "TF-cpu-local-1.1.0, 128, Runtime, 128.6328\n"
     ]
    }
   ],
   "source": [
    "#scenarios = [1, 2, 4, 8, 16, 32, 64, 128, 256, 512, 1024, 2048, 4096, 8192, 16384, 32768, 65536, 131072]\n",
    "scenarios = [128]\n",
    "\n",
    "for n in scenarios:\n",
    "    start_time = time.time()\n",
    "    map_task_benchmark = tf.map_fn(output_date, np.array([1]), dtype=tf.int32)\n",
    "    with tf.Session() as sess:\n",
    "        r = []\n",
    "        for i in range(n):\n",
    "            #print \"Call %d\"%i\n",
    "            r.append(sess.run([map_task_benchmark]))\n",
    "            time.sleep(1)\n",
    "    end_time= time.time()\n",
    "    print(\"TF-cpu-local-%s, %d, Runtime, %.4f\"%(tf.__version__, n, (end_time-start_time)))"
   ]
  },
  {
   "cell_type": "code",
   "execution_count": 14,
   "metadata": {
    "ExecuteTime": {
     "end_time": "2017-04-30T22:09:42.715345",
     "start_time": "2017-04-30T22:09:42.710422"
    }
   },
   "outputs": [
    {
     "data": {
      "text/plain": [
       "128"
      ]
     },
     "execution_count": 14,
     "metadata": {},
     "output_type": "execute_result"
    }
   ],
   "source": [
    "len(r)"
   ]
  },
  {
   "cell_type": "code",
   "execution_count": 116,
   "metadata": {
    "ExecuteTime": {
     "end_time": "2017-04-30T18:17:39.298380",
     "start_time": "2017-04-30T18:17:39.290782"
    }
   },
   "outputs": [
    {
     "data": {
      "text/plain": [
       "array([8092690057023870886, 8092690057023870886, 8092690057023870886,\n",
       "       8092690057023870886, 8092690057023870886, 8092690057023870886,\n",
       "       8092690057023870886, 8092690057023870886, 8092690057023870886,\n",
       "       8092690057023870886, 8092690057023870886, 8092690057023870886,\n",
       "       8092690057023870886, 8092690057023870886, 8092690057023870886,\n",
       "       8092690057023870886, 8092690057023870886, 8092690057023870886,\n",
       "       8092690057023870886, 8092690057023870886, 8092690057023870886,\n",
       "       8092690057023870886, 8092690057023870886, 8092690057023870886,\n",
       "       8092690057023870886, 8092690057023870886, 8092690057023870886,\n",
       "       8092690057023870886, 8092690057023870886, 8092690057023870886,\n",
       "       8092690057023870886, 8092690057023870886, 8092690057023870886,\n",
       "       8092690057023870886, 8092690057023870886, 8092690057023870886,\n",
       "       8092690057023870886, 8092690057023870886, 8092690057023870886,\n",
       "       8092690057023870886, 8092690057023870886, 8092690057023870886,\n",
       "       8092690057023870886, 8092690057023870886, 8092690057023870886,\n",
       "       8092690057023870886, 8092690057023870886, 8092690057023870886,\n",
       "       8092690057023870886, 8092690057023870886, 8092690057023870886,\n",
       "       8092690057023870886, 8092690057023870886, 8092690057023870886,\n",
       "       8092690057023870886, 8092690057023870886, 8092690057023870886,\n",
       "       8092690057023870886, 8092690057023870886, 8092690057023870886,\n",
       "       8092690057023870886, 8092690057023870886, 8092690057023870886,\n",
       "       8092690057023870886, 8092690057023870886, 8092690057023870886,\n",
       "       8092690057023870886, 8092690057023870886, 8092690057023870886,\n",
       "       8092690057023870886, 8092690057023870886, 8092690057023870886,\n",
       "       8092690057023870886, 8092690057023870886, 8092690057023870886,\n",
       "       8092690057023870886, 8092690057023870886, 8092690057023870886,\n",
       "       8092690057023870886, 8092690057023870886, 8092690057023870886,\n",
       "       8092690057023870886, 8092690057023870886, 8092690057023870886,\n",
       "       8092690057023870886, 8092690057023870886, 8092690057023870886,\n",
       "       8092690057023870886, 8092690057023870886, 8092690057023870886,\n",
       "       8092690057023870886, 8092690057023870886, 8092690057023870886,\n",
       "       8092690057023870886, 8092690057023870886, 8092690057023870886,\n",
       "       8092690057023870886, 8092690057023870886, 8092690057023870886,\n",
       "       8092690057023870886])"
      ]
     },
     "execution_count": 116,
     "metadata": {},
     "output_type": "execute_result"
    }
   ],
   "source": [
    "r[:100]"
   ]
  },
  {
   "cell_type": "code",
   "execution_count": null,
   "metadata": {
    "collapsed": true
   },
   "outputs": [],
   "source": []
  }
 ],
 "metadata": {
  "kernelspec": {
   "display_name": "Python 2",
   "language": "python",
   "name": "python2"
  },
  "language_info": {
   "codemirror_mode": {
    "name": "ipython",
    "version": 2
   },
   "file_extension": ".py",
   "mimetype": "text/x-python",
   "name": "python",
   "nbconvert_exporter": "python",
   "pygments_lexer": "ipython2",
   "version": "2.7.13"
  },
  "toc": {
   "toc_cell": false,
   "toc_number_sections": true,
   "toc_threshold": 6,
   "toc_window_display": false
  }
 },
 "nbformat": 4,
 "nbformat_minor": 2
}
