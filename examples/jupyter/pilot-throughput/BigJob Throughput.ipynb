{
 "cells": [
  {
   "cell_type": "code",
   "execution_count": 1,
   "metadata": {
    "collapsed": false
   },
   "outputs": [
    {
     "name": "stderr",
     "output_type": "stream",
     "text": [
      "/home/01131/tg804093/anaconda2/lib/python2.7/site-packages/radical/utils/atfork/stdlib_fixer.py:58: UserWarning: logging module already imported before fixup.\n",
      "  warnings.warn('logging module already imported before fixup.')\n",
      "/home/01131/tg804093/anaconda2/lib/python2.7/site-packages/radical/utils/atfork/stdlib_fixer.py:65: UserWarning: logging handlers already registered.\n",
      "  warnings.warn('logging handlers already registered.')\n"
     ]
    }
   ],
   "source": [
    "import sys\n",
    "import os\n",
    "import time\n",
    "from pilot import PilotComputeService, ComputeDataService, ComputeDataServiceDecentral, State\n",
    "\n",
    "COORDINATION_URL = \"redis://localhost:6379\""
   ]
  },
  {
   "cell_type": "code",
   "execution_count": 2,
   "metadata": {
    "collapsed": false
   },
   "outputs": [
    {
     "name": "stdout",
     "output_type": "stream",
     "text": [
      "CPU times: user 50.3 ms, sys: 50 ms, total: 100 ms\n",
      "Wall time: 2.93 s\n"
     ]
    }
   ],
   "source": [
    "%%time\n",
    "pilot_compute_service = PilotComputeService(coordination_url=COORDINATION_URL)\n",
    "\n",
    "# create pilot job service and initiate a pilot job\n",
    "pilot_compute_description = {\n",
    "                         \"service_url\": 'subprocess://localhost',\n",
    "                         #\"service_url\": 'ssh://localhost',\n",
    "                         \"number_of_processes\": 24,                             \n",
    "                         \"working_directory\": \"/gpfs/flash/users/tg804093/bigjob/\",\n",
    "                        }\n",
    "\n",
    "pilotjob = pilot_compute_service.create_pilot(pilot_compute_description=pilot_compute_description)\n",
    "     \n",
    "compute_data_service = ComputeDataServiceDecentral()\n",
    "compute_data_service.add_pilot_compute_service(pilot_compute_service)"
   ]
  },
  {
   "cell_type": "code",
   "execution_count": 5,
   "metadata": {
    "collapsed": false
   },
   "outputs": [
    {
     "name": "stdout",
     "output_type": "stream",
     "text": [
      "Finished setup. Waiting for scheduling of CU\n",
      "CPU times: user 246 ms, sys: 40.8 ms, total: 287 ms\n",
      "Wall time: 4.28 s\n"
     ]
    }
   ],
   "source": [
    "%%time\n",
    "# start work unit\n",
    "compute_unit_description = {\n",
    "        \"executable\": \"/bin/date\",\n",
    "        \"number_of_processes\": 1,            \n",
    "        \"output\": \"stdout.txt\",\n",
    "        \"error\": \"stderr.txt\",\n",
    "}    \n",
    "\n",
    "for i in range(0,14):\n",
    "    compute_unit = compute_data_service.submit_compute_unit_batch([compute_unit_description])\n",
    "    \n",
    "    \n",
    "print(\"Finished setup. Waiting for scheduling of CU\")\n",
    "compute_data_service.wait()"
   ]
  },
  {
   "cell_type": "code",
   "execution_count": null,
   "metadata": {
    "collapsed": false
   },
   "outputs": [
    {
     "name": "stdout",
     "output_type": "stream",
     "text": [
      "BigJob-Batch, 1, Runtime, 8.0396\n",
      "BigJob-Batch, 2, Runtime, 6.0481\n",
      "BigJob-Batch, 4, Runtime, 4.0706\n",
      "BigJob-Batch, 8, Runtime, 6.1280\n",
      "BigJob-Batch, 16, Runtime, 4.2941\n",
      "BigJob-Batch, 32, Runtime, 6.4703\n"
     ]
    }
   ],
   "source": [
    "import time\n",
    "\n",
    "scenarios = [1, 2, 4, 8, 16, 32, 64, 128, 256, 512, 1024, 2048, 4096, 8192, 16384, 32768, 65536, 131072]\n",
    "#scenarios = [16]    \n",
    "\n",
    "for n in scenarios:\n",
    "    start_time = time.time()\n",
    "    cu_list = []\n",
    "    for i in range(n):\n",
    "        compute_unit_description = {\n",
    "        \"executable\": \"/bin/date\",\n",
    "        \"number_of_processes\": 1,            \n",
    "        \"output\": \"stdout.txt\",\n",
    "        \"error\": \"stderr.txt\",\n",
    "        }    \n",
    "        cu_list.append(compute_unit_description)\n",
    "\n",
    "    compute_data_service.submit_compute_unit_batch(cu_list)\n",
    "    compute_data_service.wait()\n",
    "    end_time= time.time()\n",
    "    print(\"BigJob-Batch, %d, Runtime, %.4f\"%(n, (end_time-start_time)))"
   ]
  },
  {
   "cell_type": "code",
   "execution_count": null,
   "metadata": {
    "collapsed": true
   },
   "outputs": [],
   "source": [
    "pilotjob.cancel()"
   ]
  },
  {
   "cell_type": "code",
   "execution_count": null,
   "metadata": {
    "collapsed": true
   },
   "outputs": [],
   "source": []
  }
 ],
 "metadata": {
  "kernelspec": {
   "display_name": "Python 2",
   "language": "python",
   "name": "python2"
  },
  "language_info": {
   "codemirror_mode": {
    "name": "ipython",
    "version": 2
   },
   "file_extension": ".py",
   "mimetype": "text/x-python",
   "name": "python",
   "nbconvert_exporter": "python",
   "pygments_lexer": "ipython2",
   "version": "2.7.11"
  }
 },
 "nbformat": 4,
 "nbformat_minor": 0
}
