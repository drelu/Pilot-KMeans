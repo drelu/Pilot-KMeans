{
 "cells": [
  {
   "cell_type": "markdown",
   "metadata": {},
   "source": [
    "# RADICAL-Pilot, Spark, Dask Throughput\n",
    "\n",
    "Utilize the examples below to familiarize yourself with RADICAL-Pilot.\n",
    "\n",
    "We will:\n",
    "* Modify settings (environment variables) if needed\n",
    "* Modify the example to print out the hostname of the machine that runs the Pilot\n",
    "\n",
    "\n",
    "**Please make sure that you always close the session before terminating the notebook using `session.close()`**\n",
    "\n",
    "for local testing set `export SPARK_LOCAL_IP=127.0.0.1`\n",
    "\n",
    "Start Mongo (on Wrangler):\n",
    "        \n",
    "        mongod --dbpath=/gpfs/flash/users/tg804093/mongo\n",
    "\n",
    "## RADICAL-Pilot Setup\n",
    "\n",
    "Documentation: http://radicalpilot.readthedocs.org/en/latest/machconf.html#preconfigured-resources\n",
    "\n",
    "First, we will import the necessary dependencies and define some helper functions."
   ]
  },
  {
   "cell_type": "code",
   "execution_count": 1,
   "metadata": {
    "ExecuteTime": {
     "end_time": "2016-05-21T09:51:50.772963",
     "start_time": "2016-05-21T09:51:49.365224"
    },
    "run_control": {
     "frozen": false,
     "read_only": false
    }
   },
   "outputs": [
    {
     "name": "stderr",
     "output_type": "stream",
     "text": [
      "/home/01131/tg804093/anaconda2/lib/python2.7/site-packages/radical/utils/atfork/stdlib_fixer.py:58: UserWarning: logging module already imported before fixup.\n",
      "  warnings.warn('logging module already imported before fixup.')\n",
      "/home/01131/tg804093/anaconda2/lib/python2.7/site-packages/radical/utils/atfork/stdlib_fixer.py:65: UserWarning: logging handlers already registered.\n",
      "  warnings.warn('logging handlers already registered.')\n"
     ]
    }
   ],
   "source": [
    "%matplotlib inline\n",
    "import os, sys\n",
    "import commands\n",
    "import radical.pilot as rp\n",
    "import random\n",
    "import pandas as pd\n",
    "import ast\n",
    "import seaborn as sns\n",
    "\n",
    "def print_details(detail_object):\n",
    "    if type(detail_object)==str:\n",
    "        detail_object = ast.literal_eval(detail_object)\n",
    "    for i in detail_object:\n",
    "        detail_object[i]=str(detail_object[i])\n",
    "    return pd.DataFrame(detail_object.values(), \n",
    "             index=detail_object.keys(), \n",
    "             columns=[\"Value\"])\n",
    "\n",
    "os.environ[\"RADICAL_PILOT_VERBOSE\"]=\"ERROR\"\n",
    "os.environ[\"RADICAL_SAGA_PTY_VERBOSE\"]=\"ERROR\" \n",
    "#os.environ[\"RADICAL_PILOT_DBURL\"]=\"mongodb://mongo.radical-cybertools.org:24242/sc15-test000\"\n",
    "os.environ[\"RADICAL_PILOT_DBURL\"]=\"mongodb://localhost:27017/sc15-test000\""
   ]
  },
  {
   "cell_type": "markdown",
   "metadata": {},
   "source": [
    "## Local Pilot Example\n",
    "\n",
    "This example shows how to execute a task using a Pilot-Job running on the local machine. In this case, the Pilot-Job is started using **ssh** on the edge node machine of the Hadoop cluster (which runs Jupyterhub - the iPython notebook server).\n",
    "\n",
    "### Create a new Session and Pilot-Manager. "
   ]
  },
  {
   "cell_type": "code",
   "execution_count": 2,
   "metadata": {
    "ExecuteTime": {
     "end_time": "2016-05-21T09:52:01.437001",
     "start_time": "2016-05-21T09:52:00.794083"
    },
    "run_control": {
     "frozen": false,
     "read_only": false
    }
   },
   "outputs": [
    {
     "name": "stdout",
     "output_type": "stream",
     "text": [
      "Session id: rp.session.c251-116.wrangler.tacc.utexas.edu.tg804093.017252.0002 Pilot Manager: {'uid': 'pmgr.0000'}\n",
      "CPU times: user 128 ms, sys: 35.2 ms, total: 163 ms\n",
      "Wall time: 201 ms\n"
     ]
    }
   ],
   "source": [
    "%%time\n",
    "session = rp.Session()\n",
    "pmgr = rp.PilotManager(session=session)\n",
    "umgr = rp.UnitManager (session=session,\n",
    "                       scheduler=rp.SCHED_ROUND_ROBIN)\n",
    "print \"Session id: %s Pilot Manager: %s\" % (session.uid, str(pmgr.as_dict()))"
   ]
  },
  {
   "cell_type": "code",
   "execution_count": 3,
   "metadata": {
    "ExecuteTime": {
     "end_time": "2016-05-21T09:52:02.279931",
     "start_time": "2016-05-21T09:52:02.266924"
    },
    "run_control": {
     "frozen": false,
     "read_only": false
    }
   },
   "outputs": [
    {
     "data": {
      "text/html": [
       "<div>\n",
       "<table border=\"1\" class=\"dataframe\">\n",
       "  <thead>\n",
       "    <tr style=\"text-align: right;\">\n",
       "      <th></th>\n",
       "      <th>Value</th>\n",
       "    </tr>\n",
       "  </thead>\n",
       "  <tbody>\n",
       "    <tr>\n",
       "      <th>uid</th>\n",
       "      <td>umgr.0000</td>\n",
       "    </tr>\n",
       "    <tr>\n",
       "      <th>scheduler</th>\n",
       "      <td>RoundRobinScheduler</td>\n",
       "    </tr>\n",
       "    <tr>\n",
       "      <th>scheduler_details</th>\n",
       "      <td>NO SCHEDULER DETAILS (Not Implemented)</td>\n",
       "    </tr>\n",
       "  </tbody>\n",
       "</table>\n",
       "</div>"
      ],
      "text/plain": [
       "                                                    Value\n",
       "uid                                             umgr.0000\n",
       "scheduler                             RoundRobinScheduler\n",
       "scheduler_details  NO SCHEDULER DETAILS (Not Implemented)"
      ]
     },
     "execution_count": 3,
     "metadata": {},
     "output_type": "execute_result"
    }
   ],
   "source": [
    "print_details(umgr.as_dict())"
   ]
  },
  {
   "cell_type": "markdown",
   "metadata": {},
   "source": [
    "### 2.2 Submit Pilot and add to Unit Manager"
   ]
  },
  {
   "cell_type": "code",
   "execution_count": 4,
   "metadata": {
    "ExecuteTime": {
     "end_time": "2016-05-21T09:52:04.471728",
     "start_time": "2016-05-21T09:52:03.866441"
    },
    "collapsed": true,
    "run_control": {
     "frozen": false,
     "read_only": false
    }
   },
   "outputs": [],
   "source": [
    "pdesc = rp.ComputePilotDescription()\n",
    "pdesc.resource = \"local.localhost_anaconda\"  # NOTE: This is a \"label\", not a hostname\n",
    "pdesc.runtime  = 120 # minutes\n",
    "pdesc.cores    = 48\n",
    "pdesc.cleanup  = False\n",
    "pilot = pmgr.submit_pilots(pdesc)\n",
    "umgr.add_pilots(pilot)"
   ]
  },
  {
   "cell_type": "code",
   "execution_count": 5,
   "metadata": {
    "run_control": {
     "frozen": false,
     "read_only": false
    }
   },
   "outputs": [
    {
     "data": {
      "text/html": [
       "<div>\n",
       "<table border=\"1\" class=\"dataframe\">\n",
       "  <thead>\n",
       "    <tr style=\"text-align: right;\">\n",
       "      <th></th>\n",
       "      <th>Value</th>\n",
       "    </tr>\n",
       "  </thead>\n",
       "  <tbody>\n",
       "    <tr>\n",
       "      <th>uid</th>\n",
       "      <td>pilot.0000</td>\n",
       "    </tr>\n",
       "    <tr>\n",
       "      <th>stdout</th>\n",
       "      <td>None</td>\n",
       "    </tr>\n",
       "    <tr>\n",
       "      <th>start_time</th>\n",
       "      <td>None</td>\n",
       "    </tr>\n",
       "    <tr>\n",
       "      <th>resource_detail</th>\n",
       "      <td>{'cores_per_node': None, 'nodes': None, 'lm_de...</td>\n",
       "    </tr>\n",
       "    <tr>\n",
       "      <th>submission_time</th>\n",
       "      <td>1490581667.5</td>\n",
       "    </tr>\n",
       "    <tr>\n",
       "      <th>logfile</th>\n",
       "      <td>None</td>\n",
       "    </tr>\n",
       "    <tr>\n",
       "      <th>resource</th>\n",
       "      <td>local.localhost_anaconda</td>\n",
       "    </tr>\n",
       "    <tr>\n",
       "      <th>log</th>\n",
       "      <td>[]</td>\n",
       "    </tr>\n",
       "    <tr>\n",
       "      <th>sandbox</th>\n",
       "      <td>file://localhost/home/01131/tg804093/radical.p...</td>\n",
       "    </tr>\n",
       "    <tr>\n",
       "      <th>state</th>\n",
       "      <td>Launching</td>\n",
       "    </tr>\n",
       "    <tr>\n",
       "      <th>stop_time</th>\n",
       "      <td>None</td>\n",
       "    </tr>\n",
       "    <tr>\n",
       "      <th>stderr</th>\n",
       "      <td>None</td>\n",
       "    </tr>\n",
       "  </tbody>\n",
       "</table>\n",
       "</div>"
      ],
      "text/plain": [
       "                                                             Value\n",
       "uid                                                     pilot.0000\n",
       "stdout                                                        None\n",
       "start_time                                                    None\n",
       "resource_detail  {'cores_per_node': None, 'nodes': None, 'lm_de...\n",
       "submission_time                                       1490581667.5\n",
       "logfile                                                       None\n",
       "resource                                  local.localhost_anaconda\n",
       "log                                                             []\n",
       "sandbox          file://localhost/home/01131/tg804093/radical.p...\n",
       "state                                                    Launching\n",
       "stop_time                                                     None\n",
       "stderr                                                        None"
      ]
     },
     "execution_count": 5,
     "metadata": {},
     "output_type": "execute_result"
    }
   ],
   "source": [
    "print_details(pilot.as_dict())"
   ]
  },
  {
   "cell_type": "markdown",
   "metadata": {},
   "source": [
    "### 2.3 Submit Compute Units\n",
    "\n",
    "Create a description of the compute unit, which specifies the details of the task to be executed."
   ]
  },
  {
   "cell_type": "code",
   "execution_count": null,
   "metadata": {
    "ExecuteTime": {
     "end_time": "2016-05-21T09:52:42.975850",
     "start_time": "2016-05-21T09:52:42.969597"
    },
    "collapsed": true,
    "run_control": {
     "frozen": false,
     "read_only": false
    }
   },
   "outputs": [],
   "source": [
    "cudesc_list=[]\n",
    "cudesc = rp.ComputeUnitDescription()\n",
    "cudesc.executable  = \"/bin/sleep\"\n",
    "cudesc.arguments   = ['0']\n",
    "cudesc.cores       = 1\n",
    "cudesc_list.append(cudesc)"
   ]
  },
  {
   "cell_type": "markdown",
   "metadata": {},
   "source": [
    "Submit the previously created ComputeUnit descriptions to the PilotManager. This will trigger the selected scheduler (in this case the round-robin scheduler) to start assigning ComputeUnits to the ComputePilots."
   ]
  },
  {
   "cell_type": "code",
   "execution_count": null,
   "metadata": {
    "ExecuteTime": {
     "end_time": "2016-05-21T09:52:49.900573",
     "start_time": "2016-05-21T09:52:45.329182"
    },
    "collapsed": true,
    "run_control": {
     "frozen": false,
     "read_only": false
    }
   },
   "outputs": [],
   "source": [
    "print \"Submit Compute Units to Unit Manager ...\"\n",
    "cu_set = umgr.submit_units(cudesc_list)\n",
    "print \"Waiting for CUs to complete ...\"\n",
    "umgr.wait_units()\n",
    "print \"All CUs completed successfully!\"\n",
    "cu_results = cu_set[0]\n",
    "details=cu_results.as_dict()"
   ]
  },
  {
   "cell_type": "markdown",
   "metadata": {},
   "source": [
    "---\n",
    "The next command will provide the state of the Pilot and other pilot details."
   ]
  },
  {
   "cell_type": "code",
   "execution_count": null,
   "metadata": {
    "collapsed": true,
    "run_control": {
     "frozen": false,
     "read_only": false
    }
   },
   "outputs": [],
   "source": [
    "print_details(details)"
   ]
  },
  {
   "cell_type": "markdown",
   "metadata": {},
   "source": [
    "And some more details..."
   ]
  },
  {
   "cell_type": "code",
   "execution_count": null,
   "metadata": {
    "collapsed": true,
    "run_control": {
     "frozen": false,
     "read_only": false
    }
   },
   "outputs": [],
   "source": [
    "print_details(details[\"execution_details\"])"
   ]
  },
  {
   "cell_type": "markdown",
   "metadata": {},
   "source": [
    "Parse the output of the CU"
   ]
  },
  {
   "cell_type": "code",
   "execution_count": null,
   "metadata": {
    "collapsed": true,
    "run_control": {
     "frozen": false,
     "read_only": false
    }
   },
   "outputs": [],
   "source": [
    "print cu_results.stdout.strip()"
   ]
  },
  {
   "cell_type": "markdown",
   "metadata": {},
   "source": [
    "### 2.4 Exercise\n",
    "\n",
    "Write a task (i.e., a ComputeUnit) that prints out the hostname of the machine!\n",
    "\n",
    "Answer: In the example above, in cudesc.executable replace `/bin/echo` with `hostname`."
   ]
  },
  {
   "cell_type": "markdown",
   "metadata": {},
   "source": [
    "### Performance Analysis\n",
    "\n",
    "In the examples below we will show how RADICAL-Pilot can be used for interactive analytics. We will plot and analyze the execution times of a set of ComputeUnits."
   ]
  },
  {
   "cell_type": "code",
   "execution_count": 6,
   "metadata": {
    "collapsed": true,
    "run_control": {
     "frozen": false,
     "read_only": false
    }
   },
   "outputs": [],
   "source": [
    "def get_runtime(compute_unit):\n",
    "    details=compute_unit.as_dict()\n",
    "    execution_details=details['execution_details']\n",
    "    state_details=execution_details[\"statehistory\"]\n",
    "    results = {}\n",
    "    for i in state_details:\n",
    "        results[i[\"state\"]]=i[\"timestamp\"]\n",
    "    #print str(results)\n",
    "    start = results[\"New\"]\n",
    "    end = results[\"Done\"]\n",
    "    runtime = end-start\n",
    "    return runtime"
   ]
  },
  {
   "cell_type": "code",
   "execution_count": null,
   "metadata": {
    "run_control": {
     "frozen": false,
     "read_only": false
    }
   },
   "outputs": [
    {
     "name": "stdout",
     "output_type": "stream",
     "text": [
      "RP-0.45.1, 1, Runtime, 11.5234\n",
      "RP-0.45.1, 2, Runtime, 6.0129\n",
      "RP-0.45.1, 4, Runtime, 6.0175\n",
      "RP-0.45.1, 8, Runtime, 6.0256\n",
      "RP-0.45.1, 16, Runtime, 6.0570\n",
      "RP-0.45.1, 32, Runtime, 6.0736\n",
      "RP-0.45.1, 64, Runtime, 6.1393\n",
      "RP-0.45.1, 128, Runtime, 5.7766\n",
      "RP-0.45.1, 256, Runtime, 6.0505\n",
      "RP-0.45.1, 512, Runtime, 9.2991\n",
      "RP-0.45.1, 1024, Runtime, 15.0897\n"
     ]
    }
   ],
   "source": [
    "import time\n",
    "\n",
    "scenarios = [1, 2, 4, 8, 16, 32, 64, 128, 256, 512, 1024, 2048, 4096, 8192, 16384, 32768, 65536, 131072]\n",
    "#scenarios = [16]    \n",
    "\n",
    "for n in scenarios:\n",
    "    cudesc_list = []\n",
    "    for i in range(n):\n",
    "        cudesc = rp.ComputeUnitDescription()\n",
    "        cudesc.executable  = \"/bin/date\"\n",
    "        #cudesc.environment = {'CU_NO': i}\n",
    "        #cudesc.arguments   = ['$(CU_NO)']\n",
    "        cudesc.cores       = 1\n",
    "        cudesc_list.append(cudesc)\n",
    "    \n",
    "    start_time = time.time()\n",
    "    cu_set = umgr.submit_units(cudesc_list)\n",
    "    states = umgr.wait_units()\n",
    "    end_time= time.time()\n",
    "    #time.sleep(6)\n",
    "    print(\"RP-0.45.1, %d, Runtime, %.4f\"%(n, (end_time-start_time)))\n",
    "    #runtimes=[]\n",
    "    #for compute_unit in cu_set:\n",
    "    #    task_runtime = get_runtime(compute_unit)\n",
    "    #    print \"RP-0.45.1, %d, Task_Runtime, %.4f\"%(n, task_runtime)"
   ]
  },
  {
   "cell_type": "code",
   "execution_count": null,
   "metadata": {
    "collapsed": true,
    "run_control": {
     "frozen": false,
     "read_only": false
    }
   },
   "outputs": [],
   "source": [
    "for compute_unit in cu_set:\n",
    "    task_runtime = get_runtime(compute_unit)\n",
    "    print \"RP-0.45.1, %d, Task_Runtime, %.4f\"%(n, task_runtime)"
   ]
  },
  {
   "cell_type": "markdown",
   "metadata": {},
   "source": [
    "`/bin/sleep` assigns a random sleep time. We plot the distribution of runtimes of the above 20 ComputeUnits using [Seaborn](http://stanford.edu/~mwaskom/software/seaborn/). See [distplot documentation](http://stanford.edu/~mwaskom/software/seaborn/generated/seaborn.distplot.html?highlight=distplot)."
   ]
  },
  {
   "cell_type": "code",
   "execution_count": null,
   "metadata": {
    "collapsed": true,
    "run_control": {
     "frozen": false,
     "read_only": false
    }
   },
   "outputs": [],
   "source": [
    "plot=sns.distplot(runtimes, kde=False, axlabel=\"Runtime\")"
   ]
  },
  {
   "cell_type": "markdown",
   "metadata": {},
   "source": [
    "### Close and Delete Session "
   ]
  },
  {
   "cell_type": "code",
   "execution_count": null,
   "metadata": {
    "collapsed": true,
    "run_control": {
     "frozen": false,
     "read_only": false
    }
   },
   "outputs": [],
   "source": [
    "session.close()\n",
    "del session"
   ]
  },
  {
   "cell_type": "markdown",
   "metadata": {},
   "source": [
    "# Spark\n"
   ]
  },
  {
   "cell_type": "code",
   "execution_count": 1,
   "metadata": {
    "run_control": {
     "frozen": false,
     "read_only": false
    }
   },
   "outputs": [
    {
     "name": "stdout",
     "output_type": "stream",
     "text": [
      "Init Spark: /home/01131/tg804093/work/spark-2.1.0-bin-hadoop2.7\n"
     ]
    }
   ],
   "source": [
    "import os, sys, time\n",
    "\n",
    "SPARK_HOME=\"/home/01131/tg804093/work/spark-2.1.0-bin-hadoop2.7\" \n",
    "os.environ[\"SPARK_HOME\"]=SPARK_HOME\n",
    "print \"Init Spark: \" + SPARK_HOME\n",
    "\n",
    "os.environ[\"PYSPARK_PYTHON\"]=\"/home/01131/tg804093/anaconda2/bin/python\"\n",
    "os.environ[\"PYSPARK_DRIVER_PYTHON\"]=\"ipython\"\n",
    "os.environ[\"PYSPARK_DRIVER_PYTHON_OPTS\"]=\"notebook\"\n",
    "os.environ[\"PYTHONPATH\"]= os.path.join(SPARK_HOME, \"python\")+\":\" + os.path.join(SPARK_HOME, \"python/lib/py4j-0.10.1-src.zip\")\n",
    "    \n",
    "sys.path.insert(0, os.path.join(SPARK_HOME, \"python\"))\n",
    "#sys.path.insert(0, os.path.join(SPARK_HOME, 'python/lib/py4j-0.9-src.zip')) \n",
    "sys.path.insert(0, os.path.join(SPARK_HOME, 'python/lib/py4j-0.10.4-src.zip')) \n",
    "sys.path.insert(0, os.path.join(SPARK_HOME, 'bin') )\n",
    "\n",
    "# import Spark Libraries\n",
    "from pyspark import SparkContext, SparkConf, Accumulator, AccumulatorParam\n",
    "from pyspark.sql import SQLContext\n",
    "from pyspark.sql.types import *\n",
    "from pyspark.mllib.linalg import Vector\n",
    "\n",
    "import pandas as pd\n",
    "from IPython.display import HTML"
   ]
  },
  {
   "cell_type": "code",
   "execution_count": 2,
   "metadata": {
    "collapsed": true,
    "run_control": {
     "frozen": false,
     "read_only": false
    }
   },
   "outputs": [],
   "source": [
    "conf = SparkConf().setAppName(\"SparkTest\").setMaster(\"spark://c251-116.wrangler.tacc.utexas.edu:7077\")\n",
    "sc = SparkContext(conf=conf)"
   ]
  },
  {
   "cell_type": "code",
   "execution_count": 15,
   "metadata": {
    "run_control": {
     "frozen": false,
     "read_only": false
    }
   },
   "outputs": [
    {
     "name": "stdout",
     "output_type": "stream",
     "text": [
      "Spark-2.1.0, 1, Runtime, 0.1919\n",
      "Spark-2.1.0, 2, Runtime, 0.2762\n",
      "Spark-2.1.0, 4, Runtime, 0.2528\n",
      "Spark-2.1.0, 8, Runtime, 0.3092\n",
      "Spark-2.1.0, 16, Runtime, 0.2794\n",
      "Spark-2.1.0, 32, Runtime, 0.2631\n",
      "Spark-2.1.0, 64, Runtime, 0.3021\n",
      "Spark-2.1.0, 128, Runtime, 0.2612\n",
      "Spark-2.1.0, 256, Runtime, 0.3131\n",
      "Spark-2.1.0, 512, Runtime, 0.3343\n",
      "Spark-2.1.0, 1024, Runtime, 0.3351\n",
      "Spark-2.1.0, 2048, Runtime, 0.5081\n",
      "Spark-2.1.0, 4096, Runtime, 0.7267\n",
      "Spark-2.1.0, 8192, Runtime, 1.2800\n",
      "Spark-2.1.0, 16384, Runtime, 2.2863\n",
      "Spark-2.1.0, 32768, Runtime, 4.3769\n",
      "Spark-2.1.0, 65536, Runtime, 9.6486\n",
      "Spark-2.1.0, 131072, Runtime, 17.3124\n"
     ]
    }
   ],
   "source": [
    "import subprocess\n",
    "scenarios = [1, 2, 4, 8, 16, 32, 64, 128, 256, 512, 1024, 2048, 4096, 8192, 16384, 32768, 65536, 131072]\n",
    "#scenarios = [16]    \n",
    "\n",
    "for n in scenarios:\n",
    "    rdd = sc.parallelize(range(n))\n",
    "    start_time = time.time()\n",
    "    rdd.map(lambda a: subprocess.check_output([\"/bin/date\"])).saveAsTextFile(\"/gpfs/flash/users/tg804093/spark-out-%d\"%n)\n",
    "    end_time= time.time()\n",
    "    print(\"Spark-2.1.0, %d, Runtime, %.4f\"%(n, (end_time-start_time)))"
   ]
  },
  {
   "cell_type": "code",
   "execution_count": 14,
   "metadata": {
    "run_control": {
     "frozen": false,
     "read_only": false
    }
   },
   "outputs": [
    {
     "data": {
      "text/plain": [
       "'Sun Mar 26 20:12:39 CDT 2017\\n'"
      ]
     },
     "execution_count": 14,
     "metadata": {},
     "output_type": "execute_result"
    }
   ],
   "source": [
    "import subprocess\n",
    "subprocess.check_output([\"/bin/date\"])"
   ]
  },
  {
   "cell_type": "markdown",
   "metadata": {},
   "source": [
    "# Dask"
   ]
  },
  {
   "cell_type": "code",
   "execution_count": 7,
   "metadata": {
    "run_control": {
     "frozen": false,
     "read_only": false
    }
   },
   "outputs": [
    {
     "name": "stdout",
     "output_type": "stream",
     "text": [
      "Dask-0.14.1, 1, Runtime, 0.0070\n",
      "Dask-0.14.1, 2, Runtime, 0.0083\n",
      "Dask-0.14.1, 4, Runtime, 0.0112\n",
      "Dask-0.14.1, 8, Runtime, 0.0197\n",
      "Dask-0.14.1, 16, Runtime, 0.0443\n",
      "Dask-0.14.1, 32, Runtime, 0.0890\n",
      "Dask-0.14.1, 64, Runtime, 0.1914\n",
      "Dask-0.14.1, 128, Runtime, 0.3775\n",
      "Dask-0.14.1, 256, Runtime, 0.7861\n",
      "Dask-0.14.1, 512, Runtime, 1.5812\n",
      "Dask-0.14.1, 1024, Runtime, 3.1460\n",
      "Dask-0.14.1, 2048, Runtime, 6.4133\n",
      "Dask-0.14.1, 4096, Runtime, 13.3216\n",
      "Dask-0.14.1, 8192, Runtime, 28.4429\n",
      "Dask-0.14.1, 16384, Runtime, 61.9768\n",
      "Dask-0.14.1, 32768, Runtime, 149.0796\n",
      "Dask-0.14.1, 65536, Runtime, 378.4265\n",
      "Dask-0.14.1, 131072, Runtime, 1100.8267\n"
     ]
    }
   ],
   "source": [
    "import dask.array as da\n",
    "from dask import delayed\n",
    "import dask\n",
    "from dask import multiprocessing\n",
    "from dask.multiprocessing import get\n",
    "import numpy as np\n",
    "import time \n",
    "import subprocess\n",
    "\n",
    "\n",
    "@delayed\n",
    "def output_date(n):\n",
    "    with open(\"/gpfs/flash/users/tg804093/dask-out-%d.txt\"%n, \"w\") as f:\n",
    "        f.write(subprocess.check_output([\"/bin/date\"]))\n",
    "    \n",
    "scenarios = [1, 2, 4, 8, 16, 32, 64, 128, 256, 512, 1024, 2048, 4096, 8192, 16384, 32768, 65536, 131072]\n",
    "#scenarios = [16]    \n",
    "\n",
    "for n in scenarios:\n",
    "    out = []\n",
    "    for i in range(n):\n",
    "        out.append(output_date(i))\n",
    "    \n",
    "    start_time = time.time()\n",
    "    delayed(out).compute()\n",
    "    end_time= time.time()\n",
    "    print(\"Dask-%s, %d, Runtime, %.4f\"%(dask.__version__, n, (end_time-start_time)))\n"
   ]
  },
  {
   "cell_type": "code",
   "execution_count": null,
   "metadata": {
    "collapsed": true,
    "run_control": {
     "frozen": false,
     "read_only": false
    }
   },
   "outputs": [],
   "source": []
  },
  {
   "cell_type": "code",
   "execution_count": null,
   "metadata": {
    "collapsed": true,
    "run_control": {
     "frozen": false,
     "read_only": false
    }
   },
   "outputs": [],
   "source": []
  }
 ],
 "metadata": {
  "anaconda-cloud": {},
  "kernelspec": {
   "display_name": "Python [default]",
   "language": "python",
   "name": "python2"
  },
  "language_info": {
   "codemirror_mode": {
    "name": "ipython",
    "version": 2
   },
   "file_extension": ".py",
   "mimetype": "text/x-python",
   "name": "python",
   "nbconvert_exporter": "python",
   "pygments_lexer": "ipython2",
   "version": "2.7.11"
  },
  "toc": {
   "colors": {
    "hover_highlight": "#DAA520",
    "navigate_num": "#000000",
    "navigate_text": "#333333",
    "running_highlight": "#FF0000",
    "selected_highlight": "#FFD700",
    "sidebar_border": "#EEEEEE",
    "wrapper_background": "#FFFFFF"
   },
   "moveMenuLeft": true,
   "nav_menu": {
    "height": "216px",
    "width": "252px"
   },
   "navigate_menu": true,
   "number_sections": true,
   "sideBar": true,
   "threshold": 4,
   "toc_cell": false,
   "toc_number_sections": true,
   "toc_position": {
    "height": "1142px",
    "left": "0px",
    "right": "961.333px",
    "top": "107px",
    "width": "212px"
   },
   "toc_section_display": "block",
   "toc_threshold": 6,
   "toc_window_display": true,
   "widenNotebook": false
  }
 },
 "nbformat": 4,
 "nbformat_minor": 2
}
