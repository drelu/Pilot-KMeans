{
 "cells": [
  {
   "cell_type": "code",
   "execution_count": 17,
   "metadata": {
    "ExecuteTime": {
     "end_time": "2017-07-26T01:34:40.607793Z",
     "start_time": "2017-07-26T01:34:40.597541Z"
    },
    "collapsed": true,
    "run_control": {
     "frozen": false,
     "read_only": false
    }
   },
   "outputs": [],
   "source": [
    "#\n",
    "# Licensed to the Apache Software Foundation (ASF) under one or more\n",
    "# contributor license agreements.  See the NOTICE file distributed with\n",
    "# this work for additional information regarding copyright ownership.\n",
    "# The ASF licenses this file to You under the Apache License, Version 2.0\n",
    "# (the \"License\"); you may not use this file except in compliance with\n",
    "# the License.  You may obtain a copy of the License at\n",
    "#\n",
    "#    http://www.apache.org/licenses/LICENSE-2.0\n",
    "#\n",
    "# Unless required by applicable law or agreed to in writing, software\n",
    "# distributed under the License is distributed on an \"AS IS\" BASIS,\n",
    "# WITHOUT WARRANTIES OR CONDITIONS OF ANY KIND, either express or implied.\n",
    "# See the License for the specific language governing permissions and\n",
    "# limitations under the License.\n",
    "#\n",
    "\n",
    "\"\"\"A minimalist word-counting workflow that counts words in Shakespeare.\n",
    "This is the first in a series of successively more detailed 'word count'\n",
    "examples.\n",
    "Next, see the wordcount pipeline, then the wordcount_debugging pipeline, for\n",
    "more detailed examples that introduce additional concepts.\n",
    "Concepts:\n",
    "1. Reading data from text files\n",
    "2. Specifying 'inline' transforms\n",
    "3. Counting a PCollection\n",
    "4. Writing data to Cloud Storage as text files\n",
    "To execute this pipeline locally, first edit the code to specify the output\n",
    "location. Output location could be a local file path or an output prefix\n",
    "on GCS. (Only update the output location marked with the first CHANGE comment.)\n",
    "To execute this pipeline remotely, first edit the code to set your project ID,\n",
    "runner type, the staging location, the temp location, and the output location.\n",
    "The specified GCS bucket(s) must already exist. (Update all the places marked\n",
    "with a CHANGE comment.)\n",
    "Then, run the pipeline as described in the README. It will be deployed and run\n",
    "using the Google Cloud Dataflow Service. No args are required to run the\n",
    "pipeline. You can see the results in your output bucket in the GCS browser.\n",
    "\"\"\"\n",
    "\n",
    "from __future__ import absolute_import\n",
    "\n",
    "import argparse\n",
    "import logging\n",
    "import re, os\n",
    "\n",
    "import apache_beam as beam\n",
    "from apache_beam.io import ReadFromText\n",
    "from apache_beam.io import WriteToText\n",
    "from apache_beam.options.pipeline_options import PipelineOptions\n",
    "from apache_beam.options.pipeline_options import SetupOptions"
   ]
  },
  {
   "cell_type": "code",
   "execution_count": 71,
   "metadata": {
    "ExecuteTime": {
     "end_time": "2017-07-26T01:48:24.931250Z",
     "start_time": "2017-07-26T01:48:24.637212Z"
    },
    "collapsed": true,
    "run_control": {
     "frozen": false,
     "read_only": false
    }
   },
   "outputs": [],
   "source": [
    "pipeline_options = PipelineOptions()\n",
    "pipeline_options.view_as(SetupOptions).save_main_session = True\n",
    "pl = beam.Pipeline('DirectRunner')\n",
    "\n",
    "with pl as p:\n",
    "    # Read the text file[pattern] into a PCollection.\n",
    "    lines = (p | beam.Create([\n",
    "                 'To be, or not to be: that is the question: ',\n",
    "                 'Whether \\'tis nobler in the mind to suffer ',\n",
    "                 'The slings and arrows of outrageous fortune, ',\n",
    "                 'Or to take arms against a sea of troubles, ']))\n",
    "    \n",
    "    #lines | \"write\" >>  WriteToText(\"./output\")\n",
    "    # Count the occurrences of each word.\n",
    "    counts = (\n",
    "        lines\n",
    "        | 'Split' >> (beam.FlatMap(lambda x: re.findall(r'[A-Za-z\\']+', x))\n",
    "                      .with_output_types(unicode))\n",
    "        | 'PairWithOne' >> beam.Map(lambda x: (x, 1))\n",
    "        | 'GroupAndSum' >> beam.CombinePerKey(sum))\n",
    "    \n",
    "    # Format the counts into a PCollection of strings.\n",
    "    output = counts | 'Format' >> beam.Map(lambda (w, c): '%s: %s' % (w, c))\n",
    "    \n",
    "    # Write the output using a \"Write\" transform that has side effects.\n",
    "    # pylint: disable=expression-not-assigned\n",
    "    output | \"write\" >>  WriteToText(\"./output\")"
   ]
  },
  {
   "cell_type": "code",
   "execution_count": 66,
   "metadata": {
    "ExecuteTime": {
     "end_time": "2017-07-26T01:48:13.890636Z",
     "start_time": "2017-07-26T01:48:13.769401Z"
    },
    "run_control": {
     "frozen": false,
     "read_only": false
    }
   },
   "outputs": [
    {
     "name": "stdout",
     "output_type": "stream",
     "text": [
      "/Users/q224516/workspace-saga/bigjob/Pilot-Memory/examples/jupyter/beam\r\n"
     ]
    }
   ],
   "source": [
    "!pwd"
   ]
  },
  {
   "cell_type": "code",
   "execution_count": 75,
   "metadata": {
    "ExecuteTime": {
     "end_time": "2017-07-26T01:48:42.987710Z",
     "start_time": "2017-07-26T01:48:42.885458Z"
    },
    "run_control": {
     "frozen": false,
     "read_only": false
    }
   },
   "outputs": [
    {
     "data": {
      "text/plain": [
       "<apache_beam.runners.direct.direct_runner.DirectPipelineResult at 0x10faee8d0>"
      ]
     },
     "execution_count": 75,
     "metadata": {},
     "output_type": "execute_result"
    }
   ],
   "source": [
    "p.run()"
   ]
  },
  {
   "cell_type": "code",
   "execution_count": 76,
   "metadata": {
    "ExecuteTime": {
     "end_time": "2017-07-26T01:48:44.234996Z",
     "start_time": "2017-07-26T01:48:44.111213Z"
    }
   },
   "outputs": [
    {
     "name": "stdout",
     "output_type": "stream",
     "text": [
      "Beam.ipynb            output-00000-of-00001\r\n"
     ]
    }
   ],
   "source": [
    "!ls"
   ]
  },
  {
   "cell_type": "code",
   "execution_count": 77,
   "metadata": {
    "ExecuteTime": {
     "end_time": "2017-07-26T01:48:46.970575Z",
     "start_time": "2017-07-26T01:48:46.843851Z"
    }
   },
   "outputs": [
    {
     "name": "stdout",
     "output_type": "stream",
     "text": [
      "and: 1\r\n",
      "troubles: 1\r\n",
      "is: 1\r\n",
      "mind: 1\r\n",
      "To: 1\r\n",
      "sea: 1\r\n",
      "in: 1\r\n",
      "suffer: 1\r\n",
      "question: 1\r\n",
      "arms: 1\r\n"
     ]
    }
   ],
   "source": [
    "!head \"output-00000-of-00001\""
   ]
  },
  {
   "cell_type": "code",
   "execution_count": 74,
   "metadata": {
    "ExecuteTime": {
     "end_time": "2017-07-26T01:48:38.325500Z",
     "start_time": "2017-07-26T01:48:38.204928Z"
    }
   },
   "outputs": [
    {
     "name": "stdout",
     "output_type": "stream",
     "text": [
      "rm: output-00000-of-00001: No such file or directory\r\n"
     ]
    }
   ],
   "source": [
    "!rm \"output-00000-of-00001\""
   ]
  }
 ],
 "metadata": {
  "kernelspec": {
   "display_name": "Python 2",
   "language": "python",
   "name": "python2"
  },
  "language_info": {
   "codemirror_mode": {
    "name": "ipython",
    "version": 2
   },
   "file_extension": ".py",
   "mimetype": "text/x-python",
   "name": "python",
   "nbconvert_exporter": "python",
   "pygments_lexer": "ipython2",
   "version": "2.7.13"
  },
  "toc": {
   "toc_cell": false,
   "toc_number_sections": true,
   "toc_threshold": 6,
   "toc_window_display": false
  }
 },
 "nbformat": 4,
 "nbformat_minor": 2
}
