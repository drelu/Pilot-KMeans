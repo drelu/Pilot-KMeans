{
 "cells": [
  {
   "cell_type": "markdown",
   "metadata": {
    "collapsed": true
   },
   "source": [
    "# KMeans Streaming Producer"
   ]
  },
  {
   "cell_type": "code",
   "execution_count": 52,
   "metadata": {
    "collapsed": false
   },
   "outputs": [],
   "source": [
    "from pykafka import KafkaClient\n",
    "zkKafka='c251-121.wrangler.tacc.utexas.edu:2181'\n",
    "client = KafkaClient(zookeeper_hosts=zkKafka)\n",
    "#client = KafkaClient(hosts='c251-142.wrangler.tacc.utexas.edu:9092')\n",
    "topic = client.topics['kmeans']\n",
    "producer = topic.get_sync_producer()\n",
    "consumer = topic.get_simple_consumer()"
   ]
  },
  {
   "cell_type": "code",
   "execution_count": 56,
   "metadata": {
    "collapsed": false
   },
   "outputs": [],
   "source": [
    "import numpy as np\n",
    "NUMBER_CLUSTER=2\n",
    "NUMBER_POINTS_PER_CLUSTER=10\n",
    "NUMBER_DIM=3\n",
    "\n",
    "def get_random_cluster_points(number_points, number_dim):\n",
    "    mu = np.random.randn()\n",
    "    sigma = np.random.randn()\n",
    "    p = sigma * np.random.randn(number_points, number_dim) + mu\n",
    "    return p\n",
    "\n",
    "\n",
    "points = []\n",
    "for i in range(NUMBER_CLUSTER):    \n",
    "    p = get_random_cluster_points(NUMBER_POINTS_PER_CLUSTER, NUMBER_DIM)\n",
    "    points.append(p)\n",
    "    \n",
    "points_np=np.concatenate(points)"
   ]
  },
  {
   "cell_type": "code",
   "execution_count": null,
   "metadata": {
    "collapsed": false
   },
   "outputs": [],
   "source": [
    "producer.produce(np.array_str(points_np))"
   ]
  },
  {
   "cell_type": "code",
   "execution_count": 40,
   "metadata": {
    "collapsed": false
   },
   "outputs": [
    {
     "data": {
      "text/plain": [
       "'[[ 0.2318399  -2.93416273 -0.36625276]\\n [-0.67871901  0.81722933  0.51122937]\\n [-1.66184476  0.98504572 -1.49016868]\\n [-1.61412577  0.04333737 -0.31619746]\\n [-2.11802285 -1.42178102 -1.68775965]\\n [-1.29847069 -0.22950422 -0.86187239]\\n [ 1.68319361  0.34357753 -0.87278747]\\n [ 0.59182899 -0.71237328 -1.25255899]\\n [ 0.62071918  0.39927591 -2.67681391]\\n [-0.39668167  0.81860023  0.83604884]\\n [ 2.06332511  0.29250757 -2.88032996]\\n [ 0.55060995  1.68373581 -1.06184248]\\n [-2.11205421  1.75855103 -0.55796816]\\n [ 1.49007121  0.23203858  1.87672174]\\n [ 0.92319013  1.92957309 -2.21198588]\\n [-1.40888661 -0.32172796 -2.75143334]\\n [ 1.05097323 -1.23312273  0.20978824]\\n [-0.57562824 -0.42808584 -0.85809164]\\n [-0.54462527  0.25823661 -1.26264273]\\n [-2.55019009 -1.58445395  0.3757357 ]]'"
      ]
     },
     "execution_count": 40,
     "metadata": {},
     "output_type": "execute_result"
    }
   ],
   "source": [
    "np.array_str(points_np)"
   ]
  },
  {
   "cell_type": "markdown",
   "metadata": {},
   "source": [
    "# Test Parsing"
   ]
  },
  {
   "cell_type": "code",
   "execution_count": 43,
   "metadata": {
    "collapsed": false
   },
   "outputs": [],
   "source": [
    "%run ../util/init_spark_wrangler.py\n",
    "from pyspark.mllib.regression import LabeledPoint\n",
    "from pyspark.mllib.linalg import Vectors"
   ]
  },
  {
   "cell_type": "code",
   "execution_count": 44,
   "metadata": {
    "collapsed": false
   },
   "outputs": [],
   "source": [
    "points_np=np.array(points_np)"
   ]
  },
  {
   "cell_type": "code",
   "execution_count": 46,
   "metadata": {
    "collapsed": false
   },
   "outputs": [],
   "source": [
    "for i in points_np:\n",
    "     v = Vectors.dense(i)"
   ]
  },
  {
   "cell_type": "code",
   "execution_count": 48,
   "metadata": {
    "collapsed": false
   },
   "outputs": [],
   "source": [
    "v=Vectors.dense(points_np)"
   ]
  },
  {
   "cell_type": "code",
   "execution_count": null,
   "metadata": {
    "collapsed": true
   },
   "outputs": [],
   "source": []
  }
 ],
 "metadata": {
  "kernelspec": {
   "display_name": "Python 2",
   "language": "python",
   "name": "python2"
  },
  "language_info": {
   "codemirror_mode": {
    "name": "ipython",
    "version": 2
   },
   "file_extension": ".py",
   "mimetype": "text/x-python",
   "name": "python",
   "nbconvert_exporter": "python",
   "pygments_lexer": "ipython2",
   "version": "2.7.11"
  }
 },
 "nbformat": 4,
 "nbformat_minor": 0
}
