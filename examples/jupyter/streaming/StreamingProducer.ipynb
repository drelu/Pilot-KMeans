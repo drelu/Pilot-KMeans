{
 "cells": [
  {
   "cell_type": "markdown",
   "metadata": {
    "collapsed": true
   },
   "source": [
    "# KMeans Streaming Producer"
   ]
  },
  {
   "cell_type": "code",
   "execution_count": 1,
   "metadata": {
    "collapsed": false
   },
   "outputs": [],
   "source": [
    "from pykafka import KafkaClient\n",
    "import numpy as np\n",
    "import msgpack\n",
    "import msgpack_numpy as m\n",
    "m.patch()\n",
    "\n",
    "zkKafka='c251-102.wrangler.tacc.utexas.edu:2181'\n",
    "client = KafkaClient(zookeeper_hosts=zkKafka)\n",
    "#client = KafkaClient(hosts='c251-142.wrangler.tacc.utexas.edu:9092')\n",
    "topic = client.topics['latency']\n",
    "producer = topic.get_sync_producer()\n",
    "consumer = topic.get_simple_consumer()"
   ]
  },
  {
   "cell_type": "code",
   "execution_count": 3,
   "metadata": {
    "collapsed": false
   },
   "outputs": [
    {
     "data": {
      "text/plain": [
       "{0: <pykafka.broker.Broker at 0x2b65155fbad0 (host=c251-105, port=9092, id=0)>}"
      ]
     },
     "execution_count": 3,
     "metadata": {},
     "output_type": "execute_result"
    }
   ],
   "source": [
    "client.brokers"
   ]
  },
  {
   "cell_type": "code",
   "execution_count": 7,
   "metadata": {
    "collapsed": false
   },
   "outputs": [],
   "source": [
    "NUMBER_CLUSTER=2\n",
    "NUMBER_POINTS_PER_CLUSTER=10\n",
    "NUMBER_DIM=3\n",
    "\n",
    "def get_random_cluster_points(number_points, number_dim):\n",
    "    mu = np.random.randn()\n",
    "    sigma = np.random.randn()\n",
    "    p = sigma * np.random.randn(number_points, number_dim) + mu\n",
    "    return p\n",
    "\n",
    "\n",
    "points = []\n",
    "for i in range(NUMBER_CLUSTER):    \n",
    "    p = get_random_cluster_points(NUMBER_POINTS_PER_CLUSTER, NUMBER_DIM)\n",
    "    points.append(p)\n",
    "    \n",
    "points_np=np.concatenate(points)"
   ]
  },
  {
   "cell_type": "code",
   "execution_count": 8,
   "metadata": {
    "collapsed": false
   },
   "outputs": [],
   "source": [
    "points_strlist=str(points_np.tolist())\n",
    "producer.produce(points_strlist)"
   ]
  },
  {
   "cell_type": "code",
   "execution_count": null,
   "metadata": {
    "collapsed": false
   },
   "outputs": [],
   "source": [
    "#points_msg=msgpack.packb(points_np, default=m.encode)"
   ]
  },
  {
   "cell_type": "markdown",
   "metadata": {},
   "source": [
    "# Latency Test"
   ]
  },
  {
   "cell_type": "code",
   "execution_count": 3,
   "metadata": {
    "collapsed": false
   },
   "outputs": [
    {
     "name": "stdout",
     "output_type": "stream",
     "text": [
      "sent @ 2016-11-19T12:59:44.093096\n",
      "sent @ 2016-11-19T12:59:45.109434\n",
      "sent @ 2016-11-19T12:59:46.141612\n",
      "sent @ 2016-11-19T12:59:47.256387\n",
      "sent @ 2016-11-19T12:59:48.264817\n",
      "sent @ 2016-11-19T12:59:49.297608\n",
      "sent @ 2016-11-19T12:59:50.412409\n",
      "sent @ 2016-11-19T12:59:51.420861\n",
      "sent @ 2016-11-19T12:59:52.453454\n",
      "sent @ 2016-11-19T12:59:53.568235\n",
      "sent @ 2016-11-19T12:59:54.600932\n",
      "sent @ 2016-11-19T12:59:55.715690\n",
      "sent @ 2016-11-19T12:59:56.724267\n",
      "sent @ 2016-11-19T12:59:57.756888\n",
      "sent @ 2016-11-19T12:59:58.765314\n",
      "sent @ 2016-11-19T12:59:59.797798\n",
      "sent @ 2016-11-19T13:00:00.912604\n",
      "sent @ 2016-11-19T13:00:01.928993\n",
      "sent @ 2016-11-19T13:00:02.945527\n",
      "sent @ 2016-11-19T13:00:03.962077\n",
      "sent @ 2016-11-19T13:00:04.978616\n",
      "sent @ 2016-11-19T13:00:05.192514\n",
      "sent @ 2016-11-19T13:00:05.406414\n",
      "sent @ 2016-11-19T13:00:05.620292\n",
      "sent @ 2016-11-19T13:00:05.834183\n",
      "sent @ 2016-11-19T13:00:06.048030\n",
      "sent @ 2016-11-19T13:00:06.211805\n",
      "sent @ 2016-11-19T13:00:06.425743\n",
      "sent @ 2016-11-19T13:00:06.639668\n",
      "sent @ 2016-11-19T13:00:06.853522\n",
      "sent @ 2016-11-19T13:00:07.067175\n",
      "sent @ 2016-11-19T13:00:07.230746\n",
      "sent @ 2016-11-19T13:00:07.444343\n",
      "sent @ 2016-11-19T13:00:07.657962\n",
      "sent @ 2016-11-19T13:00:07.871577\n",
      "sent @ 2016-11-19T13:00:08.085467\n",
      "sent @ 2016-11-19T13:00:08.299380\n",
      "sent @ 2016-11-19T13:00:08.463185\n",
      "sent @ 2016-11-19T13:00:08.677048\n",
      "sent @ 2016-11-19T13:00:08.890931\n",
      "sent @ 2016-11-19T13:00:09.104838\n",
      "sent @ 2016-11-19T13:00:09.178597\n",
      "sent @ 2016-11-19T13:00:09.302419\n",
      "sent @ 2016-11-19T13:00:09.376262\n",
      "sent @ 2016-11-19T13:00:09.500055\n",
      "sent @ 2016-11-19T13:00:09.623876\n",
      "sent @ 2016-11-19T13:00:09.697643\n",
      "sent @ 2016-11-19T13:00:09.821489\n",
      "sent @ 2016-11-19T13:00:09.895214\n",
      "sent @ 2016-11-19T13:00:10.019082\n",
      "sent @ 2016-11-19T13:00:10.142967\n",
      "sent @ 2016-11-19T13:00:10.216727\n",
      "sent @ 2016-11-19T13:00:10.340549\n",
      "sent @ 2016-11-19T13:00:10.414253\n",
      "sent @ 2016-11-19T13:00:10.538104\n",
      "sent @ 2016-11-19T13:00:10.661880\n",
      "sent @ 2016-11-19T13:00:10.735598\n",
      "sent @ 2016-11-19T13:00:10.859385\n",
      "sent @ 2016-11-19T13:00:10.933074\n",
      "sent @ 2016-11-19T13:00:11.056909\n",
      "sent @ 2016-11-19T13:00:11.130604\n",
      "sent @ 2016-11-19T13:00:11.245351\n",
      "sent @ 2016-11-19T13:00:11.360155\n",
      "sent @ 2016-11-19T13:00:11.474920\n",
      "sent @ 2016-11-19T13:00:11.539635\n",
      "sent @ 2016-11-19T13:00:11.654406\n",
      "sent @ 2016-11-19T13:00:11.769180\n",
      "sent @ 2016-11-19T13:00:11.883981\n",
      "sent @ 2016-11-19T13:00:11.948714\n",
      "sent @ 2016-11-19T13:00:12.063493\n",
      "sent @ 2016-11-19T13:00:12.178320\n",
      "sent @ 2016-11-19T13:00:12.293145\n",
      "sent @ 2016-11-19T13:00:12.357894\n",
      "sent @ 2016-11-19T13:00:12.472701\n",
      "sent @ 2016-11-19T13:00:12.587499\n",
      "sent @ 2016-11-19T13:00:12.702359\n",
      "sent @ 2016-11-19T13:00:12.817185\n",
      "sent @ 2016-11-19T13:00:12.881896\n",
      "sent @ 2016-11-19T13:00:12.996697\n",
      "sent @ 2016-11-19T13:00:13.111519\n",
      "sent @ 2016-11-19T13:00:13.226376\n",
      "sent @ 2016-11-19T13:00:13.290207\n",
      "sent @ 2016-11-19T13:00:13.404121\n",
      "sent @ 2016-11-19T13:00:13.518077\n",
      "sent @ 2016-11-19T13:00:13.632009\n",
      "sent @ 2016-11-19T13:00:13.695958\n",
      "sent @ 2016-11-19T13:00:13.809848\n",
      "sent @ 2016-11-19T13:00:13.923715\n",
      "sent @ 2016-11-19T13:00:14.037624\n",
      "sent @ 2016-11-19T13:00:14.101400\n",
      "sent @ 2016-11-19T13:00:14.215336\n",
      "sent @ 2016-11-19T13:00:14.329237\n",
      "sent @ 2016-11-19T13:00:14.443107\n",
      "sent @ 2016-11-19T13:00:14.557031\n",
      "sent @ 2016-11-19T13:00:14.620857\n",
      "sent @ 2016-11-19T13:00:14.734781\n",
      "sent @ 2016-11-19T13:00:14.848716\n",
      "sent @ 2016-11-19T13:00:14.962573\n",
      "sent @ 2016-11-19T13:00:15.026388\n",
      "sent @ 2016-11-19T13:00:15.140274\n",
      "sent @ 2016-11-19T13:00:15.254156\n",
      "sent @ 2016-11-19T13:00:15.368029\n",
      "sent @ 2016-11-19T13:00:15.481769\n",
      "sent @ 2016-11-19T13:00:15.545510\n",
      "sent @ 2016-11-19T13:00:15.659277\n",
      "sent @ 2016-11-19T13:00:15.773019\n",
      "sent @ 2016-11-19T13:00:15.886866\n",
      "sent @ 2016-11-19T13:00:15.950560\n",
      "sent @ 2016-11-19T13:00:16.064404\n",
      "sent @ 2016-11-19T13:00:16.178245\n",
      "sent @ 2016-11-19T13:00:16.291999\n",
      "sent @ 2016-11-19T13:00:16.405814\n",
      "sent @ 2016-11-19T13:00:16.519561\n",
      "sent @ 2016-11-19T13:00:16.583308\n",
      "sent @ 2016-11-19T13:00:16.697055\n",
      "sent @ 2016-11-19T13:00:16.810811\n",
      "sent @ 2016-11-19T13:00:16.924633\n",
      "sent @ 2016-11-19T13:00:16.988327\n",
      "sent @ 2016-11-19T13:00:17.102168\n",
      "sent @ 2016-11-19T13:00:17.216004\n"
     ]
    }
   ],
   "source": [
    "import datetime\n",
    "import time\n",
    "#sent_time=datetime.datetime.now().isoformat()\n",
    "sleep_time = 1\n",
    "topic = client.topics['latency']\n",
    "producer = topic.get_sync_producer()\n",
    "\n",
    "for sleep_time in [1, 0.1, 0.01, 0.001, 0.0001, 0.00001]:\n",
    "    for i in range(20):\n",
    "        producer.produce(datetime.datetime.now().isoformat() + \";\" + str(sleep_time))\n",
    "        print \"sent @ \" + datetime.datetime.now().isoformat()\n",
    "        time.sleep(sleep_time)"
   ]
  },
  {
   "cell_type": "markdown",
   "metadata": {},
   "source": [
    "# Test Parsing"
   ]
  },
  {
   "cell_type": "code",
   "execution_count": null,
   "metadata": {
    "collapsed": false
   },
   "outputs": [],
   "source": [
    "%run ../util/init_spark_wrangler.py\n",
    "from pyspark.mllib.regression import LabeledPoint\n",
    "from pyspark.mllib.linalg import Vectors"
   ]
  },
  {
   "cell_type": "code",
   "execution_count": null,
   "metadata": {
    "collapsed": false
   },
   "outputs": [],
   "source": [
    "points_np=np.array(points_np)"
   ]
  },
  {
   "cell_type": "code",
   "execution_count": null,
   "metadata": {
    "collapsed": false
   },
   "outputs": [],
   "source": [
    "for i in points_np:\n",
    "     v = Vectors.dense(i)"
   ]
  },
  {
   "cell_type": "code",
   "execution_count": null,
   "metadata": {
    "collapsed": false
   },
   "outputs": [],
   "source": [
    "v=Vectors.dense(points_np)"
   ]
  },
  {
   "cell_type": "code",
   "execution_count": null,
   "metadata": {
    "collapsed": false
   },
   "outputs": [],
   "source": [
    "x_rec = msgpack.unpackb(x_enc, object_hook=m.decode)"
   ]
  },
  {
   "cell_type": "code",
   "execution_count": null,
   "metadata": {
    "collapsed": false
   },
   "outputs": [],
   "source": [
    "b=points_np.tobytes()"
   ]
  },
  {
   "cell_type": "code",
   "execution_count": null,
   "metadata": {
    "collapsed": false
   },
   "outputs": [],
   "source": [
    "type(pickle.loads(serialized))"
   ]
  }
 ],
 "metadata": {
  "kernelspec": {
   "display_name": "Python 2",
   "language": "python",
   "name": "python2"
  },
  "language_info": {
   "codemirror_mode": {
    "name": "ipython",
    "version": 2
   },
   "file_extension": ".py",
   "mimetype": "text/x-python",
   "name": "python",
   "nbconvert_exporter": "python",
   "pygments_lexer": "ipython2",
   "version": "2.7.11"
  }
 },
 "nbformat": 4,
 "nbformat_minor": 0
}
