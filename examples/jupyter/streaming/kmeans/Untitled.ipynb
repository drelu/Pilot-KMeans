{
 "cells": [
  {
   "cell_type": "code",
   "execution_count": null,
   "metadata": {
    "collapsed": true
   },
   "outputs": [],
   "source": [
    "from pykafka import KafkaClient\n",
    "import numpy as np\n",
    "#import msgpack\n",
    "#import msgpack_numpy as m\n",
    "#m.patch()\n",
    "import time\n",
    "import datetime\n",
    "import dateutil.parser\n",
    "\n",
    "\n",
    "zkKafka='c251-104.wrangler.tacc.utexas.edu:2181'\n",
    "client = KafkaClient(zookeeper_hosts=zkKafka)\n",
    "#client = KafkaClient(hosts='c251-142.wrangler.tacc.utexas.edu:9092')\n",
    "topic = client.topics['latency']\n",
    "producer = topic.get_sync_producer()\n",
    "consumer = topic.get_simple_consumer()\n",
    "\n",
    "\n",
    "# In[5]:\n",
    "\n",
    "run_timestamp=datetime.datetime.now()\n",
    "RESULT_FILE= \"results/kafka-latency-\" + run_timestamp.strftime(\"%Y%m%d-%H%M%S\") + \".csv\"\n",
    "try:\n",
    "    os.makedirs(\"results\")\n",
    "except:\n",
    "    pass\n",
    "output_file=open(RESULT_FILE, \"w\")\n",
    "\n",
    "\n",
    "source_time=1482011522.371088\n",
    "sink_time=1482011549.907337\n",
    "TIME_OFFSET=sink_time-source_time\n",
    "\n",
    "while True:\n",
    "    message = consumer.consume(block=True)\n",
    "    #print message.value\n",
    "    now = time.time()\n",
    "    #sent_time=datetime.datetime.strptime(message.value, \"%Y-%m-%dT%H:%M:%S.%fZ\")\n",
    "    sent_time_string = message.value.split(\";\")[0]\n",
    "    sleep_time =float(message.value.split(\";\")[1])\n",
    "    sent_time = dateutil.parser.parse(sent_time_string)\n",
    "    sent_time_ts = time.mktime(sent_time.timetuple())\n",
    "    lat = now-sent_time_ts - TIME_OFFSET   \n",
    "    result = \"kafka, latency, 0, %.5f, %.5f, %s, %s\\n\"%(1/sleep_time, lat, message.value.split(\";\")[0], \n",
    "                                                                    datetime.datetime.now().isoformat())\n",
    "    print(result)\n",
    "    output_file.write(result)\n",
    "    output_file.flush()\n"
   ]
  },
  {
   "cell_type": "code",
   "execution_count": null,
   "metadata": {
    "collapsed": true
   },
   "outputs": [],
   "source": []
  }
 ],
 "metadata": {
  "kernelspec": {
   "display_name": "Python 2",
   "language": "python",
   "name": "python2"
  },
  "language_info": {
   "codemirror_mode": {
    "name": "ipython",
    "version": 2
   },
   "file_extension": ".py",
   "mimetype": "text/x-python",
   "name": "python",
   "nbconvert_exporter": "python",
   "pygments_lexer": "ipython2",
   "version": "2.7.11"
  }
 },
 "nbformat": 4,
 "nbformat_minor": 0
}
