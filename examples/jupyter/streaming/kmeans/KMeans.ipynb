{
 "cells": [
  {
   "cell_type": "code",
   "execution_count": 87,
   "metadata": {
    "ExecuteTime": {
     "end_time": "2016-12-18T19:06:35.838880",
     "start_time": "2016-12-18T19:06:35.834068"
    },
    "run_control": {
     "frozen": false,
     "read_only": false
    }
   },
   "outputs": [],
   "source": [
    "import numpy as np\n",
    "import os\n",
    "#import msgpack\n",
    "#import msgpack_numpy as m\n",
    "#m.patch()\n",
    "import time\n",
    "import datetime\n",
    "import dateutil.parser\n",
    "from sklearn.cluster import KMeans\n",
    "import scipy.spatial.distance\n",
    "import sys"
   ]
  },
  {
   "cell_type": "code",
   "execution_count": 28,
   "metadata": {
    "ExecuteTime": {
     "end_time": "2016-12-18T18:28:51.800800",
     "start_time": "2016-12-18T18:28:51.796931"
    },
    "run_control": {
     "frozen": false,
     "read_only": false
    }
   },
   "outputs": [
    {
     "data": {
      "text/plain": [
       "'/Users/q224516/workspace-saga/bigjob/Pilot-InMemory/examples/jupyter/streaming/kmeans'"
      ]
     },
     "execution_count": 28,
     "metadata": {},
     "output_type": "execute_result"
    }
   ],
   "source": [
    "os.getcwd()"
   ]
  },
  {
   "cell_type": "code",
   "execution_count": 31,
   "metadata": {
    "ExecuteTime": {
     "end_time": "2016-12-18T18:30:20.830683",
     "start_time": "2016-12-18T18:30:20.753348"
    },
    "run_control": {
     "frozen": false,
     "read_only": false
    }
   },
   "outputs": [
    {
     "name": "stdout",
     "output_type": "stream",
     "text": [
      "240000 bytes\n"
     ]
    }
   ],
   "source": [
    "data = np.loadtxt(\"../kmeans_100_100_3.np\")\n",
    "print str(data.nbytes) + \" bytes\""
   ]
  },
  {
   "cell_type": "markdown",
   "metadata": {},
   "source": [
    "# Scikit-Learn"
   ]
  },
  {
   "cell_type": "code",
   "execution_count": 6,
   "metadata": {
    "ExecuteTime": {
     "end_time": "2016-12-18T18:04:54.084846",
     "start_time": "2016-12-18T18:04:51.491990"
    },
    "run_control": {
     "frozen": false,
     "read_only": false
    }
   },
   "outputs": [
    {
     "name": "stdout",
     "output_type": "stream",
     "text": [
      "10 loops, best of 3: 59.6 ms per loop\n"
     ]
    }
   ],
   "source": [
    "%%timeit\n",
    "kmeans = KMeans(n_clusters=2, init=\"random\", random_state=0).fit(data)"
   ]
  },
  {
   "cell_type": "markdown",
   "metadata": {},
   "source": [
    "# Custom Implementation"
   ]
  },
  {
   "cell_type": "code",
   "execution_count": 105,
   "metadata": {
    "ExecuteTime": {
     "end_time": "2016-12-18T19:16:32.570520",
     "start_time": "2016-12-18T19:16:32.561823"
    },
    "run_control": {
     "frozen": false,
     "read_only": false
    }
   },
   "outputs": [],
   "source": [
    "def closestPoint(points, centers):    \n",
    "    best_centroid_index=np.argmin(scipy.spatial.distance.cdist(sample, center, 'euclidean'), axis=1)\n",
    "    #print np.amin(scipy.spatial.distance.cdist(sample, center, 'euclidean'), axis=1)\n",
    "    return best_centroid_index\n",
    "\n",
    "\n",
    "def averagePoints(points, best_centroid_index):\n",
    "    print(\"Call average points on: \" + str(points))\n",
    "    points_extracted = [eval(i)[1] for i in eval(points)]\n",
    "    points_np = np.array(points_extracted)\n",
    "    new_center = np.mean(points_np, axis=0)\n",
    "    print(\"New center: \" + str(new_center))\n",
    "    new_center_string = ','.join(['%.5f' % num for num in new_center])\n",
    "    print(\"New center string: \" + new_center_string)\n",
    "    return new_center_string\n"
   ]
  },
  {
   "cell_type": "code",
   "execution_count": 106,
   "metadata": {
    "ExecuteTime": {
     "end_time": "2016-12-18T19:16:34.573356",
     "start_time": "2016-12-18T19:16:34.569839"
    },
    "run_control": {
     "frozen": false,
     "read_only": false
    }
   },
   "outputs": [
    {
     "data": {
      "text/plain": [
       "(10000, 3)"
      ]
     },
     "execution_count": 106,
     "metadata": {},
     "output_type": "execute_result"
    }
   ],
   "source": [
    "data.shape"
   ]
  },
  {
   "cell_type": "code",
   "execution_count": 107,
   "metadata": {
    "ExecuteTime": {
     "end_time": "2016-12-18T19:16:35.043203",
     "start_time": "2016-12-18T19:16:35.040706"
    },
    "run_control": {
     "frozen": false,
     "read_only": false
    }
   },
   "outputs": [],
   "source": [
    "center=data[1:3]\n",
    "sample=data[1:10]"
   ]
  },
  {
   "cell_type": "code",
   "execution_count": 108,
   "metadata": {
    "ExecuteTime": {
     "end_time": "2016-12-18T19:16:35.482926",
     "start_time": "2016-12-18T19:16:35.479917"
    },
    "run_control": {
     "frozen": false,
     "read_only": false
    }
   },
   "outputs": [
    {
     "name": "stdout",
     "output_type": "stream",
     "text": [
      "[[ 0.40068908  0.24234925  0.16542718]\n",
      " [ 0.21317874  0.40440718  0.10781296]]\n"
     ]
    }
   ],
   "source": [
    "print center"
   ]
  },
  {
   "cell_type": "code",
   "execution_count": 109,
   "metadata": {
    "ExecuteTime": {
     "end_time": "2016-12-18T19:16:35.948449",
     "start_time": "2016-12-18T19:16:35.944758"
    },
    "run_control": {
     "frozen": false,
     "read_only": false
    }
   },
   "outputs": [
    {
     "name": "stdout",
     "output_type": "stream",
     "text": [
      "[[ 0.40068908  0.24234925  0.16542718]\n",
      " [ 0.21317874  0.40440718  0.10781296]\n",
      " [ 0.19195375  0.19847674  0.21378974]\n",
      " [ 0.01289819  0.27379977  0.37789631]\n",
      " [ 0.08774853  0.19826547  0.36920886]\n",
      " [ 0.07544883  0.36641404  0.37218645]\n",
      " [ 0.34107729  0.22479568  0.2542066 ]\n",
      " [-0.10416565  0.21560696  0.29771197]\n",
      " [ 0.2304259   0.17877219  0.3403174 ]]\n"
     ]
    }
   ],
   "source": [
    "print sample"
   ]
  },
  {
   "cell_type": "code",
   "execution_count": 113,
   "metadata": {
    "ExecuteTime": {
     "end_time": "2016-12-18T19:23:51.681320",
     "start_time": "2016-12-18T19:23:51.676202"
    },
    "run_control": {
     "frozen": false,
     "read_only": false
    }
   },
   "outputs": [
    {
     "data": {
      "text/plain": [
       "array([[ 0.        ,  0.25444507],\n",
       "       [ 0.25444507,  0.        ],\n",
       "       [ 0.21871025,  0.23257025],\n",
       "       [ 0.44329904,  0.36071541],\n",
       "       [ 0.37603476,  0.35574563],\n",
       "       [ 0.40487367,  0.30051015],\n",
       "       [ 0.10836734,  0.26466852],\n",
       "       [ 0.52258273,  0.41522839],\n",
       "       [ 0.25222644,  0.32444864]])"
      ]
     },
     "execution_count": 113,
     "metadata": {},
     "output_type": "execute_result"
    }
   ],
   "source": [
    "scipy.spatial.distance.cdist(sample, center, 'euclidean')"
   ]
  },
  {
   "cell_type": "code",
   "execution_count": 110,
   "metadata": {
    "ExecuteTime": {
     "end_time": "2016-12-18T19:16:37.931925",
     "start_time": "2016-12-18T19:16:37.927393"
    },
    "run_control": {
     "frozen": false,
     "read_only": false
    }
   },
   "outputs": [
    {
     "name": "stdout",
     "output_type": "stream",
     "text": [
      "[ 0.          0.          0.21871025  0.36071541  0.35574563  0.30051015\n",
      "  0.10836734  0.41522839  0.25222644]\n"
     ]
    },
    {
     "data": {
      "text/plain": [
       "array([0, 1, 0, 1, 1, 1, 0, 1, 0])"
      ]
     },
     "execution_count": 110,
     "metadata": {},
     "output_type": "execute_result"
    }
   ],
   "source": [
    "closestPoint(sample, center)"
   ]
  },
  {
   "cell_type": "code",
   "execution_count": 85,
   "metadata": {
    "ExecuteTime": {
     "end_time": "2016-12-18T19:04:57.165434",
     "start_time": "2016-12-18T19:04:57.161786"
    },
    "run_control": {
     "frozen": false,
     "read_only": false
    }
   },
   "outputs": [
    {
     "data": {
      "text/plain": [
       "(4, 3)"
      ]
     },
     "execution_count": 85,
     "metadata": {},
     "output_type": "execute_result"
    }
   ],
   "source": [
    "sample.shape"
   ]
  },
  {
   "cell_type": "code",
   "execution_count": 92,
   "metadata": {
    "ExecuteTime": {
     "end_time": "2016-12-18T19:11:16.141843",
     "start_time": "2016-12-18T19:11:16.137234"
    },
    "run_control": {
     "frozen": false,
     "read_only": false
    }
   },
   "outputs": [
    {
     "data": {
      "text/plain": [
       "array([0, 1, 0, 1])"
      ]
     },
     "execution_count": 92,
     "metadata": {},
     "output_type": "execute_result"
    }
   ],
   "source": [
    "np.argmin(scipy.spatial.distance.cdist(sample, center, 'euclidean'), axis=1)"
   ]
  },
  {
   "cell_type": "code",
   "execution_count": 74,
   "metadata": {
    "ExecuteTime": {
     "end_time": "2016-12-18T18:56:18.406227",
     "start_time": "2016-12-18T18:56:18.402749"
    },
    "run_control": {
     "frozen": false,
     "read_only": false
    }
   },
   "outputs": [],
   "source": [
    "assigned_centers=np.zeros(len(sample))\n",
    "min_dist=np.empty(len(sample))\n",
    "min_dist[:]=np.inf\n",
    "dist = np.sum((sample - center)**2, axis=1)"
   ]
  },
  {
   "cell_type": "code",
   "execution_count": 75,
   "metadata": {
    "ExecuteTime": {
     "end_time": "2016-12-18T18:56:19.270401",
     "start_time": "2016-12-18T18:56:19.266300"
    },
    "run_control": {
     "frozen": false,
     "read_only": false
    }
   },
   "outputs": [
    {
     "data": {
      "text/plain": [
       "array([ 0.        ,  0.06474229,  0.04783417,  0.19651404])"
      ]
     },
     "execution_count": 75,
     "metadata": {},
     "output_type": "execute_result"
    }
   ],
   "source": [
    "dist"
   ]
  },
  {
   "cell_type": "code",
   "execution_count": 76,
   "metadata": {
    "ExecuteTime": {
     "end_time": "2016-12-18T18:56:19.916773",
     "start_time": "2016-12-18T18:56:19.914244"
    },
    "run_control": {
     "frozen": false,
     "read_only": false
    }
   },
   "outputs": [],
   "source": [
    "min_dist = np.array([0, 3, 3, 4])"
   ]
  },
  {
   "cell_type": "code",
   "execution_count": 77,
   "metadata": {
    "ExecuteTime": {
     "end_time": "2016-12-18T18:56:20.782169",
     "start_time": "2016-12-18T18:56:20.778194"
    },
    "run_control": {
     "frozen": false,
     "read_only": false
    }
   },
   "outputs": [
    {
     "data": {
      "text/plain": [
       "array([False,  True,  True,  True], dtype=bool)"
      ]
     },
     "execution_count": 77,
     "metadata": {},
     "output_type": "execute_result"
    }
   ],
   "source": [
    "np.less(dist, min_dist)"
   ]
  },
  {
   "cell_type": "code",
   "execution_count": 78,
   "metadata": {
    "ExecuteTime": {
     "end_time": "2016-12-18T18:56:21.796829",
     "start_time": "2016-12-18T18:56:21.794065"
    },
    "run_control": {
     "frozen": false,
     "read_only": false
    }
   },
   "outputs": [],
   "source": [
    "assigned_centers[np.less(dist, min_dist)]=1"
   ]
  },
  {
   "cell_type": "code",
   "execution_count": 79,
   "metadata": {
    "ExecuteTime": {
     "end_time": "2016-12-18T18:56:22.286346",
     "start_time": "2016-12-18T18:56:22.282077"
    },
    "run_control": {
     "frozen": false,
     "read_only": false
    }
   },
   "outputs": [
    {
     "data": {
      "text/plain": [
       "array([ 0.,  1.,  1.,  1.])"
      ]
     },
     "execution_count": 79,
     "metadata": {},
     "output_type": "execute_result"
    }
   ],
   "source": [
    "assigned_centers"
   ]
  },
  {
   "cell_type": "code",
   "execution_count": 12,
   "metadata": {
    "ExecuteTime": {
     "end_time": "2016-12-18T18:16:31.134805",
     "start_time": "2016-12-18T18:16:31.131924"
    },
    "collapsed": true,
    "run_control": {
     "frozen": false,
     "read_only": false
    }
   },
   "outputs": [],
   "source": [
    "dist = np.sum((sample - center) ** 2)"
   ]
  },
  {
   "cell_type": "code",
   "execution_count": 13,
   "metadata": {
    "ExecuteTime": {
     "end_time": "2016-12-18T18:16:36.015489",
     "start_time": "2016-12-18T18:16:36.011528"
    },
    "run_control": {
     "frozen": false,
     "read_only": false
    }
   },
   "outputs": [
    {
     "data": {
      "text/plain": [
       "0.309090506309049"
      ]
     },
     "execution_count": 13,
     "metadata": {},
     "output_type": "execute_result"
    }
   ],
   "source": [
    "dist"
   ]
  },
  {
   "cell_type": "markdown",
   "metadata": {},
   "source": [
    "# Kafka Integration"
   ]
  },
  {
   "cell_type": "code",
   "execution_count": null,
   "metadata": {
    "collapsed": true,
    "run_control": {
     "frozen": false,
     "read_only": false
    }
   },
   "outputs": [],
   "source": [
    "\n",
    "\n",
    "zkKafka='c251-104.wrangler.tacc.utexas.edu:2181'\n",
    "client = KafkaClient(zookeeper_hosts=zkKafka)\n",
    "#client = KafkaClient(hosts='c251-142.wrangler.tacc.utexas.edu:9092')\n",
    "topic = client.topics['latency']\n",
    "producer = topic.get_sync_producer()\n",
    "consumer = topic.get_simple_consumer()\n",
    "\n",
    "\n",
    "# In[5]:\n",
    "\n",
    "run_timestamp=datetime.datetime.now()\n",
    "RESULT_FILE= \"results/kafka-latency-\" + run_timestamp.strftime(\"%Y%m%d-%H%M%S\") + \".csv\"\n",
    "try:\n",
    "    os.makedirs(\"results\")\n",
    "except:\n",
    "    pass\n",
    "output_file=open(RESULT_FILE, \"w\")\n",
    "\n",
    "\n",
    "source_time=1482011522.371088\n",
    "sink_time=1482011549.907337\n",
    "TIME_OFFSET=sink_time-source_time\n",
    "\n",
    "while True:\n",
    "    message = consumer.consume(block=True)\n",
    "    #print message.value\n",
    "    now = time.time()\n",
    "    #sent_time=datetime.datetime.strptime(message.value, \"%Y-%m-%dT%H:%M:%S.%fZ\")\n",
    "    sent_time_string = message.value.split(\";\")[0]\n",
    "    sleep_time =float(message.value.split(\";\")[1])\n",
    "    sent_time = dateutil.parser.parse(sent_time_string)\n",
    "    sent_time_ts = time.mktime(sent_time.timetuple())\n",
    "    lat = now-sent_time_ts - TIME_OFFSET   \n",
    "    result = \"kafka, latency, 0, %.5f, %.5f, %s, %s\\n\"%(1/sleep_time, lat, message.value.split(\";\")[0], \n",
    "                                                                    datetime.datetime.now().isoformat())\n",
    "    print(result)\n",
    "    output_file.write(result)\n",
    "    output_file.flush()\n"
   ]
  },
  {
   "cell_type": "code",
   "execution_count": null,
   "metadata": {
    "collapsed": true,
    "run_control": {
     "frozen": false,
     "read_only": false
    }
   },
   "outputs": [],
   "source": []
  }
 ],
 "metadata": {
  "kernelspec": {
   "display_name": "Python 2",
   "language": "python",
   "name": "python2"
  },
  "language_info": {
   "codemirror_mode": {
    "name": "ipython",
    "version": 2
   },
   "file_extension": ".py",
   "mimetype": "text/x-python",
   "name": "python",
   "nbconvert_exporter": "python",
   "pygments_lexer": "ipython2",
   "version": "2.7.13"
  },
  "toc": {
   "toc_cell": false,
   "toc_number_sections": true,
   "toc_threshold": 6,
   "toc_window_display": false
  }
 },
 "nbformat": 4,
 "nbformat_minor": 1
}
