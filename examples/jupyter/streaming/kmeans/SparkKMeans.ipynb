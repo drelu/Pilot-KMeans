{
 "cells": [
  {
   "cell_type": "code",
   "execution_count": 1,
   "metadata": {
    "ExecuteTime": {
     "end_time": "2017-07-25T01:26:32.570669Z",
     "start_time": "2017-07-25T01:26:32.334626Z"
    },
    "collapsed": true,
    "run_control": {
     "frozen": false,
     "read_only": false
    }
   },
   "outputs": [],
   "source": [
    "#!export PYSPARK_PYTHON=/Users/q224516/anaconda2/bin/python\n",
    "!export SPARK_HOME=/usr/local/Cellar/apache-spark/2.2.0/libexec/"
   ]
  },
  {
   "cell_type": "code",
   "execution_count": 3,
   "metadata": {
    "ExecuteTime": {
     "end_time": "2017-07-25T01:32:56.137852Z",
     "start_time": "2017-07-25T01:32:56.122832Z"
    },
    "run_control": {
     "frozen": false,
     "read_only": false
    }
   },
   "outputs": [
    {
     "name": "stdout",
     "output_type": "stream",
     "text": [
      "Init Spark: /usr/local/Cellar/apache-spark/2.2.0/libexec/\n"
     ]
    }
   ],
   "source": [
    "import os, sys, time\n",
    "\n",
    "SPARK_HOME=\"/usr/local/Cellar/apache-spark/2.2.0/libexec/\" \n",
    "os.environ[\"SPARK_HOME\"]=SPARK_HOME\n",
    "print \"Init Spark: \" + SPARK_HOME\n",
    "\n",
    "#os.environ[\"PYSPARK_PYTHON\"]=\"/home/01131/tg804093/anaconda2/bin/python\"\n",
    "os.environ[\"PYSPARK_DRIVER_PYTHON\"]=\"ipython\"\n",
    "os.environ[\"PYSPARK_DRIVER_PYTHON_OPTS\"]=\"notebook\"\n",
    "os.environ[\"PYTHONPATH\"]= os.path.join(SPARK_HOME, \"python\")+\":\" + os.path.join(SPARK_HOME, \"python/lib/py4j-0.10.4-src.zip\")\n",
    "    \n",
    "sys.path.insert(0, os.path.join(SPARK_HOME, \"python\"))\n",
    "#sys.path.insert(0, os.path.join(SPARK_HOME, 'python/lib/py4j-0.9-src.zip')) \n",
    "sys.path.insert(0, os.path.join(SPARK_HOME, 'python/lib/py4j-0.10.4-src.zip')) \n",
    "sys.path.insert(0, os.path.join(SPARK_HOME, 'bin') )\n",
    "\n",
    "# import Spark Libraries\n",
    "from pyspark import SparkContext, SparkConf, Accumulator, AccumulatorParam\n",
    "from pyspark.sql import SQLContext\n",
    "from pyspark.sql.types import *\n",
    "from pyspark.mllib.linalg import Vector\n",
    "from pyspark.sql import SparkSession\n",
    "import pandas as pd"
   ]
  },
  {
   "cell_type": "code",
   "execution_count": 4,
   "metadata": {
    "ExecuteTime": {
     "end_time": "2017-07-25T01:33:01.614806Z",
     "start_time": "2017-07-25T01:32:57.921714Z"
    },
    "run_control": {
     "frozen": false,
     "read_only": false
    }
   },
   "outputs": [],
   "source": [
    "spark = SparkSession.builder.appName(\"test\").master(\"spark://MBP:7077\").getOrCreate()"
   ]
  },
  {
   "cell_type": "code",
   "execution_count": 6,
   "metadata": {
    "ExecuteTime": {
     "end_time": "2017-07-25T01:41:37.166745Z",
     "start_time": "2017-07-25T01:41:37.163783Z"
    },
    "run_control": {
     "frozen": false,
     "read_only": false
    }
   },
   "outputs": [],
   "source": [
    "import numpy as np"
   ]
  },
  {
   "cell_type": "code",
   "execution_count": 21,
   "metadata": {
    "ExecuteTime": {
     "end_time": "2017-07-25T01:44:11.534897Z",
     "start_time": "2017-07-25T01:44:11.526498Z"
    }
   },
   "outputs": [],
   "source": [
    "data = np.fromfile(\"../kmeans_100_1000_3.np\").reshape(955734/2, 2)"
   ]
  },
  {
   "cell_type": "code",
   "execution_count": 22,
   "metadata": {
    "ExecuteTime": {
     "end_time": "2017-07-25T01:44:12.440436Z",
     "start_time": "2017-07-25T01:44:12.436221Z"
    }
   },
   "outputs": [
    {
     "data": {
      "text/plain": [
       "(477867, 2)"
      ]
     },
     "execution_count": 22,
     "metadata": {},
     "output_type": "execute_result"
    }
   ],
   "source": [
    "data.shape"
   ]
  },
  {
   "cell_type": "code",
   "execution_count": 25,
   "metadata": {
    "ExecuteTime": {
     "end_time": "2017-07-25T01:46:08.915244Z",
     "start_time": "2017-07-25T01:46:04.388553Z"
    }
   },
   "outputs": [],
   "source": [
    "from pyspark.mllib.clustering import *\n",
    "model = KMeans.train(spark.sparkContext.parallelize(data), 2, \n",
    "                     maxIterations=10, initializationMode=\"random\",\n",
    "                     seed=50, initializationSteps=5, epsilon=1e-4)"
   ]
  },
  {
   "cell_type": "code",
   "execution_count": 26,
   "metadata": {
    "ExecuteTime": {
     "end_time": "2017-07-25T01:46:13.449631Z",
     "start_time": "2017-07-25T01:46:13.445219Z"
    }
   },
   "outputs": [
    {
     "data": {
      "text/plain": [
       "<pyspark.mllib.clustering.KMeansModel at 0x113f15690>"
      ]
     },
     "execution_count": 26,
     "metadata": {},
     "output_type": "execute_result"
    }
   ],
   "source": [
    "model"
   ]
  },
  {
   "cell_type": "code",
   "execution_count": null,
   "metadata": {
    "collapsed": true
   },
   "outputs": [],
   "source": []
  }
 ],
 "metadata": {
  "kernelspec": {
   "display_name": "Python [default]",
   "language": "python",
   "name": "python2"
  },
  "language_info": {
   "codemirror_mode": {
    "name": "ipython",
    "version": 2
   },
   "file_extension": ".py",
   "mimetype": "text/x-python",
   "name": "python",
   "nbconvert_exporter": "python",
   "pygments_lexer": "ipython2",
   "version": "2.7.11"
  },
  "toc": {
   "toc_cell": false,
   "toc_number_sections": true,
   "toc_threshold": 6,
   "toc_window_display": false
  }
 },
 "nbformat": 4,
 "nbformat_minor": 2
}
