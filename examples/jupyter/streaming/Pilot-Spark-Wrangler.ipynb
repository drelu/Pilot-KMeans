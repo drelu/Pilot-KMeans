{
 "cells": [
  {
   "cell_type": "markdown",
   "metadata": {},
   "source": [
    "# Wrangler Hello World\n",
    "\n",
    "Execute the following command on Wrangler to start a Spark cluster (Not due to an issue with the SAGA SLURM adaptor it must be executed from the Home directory):\n",
    "\n",
    "\n",
    "    saga-hadoop --resource=slurm://localhost --queue=normal --walltime=59 --number_cores=24 --project=TG-MCB090174 --framework spark"
   ]
  },
  {
   "cell_type": "code",
   "execution_count": null,
   "metadata": {
    "collapsed": true
   },
   "outputs": [],
   "source": [
    "!saga-hadoop --resource=slurm://localhost \\\n",
    "             --queue=normal --walltime=59 --number_cores=24 \\\n",
    "             --project=TG-MCB090174 --framework spark"
   ]
  },
  {
   "cell_type": "markdown",
   "metadata": {},
   "source": [
    "### Optional: investigate environment on Wrangler"
   ]
  },
  {
   "cell_type": "code",
   "execution_count": null,
   "metadata": {
    "collapsed": false
   },
   "outputs": [],
   "source": [
    "!squeue"
   ]
  },
  {
   "cell_type": "code",
   "execution_count": null,
   "metadata": {
    "collapsed": false
   },
   "outputs": [],
   "source": [
    "!java -version"
   ]
  },
  {
   "cell_type": "code",
   "execution_count": null,
   "metadata": {
    "collapsed": false
   },
   "outputs": [],
   "source": [
    "!/sbin/ifconfig"
   ]
  },
  {
   "cell_type": "code",
   "execution_count": 1,
   "metadata": {
    "collapsed": false
   },
   "outputs": [
    {
     "name": "stdout",
     "output_type": "stream",
     "text": [
      "SPARK Home: /home/01131/tg804093/work/spark-2.0.0-bin-hadoop2.6\n",
      "SPARK HOME: /home/01131/tg804093/work/spark-2.0.0-bin-hadoop2.6\n",
      "PYTHONPATH: /home/01131/tg804093/work/spark-2.0.0-bin-hadoop2.6/python:/home/01131/tg804093/work/spark-2.0.0-bin-hadoop2.6/python/lib/py4j-0.10.1-src.zip\n",
      "Connect to Spark cluster: spark://c251-105.wrangler.tacc.utexas.edu:7077\n",
      "spark.app.name=Pilot-Spark\n",
      "spark.driver.host=129.114.58.107\n",
      "spark.master=spark://c251-105.wrangler.tacc.utexas.edu:7077\n",
      "spark.submit.deployMode=client\n",
      "Spark Startup, 1.90\n"
     ]
    }
   ],
   "source": [
    "import os\n",
    "os.environ[\"SPARK_LOCAL_IP\"]=\"129.114.58.107\"\n",
    "%run ../util/init_spark_wrangler.py\n",
    "from pilot_hadoop import PilotComputeService as PilotSparkComputeService\n",
    "\n",
    "\n",
    "pilotcompute_description = {''\n",
    "    \"service_url\": \"spark://c251-105.wrangler.tacc.utexas.edu:7077\",\n",
    "    \"spark.driver.host\": os.environ[\"SPARK_LOCAL_IP\"]\n",
    "}\n",
    "\n",
    "print \"SPARK HOME: %s\"%os.environ[\"SPARK_HOME\"]\n",
    "print \"PYTHONPATH: %s\"%os.environ[\"PYTHONPATH\"]\n",
    "\n",
    "start = time.time()\n",
    "pilot_spark = PilotSparkComputeService.create_pilot(pilotcompute_description=pilotcompute_description)\n",
    "sc = pilot_spark.get_spark_context()\n",
    "print \"Spark Startup, %.2f\"%(time.time()-start)"
   ]
  },
  {
   "cell_type": "code",
   "execution_count": 5,
   "metadata": {
    "collapsed": false
   },
   "outputs": [],
   "source": [
    "rdd=sc.parallelize(range(10000), 4)"
   ]
  },
  {
   "cell_type": "code",
   "execution_count": 6,
   "metadata": {
    "collapsed": false
   },
   "outputs": [
    {
     "data": {
      "text/plain": [
       "ParallelCollectionRDD[2] at parallelize at PythonRDD.scala:475"
      ]
     },
     "execution_count": 6,
     "metadata": {},
     "output_type": "execute_result"
    }
   ],
   "source": [
    "rdd.cache()"
   ]
  },
  {
   "cell_type": "code",
   "execution_count": 7,
   "metadata": {
    "collapsed": false
   },
   "outputs": [
    {
     "data": {
      "text/plain": [
       "10000"
      ]
     },
     "execution_count": 7,
     "metadata": {},
     "output_type": "execute_result"
    }
   ],
   "source": [
    "rdd.count()"
   ]
  },
  {
   "cell_type": "markdown",
   "metadata": {},
   "source": [
    "# Kafka"
   ]
  },
  {
   "cell_type": "markdown",
   "metadata": {},
   "source": [
    "    saga-hadoop --resource=slurm://localhost    --queue=normal --walltime=180 --number_cores=32   --project=TG-MCB090174 --framework kafka"
   ]
  },
  {
   "cell_type": "code",
   "execution_count": null,
   "metadata": {
    "collapsed": false
   },
   "outputs": [],
   "source": [
    "!squeue -u tg804093"
   ]
  },
  {
   "cell_type": "code",
   "execution_count": null,
   "metadata": {
    "collapsed": false
   },
   "outputs": [],
   "source": [
    "from pykafka import KafkaClient\n",
    "zkKafka='c251-118.wrangler.tacc.utexas.edu:2181'\n",
    "\n",
    "client = KafkaClient(zookeeper_hosts=zkKafka)\n",
    "#client = KafkaClient(hosts='c251-142.wrangler.tacc.utexas.edu:9092')\n",
    "topic = client.topics['test']\n",
    "producer = topic.get_sync_producer()\n",
    "consumer = topic.get_simple_consumer()"
   ]
  },
  {
   "cell_type": "code",
   "execution_count": null,
   "metadata": {
    "collapsed": false
   },
   "outputs": [],
   "source": [
    "client.cluster.brokers"
   ]
  },
  {
   "cell_type": "code",
   "execution_count": null,
   "metadata": {
    "collapsed": false
   },
   "outputs": [],
   "source": [
    "producer.produce(str('Hello World dfasd dfads'))"
   ]
  },
  {
   "cell_type": "code",
   "execution_count": null,
   "metadata": {
    "collapsed": false
   },
   "outputs": [],
   "source": [
    "message = consumer.consume(block=False)\n",
    "print(\"%d: %s\"%(message.offset, message.value))"
   ]
  },
  {
   "cell_type": "markdown",
   "metadata": {},
   "source": [
    "## Kafka and Spark Streaming\n",
    "\n",
    "Kafka Integration only functional with spark-submit (see StreamingApp.py)\n",
    "\n",
    "PySpark Init:\n",
    "\n",
    "     /home/01131/tg804093/work/spark-2.0.0-bin-hadoop2.6/bin/pyspark --master spark://c251-121.wrangler.tacc.utexas.edu:7077 --packages  org.apache.spark:spark-streaming-kafka-0-8_2.11:2.0.0\n",
    "\n",
    "Download Spark Package:\n",
    "\n",
    "    #!/bin/bash\n",
    "    mvn dependency:get -Dartifact=org.apache.spark:spark-streaming-kafka-0-8_2.11:2.0.0\n",
    "    find $HOME/.m2/ -name \"*.jar\" |xargs cp -t /home/01131/tg804093/src/spark-streaming-kafka/"
   ]
  },
  {
   "cell_type": "code",
   "execution_count": null,
   "metadata": {
    "collapsed": true
   },
   "outputs": [],
   "source": [
    "files=!ls /home/01131/tg804093/src/spark-streaming-kafka/\n",
    "jar_files = \",\".join([\"/home/01131/tg804093/\" + i for i in files])\n",
    "\n",
    "jar_files_colon=\":\".join([\"/home/01131/tg804093/\" + i for i in files])"
   ]
  },
  {
   "cell_type": "code",
   "execution_count": null,
   "metadata": {
    "collapsed": false
   },
   "outputs": [],
   "source": [
    "import os\n",
    "#os.environ[\"PYSPARK_SUBMIT_ARGS\"]=\"--packages org.apache.spark:spark-streaming-kafka-0-8_2.11:2.0.0\"\n",
    "\n",
    "%run util/init_spark_wrangler.py\n",
    "from pilot_hadoop import PilotComputeService as PilotSparkComputeService\n",
    "\n",
    "#os.environ[\"PYSPARK_SUBMIT_ARGS\"]=\"--jars /home/01131/tg804093/src/spark-streaming-kafka/spark-streaming-kafka-0-10-assembly_2.11-2.0.0.jar\"\n",
    "#os.environ[\"SPARK_CLASSPATH\"]=\":\".join([\"/home/01131/tg804093/\" + i for i in files])\n",
    "\n",
    "#os.environ[\"SPARK_CLASSPATH\"]=\"/home/01131/tg804093/spark-streaming-kafka-0-8_2.11-2.0.0.jar\"\n",
    "\n",
    "\n",
    "pilotcompute_description = {\n",
    "    \"service_url\": \"spark://c251-121.wrangler.tacc.utexas.edu:7077\",\n",
    "    #\"spark.jars.packages\": \"org.apache.spark:spark-streaming-kafka-0-8_2.11:2.0.0\",\n",
    "    \"spark.jars\": \"/home/01131/tg804093/spark-streaming-kafka-0-8_2.11-2.0.0.jar\"\n",
    "    #\"spark.driver.host\": os.environ[\"SPARK_LOCAL_IP\"]\n",
    "}\n",
    "\n",
    "print \"SPARK HOME: %s\"%os.environ[\"SPARK_HOME\"]\n",
    "print \"PYTHONPATH: %s\"%os.environ[\"PYTHONPATH\"]\n",
    "\n",
    "start = time.time()\n",
    "pilot_spark = PilotSparkComputeService.create_pilot(pilotcompute_description=pilotcompute_description)\n",
    "sc = pilot_spark.get_spark_context()\n",
    "print \"Spark Startup, %.2f\"%(time.time()-start)"
   ]
  },
  {
   "cell_type": "code",
   "execution_count": null,
   "metadata": {
    "collapsed": true
   },
   "outputs": [],
   "source": [
    "zkKafka='c251-118.wrangler.tacc.utexas.edu:2181'\n",
    "from pyspark.streaming import StreamingContext\n",
    "from pyspark.streaming.kafka import KafkaUtils\n",
    "ssc = StreamingContext(sc, 1)\n",
    "kvs = KafkaUtils.createStream(ssc, zkKafka, \"spark-streaming-consumer\", {'test': 1})    "
   ]
  },
  {
   "cell_type": "code",
   "execution_count": null,
   "metadata": {
    "collapsed": true
   },
   "outputs": [],
   "source": [
    "lines = kvs.map(lambda x: x[1])\n",
    "counts = lines.flatMap(lambda line: line.split(\" \")) \\\n",
    "        .map(lambda word: (word, 1)) \\\n",
    "        .reduceByKey(lambda a, b: a+b)\n",
    "counts.pprint()\n",
    "ssc.start()\n",
    "ssc.awaitTermination()"
   ]
  }
 ],
 "metadata": {
  "kernelspec": {
   "display_name": "Python 2",
   "language": "python",
   "name": "python2"
  },
  "language_info": {
   "codemirror_mode": {
    "name": "ipython",
    "version": 2
   },
   "file_extension": ".py",
   "mimetype": "text/x-python",
   "name": "python",
   "nbconvert_exporter": "python",
   "pygments_lexer": "ipython2",
   "version": "2.7.11"
  }
 },
 "nbformat": 4,
 "nbformat_minor": 0
}
