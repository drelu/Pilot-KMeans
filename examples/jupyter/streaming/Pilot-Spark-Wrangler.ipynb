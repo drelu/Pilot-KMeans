{
 "cells": [
  {
   "cell_type": "markdown",
   "metadata": {},
   "source": [
    "# Wrangler Hello World\n",
    "\n",
    "Execute the following command on Wrangler to start a Spark cluster (Not due to an issue with the SAGA SLURM adaptor it must be executed from the Home directory):\n",
    "\n",
    "\n",
    "    saga-hadoop --resource=slurm://localhost --queue=normal --walltime=59 --number_cores=24 --project=TG-MCB090174 --framework spark"
   ]
  },
  {
   "cell_type": "code",
   "execution_count": null,
   "metadata": {
    "collapsed": true
   },
   "outputs": [],
   "source": [
    "!saga-hadoop --resource=slurm://localhost \\\n",
    "             --queue=normal --walltime=59 --number_cores=24 \\\n",
    "             --project=TG-MCB090174 --framework spark"
   ]
  },
  {
   "cell_type": "markdown",
   "metadata": {},
   "source": [
    "### Optional: investigate environment on Wrangler"
   ]
  },
  {
   "cell_type": "code",
   "execution_count": null,
   "metadata": {
    "collapsed": false
   },
   "outputs": [],
   "source": [
    "!squeue"
   ]
  },
  {
   "cell_type": "code",
   "execution_count": null,
   "metadata": {
    "collapsed": false
   },
   "outputs": [],
   "source": [
    "!java -version"
   ]
  },
  {
   "cell_type": "code",
   "execution_count": 3,
   "metadata": {
    "collapsed": false
   },
   "outputs": [
    {
     "name": "stdout",
     "output_type": "stream",
     "text": [
      "em1: flags=4163<UP,BROADCAST,RUNNING,MULTICAST>  mtu 1500\r\n",
      "        inet 10.1.58.118  netmask 255.255.255.0  broadcast 10.1.58.255\r\n",
      "        ether f8:bc:12:55:dc:bc  txqueuelen 1000  (Ethernet)\r\n",
      "        RX packets 20599091  bytes 9111907585 (8.4 GiB)\r\n",
      "        RX errors 0  dropped 0  overruns 0  frame 0\r\n",
      "        TX packets 602722  bytes 168991277 (161.1 MiB)\r\n",
      "        TX errors 0  dropped 0 overruns 0  carrier 0  collisions 0\r\n",
      "        device interrupt 98  \r\n",
      "\r\n",
      "ib0: flags=4163<UP,BROADCAST,RUNNING,MULTICAST>  mtu 2044\r\n",
      "        inet 192.168.58.118  netmask 255.255.255.0  broadcast 192.168.58.255\r\n",
      "Infiniband hardware address can be incorrect! Please read BUGS section in ifconfig(8).\r\n",
      "        infiniband 80:00:02:40:FE:80:00:00:00:00:00:00:00:00:00:00:00:00:00:00  txqueuelen 256  (InfiniBand)\r\n",
      "        RX packets 102777  bytes 5756850 (5.4 MiB)\r\n",
      "        RX errors 0  dropped 0  overruns 0  frame 0\r\n",
      "        TX packets 34  bytes 2040 (1.9 KiB)\r\n",
      "        TX errors 0  dropped 0 overruns 0  carrier 0  collisions 0\r\n",
      "\r\n",
      "lo: flags=73<UP,LOOPBACK,RUNNING>  mtu 65536\r\n",
      "        inet 127.0.0.1  netmask 255.0.0.0\r\n",
      "        loop  txqueuelen 0  (Local Loopback)\r\n",
      "        RX packets 391888  bytes 5135083730 (4.7 GiB)\r\n",
      "        RX errors 0  dropped 0  overruns 0  frame 0\r\n",
      "        TX packets 391888  bytes 5135083730 (4.7 GiB)\r\n",
      "        TX errors 0  dropped 0 overruns 0  carrier 0  collisions 0\r\n",
      "\r\n",
      "p2p2: flags=4163<UP,BROADCAST,RUNNING,MULTICAST>  mtu 9000\r\n",
      "        inet 129.114.58.118  netmask 255.255.255.0  broadcast 129.114.58.255\r\n",
      "        ether f4:52:14:98:5d:c2  txqueuelen 1000  (Ethernet)\r\n",
      "        RX packets 72942995  bytes 42264370907 (39.3 GiB)\r\n",
      "        RX errors 0  dropped 0  overruns 0  frame 0\r\n",
      "        TX packets 66781233  bytes 19343014802 (18.0 GiB)\r\n",
      "        TX errors 0  dropped 0 overruns 0  carrier 0  collisions 0\r\n",
      "\r\n"
     ]
    }
   ],
   "source": [
    "!/sbin/ifconfig"
   ]
  },
  {
   "cell_type": "code",
   "execution_count": 1,
   "metadata": {
    "collapsed": false
   },
   "outputs": [
    {
     "name": "stdout",
     "output_type": "stream",
     "text": [
      "SPARK Home: /home/01131/tg804093/work/spark-2.0.0-bin-hadoop2.6\n",
      "SPARK HOME: /home/01131/tg804093/work/spark-2.0.0-bin-hadoop2.6\n",
      "PYTHONPATH: /home/01131/tg804093/work/spark-2.0.0-bin-hadoop2.6/python:/home/01131/tg804093/work/spark-2.0.0-bin-hadoop2.6/python/lib/py4j-0.10.1-src.zip\n",
      "Connect to Spark cluster: spark://c251-141.wrangler.tacc.utexas.edu:7077\n",
      "spark.app.name=Pilot-Spark\n",
      "spark.driver.extraClassPath=\"/home/01131/tg804093/spark-streaming-kafka-0-8_2.11-2.0.0.jar\"\n",
      "spark.driver.host=129.114.58.118\n",
      "spark.executor.extraClassPath=\"/home/01131/tg804093/spark-streaming-kafka-0-8_2.11-2.0.0.jar\"\n",
      "spark.master=spark://c251-141.wrangler.tacc.utexas.edu:7077\n",
      "spark.submit.deployMode=client\n",
      "Spark Startup, 1.94\n"
     ]
    }
   ],
   "source": [
    "import os\n",
    "os.environ[\"SPARK_LOCAL_IP\"]=\"129.114.58.118\"\n",
    "%run ../util/init_spark_wrangler.py\n",
    "from pilot_hadoop import PilotComputeService as PilotSparkComputeService\n",
    "\n",
    "\n",
    "pilotcompute_description = {''\n",
    "    \"service_url\": \"spark://c251-141.wrangler.tacc.utexas.edu:7077\",\n",
    "    \"spark.driver.host\": os.environ[\"SPARK_LOCAL_IP\"]\n",
    "}\n",
    "\n",
    "print \"SPARK HOME: %s\"%os.environ[\"SPARK_HOME\"]\n",
    "print \"PYTHONPATH: %s\"%os.environ[\"PYTHONPATH\"]\n",
    "\n",
    "start = time.time()\n",
    "pilot_spark = PilotSparkComputeService.create_pilot(pilotcompute_description=pilotcompute_description)\n",
    "sc = pilot_spark.get_spark_context()\n",
    "print \"Spark Startup, %.2f\"%(time.time()-start)"
   ]
  },
  {
   "cell_type": "code",
   "execution_count": 2,
   "metadata": {
    "collapsed": false
   },
   "outputs": [],
   "source": [
    "rdd=sc.parallelize(range(10))"
   ]
  },
  {
   "cell_type": "code",
   "execution_count": 3,
   "metadata": {
    "collapsed": false
   },
   "outputs": [
    {
     "data": {
      "text/plain": [
       "10"
      ]
     },
     "execution_count": 3,
     "metadata": {},
     "output_type": "execute_result"
    }
   ],
   "source": [
    "rdd.count()"
   ]
  },
  {
   "cell_type": "markdown",
   "metadata": {},
   "source": [
    "# Kafka"
   ]
  },
  {
   "cell_type": "markdown",
   "metadata": {},
   "source": [
    "    saga-hadoop --resource=slurm://localhost    --queue=normal --walltime=180 --number_cores=32   --project=TG-MCB090174 --framework kafka"
   ]
  },
  {
   "cell_type": "code",
   "execution_count": null,
   "metadata": {
    "collapsed": false
   },
   "outputs": [],
   "source": [
    "!squeue -u tg804093"
   ]
  },
  {
   "cell_type": "code",
   "execution_count": 11,
   "metadata": {
    "collapsed": false
   },
   "outputs": [],
   "source": [
    "from pykafka import KafkaClient\n",
    "zkKafka='c251-118.wrangler.tacc.utexas.edu:2181'\n",
    "\n",
    "client = KafkaClient(zookeeper_hosts=zkKafka)\n",
    "#client = KafkaClient(hosts='c251-142.wrangler.tacc.utexas.edu:9092')\n",
    "topic = client.topics['test']\n",
    "producer = topic.get_sync_producer()\n",
    "consumer = topic.get_simple_consumer()"
   ]
  },
  {
   "cell_type": "code",
   "execution_count": 12,
   "metadata": {
    "collapsed": false
   },
   "outputs": [
    {
     "data": {
      "text/plain": [
       "{0: <pykafka.broker.Broker at 0x2b2427139f90 (host=c251-119, port=9092, id=0)>,\n",
       " 1: <pykafka.broker.Broker at 0x2b2427148450 (host=c251-118, port=9092, id=1)>}"
      ]
     },
     "execution_count": 12,
     "metadata": {},
     "output_type": "execute_result"
    }
   ],
   "source": [
    "client.cluster.brokers"
   ]
  },
  {
   "cell_type": "code",
   "execution_count": 20,
   "metadata": {
    "collapsed": false
   },
   "outputs": [],
   "source": [
    "producer.produce(str('Hello World dfasd dfads'))"
   ]
  },
  {
   "cell_type": "code",
   "execution_count": 18,
   "metadata": {
    "collapsed": false
   },
   "outputs": [
    {
     "name": "stdout",
     "output_type": "stream",
     "text": [
      "1: Hello World 2\n"
     ]
    }
   ],
   "source": [
    "message = consumer.consume(block=False)\n",
    "print(\"%d: %s\"%(message.offset, message.value))"
   ]
  },
  {
   "cell_type": "markdown",
   "metadata": {},
   "source": [
    "## Kafka and Spark Streaming\n",
    "\n",
    "Kafka Integration only functional with spark-submit (see StreamingApp.py)\n",
    "\n",
    "PySpark Init:\n",
    "\n",
    "     /home/01131/tg804093/work/spark-2.0.0-bin-hadoop2.6/bin/pyspark --master spark://c251-121.wrangler.tacc.utexas.edu:7077 --packages  org.apache.spark:spark-streaming-kafka-0-8_2.11:2.0.0\n",
    "\n",
    "Download Spark Package:\n",
    "\n",
    "    #!/bin/bash\n",
    "    mvn dependency:get -Dartifact=org.apache.spark:spark-streaming-kafka-0-8_2.11:2.0.0\n",
    "    find $HOME/.m2/ -name \"*.jar\" |xargs cp -t /home/01131/tg804093/src/spark-streaming-kafka/"
   ]
  },
  {
   "cell_type": "code",
   "execution_count": 5,
   "metadata": {
    "collapsed": true
   },
   "outputs": [],
   "source": [
    "files=!ls /home/01131/tg804093/src/spark-streaming-kafka/\n",
    "jar_files = \",\".join([\"/home/01131/tg804093/\" + i for i in files])\n",
    "\n",
    "jar_files_colon=\":\".join([\"/home/01131/tg804093/\" + i for i in files])"
   ]
  },
  {
   "cell_type": "code",
   "execution_count": 1,
   "metadata": {
    "collapsed": false
   },
   "outputs": [
    {
     "name": "stdout",
     "output_type": "stream",
     "text": [
      "SPARK Home: /home/01131/tg804093/work/spark-2.0.0-bin-hadoop2.6\n",
      "SPARK HOME: /home/01131/tg804093/work/spark-2.0.0-bin-hadoop2.6\n",
      "PYTHONPATH: /home/01131/tg804093/work/spark-2.0.0-bin-hadoop2.6/python:/home/01131/tg804093/work/spark-2.0.0-bin-hadoop2.6/python/lib/py4j-0.10.1-src.zip\n",
      "Connect to Spark cluster: spark://c251-121.wrangler.tacc.utexas.edu:7077\n",
      "spark.app.name=Pilot-Spark\n",
      "spark.driver.extraClassPath=\"/home/01131/tg804093/spark-streaming-kafka-0-8_2.11-2.0.0.jar\"\n",
      "spark.executor.extraClassPath=\"/home/01131/tg804093/spark-streaming-kafka-0-8_2.11-2.0.0.jar\"\n",
      "spark.jars=/home/01131/tg804093/spark-streaming-kafka-0-8_2.11-2.0.0.jar\n",
      "spark.master=spark://c251-121.wrangler.tacc.utexas.edu:7077\n",
      "spark.submit.deployMode=client\n",
      "Spark Startup, 1.81\n"
     ]
    }
   ],
   "source": [
    "import os\n",
    "#os.environ[\"PYSPARK_SUBMIT_ARGS\"]=\"--packages org.apache.spark:spark-streaming-kafka-0-8_2.11:2.0.0\"\n",
    "\n",
    "%run util/init_spark_wrangler.py\n",
    "from pilot_hadoop import PilotComputeService as PilotSparkComputeService\n",
    "\n",
    "#os.environ[\"PYSPARK_SUBMIT_ARGS\"]=\"--jars /home/01131/tg804093/src/spark-streaming-kafka/spark-streaming-kafka-0-10-assembly_2.11-2.0.0.jar\"\n",
    "#os.environ[\"SPARK_CLASSPATH\"]=\":\".join([\"/home/01131/tg804093/\" + i for i in files])\n",
    "\n",
    "#os.environ[\"SPARK_CLASSPATH\"]=\"/home/01131/tg804093/spark-streaming-kafka-0-8_2.11-2.0.0.jar\"\n",
    "\n",
    "\n",
    "pilotcompute_description = {\n",
    "    \"service_url\": \"spark://c251-121.wrangler.tacc.utexas.edu:7077\",\n",
    "    #\"spark.jars.packages\": \"org.apache.spark:spark-streaming-kafka-0-8_2.11:2.0.0\",\n",
    "    \"spark.jars\": \"/home/01131/tg804093/spark-streaming-kafka-0-8_2.11-2.0.0.jar\"\n",
    "    #\"spark.driver.host\": os.environ[\"SPARK_LOCAL_IP\"]\n",
    "}\n",
    "\n",
    "print \"SPARK HOME: %s\"%os.environ[\"SPARK_HOME\"]\n",
    "print \"PYTHONPATH: %s\"%os.environ[\"PYTHONPATH\"]\n",
    "\n",
    "start = time.time()\n",
    "pilot_spark = PilotSparkComputeService.create_pilot(pilotcompute_description=pilotcompute_description)\n",
    "sc = pilot_spark.get_spark_context()\n",
    "print \"Spark Startup, %.2f\"%(time.time()-start)"
   ]
  },
  {
   "cell_type": "code",
   "execution_count": 2,
   "metadata": {
    "collapsed": true
   },
   "outputs": [
    {
     "name": "stdout",
     "output_type": "stream",
     "text": [
      "\n",
      "________________________________________________________________________________________________\n",
      "\n",
      "  Spark Streaming's Kafka libraries not found in class path. Try one of the following.\n",
      "\n",
      "  1. Include the Kafka library and its dependencies with in the\n",
      "     spark-submit command as\n",
      "\n",
      "     $ bin/spark-submit --packages org.apache.spark:spark-streaming-kafka-0-8:2.0.0 ...\n",
      "\n",
      "  2. Download the JAR of the artifact from Maven Central http://search.maven.org/,\n",
      "     Group Id = org.apache.spark, Artifact Id = spark-streaming-kafka-0-8-assembly, Version = 2.0.0.\n",
      "     Then, include the jar in the spark-submit command as\n",
      "\n",
      "     $ bin/spark-submit --jars <spark-streaming-kafka-0-8-assembly.jar> ...\n",
      "\n",
      "________________________________________________________________________________________________\n",
      "\n",
      "\n"
     ]
    },
    {
     "ename": "TypeError",
     "evalue": "'JavaPackage' object is not callable",
     "output_type": "error",
     "traceback": [
      "\u001b[0;31m---------------------------------------------------------------------------\u001b[0m",
      "\u001b[0;31mTypeError\u001b[0m                                 Traceback (most recent call last)",
      "\u001b[0;32m<ipython-input-2-11750335a240>\u001b[0m in \u001b[0;36m<module>\u001b[0;34m()\u001b[0m\n\u001b[1;32m      3\u001b[0m \u001b[0;32mfrom\u001b[0m \u001b[0mpyspark\u001b[0m\u001b[0;34m.\u001b[0m\u001b[0mstreaming\u001b[0m\u001b[0;34m.\u001b[0m\u001b[0mkafka\u001b[0m \u001b[0;32mimport\u001b[0m \u001b[0mKafkaUtils\u001b[0m\u001b[0;34m\u001b[0m\u001b[0m\n\u001b[1;32m      4\u001b[0m \u001b[0mssc\u001b[0m \u001b[0;34m=\u001b[0m \u001b[0mStreamingContext\u001b[0m\u001b[0;34m(\u001b[0m\u001b[0msc\u001b[0m\u001b[0;34m,\u001b[0m \u001b[0;36m1\u001b[0m\u001b[0;34m)\u001b[0m\u001b[0;34m\u001b[0m\u001b[0m\n\u001b[0;32m----> 5\u001b[0;31m \u001b[0mkvs\u001b[0m \u001b[0;34m=\u001b[0m \u001b[0mKafkaUtils\u001b[0m\u001b[0;34m.\u001b[0m\u001b[0mcreateStream\u001b[0m\u001b[0;34m(\u001b[0m\u001b[0mssc\u001b[0m\u001b[0;34m,\u001b[0m \u001b[0mzkKafka\u001b[0m\u001b[0;34m,\u001b[0m \u001b[0;34m\"spark-streaming-consumer\"\u001b[0m\u001b[0;34m,\u001b[0m \u001b[0;34m{\u001b[0m\u001b[0;34m'test'\u001b[0m\u001b[0;34m:\u001b[0m \u001b[0;36m1\u001b[0m\u001b[0;34m}\u001b[0m\u001b[0;34m)\u001b[0m\u001b[0;34m\u001b[0m\u001b[0m\n\u001b[0m",
      "\u001b[0;32m/home/01131/tg804093/work/spark-2.0.0-bin-hadoop2.6/python/pyspark/streaming/kafka.pyc\u001b[0m in \u001b[0;36mcreateStream\u001b[0;34m(ssc, zkQuorum, groupId, topics, kafkaParams, storageLevel, keyDecoder, valueDecoder)\u001b[0m\n\u001b[1;32m     67\u001b[0m             \u001b[0;32mraise\u001b[0m \u001b[0mTypeError\u001b[0m\u001b[0;34m(\u001b[0m\u001b[0;34m\"topics should be dict\"\u001b[0m\u001b[0;34m)\u001b[0m\u001b[0;34m\u001b[0m\u001b[0m\n\u001b[1;32m     68\u001b[0m         \u001b[0mjlevel\u001b[0m \u001b[0;34m=\u001b[0m \u001b[0mssc\u001b[0m\u001b[0;34m.\u001b[0m\u001b[0m_sc\u001b[0m\u001b[0;34m.\u001b[0m\u001b[0m_getJavaStorageLevel\u001b[0m\u001b[0;34m(\u001b[0m\u001b[0mstorageLevel\u001b[0m\u001b[0;34m)\u001b[0m\u001b[0;34m\u001b[0m\u001b[0m\n\u001b[0;32m---> 69\u001b[0;31m         \u001b[0mhelper\u001b[0m \u001b[0;34m=\u001b[0m \u001b[0mKafkaUtils\u001b[0m\u001b[0;34m.\u001b[0m\u001b[0m_get_helper\u001b[0m\u001b[0;34m(\u001b[0m\u001b[0mssc\u001b[0m\u001b[0;34m.\u001b[0m\u001b[0m_sc\u001b[0m\u001b[0;34m)\u001b[0m\u001b[0;34m\u001b[0m\u001b[0m\n\u001b[0m\u001b[1;32m     70\u001b[0m         \u001b[0mjstream\u001b[0m \u001b[0;34m=\u001b[0m \u001b[0mhelper\u001b[0m\u001b[0;34m.\u001b[0m\u001b[0mcreateStream\u001b[0m\u001b[0;34m(\u001b[0m\u001b[0mssc\u001b[0m\u001b[0;34m.\u001b[0m\u001b[0m_jssc\u001b[0m\u001b[0;34m,\u001b[0m \u001b[0mkafkaParams\u001b[0m\u001b[0;34m,\u001b[0m \u001b[0mtopics\u001b[0m\u001b[0;34m,\u001b[0m \u001b[0mjlevel\u001b[0m\u001b[0;34m)\u001b[0m\u001b[0;34m\u001b[0m\u001b[0m\n\u001b[1;32m     71\u001b[0m         \u001b[0mser\u001b[0m \u001b[0;34m=\u001b[0m \u001b[0mPairDeserializer\u001b[0m\u001b[0;34m(\u001b[0m\u001b[0mNoOpSerializer\u001b[0m\u001b[0;34m(\u001b[0m\u001b[0;34m)\u001b[0m\u001b[0;34m,\u001b[0m \u001b[0mNoOpSerializer\u001b[0m\u001b[0;34m(\u001b[0m\u001b[0;34m)\u001b[0m\u001b[0;34m)\u001b[0m\u001b[0;34m\u001b[0m\u001b[0m\n",
      "\u001b[0;32m/home/01131/tg804093/work/spark-2.0.0-bin-hadoop2.6/python/pyspark/streaming/kafka.pyc\u001b[0m in \u001b[0;36m_get_helper\u001b[0;34m(sc)\u001b[0m\n\u001b[1;32m    193\u001b[0m     \u001b[0;32mdef\u001b[0m \u001b[0m_get_helper\u001b[0m\u001b[0;34m(\u001b[0m\u001b[0msc\u001b[0m\u001b[0;34m)\u001b[0m\u001b[0;34m:\u001b[0m\u001b[0;34m\u001b[0m\u001b[0m\n\u001b[1;32m    194\u001b[0m         \u001b[0;32mtry\u001b[0m\u001b[0;34m:\u001b[0m\u001b[0;34m\u001b[0m\u001b[0m\n\u001b[0;32m--> 195\u001b[0;31m             \u001b[0;32mreturn\u001b[0m \u001b[0msc\u001b[0m\u001b[0;34m.\u001b[0m\u001b[0m_jvm\u001b[0m\u001b[0;34m.\u001b[0m\u001b[0morg\u001b[0m\u001b[0;34m.\u001b[0m\u001b[0mapache\u001b[0m\u001b[0;34m.\u001b[0m\u001b[0mspark\u001b[0m\u001b[0;34m.\u001b[0m\u001b[0mstreaming\u001b[0m\u001b[0;34m.\u001b[0m\u001b[0mkafka\u001b[0m\u001b[0;34m.\u001b[0m\u001b[0mKafkaUtilsPythonHelper\u001b[0m\u001b[0;34m(\u001b[0m\u001b[0;34m)\u001b[0m\u001b[0;34m\u001b[0m\u001b[0m\n\u001b[0m\u001b[1;32m    196\u001b[0m         \u001b[0;32mexcept\u001b[0m \u001b[0mTypeError\u001b[0m \u001b[0;32mas\u001b[0m \u001b[0me\u001b[0m\u001b[0;34m:\u001b[0m\u001b[0;34m\u001b[0m\u001b[0m\n\u001b[1;32m    197\u001b[0m             \u001b[0;32mif\u001b[0m \u001b[0mstr\u001b[0m\u001b[0;34m(\u001b[0m\u001b[0me\u001b[0m\u001b[0;34m)\u001b[0m \u001b[0;34m==\u001b[0m \u001b[0;34m\"'JavaPackage' object is not callable\"\u001b[0m\u001b[0;34m:\u001b[0m\u001b[0;34m\u001b[0m\u001b[0m\n",
      "\u001b[0;31mTypeError\u001b[0m: 'JavaPackage' object is not callable"
     ]
    }
   ],
   "source": [
    "zkKafka='c251-118.wrangler.tacc.utexas.edu:2181'\n",
    "from pyspark.streaming import StreamingContext\n",
    "from pyspark.streaming.kafka import KafkaUtils\n",
    "ssc = StreamingContext(sc, 1)\n",
    "kvs = KafkaUtils.createStream(ssc, zkKafka, \"spark-streaming-consumer\", {'test': 1})    "
   ]
  },
  {
   "cell_type": "code",
   "execution_count": null,
   "metadata": {
    "collapsed": true
   },
   "outputs": [],
   "source": [
    "lines = kvs.map(lambda x: x[1])\n",
    "counts = lines.flatMap(lambda line: line.split(\" \")) \\\n",
    "        .map(lambda word: (word, 1)) \\\n",
    "        .reduceByKey(lambda a, b: a+b)\n",
    "counts.pprint()\n",
    "ssc.start()\n",
    "ssc.awaitTermination()"
   ]
  }
 ],
 "metadata": {
  "kernelspec": {
   "display_name": "Python 2",
   "language": "python",
   "name": "python2"
  },
  "language_info": {
   "codemirror_mode": {
    "name": "ipython",
    "version": 2
   },
   "file_extension": ".py",
   "mimetype": "text/x-python",
   "name": "python",
   "nbconvert_exporter": "python",
   "pygments_lexer": "ipython2",
   "version": "2.7.11"
  }
 },
 "nbformat": 4,
 "nbformat_minor": 0
}
