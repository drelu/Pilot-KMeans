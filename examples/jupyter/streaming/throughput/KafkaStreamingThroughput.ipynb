{
 "cells": [
  {
   "cell_type": "markdown",
   "metadata": {},
   "source": [
    "# Streaming Consumer for Measuring Latency"
   ]
  },
  {
   "cell_type": "code",
   "execution_count": 2,
   "metadata": {
    "ExecuteTime": {
     "end_time": "2017-05-21T18:05:31.723030Z",
     "start_time": "2017-05-21T18:05:31.327994Z"
    },
    "collapsed": true,
    "init_cell": true
   },
   "outputs": [],
   "source": [
    "from pykafka import KafkaClient\n",
    "import numpy as np\n",
    "import time\n",
    "import datetime\n",
    "import dateutil.parser\n",
    "import ast\n",
    "import sklearn.cluster\n",
    "import threading\n",
    "from threading import Thread\n",
    "import datetime\n",
    "import pickle\n",
    "\n",
    "zkKafka='c251-122.wrangler.tacc.utexas.edu:2181'\n",
    "client = KafkaClient(zookeeper_hosts=zkKafka)\n",
    "#client = KafkaClient(hosts='c251-142.wrangler.tacc.utexas.edu:9092')\n",
    "topic = client.topics['Throughput']\n",
    "producer = topic.get_sync_producer()\n",
    "consumer = topic.get_simple_consumer()"
   ]
  },
  {
   "cell_type": "markdown",
   "metadata": {},
   "source": [
    "# KMeans\n",
    "## Deserialization"
   ]
  },
  {
   "cell_type": "code",
   "execution_count": null,
   "metadata": {
    "ExecuteTime": {
     "end_time": "2017-05-21T13:26:23.537058Z",
     "start_time": "2017-05-21T13:26:23.534155Z"
    },
    "collapsed": true
   },
   "outputs": [],
   "source": [
    "message = consumer.consume(block=True)"
   ]
  },
  {
   "cell_type": "code",
   "execution_count": null,
   "metadata": {
    "ExecuteTime": {
     "end_time": "2017-05-21T13:26:24.268393Z",
     "start_time": "2017-05-21T13:26:24.090279Z"
    }
   },
   "outputs": [],
   "source": [
    "%%time\n",
    "data_np = np.array(ast.literal_eval(message.value))"
   ]
  },
  {
   "cell_type": "code",
   "execution_count": null,
   "metadata": {
    "ExecuteTime": {
     "end_time": "2017-05-21T13:26:24.922751Z",
     "start_time": "2017-05-21T13:26:24.912831Z"
    }
   },
   "outputs": [],
   "source": [
    "data_np.shape"
   ]
  },
  {
   "cell_type": "code",
   "execution_count": null,
   "metadata": {
    "ExecuteTime": {
     "end_time": "2017-05-21T13:26:25.545915Z",
     "start_time": "2017-05-21T13:26:25.543127Z"
    },
    "collapsed": true
   },
   "outputs": [],
   "source": [
    "# Generate initial centroids\n",
    "number_centroids = 16\n",
    "number_dimensions = 3\n",
    "centroids = np.random.randn(number_centroids, number_dimensions)"
   ]
  },
  {
   "cell_type": "code",
   "execution_count": null,
   "metadata": {},
   "outputs": [],
   "source": [
    "len(centroids)"
   ]
  },
  {
   "cell_type": "markdown",
   "metadata": {},
   "source": [
    "## Scikit"
   ]
  },
  {
   "cell_type": "code",
   "execution_count": null,
   "metadata": {},
   "outputs": [],
   "source": [
    "%%time\n",
    "kmeans = sklearn.cluster.KMeans(n_clusters=len(centroids), init=centroids, n_init=1).fit(data_np)"
   ]
  },
  {
   "cell_type": "code",
   "execution_count": null,
   "metadata": {},
   "outputs": [],
   "source": [
    "centroids"
   ]
  },
  {
   "cell_type": "code",
   "execution_count": null,
   "metadata": {},
   "outputs": [],
   "source": [
    "kmeans.cluster_centers_"
   ]
  },
  {
   "cell_type": "code",
   "execution_count": null,
   "metadata": {},
   "outputs": [],
   "source": [
    "kmeans.labels_.shape"
   ]
  },
  {
   "cell_type": "markdown",
   "metadata": {},
   "source": [
    "## Mini Batch KMeans"
   ]
  },
  {
   "cell_type": "code",
   "execution_count": null,
   "metadata": {},
   "outputs": [],
   "source": [
    "%%time\n",
    "kmeans = sklearn.cluster.MiniBatchKMeans(n_clusters=len(centroids), init=centroids, n_init=1).partial_fit(data_np)"
   ]
  },
  {
   "cell_type": "code",
   "execution_count": null,
   "metadata": {},
   "outputs": [],
   "source": [
    "kmeans.cluster_centers_"
   ]
  },
  {
   "cell_type": "markdown",
   "metadata": {},
   "source": [
    "# Benchmark\n",
    "\n",
    "Streaming Data from Kafka"
   ]
  },
  {
   "cell_type": "code",
   "execution_count": null,
   "metadata": {
    "ExecuteTime": {
     "end_time": "2017-05-21T17:00:26.863967Z",
     "start_time": "2017-05-21T17:00:26.850454Z"
    },
    "collapsed": true
   },
   "outputs": [],
   "source": [
    "def process_messages(number_messages=1, threadid=0):\n",
    "    global kmeans\n",
    "    global result\n",
    "    global number_threads \n",
    "    global number_points_per_message\n",
    "    \n",
    "    print \"Thread: %d, Process %d messages\"%(threadid, number_messages)\n",
    "    count = 0\n",
    "    while count < number_messages:\n",
    "        start = time.time()\n",
    "        message = consumer.consume(block=True)\n",
    "        end_kafka = time.time()\n",
    "        data_np = np.array(ast.literal_eval(message.value))\n",
    "        num_points = len(data_np)\n",
    "        number_points_per_message = num_points\n",
    "        end_parsing = time.time()\n",
    "        kmeans = kmeans.partial_fit(data_np)\n",
    "        end_kmeans = time.time()    \n",
    "        result += \"kmeans-kafka,   %d, %d, %d, %d, %.5f\\n\"%(num_points, number_dimensions, number_centroids, number_threads, end_kafka-start)\n",
    "        result += \"kmeans-parsing, %d, %d, %d, %d, %.5f\\n\"%(num_points, number_dimensions, number_centroids, number_threads, end_parsing-end_kafka)\n",
    "        result += \"kmeans-model,   %d, %d, %d, %d, %.5f\\n\"%(num_points, number_dimensions, number_centroids, number_threads, end_kmeans-end_parsing)\n",
    "        if count % 100 == 0:\n",
    "            print \"Messages processed: %d\"%count\n",
    "        count += 1"
   ]
  },
  {
   "cell_type": "code",
   "execution_count": 3,
   "metadata": {
    "ExecuteTime": {
     "end_time": "2017-05-21T18:05:33.946562Z",
     "start_time": "2017-05-21T18:05:33.936464Z"
    }
   },
   "outputs": [],
   "source": [
    "import redis\n",
    "r = redis.StrictRedis(host='c251-123', port=6379, db=0)\n",
    "\n",
    "def put_model(model):\n",
    "    r.set('kmeans', pickle.dumps(model))\n",
    "    \n",
    "def get_model():\n",
    "    return pickle.loads(r.get(\"kmeans\"))"
   ]
  },
  {
   "cell_type": "code",
   "execution_count": null,
   "metadata": {
    "ExecuteTime": {
     "end_time": "2017-05-21T16:50:09.301528Z",
     "start_time": "2017-05-21T16:50:09.283363Z"
    }
   },
   "outputs": [],
   "source": [
    "def process_messages_kmeans_redis(number_messages=1, threadid=0):\n",
    "    global result\n",
    "    global number_threads \n",
    "    global number_points_per_message\n",
    "    print \"Thread: %d, Process %d messages\"%(threadid, number_messages)\n",
    "    count = 0\n",
    "    while count < number_messages:\n",
    "        start = time.time()\n",
    "        message = consumer.consume(block=True)\n",
    "        end_kafka = time.time()\n",
    "        data_np = np.array(ast.literal_eval(message.value))\n",
    "        num_points = len(data_np)\n",
    "        number_points_per_message = num_points\n",
    "        end_parsing = time.time()\n",
    "        kmeans = get_model()\n",
    "        end_model_get = time.time()\n",
    "        kmeans = kmeans.partial_fit(data_np)\n",
    "        end_kmeans = time.time()\n",
    "        put_model(kmeans)\n",
    "        end_model_put = time.time()    \n",
    "        res =  \"kmeans-kafka,   %d, %d, %d, %d, %.5f\\n\"%(num_points, number_dimensions, number_centroids, number_threads, end_kafka-start) \n",
    "        res += \"kmeans-parsing, %d, %d, %d, %d, %.5f\\n\"%(num_points, number_dimensions, number_centroids, number_threads, end_parsing-end_kafka) \n",
    "        res += \"kmeans-model-get,   %d, %d, %d, %d, %.5f\\n\"%(num_points, number_dimensions, number_centroids, number_threads, end_model_get-end_parsing) \n",
    "        res += \"kmeans-model,   %d, %d, %d, %d, %.5f\\n\"%(num_points, number_dimensions, number_centroids, number_threads, end_kmeans-end_model_get) \n",
    "        res += \"kmeans-model-put,   %d, %d, %d, %d, %.5f\\n\"%(num_points, number_dimensions, number_centroids, number_threads, end_model_put-end_kmeans)\n",
    "        if count % 100 == 0:\n",
    "            print \"Messages processed: %d\"%count\n",
    "        count += 1\n",
    "    \n",
    "    result += res"
   ]
  },
  {
   "cell_type": "code",
   "execution_count": null,
   "metadata": {
    "ExecuteTime": {
     "end_time": "2017-05-21T17:15:44.892805Z",
     "start_time": "2017-05-21T17:15:44.887193Z"
    }
   },
   "outputs": [],
   "source": [
    "run_timestamp=datetime.datetime.now()\n",
    "RESULT_FILE= \"results/kafka-throughput-kmeans-multithread-\" + run_timestamp.strftime(\"%Y%m%d-%H%M%S\") + \".csv\"\n",
    "try:\n",
    "    os.makedirs(\"results\")\n",
    "except:\n",
    "    pass\n",
    "output_file=open(RESULT_FILE, \"w\")\n",
    "output_file.write(\"Type, Number_Points, Dimensions, Number_Centroids, Number_Threads, Time\\n\")"
   ]
  },
  {
   "cell_type": "code",
   "execution_count": null,
   "metadata": {
    "ExecuteTime": {
     "end_time": "2017-05-21T17:24:38.127724Z",
     "start_time": "2017-05-21T17:15:50.514993Z"
    }
   },
   "outputs": [],
   "source": [
    "%%time\n",
    "\n",
    "global kmeans\n",
    "global result\n",
    "global number_points_per_message\n",
    "global number_threads \n",
    "\n",
    "\n",
    "# configuration\n",
    "number_centroids = 10\n",
    "number_dimensions = 3\n",
    "number_messages = 1000\n",
    "number_threads = 24\n",
    "repeats = 3\n",
    "\n",
    "for i in range(repeats):\n",
    "    # Generate initial centroids\n",
    "    centroids = np.random.randn(number_centroids, number_dimensions)\n",
    "    kmeans = sklearn.cluster.MiniBatchKMeans(n_clusters=len(centroids), init=centroids, n_init=1)\n",
    "    consumer = topic.get_simple_consumer(reset_offset_on_start=True)\n",
    "    result = \"\"   \n",
    "    global_start = time.time()\n",
    "    per_thread_messages = number_messages/number_threads\n",
    "    threads = []\n",
    "    for i in range(number_threads):\n",
    "        t = Thread(target=process_messages, kwargs={\"number_messages\":per_thread_messages, \n",
    "                                                    \"threadid\":i})\n",
    "        t.start()\n",
    "        threads.append(t)\n",
    "            \n",
    "    for t in threads:        \n",
    "        t.join()\n",
    "        #t.stop()\n",
    "    \n",
    "    global_end = time.time()\n",
    "    \n",
    "    result += \"kmeans-run,   %d, %d, %d, %d, %.5f\\n\"%(number_points_per_message, number_dimensions, number_centroids, number_threads, global_end-global_start)\n",
    "    \n",
    "    output_file.write(result)\n",
    "    output_file.flush()"
   ]
  },
  {
   "cell_type": "code",
   "execution_count": 4,
   "metadata": {
    "ExecuteTime": {
     "end_time": "2017-05-21T18:05:37.211091Z",
     "start_time": "2017-05-21T18:05:37.202837Z"
    }
   },
   "outputs": [],
   "source": [
    "m=get_model()"
   ]
  },
  {
   "cell_type": "code",
   "execution_count": 8,
   "metadata": {
    "ExecuteTime": {
     "end_time": "2017-05-21T18:05:56.186916Z",
     "start_time": "2017-05-21T18:05:56.180220Z"
    }
   },
   "outputs": [
    {
     "data": {
      "text/plain": [
       "10"
      ]
     },
     "execution_count": 8,
     "metadata": {},
     "output_type": "execute_result"
    }
   ],
   "source": [
    "m.cluster_centers_.shape[0]"
   ]
  },
  {
   "cell_type": "code",
   "execution_count": null,
   "metadata": {
    "collapsed": true
   },
   "outputs": [],
   "source": []
  }
 ],
 "metadata": {
  "anaconda-cloud": {},
  "celltoolbar": "Initialization Cell",
  "kernelspec": {
   "display_name": "Python [default]",
   "language": "python",
   "name": "python2"
  },
  "toc": {
   "colors": {
    "hover_highlight": "#DAA520",
    "navigate_num": "#000000",
    "navigate_text": "#333333",
    "running_highlight": "#FF0000",
    "selected_highlight": "#FFD700",
    "sidebar_border": "#EEEEEE",
    "wrapper_background": "#FFFFFF"
   },
   "moveMenuLeft": true,
   "nav_menu": {
    "height": "123px",
    "width": "252px"
   },
   "navigate_menu": true,
   "number_sections": true,
   "sideBar": true,
   "threshold": 4,
   "toc_cell": false,
   "toc_position": {
    "height": "1208px",
    "left": "0px",
    "right": "1068px",
    "top": "107px",
    "width": "212px"
   },
   "toc_section_display": "block",
   "toc_window_display": true,
   "widenNotebook": false
  }
 },
 "nbformat": 4,
 "nbformat_minor": 1
}
