{
 "cells": [
  {
   "cell_type": "markdown",
   "metadata": {},
   "source": [
    "# KMeans Streaming Consumer \n",
    "\n",
    "Kafka Utils:\n",
    "\n",
    "    kafka-run-class.sh kafka.tools.GetOffsetShell --topic Throughput --broker-list c251-132:9092"
   ]
  },
  {
   "cell_type": "code",
   "execution_count": 24,
   "metadata": {
    "ExecuteTime": {
     "end_time": "2017-07-29T12:54:03.421462Z",
     "start_time": "2017-07-29T12:54:03.005571Z"
    },
    "init_cell": true,
    "run_control": {
     "frozen": false,
     "read_only": false
    }
   },
   "outputs": [],
   "source": [
    "from pykafka import KafkaClient\n",
    "import numpy as np\n",
    "import time\n",
    "import datetime\n",
    "import dateutil.parser\n",
    "import ast\n",
    "import sklearn.cluster\n",
    "import threading\n",
    "from threading import Thread\n",
    "import datetime\n",
    "import pickle\n",
    "\n",
    "zkKafka='c251-137.wrangler.tacc.utexas.edu:2181'\n",
    "client = KafkaClient(zookeeper_hosts=zkKafka)\n",
    "#client = KafkaClient(hosts='c251-138.wrangler.tacc.utexas.edu:9092')\n",
    "topic = client.topics['Throughput']\n",
    "producer = topic.get_sync_producer()\n",
    "consumer = topic.get_simple_consumer()"
   ]
  },
  {
   "cell_type": "code",
   "execution_count": 25,
   "metadata": {},
   "outputs": [
    {
     "data": {
      "text/plain": [
       "{0: <pykafka.broker.Broker at 0x2b187df55350 (host=c251-137, port=9092, id=0)>}"
      ]
     },
     "execution_count": 25,
     "metadata": {},
     "output_type": "execute_result"
    }
   ],
   "source": [
    "client.brokers"
   ]
  },
  {
   "cell_type": "markdown",
   "metadata": {},
   "source": [
    "# KMeans\n",
    "## Deserialization"
   ]
  },
  {
   "cell_type": "code",
   "execution_count": 26,
   "metadata": {
    "ExecuteTime": {
     "end_time": "2017-07-29T12:14:54.499574Z",
     "start_time": "2017-07-29T12:14:54.497180Z"
    },
    "run_control": {
     "frozen": false,
     "read_only": false
    }
   },
   "outputs": [
    {
     "ename": "NoBrokersAvailableError",
     "evalue": "Unable to connect to a broker to fetch metadata. See logs.",
     "output_type": "error",
     "traceback": [
      "\u001b[0;31m\u001b[0m",
      "\u001b[0;31mNoBrokersAvailableError\u001b[0mTraceback (most recent call last)",
      "\u001b[0;32m<ipython-input-26-66764188cd4d>\u001b[0m in \u001b[0;36m<module>\u001b[0;34m()\u001b[0m\n\u001b[0;32m----> 1\u001b[0;31m \u001b[0mmessage\u001b[0m \u001b[0;34m=\u001b[0m \u001b[0mconsumer\u001b[0m\u001b[0;34m.\u001b[0m\u001b[0mconsume\u001b[0m\u001b[0;34m(\u001b[0m\u001b[0mblock\u001b[0m\u001b[0;34m=\u001b[0m\u001b[0mTrue\u001b[0m\u001b[0;34m)\u001b[0m\u001b[0;34m\u001b[0m\u001b[0m\n\u001b[0m",
      "\u001b[0;32m/home/01131/tg804093/anaconda2/lib/python2.7/site-packages/pykafka/simpleconsumer.pyc\u001b[0m in \u001b[0;36mconsume\u001b[0;34m(self, block)\u001b[0m\n\u001b[1;32m    423\u001b[0m         \u001b[0mret\u001b[0m \u001b[0;34m=\u001b[0m \u001b[0mNone\u001b[0m\u001b[0;34m\u001b[0m\u001b[0m\n\u001b[1;32m    424\u001b[0m         \u001b[0;32mwhile\u001b[0m \u001b[0mTrue\u001b[0m\u001b[0;34m:\u001b[0m\u001b[0;34m\u001b[0m\u001b[0m\n\u001b[0;32m--> 425\u001b[0;31m             \u001b[0mself\u001b[0m\u001b[0;34m.\u001b[0m\u001b[0m_raise_worker_exceptions\u001b[0m\u001b[0;34m(\u001b[0m\u001b[0;34m)\u001b[0m\u001b[0;34m\u001b[0m\u001b[0m\n\u001b[0m\u001b[1;32m    426\u001b[0m             \u001b[0mself\u001b[0m\u001b[0;34m.\u001b[0m\u001b[0m_cluster\u001b[0m\u001b[0;34m.\u001b[0m\u001b[0mhandler\u001b[0m\u001b[0;34m.\u001b[0m\u001b[0msleep\u001b[0m\u001b[0;34m(\u001b[0m\u001b[0;34m)\u001b[0m\u001b[0;34m\u001b[0m\u001b[0m\n\u001b[1;32m    427\u001b[0m             \u001b[0;32mif\u001b[0m \u001b[0mself\u001b[0m\u001b[0;34m.\u001b[0m\u001b[0m_messages_arrived\u001b[0m\u001b[0;34m.\u001b[0m\u001b[0macquire\u001b[0m\u001b[0;34m(\u001b[0m\u001b[0mblocking\u001b[0m\u001b[0;34m=\u001b[0m\u001b[0mblock\u001b[0m\u001b[0;34m,\u001b[0m \u001b[0mtimeout\u001b[0m\u001b[0;34m=\u001b[0m\u001b[0mtimeout\u001b[0m\u001b[0;34m)\u001b[0m\u001b[0;34m:\u001b[0m\u001b[0;34m\u001b[0m\u001b[0m\n",
      "\u001b[0;32m/home/01131/tg804093/anaconda2/lib/python2.7/site-packages/pykafka/simpleconsumer.pyc\u001b[0m in \u001b[0;36m_raise_worker_exceptions\u001b[0;34m(self)\u001b[0m\n\u001b[1;32m    227\u001b[0m         \u001b[0;34m\"\"\"Raises exceptions encountered on worker threads\"\"\"\u001b[0m\u001b[0;34m\u001b[0m\u001b[0m\n\u001b[1;32m    228\u001b[0m         \u001b[0;32mif\u001b[0m \u001b[0mself\u001b[0m\u001b[0;34m.\u001b[0m\u001b[0m_worker_exception\u001b[0m \u001b[0;32mis\u001b[0m \u001b[0;32mnot\u001b[0m \u001b[0mNone\u001b[0m\u001b[0;34m:\u001b[0m\u001b[0;34m\u001b[0m\u001b[0m\n\u001b[0;32m--> 229\u001b[0;31m             \u001b[0mreraise\u001b[0m\u001b[0;34m(\u001b[0m\u001b[0;34m*\u001b[0m\u001b[0mself\u001b[0m\u001b[0;34m.\u001b[0m\u001b[0m_worker_exception\u001b[0m\u001b[0;34m)\u001b[0m\u001b[0;34m\u001b[0m\u001b[0m\n\u001b[0m\u001b[1;32m    230\u001b[0m \u001b[0;34m\u001b[0m\u001b[0m\n\u001b[1;32m    231\u001b[0m     \u001b[0;32mdef\u001b[0m \u001b[0m_update\u001b[0m\u001b[0;34m(\u001b[0m\u001b[0mself\u001b[0m\u001b[0;34m)\u001b[0m\u001b[0;34m:\u001b[0m\u001b[0;34m\u001b[0m\u001b[0m\n",
      "\u001b[0;32m/home/01131/tg804093/anaconda2/lib/python2.7/site-packages/pykafka/simpleconsumer.pyc\u001b[0m in \u001b[0;36mfetcher\u001b[0;34m()\u001b[0m\n\u001b[1;32m    387\u001b[0m                     \u001b[0;32mif\u001b[0m \u001b[0;32mnot\u001b[0m \u001b[0mself\u001b[0m\u001b[0;34m.\u001b[0m\u001b[0m_running\u001b[0m\u001b[0;34m:\u001b[0m\u001b[0;34m\u001b[0m\u001b[0m\n\u001b[1;32m    388\u001b[0m                         \u001b[0;32mbreak\u001b[0m\u001b[0;34m\u001b[0m\u001b[0m\n\u001b[0;32m--> 389\u001b[0;31m                     \u001b[0mself\u001b[0m\u001b[0;34m.\u001b[0m\u001b[0mfetch\u001b[0m\u001b[0;34m(\u001b[0m\u001b[0;34m)\u001b[0m\u001b[0;34m\u001b[0m\u001b[0m\n\u001b[0m\u001b[1;32m    390\u001b[0m                     \u001b[0mself\u001b[0m\u001b[0;34m.\u001b[0m\u001b[0m_cluster\u001b[0m\u001b[0;34m.\u001b[0m\u001b[0mhandler\u001b[0m\u001b[0;34m.\u001b[0m\u001b[0msleep\u001b[0m\u001b[0;34m(\u001b[0m\u001b[0;36m.0001\u001b[0m\u001b[0;34m)\u001b[0m\u001b[0;34m\u001b[0m\u001b[0m\n\u001b[1;32m    391\u001b[0m                 \u001b[0;32mexcept\u001b[0m \u001b[0mReferenceError\u001b[0m\u001b[0;34m:\u001b[0m\u001b[0;34m\u001b[0m\u001b[0m\n",
      "\u001b[0;32m/home/01131/tg804093/anaconda2/lib/python2.7/site-packages/pykafka/simpleconsumer.pyc\u001b[0m in \u001b[0;36mfetch\u001b[0;34m(self)\u001b[0m\n\u001b[1;32m    757\u001b[0m                         log.info(\"Updating cluster in response to error in fetch() \"\n\u001b[1;32m    758\u001b[0m                                  \"for broker id %s\", broker.id)\n\u001b[0;32m--> 759\u001b[0;31m                         \u001b[0mself\u001b[0m\u001b[0;34m.\u001b[0m\u001b[0m_update\u001b[0m\u001b[0;34m(\u001b[0m\u001b[0;34m)\u001b[0m\u001b[0;34m\u001b[0m\u001b[0m\n\u001b[0m\u001b[1;32m    760\u001b[0m                     \u001b[0;31m# If the broker dies while we're supposed to stop,\u001b[0m\u001b[0;34m\u001b[0m\u001b[0;34m\u001b[0m\u001b[0m\n\u001b[1;32m    761\u001b[0m                     \u001b[0;31m# it's fine, and probably an integration test.\u001b[0m\u001b[0;34m\u001b[0m\u001b[0;34m\u001b[0m\u001b[0m\n",
      "\u001b[0;32m/home/01131/tg804093/anaconda2/lib/python2.7/site-packages/pykafka/simpleconsumer.pyc\u001b[0m in \u001b[0;36m_update\u001b[0;34m(self)\u001b[0m\n\u001b[1;32m    233\u001b[0m         \u001b[0;31m# only allow one thread to be updating the consumer at a time\u001b[0m\u001b[0;34m\u001b[0m\u001b[0;34m\u001b[0m\u001b[0m\n\u001b[1;32m    234\u001b[0m         \u001b[0;32mwith\u001b[0m \u001b[0mself\u001b[0m\u001b[0;34m.\u001b[0m\u001b[0m_update_lock\u001b[0m\u001b[0;34m:\u001b[0m\u001b[0;34m\u001b[0m\u001b[0m\n\u001b[0;32m--> 235\u001b[0;31m             \u001b[0mself\u001b[0m\u001b[0;34m.\u001b[0m\u001b[0m_cluster\u001b[0m\u001b[0;34m.\u001b[0m\u001b[0mupdate\u001b[0m\u001b[0;34m(\u001b[0m\u001b[0;34m)\u001b[0m\u001b[0;34m\u001b[0m\u001b[0m\n\u001b[0m\u001b[1;32m    236\u001b[0m             \u001b[0mself\u001b[0m\u001b[0;34m.\u001b[0m\u001b[0m_setup_partitions_by_leader\u001b[0m\u001b[0;34m(\u001b[0m\u001b[0;34m)\u001b[0m\u001b[0;34m\u001b[0m\u001b[0m\n\u001b[1;32m    237\u001b[0m             \u001b[0mself\u001b[0m\u001b[0;34m.\u001b[0m\u001b[0m_discover_group_coordinator\u001b[0m\u001b[0;34m(\u001b[0m\u001b[0;34m)\u001b[0m\u001b[0;34m\u001b[0m\u001b[0m\n",
      "\u001b[0;32m/home/01131/tg804093/anaconda2/lib/python2.7/site-packages/pykafka/cluster.pyc\u001b[0m in \u001b[0;36mupdate\u001b[0;34m(self)\u001b[0m\n\u001b[1;32m    433\u001b[0m         \u001b[0;32mfor\u001b[0m \u001b[0mi\u001b[0m \u001b[0;32min\u001b[0m \u001b[0mrange\u001b[0m\u001b[0;34m(\u001b[0m\u001b[0mself\u001b[0m\u001b[0;34m.\u001b[0m\u001b[0m_max_connection_retries\u001b[0m\u001b[0;34m)\u001b[0m\u001b[0;34m:\u001b[0m\u001b[0;34m\u001b[0m\u001b[0m\n\u001b[1;32m    434\u001b[0m             \u001b[0mlog\u001b[0m\u001b[0;34m.\u001b[0m\u001b[0mdebug\u001b[0m\u001b[0;34m(\u001b[0m\u001b[0;34m\"Updating cluster, attempt {}/{}\"\u001b[0m\u001b[0;34m.\u001b[0m\u001b[0mformat\u001b[0m\u001b[0;34m(\u001b[0m\u001b[0mi\u001b[0m \u001b[0;34m+\u001b[0m \u001b[0;36m1\u001b[0m\u001b[0;34m,\u001b[0m \u001b[0mself\u001b[0m\u001b[0;34m.\u001b[0m\u001b[0m_max_connection_retries\u001b[0m\u001b[0;34m)\u001b[0m\u001b[0;34m)\u001b[0m\u001b[0;34m\u001b[0m\u001b[0m\n\u001b[0;32m--> 435\u001b[0;31m             \u001b[0mmetadata\u001b[0m \u001b[0;34m=\u001b[0m \u001b[0mself\u001b[0m\u001b[0;34m.\u001b[0m\u001b[0m_get_metadata\u001b[0m\u001b[0;34m(\u001b[0m\u001b[0;34m)\u001b[0m\u001b[0;34m\u001b[0m\u001b[0m\n\u001b[0m\u001b[1;32m    436\u001b[0m             \u001b[0;32mif\u001b[0m \u001b[0mlen\u001b[0m\u001b[0;34m(\u001b[0m\u001b[0mmetadata\u001b[0m\u001b[0;34m.\u001b[0m\u001b[0mbrokers\u001b[0m\u001b[0;34m)\u001b[0m \u001b[0;34m==\u001b[0m \u001b[0;36m0\u001b[0m \u001b[0;32mand\u001b[0m \u001b[0mlen\u001b[0m\u001b[0;34m(\u001b[0m\u001b[0mmetadata\u001b[0m\u001b[0;34m.\u001b[0m\u001b[0mtopics\u001b[0m\u001b[0;34m)\u001b[0m \u001b[0;34m==\u001b[0m \u001b[0;36m0\u001b[0m\u001b[0;34m:\u001b[0m\u001b[0;34m\u001b[0m\u001b[0m\n\u001b[1;32m    437\u001b[0m                 log.warning('No broker metadata found. If this is a fresh cluster, '\n",
      "\u001b[0;32m/home/01131/tg804093/anaconda2/lib/python2.7/site-packages/pykafka/cluster.pyc\u001b[0m in \u001b[0;36m_get_metadata\u001b[0;34m(self, topics)\u001b[0m\n\u001b[1;32m    283\u001b[0m         \u001b[0;31m# Couldn't connect anywhere. Raise an error.\u001b[0m\u001b[0;34m\u001b[0m\u001b[0;34m\u001b[0m\u001b[0m\n\u001b[1;32m    284\u001b[0m         raise NoBrokersAvailableError(\n\u001b[0;32m--> 285\u001b[0;31m             'Unable to connect to a broker to fetch metadata. See logs.')\n\u001b[0m\u001b[1;32m    286\u001b[0m \u001b[0;34m\u001b[0m\u001b[0m\n\u001b[1;32m    287\u001b[0m     \u001b[0;32mdef\u001b[0m \u001b[0m_get_brokers_from_zookeeper\u001b[0m\u001b[0;34m(\u001b[0m\u001b[0mself\u001b[0m\u001b[0;34m,\u001b[0m \u001b[0mzk_connect\u001b[0m\u001b[0;34m)\u001b[0m\u001b[0;34m:\u001b[0m\u001b[0;34m\u001b[0m\u001b[0m\n",
      "\u001b[0;31mNoBrokersAvailableError\u001b[0m: Unable to connect to a broker to fetch metadata. See logs."
     ]
    }
   ],
   "source": [
    "message = consumer.consume(block=True)"
   ]
  },
  {
   "cell_type": "code",
   "execution_count": 5,
   "metadata": {
    "ExecuteTime": {
     "end_time": "2017-07-29T12:14:56.265556Z",
     "start_time": "2017-07-29T12:14:56.167309Z"
    },
    "run_control": {
     "frozen": false,
     "read_only": false
    }
   },
   "outputs": [
    {
     "name": "stdout",
     "output_type": "stream",
     "text": [
      "CPU times: user 79.6 ms, sys: 23.8 ms, total: 103 ms\n",
      "Wall time: 97.3 ms\n"
     ]
    }
   ],
   "source": [
    "%%time\n",
    "data_np = np.array(ast.literal_eval(message.value))"
   ]
  },
  {
   "cell_type": "code",
   "execution_count": 6,
   "metadata": {
    "ExecuteTime": {
     "end_time": "2017-07-29T12:14:59.221195Z",
     "start_time": "2017-07-29T12:14:59.211971Z"
    },
    "run_control": {
     "frozen": false,
     "read_only": false
    }
   },
   "outputs": [
    {
     "data": {
      "text/plain": [
       "(5000, 3)"
      ]
     },
     "execution_count": 6,
     "metadata": {},
     "output_type": "execute_result"
    }
   ],
   "source": [
    "data_np.shape"
   ]
  },
  {
   "cell_type": "code",
   "execution_count": 7,
   "metadata": {
    "ExecuteTime": {
     "end_time": "2017-07-29T12:15:21.374728Z",
     "start_time": "2017-07-29T12:15:21.371706Z"
    },
    "collapsed": true,
    "run_control": {
     "frozen": false,
     "read_only": false
    }
   },
   "outputs": [],
   "source": [
    "# Generate initial centroids\n",
    "number_centroids = 100\n",
    "number_dimensions = 3\n",
    "centroids = np.random.randn(number_centroids, number_dimensions)"
   ]
  },
  {
   "cell_type": "code",
   "execution_count": 8,
   "metadata": {
    "ExecuteTime": {
     "end_time": "2017-07-29T12:15:22.103124Z",
     "start_time": "2017-07-29T12:15:22.100056Z"
    },
    "run_control": {
     "frozen": false,
     "read_only": false
    }
   },
   "outputs": [
    {
     "data": {
      "text/plain": [
       "100"
      ]
     },
     "execution_count": 8,
     "metadata": {},
     "output_type": "execute_result"
    }
   ],
   "source": [
    "len(centroids)"
   ]
  },
  {
   "cell_type": "markdown",
   "metadata": {},
   "source": [
    "## Scikit"
   ]
  },
  {
   "cell_type": "code",
   "execution_count": 20,
   "metadata": {
    "ExecuteTime": {
     "end_time": "2017-07-29T12:16:17.718316Z",
     "start_time": "2017-07-29T12:16:17.302173Z"
    },
    "run_control": {
     "frozen": false,
     "read_only": false
    }
   },
   "outputs": [
    {
     "name": "stdout",
     "output_type": "stream",
     "text": [
      "CPU times: user 417 ms, sys: 0 ns, total: 417 ms\n",
      "Wall time: 412 ms\n"
     ]
    }
   ],
   "source": [
    "%%time\n",
    "kmeans = sklearn.cluster.KMeans(n_clusters=len(centroids), init=centroids, n_init=1).fit(data_np)"
   ]
  },
  {
   "cell_type": "code",
   "execution_count": 18,
   "metadata": {
    "ExecuteTime": {
     "end_time": "2017-07-29T12:15:25.048239Z",
     "start_time": "2017-07-29T12:15:25.036134Z"
    },
    "collapsed": true,
    "run_control": {
     "frozen": false,
     "read_only": false
    }
   },
   "outputs": [
    {
     "data": {
      "text/plain": [
       "array([[-0.7002028 ,  0.77576458, -0.17041676],\n",
       "       [-1.82605451, -0.42699323, -1.52393022],\n",
       "       [-1.17083184, -0.23171123, -0.45316833],\n",
       "       [ 0.91608726,  0.77776993, -0.18034497],\n",
       "       [-0.83603306,  0.79606075,  1.23327943],\n",
       "       [ 0.3435504 , -0.83231553,  0.54099276],\n",
       "       [-0.13133628,  0.97030142,  0.62037197],\n",
       "       [-0.0217872 , -0.95542082,  2.0665584 ],\n",
       "       [ 1.89659217,  1.4582982 , -0.74867488],\n",
       "       [-1.00632922,  0.08732205, -1.3864677 ],\n",
       "       [-0.46760615,  0.90589473,  0.22941262],\n",
       "       [ 0.05311013,  0.19882665, -0.54920606],\n",
       "       [ 0.95847111,  2.20862734,  0.4518484 ],\n",
       "       [-0.23262562, -0.74994096, -0.90978214],\n",
       "       [ 0.28979571, -1.34760853, -0.99600084],\n",
       "       [ 2.00307908,  0.02691777, -0.58832343],\n",
       "       [-0.93352221,  0.12301137,  1.7616828 ],\n",
       "       [-0.46733317, -1.0277732 , -0.92056329],\n",
       "       [ 0.3911268 , -1.16388057, -0.23015355],\n",
       "       [-1.32049963, -0.64727141,  0.24639691],\n",
       "       [-0.44779005, -0.91229342,  0.82123159],\n",
       "       [-0.61136948,  0.82996236,  1.60163042],\n",
       "       [-0.97473994,  0.59336395,  2.45669119],\n",
       "       [-2.10767641,  1.5301257 ,  2.74522404],\n",
       "       [ 1.2205358 , -2.48400212, -0.43268024],\n",
       "       [-0.76031165, -1.94387929, -1.89534494],\n",
       "       [-0.44563576, -1.16242952,  0.53440093],\n",
       "       [-0.6886303 , -0.29309001,  0.1028825 ],\n",
       "       [ 0.48735037,  0.52968262,  0.75459891],\n",
       "       [ 0.3296866 ,  0.01752492, -1.62505553],\n",
       "       [-0.36551831,  2.18632444, -0.4681641 ],\n",
       "       [-1.34996899, -1.52123969, -1.55161471],\n",
       "       [ 1.89858488,  0.23290482,  1.52912173],\n",
       "       [ 2.92098057, -0.54403377,  0.01989681],\n",
       "       [ 0.25186232, -1.17164674, -1.07264782],\n",
       "       [ 0.01181521, -0.58348932,  0.09342291],\n",
       "       [ 0.53636599,  0.51782092, -1.61942198],\n",
       "       [ 0.10963835, -0.98922322, -0.26638007],\n",
       "       [-0.72666312,  1.16776969,  0.57389629],\n",
       "       [-0.44268472,  0.51137939, -1.62934596],\n",
       "       [-0.21083624,  0.94964511,  1.46227613],\n",
       "       [ 1.99669928,  0.33904896, -0.16970872],\n",
       "       [-0.14093624,  0.54423143, -2.21691628],\n",
       "       [-1.67893474,  1.08787692, -1.36317561],\n",
       "       [-1.80267451, -0.3658642 , -1.71644713],\n",
       "       [-1.28361143, -0.89457224, -0.20247381],\n",
       "       [-0.80020642,  0.17269034,  1.83159536],\n",
       "       [ 1.10938249, -0.52485528, -0.94149633],\n",
       "       [ 2.10117393, -2.69572649, -0.92639973],\n",
       "       [ 1.79664439, -0.43517994,  0.8052795 ],\n",
       "       [-0.78895151,  0.18027572, -0.67749271],\n",
       "       [-3.85817343, -3.71157193,  0.07283362],\n",
       "       [ 0.7461935 ,  0.11907086, -0.02688534],\n",
       "       [-1.29260208, -0.0052919 ,  0.29615005],\n",
       "       [-0.59036506,  0.31974351, -0.59387736],\n",
       "       [-0.85496586,  0.39327901,  0.43478277],\n",
       "       [ 0.29350963, -0.64116696,  0.48331261],\n",
       "       [ 0.46046067,  0.06055325,  1.2002488 ],\n",
       "       [-1.19742883,  0.51924044,  0.66697211],\n",
       "       [-0.15149913,  0.98316178,  0.60262053],\n",
       "       [ 0.87683417, -0.895776  , -1.00754859],\n",
       "       [ 1.23226463, -1.42010675,  0.37525975],\n",
       "       [ 0.12989308,  0.06067869, -0.18113915],\n",
       "       [ 0.85434666, -0.85342315,  0.20591539],\n",
       "       [-0.73028591,  0.05667723,  0.3258758 ],\n",
       "       [ 0.23012205,  1.32333475,  0.97839133],\n",
       "       [-2.00410023, -0.2724535 ,  2.0664035 ],\n",
       "       [ 1.76754086,  0.33860122,  0.73616152],\n",
       "       [ 0.80307585,  0.34038824, -0.27989582],\n",
       "       [-0.87751521, -0.62071354,  1.16346008],\n",
       "       [ 0.56273113, -0.47534332,  0.1193975 ],\n",
       "       [ 0.18175481,  0.34234625,  0.27890238],\n",
       "       [ 0.34164771,  0.55659234, -0.09779684],\n",
       "       [ 1.30179536,  1.46694886, -1.13279235],\n",
       "       [ 0.73598183,  1.14760083,  1.06542772],\n",
       "       [-1.91914211,  0.21498853,  1.25889156],\n",
       "       [ 0.23599289, -0.27200652,  0.6444503 ],\n",
       "       [ 1.31642702, -0.65113632, -0.45550791],\n",
       "       [ 0.27515538, -0.67841419,  1.12959265],\n",
       "       [ 0.94063011, -0.96926775, -0.21820424],\n",
       "       [ 0.63979563,  1.44316344, -0.02023216],\n",
       "       [-1.4342716 ,  0.01128918, -1.27106952],\n",
       "       [ 0.89449595,  1.19295325,  0.5277145 ],\n",
       "       [-0.38481965, -1.20983196, -0.16639232],\n",
       "       [-0.27982046,  0.50712355, -1.87018946],\n",
       "       [-0.30751421,  0.52141114, -1.24183042],\n",
       "       [-1.20995833, -1.14437986,  0.65853415],\n",
       "       [-1.1809092 , -1.12030533,  0.67396404],\n",
       "       [-0.68352332, -0.75445348,  0.84356674],\n",
       "       [ 0.64869016,  0.11490726, -1.01008036],\n",
       "       [ 2.39773542,  1.256898  , -0.16333559],\n",
       "       [ 0.42835579, -1.42687542, -0.49789977],\n",
       "       [-0.49889802, -0.75906139, -2.24442731],\n",
       "       [-0.82011205,  0.3961014 , -1.644756  ],\n",
       "       [ 0.9657211 , -0.702475  ,  0.14427509],\n",
       "       [-0.14596481, -0.47604572, -0.53928083],\n",
       "       [ 0.49126611,  1.5284863 ,  0.20891289],\n",
       "       [-0.72887938, -1.42994598, -0.26101694],\n",
       "       [ 1.11993053,  1.02434776, -0.05216007],\n",
       "       [ 0.59125641, -1.89105469, -0.49841985]])"
      ]
     },
     "execution_count": 18,
     "metadata": {},
     "output_type": "execute_result"
    }
   ],
   "source": [
    "centroids"
   ]
  },
  {
   "cell_type": "code",
   "execution_count": 14,
   "metadata": {
    "ExecuteTime": {
     "end_time": "2017-07-29T12:15:12.449997Z",
     "start_time": "2017-07-29T12:15:12.445622Z"
    },
    "run_control": {
     "frozen": false,
     "read_only": false
    }
   },
   "outputs": [
    {
     "data": {
      "text/plain": [
       "array([[-1.42000834, -2.85080644, -1.08248241],\n",
       "       [-3.01945235, -3.44440102, -2.01832067],\n",
       "       [-1.69100832, -2.76633513, -3.21336799],\n",
       "       [-1.34000764, -1.42502401, -2.99535839],\n",
       "       [-3.32349688, -1.84917654, -1.85779039],\n",
       "       [-1.49467397, -3.3369184 , -2.15419978],\n",
       "       [-3.11494622, -2.41095018, -3.21619598],\n",
       "       [-1.36614757, -1.71809147, -0.90242641],\n",
       "       [-2.66814605, -2.6442657 , -1.04970949],\n",
       "       [-1.93742978, -1.79181426, -1.86237772],\n",
       "       [-0.83769497, -2.23131365, -2.11030812],\n",
       "       [-2.64334721, -0.75015289, -2.32554955],\n",
       "       [-2.55181604, -1.20061773, -1.02884268],\n",
       "       [-2.33934223, -1.71091359, -2.945366  ],\n",
       "       [-1.24558403, -0.85574291, -1.82340672],\n",
       "       [-2.28062948, -2.54097752, -2.14290006]])"
      ]
     },
     "execution_count": 14,
     "metadata": {},
     "output_type": "execute_result"
    }
   ],
   "source": [
    "kmeans.cluster_centers_"
   ]
  },
  {
   "cell_type": "code",
   "execution_count": null,
   "metadata": {
    "collapsed": true,
    "run_control": {
     "frozen": false,
     "read_only": false
    }
   },
   "outputs": [],
   "source": [
    "kmeans.labels_.shape"
   ]
  },
  {
   "cell_type": "markdown",
   "metadata": {},
   "source": [
    "## Mini Batch KMeans"
   ]
  },
  {
   "cell_type": "code",
   "execution_count": 21,
   "metadata": {
    "ExecuteTime": {
     "end_time": "2017-07-29T12:16:21.733071Z",
     "start_time": "2017-07-29T12:16:21.717817Z"
    },
    "run_control": {
     "frozen": false,
     "read_only": false
    }
   },
   "outputs": [
    {
     "name": "stdout",
     "output_type": "stream",
     "text": [
      "CPU times: user 12.9 ms, sys: 28 µs, total: 12.9 ms\n",
      "Wall time: 11.8 ms\n"
     ]
    }
   ],
   "source": [
    "%%time\n",
    "kmeans = sklearn.cluster.MiniBatchKMeans(n_clusters=len(centroids), init=centroids, n_init=1).partial_fit(data_np)"
   ]
  },
  {
   "cell_type": "code",
   "execution_count": null,
   "metadata": {
    "collapsed": true,
    "run_control": {
     "frozen": false,
     "read_only": false
    }
   },
   "outputs": [],
   "source": [
    "kmeans.cluster_centers_"
   ]
  },
  {
   "cell_type": "markdown",
   "metadata": {},
   "source": [
    "# Benchmark\n",
    "\n",
    "Streaming Data from Kafka\n",
    "\n",
    "## Multi-threading"
   ]
  },
  {
   "cell_type": "code",
   "execution_count": 22,
   "metadata": {
    "ExecuteTime": {
     "end_time": "2017-07-29T12:16:39.968152Z",
     "start_time": "2017-07-29T12:16:39.955322Z"
    },
    "collapsed": true,
    "run_control": {
     "frozen": false,
     "read_only": false
    }
   },
   "outputs": [],
   "source": [
    "def process_messages(number_messages=1, threadid=0):\n",
    "    global kmeans\n",
    "    global result\n",
    "    global number_threads \n",
    "    global number_points_per_message\n",
    "    \n",
    "    print \"Thread: %d, Process %d messages\"%(threadid, number_messages)\n",
    "    count = 0\n",
    "    while count < number_messages:\n",
    "        start = time.time()\n",
    "        message = consumer.consume(block=True)\n",
    "        end_kafka = time.time()\n",
    "        data_np = np.array(ast.literal_eval(message.value))\n",
    "        num_points = len(data_np)\n",
    "        number_points_per_message = num_points\n",
    "        end_parsing = time.time()\n",
    "        kmeans = kmeans.partial_fit(data_np)\n",
    "        end_kmeans = time.time()    \n",
    "        result += \"kmeans-kafka,   %d, %d, %d, %d, %.5f\\n\"%(num_points, number_dimensions, number_centroids, number_threads, end_kafka-start)\n",
    "        result += \"kmeans-parsing, %d, %d, %d, %d, %.5f\\n\"%(num_points, number_dimensions, number_centroids, number_threads, end_parsing-end_kafka)\n",
    "        result += \"kmeans-model,   %d, %d, %d, %d, %.5f\\n\"%(num_points, number_dimensions, number_centroids, number_threads, end_kmeans-end_parsing)\n",
    "        if count % 100 == 0:\n",
    "            print \"Messages processed: %d\"%count\n",
    "        count += 1"
   ]
  },
  {
   "cell_type": "code",
   "execution_count": null,
   "metadata": {
    "ExecuteTime": {
     "end_time": "2017-05-21T17:24:38.127724Z",
     "start_time": "2017-05-21T17:15:50.514993Z"
    },
    "collapsed": true,
    "run_control": {
     "frozen": false,
     "read_only": false
    }
   },
   "outputs": [],
   "source": [
    "%%time\n",
    "\n",
    "global kmeans\n",
    "global result\n",
    "global number_points_per_message\n",
    "global number_threads \n",
    "\n",
    "\n",
    "# configuration\n",
    "number_centroids = 10\n",
    "number_dimensions = 3\n",
    "number_messages = 1000\n",
    "number_threads = 24\n",
    "repeats = 3\n",
    "\n",
    "for i in range(repeats):\n",
    "    # Generate initial centroids\n",
    "    centroids = np.random.randn(number_centroids, number_dimensions)\n",
    "    kmeans = sklearn.cluster.MiniBatchKMeans(n_clusters=len(centroids), init=centroids, n_init=1)\n",
    "    consumer = topic.get_simple_consumer(reset_offset_on_start=True)\n",
    "    result = \"\"   \n",
    "    global_start = time.time()\n",
    "    per_thread_messages = number_messages/number_threads\n",
    "    threads = []\n",
    "    for i in range(number_threads):\n",
    "        t = Thread(target=process_messages, kwargs={\"number_messages\":per_thread_messages, \n",
    "                                                    \"threadid\":i})\n",
    "        t.start()\n",
    "        threads.append(t)\n",
    "            \n",
    "    for t in threads:        \n",
    "        t.join()\n",
    "        #t.stop()\n",
    "    \n",
    "    global_end = time.time()\n",
    "    \n",
    "    result += \"kmeans-run,   %d, %d, %d, %d, %.5f\\n\"%(number_points_per_message, number_dimensions, number_centroids, number_threads, global_end-global_start)\n",
    "    \n",
    "    output_file.write(result)\n",
    "    output_file.flush()"
   ]
  },
  {
   "cell_type": "markdown",
   "metadata": {},
   "source": [
    "## Redis Parameter Server\n",
    "\n",
    "Start Redis (e.g. the one installed with Anaconda) using the following command:\n",
    "\n",
    "    redis-server --protected-mode no"
   ]
  },
  {
   "cell_type": "code",
   "execution_count": 6,
   "metadata": {
    "ExecuteTime": {
     "end_time": "2017-07-29T12:54:11.355143Z",
     "start_time": "2017-07-29T12:54:11.347708Z"
    },
    "collapsed": true,
    "run_control": {
     "frozen": false,
     "read_only": false
    }
   },
   "outputs": [],
   "source": [
    "import redis\n",
    "r = redis.StrictRedis(host='c251-132', port=6379, db=0)\n",
    "\n",
    "def put_model(model):\n",
    "    r.set('kmeans', pickle.dumps(model))\n",
    "    \n",
    "def get_model():\n",
    "    return pickle.loads(r.get(\"kmeans\"))"
   ]
  },
  {
   "cell_type": "code",
   "execution_count": 7,
   "metadata": {
    "ExecuteTime": {
     "end_time": "2017-07-29T12:54:12.444771Z",
     "start_time": "2017-07-29T12:54:12.424212Z"
    },
    "collapsed": true,
    "run_control": {
     "frozen": false,
     "read_only": false
    }
   },
   "outputs": [],
   "source": [
    "def process_messages_kmeans_redis(number_messages=1, threadid=0):\n",
    "    global result\n",
    "    global number_threads \n",
    "    global number_points_per_message\n",
    "    global kmeans\n",
    "    print \"Thread: %d, Process %d messages\"%(threadid, number_messages)\n",
    "    count = 0\n",
    "    while count < number_messages:\n",
    "        start = time.time()\n",
    "        message = consumer.consume(block=True)\n",
    "        end_kafka = time.time()\n",
    "        data_np = np.array(ast.literal_eval(message.value))\n",
    "        num_points = len(data_np)\n",
    "        number_points_per_message = num_points\n",
    "        end_parsing = time.time()\n",
    "        try:\n",
    "            kmeans = get_model()\n",
    "        except:\n",
    "            # no model in Redis - create one\n",
    "            pass\n",
    "   \n",
    "        end_model_get = time.time()\n",
    "        kmeans = kmeans.partial_fit(data_np)\n",
    "        end_kmeans = time.time()\n",
    "        put_model(kmeans)\n",
    "        end_model_put = time.time()    \n",
    "        res =  \"kmeans-kafka,   %d, %d, %d, %d, %.5f\\n\"%(num_points, number_dimensions, number_centroids, number_threads, end_kafka-start) \n",
    "        res += \"kmeans-parsing, %d, %d, %d, %d, %.5f\\n\"%(num_points, number_dimensions, number_centroids, number_threads, end_parsing-end_kafka) \n",
    "        res += \"kmeans-model-get,   %d, %d, %d, %d, %.5f\\n\"%(num_points, number_dimensions, number_centroids, number_threads, end_model_get-end_parsing) \n",
    "        res += \"kmeans-model,   %d, %d, %d, %d, %.5f\\n\"%(num_points, number_dimensions, number_centroids, number_threads, end_kmeans-end_model_get) \n",
    "        res += \"kmeans-model-put,   %d, %d, %d, %d, %.5f\\n\"%(num_points, number_dimensions, number_centroids, number_threads, end_model_put-end_kmeans)\n",
    "        if count % 100 == 0:\n",
    "            print \"Number Points/Message: %d, Messages processed: %d\"%(num_points, count)\n",
    "        count += 1\n",
    "    \n",
    "    result += res"
   ]
  },
  {
   "cell_type": "code",
   "execution_count": 8,
   "metadata": {
    "ExecuteTime": {
     "end_time": "2017-07-29T12:54:13.359627Z",
     "start_time": "2017-07-29T12:54:13.355456Z"
    },
    "run_control": {
     "frozen": false,
     "read_only": false
    }
   },
   "outputs": [],
   "source": [
    "run_timestamp=datetime.datetime.now()\n",
    "RESULT_FILE= \"results/kafka-throughput-kmeans-multithread-\" + run_timestamp.strftime(\"%Y%m%d-%H%M%S\") + \".csv\"\n",
    "try:\n",
    "    os.makedirs(\"results\")\n",
    "except:\n",
    "    pass\n",
    "output_file=open(RESULT_FILE, \"w\")\n",
    "output_file.write(\"Type, Number_Points, Dimensions, Number_Centroids, Number_Threads, Time\\n\")"
   ]
  },
  {
   "cell_type": "code",
   "execution_count": null,
   "metadata": {
    "ExecuteTime": {
     "start_time": "2017-07-29T17:54:19.186Z"
    }
   },
   "outputs": [
    {
     "name": "stdout",
     "output_type": "stream",
     "text": [
      "Thread: 0, Process 1000 messages\n",
      "Number Points/Message: 5000, Messages processed: 0\n",
      "Number Points/Message: 5000, Messages processed: 100\n"
     ]
    }
   ],
   "source": [
    "%%time\n",
    "\n",
    "global kmeans\n",
    "global result\n",
    "global number_points_per_message\n",
    "global number_threads \n",
    "\n",
    "\n",
    "# configuration\n",
    "number_centroids = 10\n",
    "number_dimensions = 3\n",
    "number_messages = 1000\n",
    "number_threads = 1\n",
    "repeats = 3\n",
    "\n",
    "for i in range(repeats):\n",
    "    # Generate initial centroids\n",
    "    centroids = np.random.randn(number_centroids, number_dimensions)\n",
    "    kmeans = sklearn.cluster.MiniBatchKMeans(n_clusters=len(centroids), init=centroids, n_init=1)\n",
    "    consumer = topic.get_simple_consumer(reset_offset_on_start=True)\n",
    "    result = \"\"   \n",
    "    global_start = time.time()\n",
    "    per_thread_messages = number_messages/number_threads\n",
    "    threads = []\n",
    "    for i in range(number_threads):\n",
    "        t = Thread(target=process_messages_kmeans_redis, kwargs={\"number_messages\":per_thread_messages, \n",
    "                                                    \"threadid\":i})\n",
    "        t.start()\n",
    "        threads.append(t)\n",
    "            \n",
    "    for t in threads:        \n",
    "        t.join()\n",
    "        #t.stop()\n",
    "    \n",
    "    global_end = time.time()\n",
    "    \n",
    "    result += \"kmeans-run,   %d, %d, %d, %d, %.5f\\n\"%(number_points_per_message, number_dimensions, number_centroids, number_threads, global_end-global_start)\n",
    "    \n",
    "    output_file.write(result)\n",
    "    output_file.flush()"
   ]
  },
  {
   "cell_type": "code",
   "execution_count": 4,
   "metadata": {
    "ExecuteTime": {
     "end_time": "2017-05-21T18:05:37.211091Z",
     "start_time": "2017-05-21T18:05:37.202837Z"
    },
    "collapsed": true,
    "run_control": {
     "frozen": false,
     "read_only": false
    }
   },
   "outputs": [],
   "source": [
    "m=get_model()"
   ]
  },
  {
   "cell_type": "code",
   "execution_count": 8,
   "metadata": {
    "ExecuteTime": {
     "end_time": "2017-05-21T18:05:56.186916Z",
     "start_time": "2017-05-21T18:05:56.180220Z"
    },
    "run_control": {
     "frozen": false,
     "read_only": false
    }
   },
   "outputs": [
    {
     "data": {
      "text/plain": [
       "10"
      ]
     },
     "execution_count": 8,
     "metadata": {},
     "output_type": "execute_result"
    }
   ],
   "source": [
    "m.cluster_centers_.shape[0]"
   ]
  }
 ],
 "metadata": {
  "anaconda-cloud": {},
  "celltoolbar": "Initialization Cell",
  "kernelspec": {
   "display_name": "Python [default]",
   "language": "python",
   "name": "python2"
  },
  "language_info": {
   "codemirror_mode": {
    "name": "ipython",
    "version": 2
   },
   "file_extension": ".py",
   "mimetype": "text/x-python",
   "name": "python",
   "nbconvert_exporter": "python",
   "pygments_lexer": "ipython2",
   "version": "2.7.14"
  },
  "toc": {
   "colors": {
    "hover_highlight": "#DAA520",
    "navigate_num": "#000000",
    "navigate_text": "#333333",
    "running_highlight": "#FF0000",
    "selected_highlight": "#FFD700",
    "sidebar_border": "#EEEEEE",
    "wrapper_background": "#FFFFFF"
   },
   "moveMenuLeft": true,
   "nav_menu": {
    "height": "123px",
    "width": "252px"
   },
   "navigate_menu": true,
   "number_sections": true,
   "sideBar": true,
   "threshold": 4,
   "toc_cell": false,
   "toc_position": {
    "height": "916px",
    "left": "0px",
    "right": "1068px",
    "top": "106px",
    "width": "212px"
   },
   "toc_section_display": "block",
   "toc_window_display": true,
   "widenNotebook": false
  }
 },
 "nbformat": 4,
 "nbformat_minor": 2
}
