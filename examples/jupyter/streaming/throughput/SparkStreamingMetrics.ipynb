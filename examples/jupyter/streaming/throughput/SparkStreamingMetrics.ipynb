{
 "cells": [
  {
   "cell_type": "markdown",
   "metadata": {},
   "source": [
    "# Streaming Metrics Test\n"
   ]
  },
  {
   "cell_type": "code",
   "execution_count": 14,
   "metadata": {},
   "outputs": [],
   "source": [
    "import urllib\n",
    "import json\n",
    "import pandas as pd\n",
    "\n",
    "SPARK_LOCAL_IP=\"localhost\"\n",
    "SPARK_APP_PORT=4041\n",
    "\n",
    "def get_streaming_performance_details(app_id, filename):\n",
    "    \"\"\"curl http://localhost:4041/api/v1/applications/app-20170805185159-0004/streaming/batches\"\"\"\n",
    "    url = \"http://\" + SPARK_LOCAL_IP + \":\" + str(SPARK_APP_PORT)+ \"/api/v1/applications/\"+ app_id + \"/streaming/batches\"\n",
    "    response = urllib.urlopen(url)\n",
    "    df=pd.read_json(response.read())\n",
    "    df.to_csv(filename)\n"
   ]
  },
  {
   "cell_type": "code",
   "execution_count": 15,
   "metadata": {},
   "outputs": [],
   "source": [
    "data=get_streaming_performance_details(\"app-20170805185159-0004\", \"test.csv\")"
   ]
  },
  {
   "cell_type": "code",
   "execution_count": 16,
   "metadata": {},
   "outputs": [
    {
     "name": "stdout",
     "output_type": "stream",
     "text": [
      ",batchDuration,batchId,batchTime,inputSize,numActiveOutputOps,numCompletedOutputOps,numFailedOutputOps,numTotalOutputOps,processingTime,schedulingDelay,status,totalDelay\r\n",
      "0,10000,1501978300000,2017-08-06T00:11:40.000GMT,0,0,1,0,1,429,1,COMPLETED,430\r\n",
      "1,10000,1501978290000,2017-08-06T00:11:30.000GMT,0,0,1,0,1,403,1,COMPLETED,404\r\n",
      "2,10000,1501978280000,2017-08-06T00:11:20.000GMT,0,0,1,0,1,428,0,COMPLETED,428\r\n",
      "3,10000,1501978270000,2017-08-06T00:11:10.000GMT,0,0,1,0,1,424,0,COMPLETED,424\r\n",
      "4,10000,1501978260000,2017-08-06T00:11:00.000GMT,0,0,1,0,1,419,0,COMPLETED,419\r\n",
      "5,10000,1501978250000,2017-08-06T00:10:50.000GMT,0,0,1,0,1,417,1,COMPLETED,418\r\n",
      "6,10000,1501978240000,2017-08-06T00:10:40.000GMT,0,0,1,0,1,405,0,COMPLETED,405\r\n",
      "7,10000,1501978230000,2017-08-06T00:10:30.000GMT,0,0,1,0,1,425,0,COMPLETED,425\r\n",
      "8,10000,1501978220000,2017-08-06T00:10:20.000GMT,0,0,1,0,1,423,0,COMPLETED,423\r\n"
     ]
    }
   ],
   "source": [
    "!head test.csv"
   ]
  },
  {
   "cell_type": "code",
   "execution_count": null,
   "metadata": {},
   "outputs": [],
   "source": []
  }
 ],
 "metadata": {
  "kernelspec": {
   "display_name": "Python [default]",
   "language": "python",
   "name": "python2"
  },
  "language_info": {
   "codemirror_mode": {
    "name": "ipython",
    "version": 2
   },
   "file_extension": ".py",
   "mimetype": "text/x-python",
   "name": "python",
   "nbconvert_exporter": "python",
   "pygments_lexer": "ipython2",
   "version": "2.7.11"
  }
 },
 "nbformat": 4,
 "nbformat_minor": 2
}
