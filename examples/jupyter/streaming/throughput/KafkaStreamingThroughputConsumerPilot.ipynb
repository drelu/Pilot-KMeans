{
 "cells": [
  {
   "cell_type": "markdown",
   "metadata": {},
   "source": [
    "# Streaming Consumer for Measuring Latency"
   ]
  },
  {
   "cell_type": "code",
   "execution_count": 3,
   "metadata": {
    "ExecuteTime": {
     "end_time": "2017-05-21T18:37:03.067440Z",
     "start_time": "2017-05-21T18:37:03.058263Z"
    },
    "init_cell": true
   },
   "outputs": [],
   "source": [
    "%matplotlib inline\n",
    "import os, sys\n",
    "import commands\n",
    "import radical.pilot as rp\n",
    "import random\n",
    "import pandas as pd\n",
    "import ast\n",
    "import seaborn as sns\n",
    "\n",
    "from pykafka import KafkaClient\n",
    "import numpy as np\n",
    "import time\n",
    "import datetime\n",
    "import dateutil.parser\n",
    "import ast\n",
    "import sklearn.cluster\n",
    "import pickle"
   ]
  },
  {
   "cell_type": "code",
   "execution_count": 4,
   "metadata": {
    "ExecuteTime": {
     "end_time": "2017-05-21T18:37:03.829970Z",
     "start_time": "2017-05-21T18:37:03.825648Z"
    },
    "collapsed": true
   },
   "outputs": [],
   "source": [
    "run_timestamp=datetime.datetime.now()\n",
    "RESULT_FILE= \"results/kafka-throughput-consumer-pilot-\" + run_timestamp.strftime(\"%Y%m%d-%H%M%S\") + \".csv\"\n",
    "try:\n",
    "    os.makedirs(\"results\")\n",
    "except:\n",
    "    pass\n",
    "output_file=open(RESULT_FILE, \"w\")"
   ]
  },
  {
   "cell_type": "markdown",
   "metadata": {},
   "source": [
    "# Benchmark\n",
    "\n",
    "Streaming Data from Kafka\n",
    "\n",
    "    mongod --dbpath=/gpfs/flash/users/tg804093/mongo\n",
    "    \n",
    "see `rp_kmeans_streaming.py` for worker script.\n",
    "\n",
    "## Setup Pilot"
   ]
  },
  {
   "cell_type": "code",
   "execution_count": 5,
   "metadata": {
    "ExecuteTime": {
     "end_time": "2017-05-21T18:37:05.697902Z",
     "start_time": "2017-05-21T18:37:05.303653Z"
    }
   },
   "outputs": [
    {
     "name": "stdout",
     "output_type": "stream",
     "text": [
      "Session id: rp.session.c251-120.wrangler.tacc.utexas.edu.tg804093.017307.0008 Pilot Manager: {'uid': 'pmgr.0000'}\n"
     ]
    }
   ],
   "source": [
    "def print_details(detail_object):\n",
    "    if type(detail_object)==str:\n",
    "        detail_object = ast.literal_eval(detail_object)\n",
    "    for i in detail_object:\n",
    "        detail_object[i]=str(detail_object[i])\n",
    "    return pd.DataFrame(detail_object.values(), \n",
    "             index=detail_object.keys(), \n",
    "             columns=[\"Value\"])\n",
    "\n",
    "os.environ[\"RADICAL_PILOT_VERBOSE\"]=\"ERROR\"\n",
    "os.environ[\"RADICAL_SAGA_PTY_VERBOSE\"]=\"ERROR\" \n",
    "#os.environ[\"RADICAL_PILOT_DBURL\"]=\"mongodb://mongo.radical-cybertools.org:24242/sc15-test000\"\n",
    "os.environ[\"RADICAL_PILOT_DBURL\"]=\"mongodb://c251-120:27017/sc15-test000\"\n",
    "session = rp.Session()\n",
    "pmgr = rp.PilotManager(session=session)\n",
    "umgr = rp.UnitManager (session=session,\n",
    "                       scheduler=rp.SCHED_ROUND_ROBIN)\n",
    "print \"Session id: %s Pilot Manager: %s\" % (session.uid, str(pmgr.as_dict()))\n",
    "\n",
    "pdesc = rp.ComputePilotDescription()\n",
    "pdesc.resource = \"local.localhost_anaconda\"  # NOTE: This is a \"label\", not a hostname\n",
    "pdesc.runtime  = 120 # minutes\n",
    "pdesc.cores    = 24\n",
    "pdesc.cleanup  = False\n",
    "pilot = pmgr.submit_pilots(pdesc)\n",
    "umgr.add_pilots(pilot)"
   ]
  },
  {
   "cell_type": "markdown",
   "metadata": {
    "ExecuteTime": {
     "end_time": "2017-05-21T18:37:10.084981Z",
     "start_time": "2017-05-21T18:37:09.221936Z"
    }
   },
   "source": [
    "## Run Benchmarks"
   ]
  },
  {
   "cell_type": "code",
   "execution_count": 7,
   "metadata": {
    "ExecuteTime": {
     "end_time": "2017-05-21T18:31:04.655578Z",
     "start_time": "2017-05-21T18:31:04.647402Z"
    }
   },
   "outputs": [
    {
     "name": "stderr",
     "output_type": "stream",
     "text": [
      "2017-05-21 18:31:04,607: radical.saga.pty    : MainProcess                     : PilotLauncherWorker-1: DEBUG   : PTYProcess init <saga.utils.pty_process.PTYProcess object at 0x2b4d15ebd050>\n",
      "2017-05-21 18:31:04,607: radical.saga.pty    : MainProcess                     : PilotLauncherWorker-1: INFO    : running: /usr/bin/env TERM=vt100 /bin/bash -i\n",
      "2017-05-21 18:31:04,610: radical.saga.pty    : MainProcess                     : PilotLauncherWorker-1: DEBUG   : write: [  141] [   33] ( export PS1='$' ; set prompt='$'\\n)\n",
      "2017-05-21 18:31:04,828: radical.saga.pty    : MainProcess                     : PilotLauncherWorker-1: DEBUG   : read : [  141] [  159] (\u001b]0;c251-120.wrangler.tacc.utexas.edu\u0007c251-120.wrangler ~/notebooks/Pilot-Memory/examples/jupyter/streaming/throughput$ \u001b]0;c251-120.wrangler.tacc.utexas.edu\u0007$)\n",
      "2017-05-21 18:31:04,828: radical.saga.pty    : MainProcess                     : PilotLauncherWorker-1: DEBUG   : got initial shell prompt (6) (\u001b]0;c251-120.wrangler.tacc.utexas.edu\u0007c251-120.wrangler ~/notebooks/Pilot-Memory/examples/jupyter/streaming/throughput$ \u001b]0;c251-120.wrangler.tacc.utexas.edu\u0007$)\n",
      "2017-05-21 18:31:04,828: radical.saga.pty    : MainProcess                     : PilotLauncherWorker-1: DEBUG   : Got initial shell prompt (6) (\u001b]0;c251-120.wrangler.tacc.utexas.edu\u0007c251-120.wrangler ~/notebooks/Pilot-Memory/examples/jupyter/streaming/throughput$ \u001b]0;c251-120.wrangler.tacc.utexas.edu\u0007$)\n",
      "2017-05-21 18:31:04,829: radical.saga.pty    : MainProcess                     : PilotLauncherWorker-1: DEBUG   : write: [  141] [   30] ( stty -echo ; exec /bin/sh -i\\n)\n",
      "2017-05-21 18:31:04,833: radical.saga.pty    : MainProcess                     : PilotLauncherWorker-1: DEBUG   : read : [  141] [   38] (\u001b]0;c251-120.wrangler.tacc.utexas.edu\u0007)\n",
      "2017-05-21 18:31:04,833: radical.saga.pty    : MainProcess                     : PilotLauncherWorker-1: DEBUG   : read : [  141] [    1] ($)\n",
      "2017-05-21 18:31:04,834: radical.saga.pty    : MainProcess                     : PilotLauncherWorker-1: DEBUG   : flush: [  141] [     ] (flush pty read cache)\n",
      "2017-05-21 18:31:04,935: radical.saga.pty    : MainProcess                     : PilotLauncherWorker-1: DEBUG   : write: [  141] [  140] (unset PROMPT_COMMAND; set HISTFILE=$HOME/.saga_history; PS1='PROMPT-$?->'; PS2=''; export PS1 PS2 2>&1 >/dev/null; cd $HOME 2>&1 >/dev/null\\n)\n",
      "2017-05-21 18:31:04,935: radical.saga.pty    : MainProcess                     : PilotLauncherWorker-1: DEBUG   : read : [  141] [   10] (PROMPT-0->)\n",
      "2017-05-21 18:31:04,935: radical.saga.pty    : MainProcess                     : PilotLauncherWorker-1: DEBUG   : flush: [  141] [     ] (flush pty read cache)\n",
      "2017-05-21 18:31:05,036: radical.saga.pty    : MainProcess                     : PilotLauncherWorker-1: DEBUG   : flush: [  139] [     ] (flush pty read cache)\n",
      "2017-05-21 18:31:05,137: radical.saga.pty    : MainProcess                     : PilotLauncherWorker-1: DEBUG   : write: [  139] [   41] (mkdir -p $HOME/.saga/adaptors/shell_job/\\n)\n",
      "2017-05-21 18:31:05,139: radical.saga.pty    : MainProcess                     : PilotLauncherWorker-1: DEBUG   : read : [  139] [   10] (PROMPT-0->)\n",
      "2017-05-21 18:31:05,139: radical.saga.pty    : MainProcess                     : PilotLauncherWorker-1: DEBUG   : flush: [  139] [     ] (flush pty read cache)\n",
      "2017-05-21 18:31:05,240: radical.saga.pty    : MainProcess                     : PilotLauncherWorker-1: DEBUG   : write: [  139] [   51] (test -f $HOME/.saga/adaptors/shell_job//wrapper.sh\\n)\n",
      "2017-05-21 18:31:05,241: radical.saga.pty    : MainProcess                     : PilotLauncherWorker-1: DEBUG   : read : [  139] [   10] (PROMPT-0->)\n",
      "2017-05-21 18:31:05,241: radical.saga.pty    : MainProcess                     : PilotLauncherWorker-1: DEBUG   : flush: [  139] [     ] (flush pty read cache)\n",
      "2017-05-21 18:31:05,342: radical.saga.pty    : MainProcess                     : PilotLauncherWorker-1: DEBUG   : write: [  139] [   83] (/bin/sh $HOME/.saga/adaptors/shell_job//wrapper.sh $HOME/.saga/adaptors/shell_job/\\n)\n",
      "2017-05-21 18:31:05,348: radical.saga.pty    : MainProcess                     : PilotLauncherWorker-1: DEBUG   : read : [  139] [   12] (PID: 11226\\n)\n",
      "2017-05-21 18:31:05,390: radical.saga.pty    : MainProcess                     : PilotLauncherWorker-1: DEBUG   : read : [  139] [   12] (PROMPT-0->\\n)\n",
      "2017-05-21 18:31:05,390: radical.saga.pty    : MainProcess                     : PilotLauncherWorker-1: DEBUG   : flush: [  141] [     ] (flush pty read cache)\n",
      "2017-05-21 18:31:05,491: radical.saga.pty    : MainProcess                     : PilotLauncherWorker-1: DEBUG   : write: [  141] [   83] (/bin/sh $HOME/.saga/adaptors/shell_job//wrapper.sh $HOME/.saga/adaptors/shell_job/\\n)\n",
      "2017-05-21 18:31:05,497: radical.saga.pty    : MainProcess                     : PilotLauncherWorker-1: DEBUG   : read : [  141] [   12] (PID: 11249\\n)\n",
      "2017-05-21 18:31:05,514: radical.saga.pty    : MainProcess                     : PilotLauncherWorker-1: DEBUG   : read : [  141] [   12] (PROMPT-0->\\n)\n",
      "2017-05-21 18:31:05,514: radical.saga.pty    : MainProcess                     : Thread-11      : DEBUG   : flush: [  141] [     ] (flush pty read cache)\n",
      "2017-05-21 18:31:05,514: radical.saga.pty    : MainProcess                     : Thread-11      : WARNING : flush: [  141] [    1] (discard data: '\n",
      "')\n",
      "2017-05-21 18:31:05,528: radical.saga.pty    : MainProcess                     : PilotLauncherWorker-1: DEBUG   : flush: [  139] [     ] (flush pty read cache)\n",
      "2017-05-21 18:31:05,528: radical.saga.pty    : MainProcess                     : PilotLauncherWorker-1: WARNING : flush: [  139] [    1] (discard data: '\n",
      "')\n",
      "2017-05-21 18:31:05,619: radical.saga.pty    : MainProcess                     : Thread-11      : DEBUG   : write: [  141] [    8] (MONITOR\\n)\n",
      "2017-05-21 18:31:05,628: radical.saga.pty    : MainProcess                     : Thread-11      : DEBUG   : read : [  141] [  215] (48449.0:RUNNING: \\n48449.0:FAILED:1 \\n117579.0:RUNNING: \\n117579.0:FAILED:1 \\n121394.0:RUNNING: \\n121394.0:FAILED:1 \\n126240.0:RUNNING: \\n126240.0:FAILED:1 \\n19047.0:RUNNING: \\n19047.0:FAILED:1 \\n80892.0:RUNNING: \\n)\n",
      "2017-05-21 18:31:05,628: radical.saga.pty    : MainProcess                     : Thread-11      : DEBUG   : read : [  141] [   18] (5921.0:RUNNING: \\n)\n",
      "2017-05-21 18:31:05,629: radical.saga.pty    : MainProcess                     : PilotLauncherWorker-1: DEBUG   : write: [  139] [  626] (RUN true && mkdir -p /home/011 ... trap_1.out 2>bootstrap_1.err\\n)\n",
      "2017-05-21 18:31:05,656: radical.saga.pty    : MainProcess                     : PilotLauncherWorker-1: DEBUG   : read : [  139] [   10] (RUNNING \\n)\n",
      "2017-05-21 18:31:05,656: radical.saga.pty    : MainProcess                     : PilotLauncherWorker-1: DEBUG   : read : [  139] [    4] (OK\\n)\n",
      "2017-05-21 18:31:05,657: radical.saga.pty    : MainProcess                     : PilotLauncherWorker-1: DEBUG   : read : [  139] [    9] (11277.0\\n)\n",
      "2017-05-21 18:31:05,657: radical.saga.pty    : MainProcess                     : PilotLauncherWorker-1: DEBUG   : read : [  139] [   12] (PROMPT-0->\\n)\n",
      "2017-05-21 18:31:05,658: radical.saga.pty    : MainProcess                     : PilotLauncherWorker-1: DEBUG   : flush: [  139] [     ] (flush pty read cache)\n",
      "2017-05-21 18:31:05,658: radical.saga.pty    : MainProcess                     : PilotLauncherWorker-1: WARNING : flush: [  139] [    1] (discard data: '\n",
      "')\n",
      "2017-05-21 18:31:05,759: radical.saga.pty    : MainProcess                     : PilotLauncherWorker-1: DEBUG   : write: [  139] [   14] (STATS 11277.0\\n)\n",
      "2017-05-21 18:31:05,765: radical.saga.pty    : MainProcess                     : PilotLauncherWorker-1: DEBUG   : read : [  139] [   72] (OK\\nSTATE : RUNNING\\n\\nSTART  : 1495409465\\n\\nSTART_STDERR\\n\\nEND_STDERR)\n",
      "2017-05-21 18:31:05,765: radical.saga.pty    : MainProcess                     : PilotLauncherWorker-1: DEBUG   : read : [  139] [   34] (\\n\\nSTART_STDOUT\\n\\nEND_STDOUT\\n\\n)\n",
      "2017-05-21 18:31:05,766: radical.saga.pty    : MainProcess                     : PilotLauncherWorker-1: DEBUG   : read : [  139] [   12] (PROMPT-0->\\n)\n",
      "2017-05-21 18:31:06,628: radical.saga.pty    : MainProcess                     : Thread-11      : DEBUG   : read : [  141] [   19] (11277.0:RUNNING: \\n)\n"
     ]
    }
   ],
   "source": [
    "# configuration\n",
    "number_centroids = 10\n",
    "number_dimensions = 3\n",
    "number_messages = 1000\n",
    "number_cus = 1\n",
    "repeats = 3\n",
    "\n",
    "r = redis.StrictRedis(host=redis_host, port=6379, db=0)\n",
    "\n",
    "def put_model(model):\n",
    "    r.set('kmeans', pickle.dumps(model))\n",
    "    \n",
    "def get_model():\n",
    "    return pickle.loads(r.get(\"kmeans\"))\n",
    "\n",
    "centroids = np.random.randn(number_centroids, number_dimensions)\n",
    "kmeans = sklearn.cluster.MiniBatchKMeans(n_clusters=len(centroids), init=centroids, n_init=1)\n",
    "   \n",
    "\n",
    "per_cu_messages = number_messages/number_cus\n",
    "\n",
    "cudesc_list=[]\n",
    "for i in range(number_cus):\n",
    "    cudesc = rp.ComputeUnitDescription()\n",
    "    cudesc.executable  = \"python\"\n",
    "    cudesc.arguments   = [os.path.join(os.getcwd(), 'rp_kmeans_streaming.py'), 100, 1, 1]\n",
    "    cudesc.cores       = 1\n",
    "\n",
    "    cudesc_list.append(cudesc)\n",
    "    \n",
    "    "
   ]
  },
  {
   "cell_type": "code",
   "execution_count": 8,
   "metadata": {
    "ExecuteTime": {
     "end_time": "2017-05-21T18:32:34.215323Z",
     "start_time": "2017-05-21T18:31:09.095727Z"
    }
   },
   "outputs": [
    {
     "name": "stdout",
     "output_type": "stream",
     "text": [
      "Submit Compute Units to Unit Manager ...\n",
      "Waiting for CUs to complete ...\n"
     ]
    },
    {
     "name": "stderr",
     "output_type": "stream",
     "text": [
      "2017-05-21 18:31:55,912: radical.saga.pty    : MainProcess                     : PilotLauncherWorker-1: DEBUG   : PTYProcess init <saga.utils.pty_process.PTYProcess object at 0x2b4d17050250>\n",
      "2017-05-21 18:31:55,913: radical.saga.pty    : MainProcess                     : PilotLauncherWorker-1: INFO    : running: /usr/bin/env TERM=vt100 /bin/bash -i\n",
      "2017-05-21 18:31:55,916: radical.saga.pty    : MainProcess                     : PilotLauncherWorker-1: DEBUG   : write: [  143] [   33] ( export PS1='$' ; set prompt='$'\\n)\n",
      "2017-05-21 18:31:56,130: radical.saga.pty    : MainProcess                     : PilotLauncherWorker-1: DEBUG   : read : [  143] [   38] (\u001b]0;c251-120.wrangler.tacc.utexas.edu\u0007)\n",
      "2017-05-21 18:31:56,131: radical.saga.pty    : MainProcess                     : PilotLauncherWorker-1: DEBUG   : read : [  143] [   82] (c251-120.wrangler ~/notebooks/Pilot-Memory/examples/jupyter/streaming/throughput$ )\n",
      "2017-05-21 18:31:56,131: radical.saga.pty    : MainProcess                     : PilotLauncherWorker-1: DEBUG   : got initial shell prompt (6) (\u001b]0;c251-120.wrangler.tacc.utexas.edu\u0007c251-120.wrangler ~/notebooks/Pilot-Memory/examples/jupyter/streaming/throughput$ )\n",
      "2017-05-21 18:31:56,131: radical.saga.pty    : MainProcess                     : PilotLauncherWorker-1: DEBUG   : Got initial shell prompt (6) (\u001b]0;c251-120.wrangler.tacc.utexas.edu\u0007c251-120.wrangler ~/notebooks/Pilot-Memory/examples/jupyter/streaming/throughput$ )\n",
      "2017-05-21 18:31:56,131: radical.saga.pty    : MainProcess                     : PilotLauncherWorker-1: DEBUG   : write: [  143] [   30] ( stty -echo ; exec /bin/sh -i\\n)\n",
      "2017-05-21 18:31:56,131: radical.saga.pty    : MainProcess                     : PilotLauncherWorker-1: DEBUG   : read : [  143] [   39] (\u001b]0;c251-120.wrangler.tacc.utexas.edu\u0007$)\n",
      "2017-05-21 18:31:56,131: radical.saga.pty    : MainProcess                     : PilotLauncherWorker-1: DEBUG   : flush: [  143] [     ] (flush pty read cache)\n",
      "2017-05-21 18:31:56,136: radical.saga.pty    : MainProcess                     : PilotLauncherWorker-1: DEBUG   : read : [  143] [   38] (\u001b]0;c251-120.wrangler.tacc.utexas.edu\u0007)\n",
      "2017-05-21 18:31:56,136: radical.saga.pty    : MainProcess                     : PilotLauncherWorker-1: WARNING : flush: [  143] [   38] (discard data: '\u001b]0;c251-120.wrangler.tacc.utexas.edu\u0007')\n",
      "2017-05-21 18:31:56,136: radical.saga.pty    : MainProcess                     : PilotLauncherWorker-1: DEBUG   : read : [  143] [    1] ($)\n",
      "2017-05-21 18:31:56,136: radical.saga.pty    : MainProcess                     : PilotLauncherWorker-1: WARNING : flush: [  143] [    1] (discard data: '$')\n",
      "2017-05-21 18:31:56,237: radical.saga.pty    : MainProcess                     : PilotLauncherWorker-1: DEBUG   : write: [  143] [  140] (unset PROMPT_COMMAND; set HISTFILE=$HOME/.saga_history; PS1='PROMPT-$?->'; PS2=''; export PS1 PS2 2>&1 >/dev/null; cd $HOME 2>&1 >/dev/null\\n)\n",
      "2017-05-21 18:31:56,237: radical.saga.pty    : MainProcess                     : PilotLauncherWorker-1: DEBUG   : read : [  143] [   10] (PROMPT-0->)\n",
      "2017-05-21 18:31:56,237: radical.saga.pty    : MainProcess                     : PilotLauncherWorker-1: DEBUG   : flush: [  143] [     ] (flush pty read cache)\n",
      "2017-05-21 18:31:56,340: radical.saga.pty    : MainProcess                     : PilotLauncherWorker-1: DEBUG   : PTYProcess init <saga.utils.pty_process.PTYProcess object at 0x2b4d15e34b10>\n",
      "2017-05-21 18:31:56,340: radical.saga.pty    : MainProcess                     : PilotLauncherWorker-1: INFO    : running: /usr/bin/env TERM=vt100 /bin/bash -i\n",
      "2017-05-21 18:31:56,343: radical.saga.pty    : MainProcess                     : PilotLauncherWorker-1: DEBUG   : write: [  145] [   33] ( export PS1='$' ; set prompt='$'\\n)\n",
      "2017-05-21 18:31:56,549: radical.saga.pty    : MainProcess                     : PilotLauncherWorker-1: DEBUG   : read : [  145] [   38] (\u001b]0;c251-120.wrangler.tacc.utexas.edu\u0007)\n",
      "2017-05-21 18:31:56,550: radical.saga.pty    : MainProcess                     : PilotLauncherWorker-1: DEBUG   : read : [  145] [   82] (c251-120.wrangler ~/notebooks/Pilot-Memory/examples/jupyter/streaming/throughput$ )\n",
      "2017-05-21 18:31:56,550: radical.saga.pty    : MainProcess                     : PilotLauncherWorker-1: DEBUG   : got initial shell prompt (6) (\u001b]0;c251-120.wrangler.tacc.utexas.edu\u0007c251-120.wrangler ~/notebooks/Pilot-Memory/examples/jupyter/streaming/throughput$ )\n",
      "2017-05-21 18:31:56,550: radical.saga.pty    : MainProcess                     : PilotLauncherWorker-1: DEBUG   : Got initial shell prompt (6) (\u001b]0;c251-120.wrangler.tacc.utexas.edu\u0007c251-120.wrangler ~/notebooks/Pilot-Memory/examples/jupyter/streaming/throughput$ )\n",
      "2017-05-21 18:31:56,550: radical.saga.pty    : MainProcess                     : PilotLauncherWorker-1: DEBUG   : write: [  145] [   30] ( stty -echo ; exec /bin/sh -i\\n)\n",
      "2017-05-21 18:31:56,550: radical.saga.pty    : MainProcess                     : PilotLauncherWorker-1: DEBUG   : read : [  145] [   39] (\u001b]0;c251-120.wrangler.tacc.utexas.edu\u0007$)\n",
      "2017-05-21 18:31:56,550: radical.saga.pty    : MainProcess                     : PilotLauncherWorker-1: DEBUG   : flush: [  145] [     ] (flush pty read cache)\n",
      "2017-05-21 18:31:56,555: radical.saga.pty    : MainProcess                     : PilotLauncherWorker-1: DEBUG   : read : [  145] [   38] (\u001b]0;c251-120.wrangler.tacc.utexas.edu\u0007)\n",
      "2017-05-21 18:31:56,555: radical.saga.pty    : MainProcess                     : PilotLauncherWorker-1: WARNING : flush: [  145] [   38] (discard data: '\u001b]0;c251-120.wrangler.tacc.utexas.edu\u0007')\n",
      "2017-05-21 18:31:56,555: radical.saga.pty    : MainProcess                     : PilotLauncherWorker-1: DEBUG   : read : [  145] [    1] ($)\n",
      "2017-05-21 18:31:56,555: radical.saga.pty    : MainProcess                     : PilotLauncherWorker-1: WARNING : flush: [  145] [    1] (discard data: '$')\n",
      "2017-05-21 18:31:56,656: radical.saga.pty    : MainProcess                     : PilotLauncherWorker-1: DEBUG   : write: [  145] [  140] (unset PROMPT_COMMAND; set HISTFILE=$HOME/.saga_history; PS1='PROMPT-$?->'; PS2=''; export PS1 PS2 2>&1 >/dev/null; cd $HOME 2>&1 >/dev/null\\n)\n",
      "2017-05-21 18:31:56,657: radical.saga.pty    : MainProcess                     : PilotLauncherWorker-1: DEBUG   : read : [  145] [   10] (PROMPT-0->)\n",
      "2017-05-21 18:31:56,657: radical.saga.pty    : MainProcess                     : PilotLauncherWorker-1: DEBUG   : flush: [  145] [     ] (flush pty read cache)\n",
      "2017-05-21 18:31:56,758: radical.saga.pty    : MainProcess                     : PilotLauncherWorker-1: DEBUG   : flush: [  143] [     ] (flush pty read cache)\n",
      "2017-05-21 18:31:56,859: radical.saga.pty    : MainProcess                     : PilotLauncherWorker-1: DEBUG   : write: [  143] [   41] (mkdir -p $HOME/.saga/adaptors/shell_job/\\n)\n",
      "2017-05-21 18:31:56,861: radical.saga.pty    : MainProcess                     : PilotLauncherWorker-1: DEBUG   : read : [  143] [   10] (PROMPT-0->)\n",
      "2017-05-21 18:31:56,862: radical.saga.pty    : MainProcess                     : PilotLauncherWorker-1: DEBUG   : flush: [  143] [     ] (flush pty read cache)\n",
      "2017-05-21 18:31:56,963: radical.saga.pty    : MainProcess                     : PilotLauncherWorker-1: DEBUG   : write: [  143] [   51] (test -f $HOME/.saga/adaptors/shell_job//wrapper.sh\\n)\n",
      "2017-05-21 18:31:56,963: radical.saga.pty    : MainProcess                     : PilotLauncherWorker-1: DEBUG   : read : [  143] [   10] (PROMPT-0->)\n",
      "2017-05-21 18:31:56,963: radical.saga.pty    : MainProcess                     : PilotLauncherWorker-1: DEBUG   : flush: [  143] [     ] (flush pty read cache)\n",
      "2017-05-21 18:31:57,064: radical.saga.pty    : MainProcess                     : PilotLauncherWorker-1: DEBUG   : write: [  143] [   83] (/bin/sh $HOME/.saga/adaptors/shell_job//wrapper.sh $HOME/.saga/adaptors/shell_job/\\n)\n",
      "2017-05-21 18:31:57,070: radical.saga.pty    : MainProcess                     : PilotLauncherWorker-1: DEBUG   : read : [  143] [   12] (PID: 12227\\n)\n",
      "2017-05-21 18:31:57,089: radical.saga.pty    : MainProcess                     : PilotLauncherWorker-1: DEBUG   : read : [  143] [   12] (PROMPT-0->\\n)\n",
      "2017-05-21 18:31:57,089: radical.saga.pty    : MainProcess                     : PilotLauncherWorker-1: DEBUG   : flush: [  145] [     ] (flush pty read cache)\n"
     ]
    },
    {
     "name": "stderr",
     "output_type": "stream",
     "text": [
      "2017-05-21 18:31:57,190: radical.saga.pty    : MainProcess                     : PilotLauncherWorker-1: DEBUG   : write: [  145] [   83] (/bin/sh $HOME/.saga/adaptors/shell_job//wrapper.sh $HOME/.saga/adaptors/shell_job/\\n)\n",
      "2017-05-21 18:31:57,196: radical.saga.pty    : MainProcess                     : PilotLauncherWorker-1: DEBUG   : read : [  145] [   12] (PID: 12250\\n)\n",
      "2017-05-21 18:31:57,737: radical.saga.pty    : MainProcess                     : PilotLauncherWorker-1: DEBUG   : read : [  145] [   12] (PROMPT-0->\\n)\n",
      "2017-05-21 18:31:57,738: radical.saga.pty    : MainProcess                     : Thread-12      : DEBUG   : flush: [  145] [     ] (flush pty read cache)\n",
      "2017-05-21 18:31:57,738: radical.saga.pty    : MainProcess                     : Thread-12      : WARNING : flush: [  145] [    1] (discard data: '\n",
      "')\n",
      "2017-05-21 18:31:57,738: radical.saga.pty    : MainProcess                     : PilotLauncherWorker-1: DEBUG   : flush: [  143] [     ] (flush pty read cache)\n",
      "2017-05-21 18:31:57,738: radical.saga.pty    : MainProcess                     : PilotLauncherWorker-1: WARNING : flush: [  143] [    1] (discard data: '\n",
      "')\n",
      "2017-05-21 18:31:57,839: radical.saga.pty    : MainProcess                     : Thread-12      : DEBUG   : write: [  145] [    8] (MONITOR\\n)\n",
      "2017-05-21 18:31:57,839: radical.saga.pty    : MainProcess                     : PilotLauncherWorker-1: DEBUG   : write: [  143] [    5] (LIST\\n)\n",
      "2017-05-21 18:31:57,841: radical.saga.pty    : MainProcess                     : Thread-12      : DEBUG   : read : [  145] [  177] (48449.0:RUNNING: \\n48449.0:FAILED:1 \\n117579.0:RUNNING: \\n117579.0:FAILED:1 \\n121394.0:RUNNING: \\n121394.0:FAILED:1 \\n126240.0:RUNNING: \\n126240.0:FAILED:1 \\n19047.0:RUNNING: \\n)\n",
      "2017-05-21 18:31:57,842: radical.saga.pty    : MainProcess                     : Thread-12      : DEBUG   : read : [  145] [   75] (19047.0:FAILED:1 \\n80892.0:RUNNING: \\n5921.0:RUNNING: \\n11277.0:RUNNING: \\n)\n",
      "2017-05-21 18:31:57,848: radical.saga.pty    : MainProcess                     : PilotLauncherWorker-1: DEBUG   : read : [  143] [   13] (OK\\n11277.0\\n)\n",
      "2017-05-21 18:31:57,848: radical.saga.pty    : MainProcess                     : PilotLauncherWorker-1: DEBUG   : read : [  143] [   12] (PROMPT-0->\\n)\n",
      "2017-05-21 18:31:57,851: radical.saga.pty    : MainProcess                     : PilotLauncherWorker-1: DEBUG   : flush: [  143] [     ] (flush pty read cache)\n",
      "2017-05-21 18:31:57,851: radical.saga.pty    : MainProcess                     : PilotLauncherWorker-1: WARNING : flush: [  143] [    1] (discard data: '\n",
      "')\n",
      "2017-05-21 18:31:57,952: radical.saga.pty    : MainProcess                     : PilotLauncherWorker-1: DEBUG   : write: [  143] [   14] (STATS 11277.0\\n)\n",
      "2017-05-21 18:31:57,959: radical.saga.pty    : MainProcess                     : PilotLauncherWorker-1: DEBUG   : read : [  143] [   88] (OK\\nSTATE : RUNNING\\n\\nSTART  : 1495409465\\n\\nSTART_STDERR\\n\\nEND_STDERR\\n\\nSTART_STDOUT)\n",
      "2017-05-21 18:31:57,959: radical.saga.pty    : MainProcess                     : PilotLauncherWorker-1: DEBUG   : read : [  143] [   18] (\\n\\nEND_STDOUT\\n\\n)\n",
      "2017-05-21 18:31:57,960: radical.saga.pty    : MainProcess                     : PilotLauncherWorker-1: DEBUG   : read : [  143] [   12] (PROMPT-0->\\n)\n",
      "2017-05-21 18:31:57,960: radical.saga.pty    : MainProcess                     : PilotLauncherWorker-1: DEBUG   : flush: [  143] [     ] (flush pty read cache)\n",
      "2017-05-21 18:31:57,960: radical.saga.pty    : MainProcess                     : PilotLauncherWorker-1: WARNING : flush: [  143] [    1] (discard data: '\n",
      "')\n",
      "2017-05-21 18:31:58,061: radical.saga.pty    : MainProcess                     : PilotLauncherWorker-1: DEBUG   : write: [  143] [   14] (STATS 11277.0\\n)\n",
      "2017-05-21 18:31:58,068: radical.saga.pty    : MainProcess                     : PilotLauncherWorker-1: DEBUG   : read : [  143] [   62] (OK\\nSTATE : RUNNING\\n\\nSTART  : 1495409465\\n\\nSTART_STDERR\\n\\n)\n",
      "2017-05-21 18:31:58,068: radical.saga.pty    : MainProcess                     : PilotLauncherWorker-1: DEBUG   : read : [  143] [   44] (END_STDERR\\n\\nSTART_STDOUT\\n\\nEND_STDOUT\\n\\n)\n",
      "2017-05-21 18:31:58,069: radical.saga.pty    : MainProcess                     : PilotLauncherWorker-1: DEBUG   : read : [  143] [   12] (PROMPT-0->\\n)\n"
     ]
    },
    {
     "name": "stdout",
     "output_type": "stream",
     "text": [
      "All CUs completed successfully!\n"
     ]
    },
    {
     "name": "stderr",
     "output_type": "stream",
     "text": [
      "2017-05-21 18:32:56,163: radical.saga.pty    : MainProcess                     : PilotLauncherWorker-1: DEBUG   : flush: [  143] [     ] (flush pty read cache)\n",
      "2017-05-21 18:32:56,163: radical.saga.pty    : MainProcess                     : PilotLauncherWorker-1: WARNING : flush: [  143] [    1] (discard data: '\n",
      "')\n",
      "2017-05-21 18:32:56,264: radical.saga.pty    : MainProcess                     : PilotLauncherWorker-1: DEBUG   : write: [  143] [    5] (LIST\\n)\n",
      "2017-05-21 18:32:56,268: radical.saga.pty    : MainProcess                     : PilotLauncherWorker-1: DEBUG   : read : [  143] [   13] (OK\\n11277.0\\n)\n",
      "2017-05-21 18:32:56,269: radical.saga.pty    : MainProcess                     : PilotLauncherWorker-1: DEBUG   : read : [  143] [   12] (PROMPT-0->\\n)\n",
      "2017-05-21 18:32:56,272: radical.saga.pty    : MainProcess                     : PilotLauncherWorker-1: DEBUG   : flush: [  143] [     ] (flush pty read cache)\n",
      "2017-05-21 18:32:56,272: radical.saga.pty    : MainProcess                     : PilotLauncherWorker-1: WARNING : flush: [  143] [    1] (discard data: '\n",
      "')\n",
      "2017-05-21 18:32:56,373: radical.saga.pty    : MainProcess                     : PilotLauncherWorker-1: DEBUG   : write: [  143] [   14] (STATS 11277.0\\n)\n",
      "2017-05-21 18:32:56,380: radical.saga.pty    : MainProcess                     : PilotLauncherWorker-1: DEBUG   : read : [  143] [  106] (OK\\nSTATE : RUNNING\\n\\nSTART  : 1495409465\\n\\nSTART_STDERR\\n\\nEND_STDERR\\n\\nSTART_STDOUT\\n\\nEND_STDOUT\\n\\n)\n",
      "2017-05-21 18:32:56,381: radical.saga.pty    : MainProcess                     : PilotLauncherWorker-1: DEBUG   : read : [  143] [   12] (PROMPT-0->\\n)\n",
      "2017-05-21 18:32:56,381: radical.saga.pty    : MainProcess                     : PilotLauncherWorker-1: DEBUG   : flush: [  143] [     ] (flush pty read cache)\n",
      "2017-05-21 18:32:56,381: radical.saga.pty    : MainProcess                     : PilotLauncherWorker-1: WARNING : flush: [  143] [    1] (discard data: '\n",
      "')\n",
      "2017-05-21 18:32:56,482: radical.saga.pty    : MainProcess                     : PilotLauncherWorker-1: DEBUG   : write: [  143] [   14] (STATS 11277.0\\n)\n",
      "2017-05-21 18:32:56,489: radical.saga.pty    : MainProcess                     : PilotLauncherWorker-1: DEBUG   : read : [  143] [  106] (OK\\nSTATE : RUNNING\\n\\nSTART  : 1495409465\\n\\nSTART_STDERR\\n\\nEND_STDERR\\n\\nSTART_STDOUT\\n\\nEND_STDOUT\\n\\n)\n",
      "2017-05-21 18:32:56,490: radical.saga.pty    : MainProcess                     : PilotLauncherWorker-1: DEBUG   : read : [  143] [   12] (PROMPT-0->\\n)\n",
      "2017-05-21 18:33:56,578: radical.saga.pty    : MainProcess                     : PilotLauncherWorker-1: DEBUG   : flush: [  143] [     ] (flush pty read cache)\n",
      "2017-05-21 18:33:56,579: radical.saga.pty    : MainProcess                     : PilotLauncherWorker-1: WARNING : flush: [  143] [    1] (discard data: '\n",
      "')\n",
      "2017-05-21 18:33:56,680: radical.saga.pty    : MainProcess                     : PilotLauncherWorker-1: DEBUG   : write: [  143] [    5] (LIST\\n)\n",
      "2017-05-21 18:33:56,684: radical.saga.pty    : MainProcess                     : PilotLauncherWorker-1: DEBUG   : read : [  143] [   13] (OK\\n11277.0\\n)\n",
      "2017-05-21 18:33:56,685: radical.saga.pty    : MainProcess                     : PilotLauncherWorker-1: DEBUG   : read : [  143] [   12] (PROMPT-0->\\n)\n",
      "2017-05-21 18:33:56,688: radical.saga.pty    : MainProcess                     : PilotLauncherWorker-1: DEBUG   : flush: [  143] [     ] (flush pty read cache)\n",
      "2017-05-21 18:33:56,688: radical.saga.pty    : MainProcess                     : PilotLauncherWorker-1: WARNING : flush: [  143] [    1] (discard data: '\n",
      "')\n",
      "2017-05-21 18:33:56,789: radical.saga.pty    : MainProcess                     : PilotLauncherWorker-1: DEBUG   : write: [  143] [   14] (STATS 11277.0\\n)\n",
      "2017-05-21 18:33:56,796: radical.saga.pty    : MainProcess                     : PilotLauncherWorker-1: DEBUG   : read : [  143] [  106] (OK\\nSTATE : RUNNING\\n\\nSTART  : 1495409465\\n\\nSTART_STDERR\\n\\nEND_STDERR\\n\\nSTART_STDOUT\\n\\nEND_STDOUT\\n\\n)\n",
      "2017-05-21 18:33:56,797: radical.saga.pty    : MainProcess                     : PilotLauncherWorker-1: DEBUG   : read : [  143] [   12] (PROMPT-0->\\n)\n",
      "2017-05-21 18:33:56,797: radical.saga.pty    : MainProcess                     : PilotLauncherWorker-1: DEBUG   : flush: [  143] [     ] (flush pty read cache)\n",
      "2017-05-21 18:33:56,797: radical.saga.pty    : MainProcess                     : PilotLauncherWorker-1: WARNING : flush: [  143] [    1] (discard data: '\n",
      "')\n",
      "2017-05-21 18:33:56,898: radical.saga.pty    : MainProcess                     : PilotLauncherWorker-1: DEBUG   : write: [  143] [   14] (STATS 11277.0\\n)\n",
      "2017-05-21 18:33:56,905: radical.saga.pty    : MainProcess                     : PilotLauncherWorker-1: DEBUG   : read : [  143] [  106] (OK\\nSTATE : RUNNING\\n\\nSTART  : 1495409465\\n\\nSTART_STDERR\\n\\nEND_STDERR\\n\\nSTART_STDOUT\\n\\nEND_STDOUT\\n\\n)\n",
      "2017-05-21 18:33:56,906: radical.saga.pty    : MainProcess                     : PilotLauncherWorker-1: DEBUG   : read : [  143] [   12] (PROMPT-0->\\n)\n",
      "2017-05-21 18:34:56,993: radical.saga.pty    : MainProcess                     : PilotLauncherWorker-1: DEBUG   : flush: [  143] [     ] (flush pty read cache)\n",
      "2017-05-21 18:34:56,993: radical.saga.pty    : MainProcess                     : PilotLauncherWorker-1: WARNING : flush: [  143] [    1] (discard data: '\n",
      "')\n",
      "2017-05-21 18:34:57,094: radical.saga.pty    : MainProcess                     : PilotLauncherWorker-1: DEBUG   : write: [  143] [    5] (LIST\\n)\n",
      "2017-05-21 18:34:57,099: radical.saga.pty    : MainProcess                     : PilotLauncherWorker-1: DEBUG   : read : [  143] [   13] (OK\\n11277.0\\n)\n",
      "2017-05-21 18:34:57,100: radical.saga.pty    : MainProcess                     : PilotLauncherWorker-1: DEBUG   : read : [  143] [   12] (PROMPT-0->\\n)\n",
      "2017-05-21 18:34:57,102: radical.saga.pty    : MainProcess                     : PilotLauncherWorker-1: DEBUG   : flush: [  143] [     ] (flush pty read cache)\n",
      "2017-05-21 18:34:57,102: radical.saga.pty    : MainProcess                     : PilotLauncherWorker-1: WARNING : flush: [  143] [    1] (discard data: '\n",
      "')\n",
      "2017-05-21 18:34:57,203: radical.saga.pty    : MainProcess                     : PilotLauncherWorker-1: DEBUG   : write: [  143] [   14] (STATS 11277.0\\n)\n",
      "2017-05-21 18:34:57,210: radical.saga.pty    : MainProcess                     : PilotLauncherWorker-1: DEBUG   : read : [  143] [  106] (OK\\nSTATE : RUNNING\\n\\nSTART  : 1495409465\\n\\nSTART_STDERR\\n\\nEND_STDERR\\n\\nSTART_STDOUT\\n\\nEND_STDOUT\\n\\n)\n",
      "2017-05-21 18:34:57,211: radical.saga.pty    : MainProcess                     : PilotLauncherWorker-1: DEBUG   : read : [  143] [   12] (PROMPT-0->\\n)\n",
      "2017-05-21 18:34:57,211: radical.saga.pty    : MainProcess                     : PilotLauncherWorker-1: DEBUG   : flush: [  143] [     ] (flush pty read cache)\n",
      "2017-05-21 18:34:57,211: radical.saga.pty    : MainProcess                     : PilotLauncherWorker-1: WARNING : flush: [  143] [    1] (discard data: '\n",
      "')\n",
      "2017-05-21 18:34:57,312: radical.saga.pty    : MainProcess                     : PilotLauncherWorker-1: DEBUG   : write: [  143] [   14] (STATS 11277.0\\n)\n",
      "2017-05-21 18:34:57,319: radical.saga.pty    : MainProcess                     : PilotLauncherWorker-1: DEBUG   : read : [  143] [  106] (OK\\nSTATE : RUNNING\\n\\nSTART  : 1495409465\\n\\nSTART_STDERR\\n\\nEND_STDERR\\n\\nSTART_STDOUT\\n\\nEND_STDOUT\\n\\n)\n",
      "2017-05-21 18:34:57,320: radical.saga.pty    : MainProcess                     : PilotLauncherWorker-1: DEBUG   : read : [  143] [   12] (PROMPT-0->\\n)\n"
     ]
    }
   ],
   "source": [
    "print \"Submit Compute Units to Unit Manager ...\"\n",
    "cu_set = umgr.submit_units(cudesc_list)\n",
    "print \"Waiting for CUs to complete ...\"\n",
    "umgr.wait_units()\n",
    "print \"All CUs completed successfully!\"\n",
    "#cu_results = cu_set[0]\n",
    "details=cu_results.as_dict()"
   ]
  },
  {
   "cell_type": "code",
   "execution_count": 2,
   "metadata": {
    "ExecuteTime": {
     "end_time": "2017-05-21T18:36:55.124727Z",
     "start_time": "2017-05-21T18:36:54.844268Z"
    }
   },
   "outputs": [
    {
     "ename": "NameError",
     "evalue": "name 'session' is not defined",
     "output_type": "error",
     "traceback": [
      "\u001b[0;31m\u001b[0m",
      "\u001b[0;31mNameError\u001b[0mTraceback (most recent call last)",
      "\u001b[0;32m<ipython-input-2-9a309bed242b>\u001b[0m in \u001b[0;36m<module>\u001b[0;34m()\u001b[0m\n\u001b[0;32m----> 1\u001b[0;31m \u001b[0msession\u001b[0m\u001b[0;34m.\u001b[0m\u001b[0mclose\u001b[0m\u001b[0;34m(\u001b[0m\u001b[0;34m)\u001b[0m\u001b[0;34m\u001b[0m\u001b[0m\n\u001b[0m\u001b[1;32m      2\u001b[0m \u001b[0;32mdel\u001b[0m \u001b[0msession\u001b[0m\u001b[0;34m\u001b[0m\u001b[0m\n",
      "\u001b[0;31mNameError\u001b[0m: name 'session' is not defined"
     ]
    }
   ],
   "source": [
    "session.close()\n",
    "del session"
   ]
  },
  {
   "cell_type": "code",
   "execution_count": null,
   "metadata": {
    "collapsed": true
   },
   "outputs": [],
   "source": []
  }
 ],
 "metadata": {
  "anaconda-cloud": {},
  "celltoolbar": "Initialization Cell",
  "kernelspec": {
   "display_name": "Python [default]",
   "language": "python",
   "name": "python2"
  },
  "language_info": {
   "codemirror_mode": {
    "name": "ipython",
    "version": 2
   },
   "file_extension": ".py",
   "mimetype": "text/x-python",
   "name": "python",
   "nbconvert_exporter": "python",
   "pygments_lexer": "ipython2",
   "version": "2.7.11"
  },
  "toc": {
   "colors": {
    "hover_highlight": "#DAA520",
    "navigate_num": "#000000",
    "navigate_text": "#333333",
    "running_highlight": "#FF0000",
    "selected_highlight": "#FFD700",
    "sidebar_border": "#EEEEEE",
    "wrapper_background": "#FFFFFF"
   },
   "moveMenuLeft": true,
   "nav_menu": {
    "height": "142px",
    "width": "252px"
   },
   "navigate_menu": true,
   "number_sections": true,
   "sideBar": true,
   "threshold": 4,
   "toc_cell": false,
   "toc_section_display": "block",
   "toc_window_display": true,
   "widenNotebook": false
  }
 },
 "nbformat": 4,
 "nbformat_minor": 1
}
