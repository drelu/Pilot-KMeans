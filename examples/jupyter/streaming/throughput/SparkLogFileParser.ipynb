{
 "cells": [
  {
   "cell_type": "code",
   "execution_count": 3,
   "metadata": {
    "collapsed": true
   },
   "outputs": [],
   "source": [
    "import os, sys\n",
    "import collections\n",
    "import json\n",
    "import logging\n",
    "import numpy\n",
    "from optparse import OptionParser"
   ]
  },
  {
   "cell_type": "code",
   "execution_count": 46,
   "metadata": {
    "collapsed": true
   },
   "outputs": [],
   "source": [
    "LOG_DIR='/work/01131/tg804093/wrangler/spark-logs'\n",
    "LOG_NAME=os.path.join(LOG_DIR, \"app-20170507211941-0006.inprogress\")"
   ]
  },
  {
   "cell_type": "code",
   "execution_count": 47,
   "metadata": {},
   "outputs": [],
   "source": [
    "f = open(LOG_NAME, \"r\")\n",
    "test_line = f.readline()\n",
    "log = json.loads(test_line.strip(\"\\n\").replace(\"\\n\", \"\\\\n\"))"
   ]
  },
  {
   "cell_type": "code",
   "execution_count": 48,
   "metadata": {},
   "outputs": [
    {
     "data": {
      "text/plain": [
       "{u'Event': u'SparkListenerLogStart', u'Spark Version': u'2.1.1'}"
      ]
     },
     "execution_count": 48,
     "metadata": {},
     "output_type": "execute_result"
    }
   ],
   "source": [
    "log"
   ]
  },
  {
   "cell_type": "code",
   "execution_count": 49,
   "metadata": {},
   "outputs": [
    {
     "name": "stdout",
     "output_type": "stream",
     "text": [
      "48,56581.00\n",
      "48,74400.00\n",
      "48,1456.00\n",
      "48,637.00\n",
      "48,516.00\n",
      "48,369.00\n",
      "48,440.00\n",
      "48,267.00\n",
      "48,82016.00\n",
      "1,197.00\n",
      "48,420.00\n",
      "48,324.00\n",
      "1,277.00\n",
      "48,391.00\n",
      "48,485.00\n",
      "1,196.00\n",
      "48,325.00\n",
      "48,244.00\n",
      "1,286.00\n",
      "48,406.00\n",
      "48,206.00\n",
      "1,134.00\n",
      "48,374.00\n",
      "48,209.00\n",
      "1,204.00\n",
      "48,372.00\n",
      "48,288.00\n",
      "1,284.00\n",
      "48,347.00\n",
      "48,216.00\n",
      "1,201.00\n",
      "48,343.00\n",
      "1,113.00\n",
      "48,285.00\n",
      "1,110.00\n",
      "48,288.00\n",
      "1,109.00\n",
      "48,305.00\n",
      "1,110.00\n",
      "48,345.00\n",
      "1,110.00\n",
      "48,280.00\n",
      "48,402.00\n",
      "1,108.00\n",
      "48,283.00\n",
      "1,106.00\n",
      "48,291.00\n",
      "1,108.00\n",
      "48,241.00\n",
      "48,320.00\n",
      "1,104.00\n",
      "48,289.00\n",
      "48,279.00\n",
      "1,115.00\n",
      "48,249.00\n",
      "48,328.00\n",
      "1,125.00\n",
      "48,249.00\n",
      "48,334.00\n",
      "1,107.00\n",
      "48,245.00\n",
      "48,310.00\n",
      "1,109.00\n",
      "48,235.00\n",
      "48,345.00\n",
      "1,108.00\n",
      "48,242.00\n",
      "48,316.00\n",
      "1,110.00\n",
      "48,277.00\n",
      "48,289.00\n",
      "1,107.00\n",
      "48,236.00\n",
      "48,284.00\n",
      "1,107.00\n",
      "48,238.00\n"
     ]
    }
   ],
   "source": [
    "for line in f:\n",
    "    log_line = json.loads(line.strip(\"\\n\").replace(\"\\n\", \"\\\\n\"))\n",
    "    if log_line[\"Event\"]=='SparkListenerStageCompleted':\n",
    "        number_tasks = log_line[\"Stage Info\"][\"Number of Tasks\"]\n",
    "        submission_time = log_line[\"Stage Info\"][\"Submission Time\"]\n",
    "        completion_time = log_line[\"Stage Info\"][\"Completion Time\"]\n",
    "        print \"%d,%.2f\"%(number_tasks, completion_time-submission_time)\n",
    "    elif log_line[\"Event\"]=='SparkListenerTaskCompleted':\n",
    "        pass"
   ]
  },
  {
   "cell_type": "code",
   "execution_count": null,
   "metadata": {
    "collapsed": true
   },
   "outputs": [],
   "source": []
  }
 ],
 "metadata": {
  "kernelspec": {
   "display_name": "Python 2",
   "language": "python",
   "name": "python2"
  },
  "language_info": {
   "codemirror_mode": {
    "name": "ipython",
    "version": 2
   },
   "file_extension": ".py",
   "mimetype": "text/x-python",
   "name": "python",
   "nbconvert_exporter": "python",
   "pygments_lexer": "ipython2",
   "version": "2.7.11"
  }
 },
 "nbformat": 4,
 "nbformat_minor": 1
}
