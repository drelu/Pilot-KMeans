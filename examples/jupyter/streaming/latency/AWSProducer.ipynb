{
 "cells": [
  {
   "cell_type": "markdown",
   "metadata": {},
   "source": [
    "# Streaming Consumer Demo for Kinesis and Kafka"
   ]
  },
  {
   "cell_type": "code",
   "execution_count": 48,
   "metadata": {
    "ExecuteTime": {
     "end_time": "2017-01-01T12:39:30.001058",
     "start_time": "2017-01-01T12:39:29.983187"
    },
    "collapsed": false,
    "run_control": {
     "frozen": false,
     "read_only": false
    }
   },
   "outputs": [],
   "source": [
    "from boto import kinesis\n",
    "import datetime\n",
    "import time"
   ]
  },
  {
   "cell_type": "markdown",
   "metadata": {},
   "source": [
    "# Kinesis"
   ]
  },
  {
   "cell_type": "code",
   "execution_count": 49,
   "metadata": {
    "ExecuteTime": {
     "end_time": "2017-01-01T12:39:31.116219",
     "start_time": "2017-01-01T12:39:31.106104"
    },
    "collapsed": false,
    "run_control": {
     "frozen": false,
     "read_only": false
    }
   },
   "outputs": [],
   "source": [
    "STREAM_NAME=\"latency\"\n",
    "NUMBER_PARTITIONS=1"
   ]
  },
  {
   "cell_type": "code",
   "execution_count": 50,
   "metadata": {
    "ExecuteTime": {
     "end_time": "2017-01-01T12:58:39.560888",
     "start_time": "2017-01-01T12:58:39.425598"
    },
    "collapsed": false,
    "run_control": {
     "frozen": false,
     "read_only": false
    }
   },
   "outputs": [],
   "source": [
    "kinesis_conn = kinesis.connect_to_region(\"us-east-1\")\n",
    "streams = kinesis_conn.list_streams() \n",
    "if STREAM_NAME not in streams[\"StreamNames\"]:\n",
    "    print \"Create new Stream\"\n",
    "    kinesis_conn.create_stream(STREAM_NAME, NUMBER_PARTITIONS)"
   ]
  },
  {
   "cell_type": "code",
   "execution_count": 51,
   "metadata": {
    "ExecuteTime": {
     "end_time": "2017-01-01T12:58:37.997818",
     "start_time": "2017-01-01T12:58:37.844525"
    },
    "collapsed": false,
    "run_control": {
     "frozen": false,
     "read_only": false
    }
   },
   "outputs": [
    {
     "data": {
      "text/plain": [
       "{u'StreamDescription': {u'EnhancedMonitoring': [{u'ShardLevelMetrics': []}],\n",
       "  u'HasMoreShards': False,\n",
       "  u'RetentionPeriodHours': 24,\n",
       "  u'Shards': [{u'HashKeyRange': {u'EndingHashKey': u'340282366920938463463374607431768211455',\n",
       "     u'StartingHashKey': u'0'},\n",
       "    u'SequenceNumberRange': {u'StartingSequenceNumber': u'49569120833560767652834857066126646824474736685823819778'},\n",
       "    u'ShardId': u'shardId-000000000000'}],\n",
       "  u'StreamARN': u'arn:aws:kinesis:us-east-1:157926643553:stream/latency',\n",
       "  u'StreamCreationTimestamp': 1483312335.0,\n",
       "  u'StreamName': u'latency',\n",
       "  u'StreamStatus': u'ACTIVE'}}"
      ]
     },
     "execution_count": 51,
     "metadata": {},
     "output_type": "execute_result"
    }
   ],
   "source": [
    "kinesis_conn.describe_stream(STREAM_NAME)"
   ]
  },
  {
   "cell_type": "code",
   "execution_count": 52,
   "metadata": {
    "ExecuteTime": {
     "end_time": "2017-01-01T12:58:26.010232",
     "start_time": "2017-01-01T12:58:25.875134"
    },
    "collapsed": false,
    "run_control": {
     "frozen": false,
     "read_only": false
    }
   },
   "outputs": [
    {
     "data": {
      "text/plain": [
       "{u'SequenceNumber': u'49569120833560767652834857071632095006999778700717719554',\n",
       " u'ShardId': u'shardId-000000000000'}"
      ]
     },
     "execution_count": 52,
     "metadata": {},
     "output_type": "execute_result"
    }
   ],
   "source": [
    "kinesis_conn.put_record(STREAM_NAME, \"hi\", str(time.time()))"
   ]
  },
  {
   "cell_type": "code",
   "execution_count": 53,
   "metadata": {
    "collapsed": false
   },
   "outputs": [],
   "source": [
    "def produce_kinesis(payload):\n",
    "     kinesis_conn.put_record(STREAM_NAME, payload, str(time.time())) # use random partition key based on time"
   ]
  },
  {
   "cell_type": "markdown",
   "metadata": {},
   "source": [
    "# Benchmark"
   ]
  },
  {
   "cell_type": "code",
   "execution_count": 55,
   "metadata": {
    "collapsed": false
   },
   "outputs": [
    {
     "name": "stdout",
     "output_type": "stream",
     "text": [
      "sent @ 2017-01-01T17:38:07.390633\n",
      "sent @ 2017-01-01T17:38:08.447301\n",
      "sent @ 2017-01-01T17:38:09.503785\n",
      "sent @ 2017-01-01T17:38:10.560005\n",
      "sent @ 2017-01-01T17:38:11.697737\n",
      "sent @ 2017-01-01T17:38:12.754380\n",
      "sent @ 2017-01-01T17:38:13.810557\n",
      "sent @ 2017-01-01T17:38:14.866777\n",
      "sent @ 2017-01-01T17:38:15.926039\n",
      "sent @ 2017-01-01T17:38:16.983161\n",
      "sent @ 2017-01-01T17:38:18.039869\n",
      "sent @ 2017-01-01T17:38:19.096336\n",
      "sent @ 2017-01-01T17:38:20.152714\n",
      "sent @ 2017-01-01T17:38:21.209376\n",
      "sent @ 2017-01-01T17:38:22.265262\n",
      "sent @ 2017-01-01T17:38:23.321966\n",
      "sent @ 2017-01-01T17:38:24.381472\n",
      "sent @ 2017-01-01T17:38:25.438651\n",
      "sent @ 2017-01-01T17:38:26.495265\n",
      "sent @ 2017-01-01T17:38:27.554905\n",
      "sent @ 2017-01-01T17:38:28.615639\n",
      "sent @ 2017-01-01T17:38:28.771506\n",
      "sent @ 2017-01-01T17:38:28.926386\n",
      "sent @ 2017-01-01T17:38:29.082562\n",
      "sent @ 2017-01-01T17:38:29.280809\n",
      "sent @ 2017-01-01T17:38:29.436503\n",
      "sent @ 2017-01-01T17:38:29.591204\n",
      "sent @ 2017-01-01T17:38:29.746900\n",
      "sent @ 2017-01-01T17:38:29.902388\n",
      "sent @ 2017-01-01T17:38:30.096411\n",
      "sent @ 2017-01-01T17:38:30.251606\n",
      "sent @ 2017-01-01T17:38:30.406858\n",
      "sent @ 2017-01-01T17:38:30.562061\n",
      "sent @ 2017-01-01T17:38:30.717191\n",
      "sent @ 2017-01-01T17:38:30.872473\n",
      "sent @ 2017-01-01T17:38:31.027242\n",
      "sent @ 2017-01-01T17:38:31.181661\n",
      "sent @ 2017-01-01T17:38:31.337024\n",
      "sent @ 2017-01-01T17:38:31.492226\n",
      "sent @ 2017-01-01T17:38:31.646791\n",
      "sent @ 2017-01-01T17:38:31.801415\n",
      "sent @ 2017-01-01T17:38:31.866725\n",
      "sent @ 2017-01-01T17:38:31.931276\n",
      "sent @ 2017-01-01T17:38:31.996525\n",
      "sent @ 2017-01-01T17:38:32.061652\n",
      "sent @ 2017-01-01T17:38:32.126703\n",
      "sent @ 2017-01-01T17:38:32.193157\n",
      "sent @ 2017-01-01T17:38:32.258407\n",
      "sent @ 2017-01-01T17:38:32.323875\n",
      "sent @ 2017-01-01T17:38:32.389555\n",
      "sent @ 2017-01-01T17:38:32.454721\n",
      "sent @ 2017-01-01T17:38:32.519729\n",
      "sent @ 2017-01-01T17:38:32.584862\n",
      "sent @ 2017-01-01T17:38:32.650181\n",
      "sent @ 2017-01-01T17:38:32.714561\n",
      "sent @ 2017-01-01T17:38:32.779638\n",
      "sent @ 2017-01-01T17:38:32.845094\n",
      "sent @ 2017-01-01T17:38:32.910298\n",
      "sent @ 2017-01-01T17:38:32.975262\n",
      "sent @ 2017-01-01T17:38:33.040364\n",
      "sent @ 2017-01-01T17:38:33.106518\n",
      "sent @ 2017-01-01T17:38:33.162573\n",
      "sent @ 2017-01-01T17:38:33.218062\n",
      "sent @ 2017-01-01T17:38:33.274352\n",
      "sent @ 2017-01-01T17:38:33.330473\n",
      "sent @ 2017-01-01T17:38:33.386189\n",
      "sent @ 2017-01-01T17:38:33.442205\n",
      "sent @ 2017-01-01T17:38:33.497560\n",
      "sent @ 2017-01-01T17:38:33.554095\n",
      "sent @ 2017-01-01T17:38:33.610391\n",
      "sent @ 2017-01-01T17:38:33.666385\n",
      "sent @ 2017-01-01T17:38:33.722463\n",
      "sent @ 2017-01-01T17:38:33.778409\n",
      "sent @ 2017-01-01T17:38:33.834386\n",
      "sent @ 2017-01-01T17:38:33.890863\n",
      "sent @ 2017-01-01T17:38:33.947475\n",
      "sent @ 2017-01-01T17:38:34.003564\n",
      "sent @ 2017-01-01T17:38:34.059791\n",
      "sent @ 2017-01-01T17:38:34.116311\n",
      "sent @ 2017-01-01T17:38:34.172646\n",
      "sent @ 2017-01-01T17:38:34.228612\n",
      "sent @ 2017-01-01T17:38:34.284625\n",
      "sent @ 2017-01-01T17:38:34.347291\n",
      "sent @ 2017-01-01T17:38:34.405817\n",
      "sent @ 2017-01-01T17:38:34.494584\n",
      "sent @ 2017-01-01T17:38:34.549673\n",
      "sent @ 2017-01-01T17:38:34.604540\n",
      "sent @ 2017-01-01T17:38:34.659728\n",
      "sent @ 2017-01-01T17:38:34.715121\n",
      "sent @ 2017-01-01T17:38:34.769752\n",
      "sent @ 2017-01-01T17:38:34.826464\n",
      "sent @ 2017-01-01T17:38:34.881798\n",
      "sent @ 2017-01-01T17:38:34.936586\n",
      "sent @ 2017-01-01T17:38:34.991634\n",
      "sent @ 2017-01-01T17:38:35.046302\n",
      "sent @ 2017-01-01T17:38:35.101028\n",
      "sent @ 2017-01-01T17:38:35.156380\n",
      "sent @ 2017-01-01T17:38:35.211781\n",
      "sent @ 2017-01-01T17:38:35.266337\n",
      "sent @ 2017-01-01T17:38:35.323129\n",
      "sent @ 2017-01-01T17:38:35.562440\n",
      "sent @ 2017-01-01T17:38:35.619242\n",
      "sent @ 2017-01-01T17:38:35.674560\n",
      "sent @ 2017-01-01T17:38:35.729207\n",
      "sent @ 2017-01-01T17:38:35.784418\n",
      "sent @ 2017-01-01T17:38:35.840141\n",
      "sent @ 2017-01-01T17:38:35.895952\n",
      "sent @ 2017-01-01T17:38:35.952176\n",
      "sent @ 2017-01-01T17:38:36.007605\n",
      "sent @ 2017-01-01T17:38:36.063078\n",
      "sent @ 2017-01-01T17:38:36.117774\n",
      "sent @ 2017-01-01T17:38:36.172958\n",
      "sent @ 2017-01-01T17:38:36.227880\n",
      "sent @ 2017-01-01T17:38:36.283065\n",
      "sent @ 2017-01-01T17:38:36.338584\n",
      "sent @ 2017-01-01T17:38:36.393205\n",
      "sent @ 2017-01-01T17:38:36.448618\n",
      "sent @ 2017-01-01T17:38:36.503059\n",
      "sent @ 2017-01-01T17:38:36.558204\n",
      "sent @ 2017-01-01T17:38:36.612715\n"
     ]
    }
   ],
   "source": [
    "#sent_time=datetime.datetime.now().isoformat()\n",
    "sleep_time = 1\n",
    "\n",
    "for sleep_time in [1, 0.1, 0.01, 0.001, 0.0001, 0.00001]:\n",
    "#for sleep_time in [1]:\n",
    "    for i in range(20):\n",
    "        payload_string = datetime.datetime.now().isoformat() + \";\" + str(sleep_time)\n",
    "        produce_kinesis(payload_string)\n",
    "        print \"sent @ \" + datetime.datetime.now().isoformat()\n",
    "        time.sleep(sleep_time)"
   ]
  },
  {
   "cell_type": "markdown",
   "metadata": {},
   "source": [
    "# Cleanup"
   ]
  },
  {
   "cell_type": "code",
   "execution_count": 56,
   "metadata": {
    "collapsed": false
   },
   "outputs": [],
   "source": [
    "kinesis_conn.delete_stream(STREAM_NAME)"
   ]
  }
 ],
 "metadata": {
  "anaconda-cloud": {},
  "kernelspec": {
   "display_name": "Python [default]",
   "language": "python",
   "name": "python2"
  },
  "language_info": {
   "codemirror_mode": {
    "name": "ipython",
    "version": 2
   },
   "file_extension": ".py",
   "mimetype": "text/x-python",
   "name": "python",
   "nbconvert_exporter": "python",
   "pygments_lexer": "ipython2",
   "version": "2.7.12"
  },
  "toc": {
   "colors": {
    "hover_highlight": "#DAA520",
    "running_highlight": "#FF0000",
    "selected_highlight": "#FFD700"
   },
   "moveMenuLeft": true,
   "nav_menu": {
    "height": "12px",
    "width": "252px"
   },
   "navigate_menu": true,
   "number_sections": true,
   "sideBar": true,
   "threshold": 4,
   "toc_cell": false,
   "toc_section_display": "block",
   "toc_window_display": false
  }
 },
 "nbformat": 4,
 "nbformat_minor": 0
}
