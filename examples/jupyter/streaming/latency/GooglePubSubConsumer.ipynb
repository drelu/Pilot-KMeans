{
 "cells": [
  {
   "cell_type": "markdown",
   "metadata": {},
   "source": [
    "# Google Pub/Sub Streaming Consumer"
   ]
  },
  {
   "cell_type": "code",
   "execution_count": 2,
   "metadata": {
    "collapsed": false
   },
   "outputs": [],
   "source": [
    "# Imports the Google Cloud client library\n",
    "from google.cloud import pubsub\n",
    "from boto import kinesis\n",
    "import datetime\n",
    "import time\n",
    "import dateutil.parser\n",
    "\n",
    "STREAM_NAME=\"latency\"\n",
    "PROJECT=\"streaming-154400\"\n",
    "\n",
    "# Instantiates a client\n",
    "pubsub_client = pubsub.Client(project=PROJECT)\n",
    "\n",
    "# Prepares the new topic\n",
    "topic = pubsub_client.topic(STREAM_NAME)"
   ]
  },
  {
   "cell_type": "code",
   "execution_count": null,
   "metadata": {
    "collapsed": true
   },
   "outputs": [],
   "source": [
    "pubsub_client"
   ]
  },
  {
   "cell_type": "code",
   "execution_count": null,
   "metadata": {
    "collapsed": true
   },
   "outputs": [],
   "source": [
    "try:\n",
    "    subscription = topic.subscription(\"Default\")\n",
    "    subscription.delete()        \n",
    "except: \n",
    "    pass #subscription already exists"
   ]
  },
  {
   "cell_type": "code",
   "execution_count": null,
   "metadata": {
    "collapsed": false
   },
   "outputs": [],
   "source": [
    "run_timestamp=datetime.datetime.now()\n",
    "RESULT_FILE= \"results/google-pub-sub-latency-\" + run_timestamp.strftime(\"%Y%m%d-%H%M%S\") + \".csv\"\n",
    "try:\n",
    "    os.makedirs(\"results\")\n",
    "except:\n",
    "    pass\n",
    "output_file=open(RESULT_FILE, \"w\")"
   ]
  },
  {
   "cell_type": "code",
   "execution_count": null,
   "metadata": {
    "collapsed": false
   },
   "outputs": [],
   "source": [
    "subscription = topic.subscription(\"Default\")\n",
    "try:\n",
    "    subscription.create()        \n",
    "except: \n",
    "    pass # subscription already exists\n",
    "\n",
    "while True:\n",
    "    pulled = subscription.pull(return_immediately=False, max_messages=10000)\n",
    "    print \"Pulled %d messages\"%len(pulled)\n",
    "    for t in pulled: \n",
    "        #print t\n",
    "        message = t[1].data\n",
    "        subscription.acknowledge([t[0]])\n",
    "        #print message\n",
    "        now = time.time()\n",
    "        #sent_time=datetime.datetime.strptime(message.value, \"%Y-%m-%dT%H:%M:%S.%fZ\")\n",
    "        sent_time_string = message.split(\";\")[0]\n",
    "        sleep_time =float(message.split(\";\")[1])\n",
    "        sent_time = dateutil.parser.parse(sent_time_string)\n",
    "        sent_time_ts = time.mktime(sent_time.timetuple())\n",
    "        lat = now-sent_time_ts    \n",
    "        result = \"google, latency, 0, %.5f, %.5f\\n\"%(1/sleep_time, lat)\n",
    "        print(result)\n",
    "        output_file.write(result)\n",
    "        output_file.flush()"
   ]
  },
  {
   "cell_type": "code",
   "execution_count": null,
   "metadata": {
    "collapsed": true
   },
   "outputs": [],
   "source": []
  }
 ],
 "metadata": {
  "anaconda-cloud": {},
  "kernelspec": {
   "display_name": "Python [default]",
   "language": "python",
   "name": "python2"
  },
  "language_info": {
   "codemirror_mode": {
    "name": "ipython",
    "version": 2
   },
   "file_extension": ".py",
   "mimetype": "text/x-python",
   "name": "python",
   "nbconvert_exporter": "python",
   "pygments_lexer": "ipython2",
   "version": "2.7.12"
  }
 },
 "nbformat": 4,
 "nbformat_minor": 0
}
