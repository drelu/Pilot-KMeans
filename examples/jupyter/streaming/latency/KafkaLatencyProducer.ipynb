{
 "cells": [
  {
   "cell_type": "markdown",
   "metadata": {
    "collapsed": true
   },
   "source": [
    "# PyKafka Streaming Tests"
   ]
  },
  {
   "cell_type": "code",
   "execution_count": 3,
   "metadata": {
    "collapsed": false
   },
   "outputs": [],
   "source": [
    "from pykafka import KafkaClient\n",
    "import numpy as np\n",
    "#import msgpack\n",
    "#import msgpack_numpy as m\n",
    "#m.patch()\n",
    "\n",
    "zkKafka='c251-104.wrangler.tacc.utexas.edu:2181'\n",
    "client = KafkaClient(zookeeper_hosts=zkKafka)\n",
    "#client = KafkaClient(hosts='c251-142.wrangler.tacc.utexas.edu:9092')\n",
    "topic = client.topics['latency']\n",
    "producer = topic.get_sync_producer()\n",
    "consumer = topic.get_simple_consumer()"
   ]
  },
  {
   "cell_type": "code",
   "execution_count": 4,
   "metadata": {
    "collapsed": false
   },
   "outputs": [
    {
     "data": {
      "text/plain": [
       "{0: <pykafka.broker.Broker at 0x2b3bf3fc44d0 (host=c251-104, port=9092, id=0)>}"
      ]
     },
     "execution_count": 4,
     "metadata": {},
     "output_type": "execute_result"
    }
   ],
   "source": [
    "client.brokers"
   ]
  },
  {
   "cell_type": "markdown",
   "metadata": {},
   "source": [
    "# Latency Test"
   ]
  },
  {
   "cell_type": "code",
   "execution_count": 20,
   "metadata": {
    "collapsed": false
   },
   "outputs": [
    {
     "name": "stdout",
     "output_type": "stream",
     "text": [
      "2016-12-17T13:30:54.497918\n"
     ]
    }
   ],
   "source": [
    "ts = datetime.datetime.now().isoformat() \n",
    "producer.produce(ts + \";1\")        \n",
    "print ts"
   ]
  },
  {
   "cell_type": "code",
   "execution_count": 18,
   "metadata": {
    "collapsed": false
   },
   "outputs": [
    {
     "name": "stdout",
     "output_type": "stream",
     "text": [
      "sent @ 2016-12-17T15:52:56.675511\n",
      "sent @ 2016-12-17T15:52:57.790256\n",
      "sent @ 2016-12-17T15:52:58.904963\n",
      "sent @ 2016-12-17T15:53:00.019695\n",
      "sent @ 2016-12-17T15:53:01.024017\n",
      "sent @ 2016-12-17T15:53:02.040682\n",
      "sent @ 2016-12-17T15:53:03.057403\n",
      "sent @ 2016-12-17T15:53:04.222181\n",
      "sent @ 2016-12-17T15:53:05.336958\n",
      "sent @ 2016-12-17T15:53:06.451647\n",
      "sent @ 2016-12-17T15:53:07.566325\n",
      "sent @ 2016-12-17T15:53:08.680984\n",
      "sent @ 2016-12-17T15:53:09.795642\n",
      "sent @ 2016-12-17T15:53:10.910336\n",
      "sent @ 2016-12-17T15:53:12.025091\n",
      "sent @ 2016-12-17T15:53:13.139942\n",
      "sent @ 2016-12-17T15:53:14.254752\n",
      "sent @ 2016-12-17T15:53:15.369485\n",
      "sent @ 2016-12-17T15:53:16.373782\n",
      "sent @ 2016-12-17T15:53:17.390268\n",
      "sent @ 2016-12-17T15:53:18.406796\n",
      "sent @ 2016-12-17T15:53:18.620666\n",
      "sent @ 2016-12-17T15:53:18.834489\n",
      "sent @ 2016-12-17T15:53:19.048322\n",
      "sent @ 2016-12-17T15:53:19.262184\n",
      "sent @ 2016-12-17T15:53:19.425981\n",
      "sent @ 2016-12-17T15:53:19.639803\n",
      "sent @ 2016-12-17T15:53:19.853637\n",
      "sent @ 2016-12-17T15:53:20.067457\n",
      "sent @ 2016-12-17T15:53:20.281277\n",
      "sent @ 2016-12-17T15:53:20.495156\n",
      "sent @ 2016-12-17T15:53:20.658932\n",
      "sent @ 2016-12-17T15:53:20.872726\n",
      "sent @ 2016-12-17T15:53:21.086558\n",
      "sent @ 2016-12-17T15:53:21.300418\n",
      "sent @ 2016-12-17T15:53:21.514238\n",
      "sent @ 2016-12-17T15:53:21.678000\n",
      "sent @ 2016-12-17T15:53:21.891831\n",
      "sent @ 2016-12-17T15:53:22.105664\n",
      "sent @ 2016-12-17T15:53:22.319493\n",
      "sent @ 2016-12-17T15:53:22.533329\n",
      "sent @ 2016-12-17T15:53:22.607081\n",
      "sent @ 2016-12-17T15:53:22.730879\n",
      "sent @ 2016-12-17T15:53:22.804586\n",
      "sent @ 2016-12-17T15:53:22.928500\n",
      "sent @ 2016-12-17T15:53:23.052252\n",
      "sent @ 2016-12-17T15:53:23.126008\n",
      "sent @ 2016-12-17T15:53:23.249807\n",
      "sent @ 2016-12-17T15:53:23.323476\n",
      "sent @ 2016-12-17T15:53:23.447254\n",
      "sent @ 2016-12-17T15:53:23.520936\n",
      "sent @ 2016-12-17T15:53:23.644737\n",
      "sent @ 2016-12-17T15:53:23.768515\n",
      "sent @ 2016-12-17T15:53:23.842188\n",
      "sent @ 2016-12-17T15:53:23.965979\n",
      "sent @ 2016-12-17T15:53:24.039721\n",
      "sent @ 2016-12-17T15:53:24.163523\n",
      "sent @ 2016-12-17T15:53:24.237195\n",
      "sent @ 2016-12-17T15:53:24.361116\n",
      "sent @ 2016-12-17T15:53:24.484853\n",
      "sent @ 2016-12-17T15:53:24.558496\n",
      "sent @ 2016-12-17T15:53:24.673255\n",
      "sent @ 2016-12-17T15:53:24.788025\n",
      "sent @ 2016-12-17T15:53:24.852749\n",
      "sent @ 2016-12-17T15:53:24.967542\n",
      "sent @ 2016-12-17T15:53:25.082303\n",
      "sent @ 2016-12-17T15:53:25.197078\n",
      "sent @ 2016-12-17T15:53:25.261784\n",
      "sent @ 2016-12-17T15:53:25.376593\n",
      "sent @ 2016-12-17T15:53:25.491404\n",
      "sent @ 2016-12-17T15:53:25.606203\n",
      "sent @ 2016-12-17T15:53:25.721068\n",
      "sent @ 2016-12-17T15:53:25.785789\n",
      "sent @ 2016-12-17T15:53:25.900619\n",
      "sent @ 2016-12-17T15:53:26.015419\n",
      "sent @ 2016-12-17T15:53:26.130206\n",
      "sent @ 2016-12-17T15:53:26.194916\n",
      "sent @ 2016-12-17T15:53:26.309703\n",
      "sent @ 2016-12-17T15:53:26.424495\n",
      "sent @ 2016-12-17T15:53:26.539316\n",
      "sent @ 2016-12-17T15:53:26.603984\n",
      "sent @ 2016-12-17T15:53:26.717825\n",
      "sent @ 2016-12-17T15:53:26.831700\n",
      "sent @ 2016-12-17T15:53:26.945553\n",
      "sent @ 2016-12-17T15:53:27.009369\n",
      "sent @ 2016-12-17T15:53:27.123271\n",
      "sent @ 2016-12-17T15:53:27.237151\n",
      "sent @ 2016-12-17T15:53:27.351069\n",
      "sent @ 2016-12-17T15:53:27.414966\n",
      "sent @ 2016-12-17T15:53:27.528924\n",
      "sent @ 2016-12-17T15:53:27.642840\n",
      "sent @ 2016-12-17T15:53:27.756738\n",
      "sent @ 2016-12-17T15:53:27.870660\n",
      "sent @ 2016-12-17T15:53:27.934476\n",
      "sent @ 2016-12-17T15:53:28.048379\n",
      "sent @ 2016-12-17T15:53:28.162308\n",
      "sent @ 2016-12-17T15:53:28.276175\n",
      "sent @ 2016-12-17T15:53:28.390097\n",
      "sent @ 2016-12-17T15:53:28.453914\n",
      "sent @ 2016-12-17T15:53:28.567802\n",
      "sent @ 2016-12-17T15:53:28.681743\n",
      "sent @ 2016-12-17T15:53:28.795528\n",
      "sent @ 2016-12-17T15:53:28.859272\n",
      "sent @ 2016-12-17T15:53:28.973042\n",
      "sent @ 2016-12-17T15:53:29.086778\n",
      "sent @ 2016-12-17T15:53:29.200596\n",
      "sent @ 2016-12-17T15:53:29.314397\n",
      "sent @ 2016-12-17T15:53:29.378110\n",
      "sent @ 2016-12-17T15:53:29.491886\n",
      "sent @ 2016-12-17T15:53:29.605648\n",
      "sent @ 2016-12-17T15:53:29.719441\n",
      "sent @ 2016-12-17T15:53:29.783103\n",
      "sent @ 2016-12-17T15:53:29.896844\n",
      "sent @ 2016-12-17T15:53:30.010643\n",
      "sent @ 2016-12-17T15:53:30.124373\n",
      "sent @ 2016-12-17T15:53:30.238161\n",
      "sent @ 2016-12-17T15:53:30.301825\n",
      "sent @ 2016-12-17T15:53:30.415579\n",
      "sent @ 2016-12-17T15:53:30.529373\n",
      "sent @ 2016-12-17T15:53:30.643144\n"
     ]
    }
   ],
   "source": [
    "import datetime\n",
    "import time\n",
    "#sent_time=datetime.datetime.now().isoformat()\n",
    "sleep_time = 1\n",
    "topic = client.topics['latency']\n",
    "producer = topic.get_sync_producer()\n",
    "\n",
    "for sleep_time in [1, 0.1, 0.01, 0.001, 0.0001, 0.00001]:\n",
    "    for i in range(20):\n",
    "        producer.produce(datetime.datetime.now().isoformat() + \";\" + str(sleep_time))\n",
    "        print \"sent @ \" + datetime.datetime.now().isoformat()\n",
    "        time.sleep(sleep_time)"
   ]
  },
  {
   "cell_type": "code",
   "execution_count": null,
   "metadata": {
    "collapsed": true
   },
   "outputs": [],
   "source": []
  }
 ],
 "metadata": {
  "anaconda-cloud": {},
  "kernelspec": {
   "display_name": "Python [default]",
   "language": "python",
   "name": "python2"
  },
  "language_info": {
   "codemirror_mode": {
    "name": "ipython",
    "version": 2
   },
   "file_extension": ".py",
   "mimetype": "text/x-python",
   "name": "python",
   "nbconvert_exporter": "python",
   "pygments_lexer": "ipython2",
   "version": "2.7.12"
  }
 },
 "nbformat": 4,
 "nbformat_minor": 0
}
