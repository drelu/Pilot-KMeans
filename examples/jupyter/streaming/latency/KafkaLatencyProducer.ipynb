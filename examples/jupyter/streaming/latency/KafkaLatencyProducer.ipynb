{
 "cells": [
  {
   "cell_type": "markdown",
   "metadata": {
    "collapsed": true
   },
   "source": [
    "# PyKafka Streaming Tests"
   ]
  },
  {
   "cell_type": "code",
   "execution_count": 12,
   "metadata": {
    "collapsed": false
   },
   "outputs": [],
   "source": [
    "from pykafka import KafkaClient\n",
    "import numpy as np\n",
    "import datetime\n",
    "#import msgpack\n",
    "#import msgpack_numpy as m\n",
    "#m.patch()\n",
    "\n",
    "zkKafka='c251-124.wrangler.tacc.utexas.edu:2181'\n",
    "client = KafkaClient(zookeeper_hosts=zkKafka)\n",
    "#client = KafkaClient(hosts='c251-142.wrangler.tacc.utexas.edu:9092')\n",
    "topic = client.topics['latency']\n",
    "producer = topic.get_sync_producer()\n",
    "consumer = topic.get_simple_consumer()"
   ]
  },
  {
   "cell_type": "code",
   "execution_count": 13,
   "metadata": {
    "collapsed": false
   },
   "outputs": [
    {
     "data": {
      "text/plain": [
       "{0: <pykafka.broker.Broker at 0x2af98deae550 (host=c251-124, port=9092, id=0)>}"
      ]
     },
     "execution_count": 13,
     "metadata": {},
     "output_type": "execute_result"
    }
   ],
   "source": [
    "client.brokers"
   ]
  },
  {
   "cell_type": "markdown",
   "metadata": {},
   "source": [
    "# Latency Test"
   ]
  },
  {
   "cell_type": "code",
   "execution_count": 14,
   "metadata": {
    "collapsed": false
   },
   "outputs": [
    {
     "name": "stdout",
     "output_type": "stream",
     "text": [
      "2017-05-06T11:35:47.183410\n"
     ]
    }
   ],
   "source": [
    "ts = datetime.datetime.now().isoformat() \n",
    "producer.produce(ts + \";1\")        \n",
    "print ts"
   ]
  },
  {
   "cell_type": "code",
   "execution_count": 15,
   "metadata": {
    "collapsed": false
   },
   "outputs": [
    {
     "name": "stdout",
     "output_type": "stream",
     "text": [
      "sent @ 2017-05-06T11:35:52.427886\n",
      "sent @ 2017-05-06T11:35:53.494955\n",
      "sent @ 2017-05-06T11:35:54.611112\n",
      "sent @ 2017-05-06T11:35:55.727636\n",
      "sent @ 2017-05-06T11:35:56.796392\n",
      "sent @ 2017-05-06T11:35:57.865599\n",
      "sent @ 2017-05-06T11:35:58.982721\n",
      "sent @ 2017-05-06T11:36:00.100212\n",
      "sent @ 2017-05-06T11:36:01.134938\n",
      "sent @ 2017-05-06T11:36:02.251748\n",
      "sent @ 2017-05-06T11:36:03.318380\n",
      "sent @ 2017-05-06T11:36:04.435543\n",
      "sent @ 2017-05-06T11:36:05.503211\n",
      "sent @ 2017-05-06T11:36:06.620064\n",
      "sent @ 2017-05-06T11:36:07.686859\n",
      "sent @ 2017-05-06T11:36:08.757119\n",
      "sent @ 2017-05-06T11:36:09.874911\n",
      "sent @ 2017-05-06T11:36:10.944051\n",
      "sent @ 2017-05-06T11:36:12.061119\n",
      "sent @ 2017-05-06T11:36:13.127733\n",
      "sent @ 2017-05-06T11:36:14.244519\n",
      "sent @ 2017-05-06T11:36:14.460450\n",
      "sent @ 2017-05-06T11:36:14.676141\n",
      "sent @ 2017-05-06T11:36:14.788738\n",
      "sent @ 2017-05-06T11:36:14.906878\n",
      "sent @ 2017-05-06T11:36:15.042048\n",
      "sent @ 2017-05-06T11:36:15.150039\n",
      "sent @ 2017-05-06T11:36:15.416344\n",
      "sent @ 2017-05-06T11:36:15.632248\n",
      "sent @ 2017-05-06T11:36:15.848157\n",
      "sent @ 2017-05-06T11:36:16.114963\n",
      "sent @ 2017-05-06T11:36:16.330791\n",
      "sent @ 2017-05-06T11:36:16.546584\n",
      "sent @ 2017-05-06T11:36:16.763666\n",
      "sent @ 2017-05-06T11:36:16.885506\n",
      "sent @ 2017-05-06T11:36:17.005208\n",
      "sent @ 2017-05-06T11:36:17.271348\n",
      "sent @ 2017-05-06T11:36:17.487298\n",
      "sent @ 2017-05-06T11:36:17.703144\n",
      "sent @ 2017-05-06T11:36:17.920731\n",
      "sent @ 2017-05-06T11:36:18.055769\n",
      "sent @ 2017-05-06T11:36:18.181311\n",
      "sent @ 2017-05-06T11:36:18.308128\n",
      "sent @ 2017-05-06T11:36:18.433861\n",
      "sent @ 2017-05-06T11:36:18.510059\n",
      "sent @ 2017-05-06T11:36:18.635933\n",
      "sent @ 2017-05-06T11:36:18.761940\n",
      "sent @ 2017-05-06T11:36:18.888141\n",
      "sent @ 2017-05-06T11:36:19.013224\n",
      "sent @ 2017-05-06T11:36:19.138959\n",
      "sent @ 2017-05-06T11:36:19.263665\n",
      "sent @ 2017-05-06T11:36:19.388606\n",
      "sent @ 2017-05-06T11:36:19.520466\n",
      "sent @ 2017-05-06T11:36:19.596559\n",
      "sent @ 2017-05-06T11:36:19.725989\n",
      "sent @ 2017-05-06T11:36:19.854213\n",
      "sent @ 2017-05-06T11:36:19.979312\n",
      "sent @ 2017-05-06T11:36:20.104206\n",
      "sent @ 2017-05-06T11:36:20.229819\n",
      "sent @ 2017-05-06T11:36:20.354764\n",
      "sent @ 2017-05-06T11:36:20.480482\n",
      "sent @ 2017-05-06T11:36:20.596426\n",
      "sent @ 2017-05-06T11:36:20.712174\n",
      "sent @ 2017-05-06T11:36:20.828938\n",
      "sent @ 2017-05-06T11:36:20.944642\n",
      "sent @ 2017-05-06T11:36:21.060518\n",
      "sent @ 2017-05-06T11:36:21.176879\n",
      "sent @ 2017-05-06T11:36:21.293669\n",
      "sent @ 2017-05-06T11:36:21.410022\n",
      "sent @ 2017-05-06T11:36:21.527292\n",
      "sent @ 2017-05-06T11:36:21.643556\n",
      "sent @ 2017-05-06T11:36:21.761364\n",
      "sent @ 2017-05-06T11:36:21.877879\n",
      "sent @ 2017-05-06T11:36:21.996190\n",
      "sent @ 2017-05-06T11:36:22.113488\n",
      "sent @ 2017-05-06T11:36:22.233857\n",
      "sent @ 2017-05-06T11:36:22.252957\n",
      "sent @ 2017-05-06T11:36:22.370102\n",
      "sent @ 2017-05-06T11:36:22.487597\n",
      "sent @ 2017-05-06T11:36:22.604340\n",
      "sent @ 2017-05-06T11:36:22.721482\n",
      "sent @ 2017-05-06T11:36:22.728430\n",
      "sent @ 2017-05-06T11:36:22.741275\n",
      "sent @ 2017-05-06T11:36:22.755803\n",
      "sent @ 2017-05-06T11:36:22.877048\n",
      "sent @ 2017-05-06T11:36:22.995343\n",
      "sent @ 2017-05-06T11:36:23.007171\n",
      "sent @ 2017-05-06T11:36:23.018829\n",
      "sent @ 2017-05-06T11:36:23.033286\n",
      "sent @ 2017-05-06T11:36:23.042923\n",
      "sent @ 2017-05-06T11:36:23.052971\n",
      "sent @ 2017-05-06T11:36:23.068215\n",
      "sent @ 2017-05-06T11:36:23.074524\n",
      "sent @ 2017-05-06T11:36:23.089392\n",
      "sent @ 2017-05-06T11:36:23.104886\n",
      "sent @ 2017-05-06T11:36:23.113309\n",
      "sent @ 2017-05-06T11:36:23.125090\n",
      "sent @ 2017-05-06T11:36:23.248493\n",
      "sent @ 2017-05-06T11:36:23.261778\n",
      "sent @ 2017-05-06T11:36:23.377731\n",
      "sent @ 2017-05-06T11:36:23.392050\n",
      "sent @ 2017-05-06T11:36:23.405358\n",
      "sent @ 2017-05-06T11:36:23.416407\n",
      "sent @ 2017-05-06T11:36:23.533083\n",
      "sent @ 2017-05-06T11:36:23.545226\n",
      "sent @ 2017-05-06T11:36:23.554985\n",
      "sent @ 2017-05-06T11:36:23.568870\n",
      "sent @ 2017-05-06T11:36:23.688812\n",
      "sent @ 2017-05-06T11:36:23.807954\n",
      "sent @ 2017-05-06T11:36:23.817975\n",
      "sent @ 2017-05-06T11:36:23.829322\n",
      "sent @ 2017-05-06T11:36:23.842734\n",
      "sent @ 2017-05-06T11:36:23.861816\n",
      "sent @ 2017-05-06T11:36:23.978382\n",
      "sent @ 2017-05-06T11:36:23.990953\n",
      "sent @ 2017-05-06T11:36:24.000020\n",
      "sent @ 2017-05-06T11:36:24.011010\n",
      "sent @ 2017-05-06T11:36:24.026245\n",
      "sent @ 2017-05-06T11:36:24.142067\n",
      "sent @ 2017-05-06T11:36:24.154285\n"
     ]
    }
   ],
   "source": [
    "import datetime\n",
    "import time\n",
    "#sent_time=datetime.datetime.now().isoformat()\n",
    "sleep_time = 1\n",
    "topic = client.topics['latency']\n",
    "producer = topic.get_sync_producer()\n",
    "\n",
    "for sleep_time in [1, 0.1, 0.01, 0.001, 0.0001, 0.00001]:\n",
    "    for i in range(20):\n",
    "        producer.produce(datetime.datetime.now().isoformat() + \";\" + str(sleep_time))\n",
    "        print \"sent @ \" + datetime.datetime.now().isoformat()\n",
    "        time.sleep(sleep_time)"
   ]
  },
  {
   "cell_type": "code",
   "execution_count": null,
   "metadata": {
    "collapsed": true
   },
   "outputs": [],
   "source": []
  }
 ],
 "metadata": {
  "anaconda-cloud": {},
  "kernelspec": {
   "display_name": "Python 2",
   "language": "python",
   "name": "python2"
  },
  "language_info": {
   "codemirror_mode": {
    "name": "ipython",
    "version": 2
   },
   "file_extension": ".py",
   "mimetype": "text/x-python",
   "name": "python",
   "nbconvert_exporter": "python",
   "pygments_lexer": "ipython2",
   "version": "2.7.11"
  }
 },
 "nbformat": 4,
 "nbformat_minor": 0
}
