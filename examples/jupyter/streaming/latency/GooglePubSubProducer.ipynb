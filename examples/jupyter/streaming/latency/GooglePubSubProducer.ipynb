{
 "cells": [
  {
   "cell_type": "markdown",
   "metadata": {},
   "source": [
    "# Streaming Producer Demo for Google Pub/Sub\n",
    "\n",
    "\n",
    "Installation:\n",
    "\n",
    "    curl https://sdk.cloud.google.com | bash\n",
    "    pip install google-cloud-pubsub\n",
    "\n",
    "Authenticate:\n",
    "\n",
    "gcloud beta auth application-default login"
   ]
  },
  {
   "cell_type": "code",
   "execution_count": 12,
   "metadata": {
    "ExecuteTime": {
     "end_time": "2017-01-01T12:39:30.001058",
     "start_time": "2017-01-01T12:39:29.983187"
    },
    "collapsed": false,
    "run_control": {
     "frozen": false,
     "read_only": false
    }
   },
   "outputs": [],
   "source": [
    "# Imports the Google Cloud client library\n",
    "from google.cloud import pubsub\n",
    "import datetime\n",
    "import time\n",
    "\n",
    "STREAM_NAME=\"latency\"\n",
    "PROJECT=\"streaming-154400\"\n",
    "\n",
    "# Instantiates a client\n",
    "pubsub_client = pubsub.Client(project=PROJECT)"
   ]
  },
  {
   "cell_type": "code",
   "execution_count": 13,
   "metadata": {
    "collapsed": true
   },
   "outputs": [],
   "source": [
    "def produce_pubsub(payload):\n",
    "    topic.publish(payload) "
   ]
  },
  {
   "cell_type": "code",
   "execution_count": null,
   "metadata": {
    "collapsed": false
   },
   "outputs": [],
   "source": [
    "topic.publish(\"hello world\")"
   ]
  },
  {
   "cell_type": "markdown",
   "metadata": {},
   "source": [
    "# Benchmark"
   ]
  },
  {
   "cell_type": "code",
   "execution_count": 14,
   "metadata": {
    "collapsed": false
   },
   "outputs": [
    {
     "name": "stdout",
     "output_type": "stream",
     "text": [
      "Topic latency created.\n"
     ]
    }
   ],
   "source": [
    "# Prepares the new topic\n",
    "topic = pubsub_client.topic(STREAM_NAME)\n",
    "try:\n",
    "    topic.delete()\n",
    "except:\n",
    "    pass # topic already exists\n",
    "\n",
    "try:\n",
    "    # Creates the new topic\n",
    "    topic.create()\n",
    "except:\n",
    "    pass # topic already exists\n",
    "\n",
    "print('Topic {} created.'.format(topic.name))"
   ]
  },
  {
   "cell_type": "code",
   "execution_count": 16,
   "metadata": {
    "collapsed": false
   },
   "outputs": [
    {
     "name": "stdout",
     "output_type": "stream",
     "text": [
      "sent @ 2017-01-01T20:52:10.841052\n",
      "sent @ 2017-01-01T20:52:11.891446\n",
      "sent @ 2017-01-01T20:52:12.936761\n",
      "sent @ 2017-01-01T20:52:13.984228\n",
      "sent @ 2017-01-01T20:52:15.028653\n",
      "sent @ 2017-01-01T20:52:16.081972\n",
      "sent @ 2017-01-01T20:52:17.127593\n",
      "sent @ 2017-01-01T20:52:18.172486\n",
      "sent @ 2017-01-01T20:52:19.219520\n",
      "sent @ 2017-01-01T20:52:20.274675\n",
      "sent @ 2017-01-01T20:52:21.321000\n",
      "sent @ 2017-01-01T20:52:22.364202\n",
      "sent @ 2017-01-01T20:52:23.407080\n",
      "sent @ 2017-01-01T20:52:24.513008\n",
      "sent @ 2017-01-01T20:52:25.579721\n",
      "sent @ 2017-01-01T20:52:26.633389\n",
      "sent @ 2017-01-01T20:52:27.701028\n",
      "sent @ 2017-01-01T20:52:28.753903\n",
      "sent @ 2017-01-01T20:52:29.809759\n",
      "sent @ 2017-01-01T20:52:30.856652\n",
      "sent @ 2017-01-01T20:52:31.913881\n",
      "sent @ 2017-01-01T20:52:32.065171\n",
      "sent @ 2017-01-01T20:52:32.219453\n",
      "sent @ 2017-01-01T20:52:32.381005\n",
      "sent @ 2017-01-01T20:52:32.538266\n",
      "sent @ 2017-01-01T20:52:32.693964\n",
      "sent @ 2017-01-01T20:52:32.866412\n",
      "sent @ 2017-01-01T20:52:33.032634\n",
      "sent @ 2017-01-01T20:52:33.186824\n",
      "sent @ 2017-01-01T20:52:33.337519\n",
      "sent @ 2017-01-01T20:52:33.493233\n",
      "sent @ 2017-01-01T20:52:33.647496\n",
      "sent @ 2017-01-01T20:52:33.793915\n",
      "sent @ 2017-01-01T20:52:33.960477\n",
      "sent @ 2017-01-01T20:52:34.115419\n",
      "sent @ 2017-01-01T20:52:34.268053\n",
      "sent @ 2017-01-01T20:52:34.425817\n",
      "sent @ 2017-01-01T20:52:34.589025\n",
      "sent @ 2017-01-01T20:52:34.745279\n",
      "sent @ 2017-01-01T20:52:34.901408\n",
      "sent @ 2017-01-01T20:52:35.052647\n",
      "sent @ 2017-01-01T20:52:35.116341\n",
      "sent @ 2017-01-01T20:52:35.183765\n",
      "sent @ 2017-01-01T20:52:35.243544\n",
      "sent @ 2017-01-01T20:52:35.300636\n",
      "sent @ 2017-01-01T20:52:35.363287\n",
      "sent @ 2017-01-01T20:52:35.430345\n",
      "sent @ 2017-01-01T20:52:35.497492\n",
      "sent @ 2017-01-01T20:52:35.569476\n",
      "sent @ 2017-01-01T20:52:35.646305\n",
      "sent @ 2017-01-01T20:52:35.709254\n",
      "sent @ 2017-01-01T20:52:35.771762\n",
      "sent @ 2017-01-01T20:52:35.835996\n",
      "sent @ 2017-01-01T20:52:35.892141\n",
      "sent @ 2017-01-01T20:52:35.964651\n",
      "sent @ 2017-01-01T20:52:36.026692\n",
      "sent @ 2017-01-01T20:52:36.094415\n",
      "sent @ 2017-01-01T20:52:36.155630\n",
      "sent @ 2017-01-01T20:52:36.222336\n",
      "sent @ 2017-01-01T20:52:36.284953\n",
      "sent @ 2017-01-01T20:52:36.346720\n",
      "sent @ 2017-01-01T20:52:36.407944\n",
      "sent @ 2017-01-01T20:52:36.462690\n",
      "sent @ 2017-01-01T20:52:36.514950\n",
      "sent @ 2017-01-01T20:52:36.570867\n",
      "sent @ 2017-01-01T20:52:36.627302\n",
      "sent @ 2017-01-01T20:52:36.687674\n",
      "sent @ 2017-01-01T20:52:36.740494\n",
      "sent @ 2017-01-01T20:52:36.795815\n",
      "sent @ 2017-01-01T20:52:36.857874\n",
      "sent @ 2017-01-01T20:52:36.912085\n",
      "sent @ 2017-01-01T20:52:36.957104\n",
      "sent @ 2017-01-01T20:52:37.004075\n",
      "sent @ 2017-01-01T20:52:37.065347\n",
      "sent @ 2017-01-01T20:52:37.118268\n",
      "sent @ 2017-01-01T20:52:37.163979\n",
      "sent @ 2017-01-01T20:52:37.225594\n",
      "sent @ 2017-01-01T20:52:37.281293\n",
      "sent @ 2017-01-01T20:52:37.326990\n",
      "sent @ 2017-01-01T20:52:37.380453\n",
      "sent @ 2017-01-01T20:52:37.427040\n",
      "sent @ 2017-01-01T20:52:37.480297\n",
      "sent @ 2017-01-01T20:52:37.528808\n",
      "sent @ 2017-01-01T20:52:37.585170\n",
      "sent @ 2017-01-01T20:52:37.645757\n",
      "sent @ 2017-01-01T20:52:37.697591\n",
      "sent @ 2017-01-01T20:52:37.758148\n",
      "sent @ 2017-01-01T20:52:37.805269\n",
      "sent @ 2017-01-01T20:52:37.863094\n",
      "sent @ 2017-01-01T20:52:37.921849\n",
      "sent @ 2017-01-01T20:52:37.980890\n",
      "sent @ 2017-01-01T20:52:38.035117\n",
      "sent @ 2017-01-01T20:52:38.089044\n",
      "sent @ 2017-01-01T20:52:38.122528\n",
      "sent @ 2017-01-01T20:52:38.155639\n",
      "sent @ 2017-01-01T20:52:38.185607\n",
      "sent @ 2017-01-01T20:52:38.220814\n",
      "sent @ 2017-01-01T20:52:38.254233\n",
      "sent @ 2017-01-01T20:52:38.292473\n",
      "sent @ 2017-01-01T20:52:38.322011\n",
      "sent @ 2017-01-01T20:52:38.357769\n",
      "sent @ 2017-01-01T20:52:38.393899\n",
      "sent @ 2017-01-01T20:52:38.429494\n",
      "sent @ 2017-01-01T20:52:38.465850\n",
      "sent @ 2017-01-01T20:52:38.502730\n",
      "sent @ 2017-01-01T20:52:38.537199\n",
      "sent @ 2017-01-01T20:52:38.572220\n",
      "sent @ 2017-01-01T20:52:38.611929\n",
      "sent @ 2017-01-01T20:52:38.642716\n",
      "sent @ 2017-01-01T20:52:38.674775\n",
      "sent @ 2017-01-01T20:52:38.711173\n",
      "sent @ 2017-01-01T20:52:38.749026\n",
      "sent @ 2017-01-01T20:52:38.779408\n",
      "sent @ 2017-01-01T20:52:38.813378\n",
      "sent @ 2017-01-01T20:52:38.841543\n",
      "sent @ 2017-01-01T20:52:38.874822\n",
      "sent @ 2017-01-01T20:52:38.907990\n",
      "sent @ 2017-01-01T20:52:38.937916\n",
      "sent @ 2017-01-01T20:52:38.972008\n",
      "sent @ 2017-01-01T20:52:39.001179\n"
     ]
    }
   ],
   "source": [
    "#sent_time=datetime.datetime.now().isoformat()\n",
    "sleep_time = 1\n",
    "\n",
    "for sleep_time in [1, 0.1, 0.01, 0.001, 0.0001, 0.00001]:\n",
    "#for sleep_time in [1]:\n",
    "    for i in range(20):\n",
    "        payload_string = datetime.datetime.now().isoformat() + \";\" + str(sleep_time)\n",
    "        produce_pubsub(payload_string)\n",
    "        print \"sent @ \" + datetime.datetime.now().isoformat()\n",
    "        time.sleep(sleep_time)"
   ]
  },
  {
   "cell_type": "markdown",
   "metadata": {},
   "source": [
    "# Cleanup"
   ]
  },
  {
   "cell_type": "code",
   "execution_count": null,
   "metadata": {
    "collapsed": false
   },
   "outputs": [],
   "source": [
    "topic.delete()"
   ]
  }
 ],
 "metadata": {
  "anaconda-cloud": {},
  "kernelspec": {
   "display_name": "Python [default]",
   "language": "python",
   "name": "python2"
  },
  "language_info": {
   "codemirror_mode": {
    "name": "ipython",
    "version": 2
   },
   "file_extension": ".py",
   "mimetype": "text/x-python",
   "name": "python",
   "nbconvert_exporter": "python",
   "pygments_lexer": "ipython2",
   "version": "2.7.12"
  },
  "toc": {
   "colors": {
    "hover_highlight": "#DAA520",
    "running_highlight": "#FF0000",
    "selected_highlight": "#FFD700"
   },
   "moveMenuLeft": true,
   "nav_menu": {
    "height": "12px",
    "width": "252px"
   },
   "navigate_menu": true,
   "number_sections": true,
   "sideBar": true,
   "threshold": 4,
   "toc_cell": false,
   "toc_section_display": "block",
   "toc_window_display": false
  }
 },
 "nbformat": 4,
 "nbformat_minor": 0
}
