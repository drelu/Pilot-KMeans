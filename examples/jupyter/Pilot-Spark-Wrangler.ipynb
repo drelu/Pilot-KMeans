{
 "cells": [
  {
   "cell_type": "markdown",
   "metadata": {},
   "source": [
    "# Wrangler Hello World\n",
    "\n",
    "saga-hadoop --resource=slurm://localhost --queue=normal --walltime=59 --number_cores=24 --project=TG-MCB090174 --framework spark"
   ]
  },
  {
   "cell_type": "code",
   "execution_count": 1,
   "metadata": {
    "collapsed": false
   },
   "outputs": [
    {
     "name": "stdout",
     "output_type": "stream",
     "text": [
      "DEBUG:root:Run python Args: ['-m', 'spark.bootstrap_spark']\n",
      "\u001b[31m2015-12-22 19:24:20,899: radical.saga.cpi    : MainProcess                     : MainThread     : ERROR   : NoSuccess: Couldn't get job id from submitted job! sbatch output:\n",
      "-----------------------------------------------------------------\n",
      "          Welcome to Wrangler at TACC          \n",
      "-----------------------------------------------------------------\n",
      "\n",
      "sbatch: error: Unable to open file tmp_ucHEwY.slurm\n",
      "\u001b[0m\n",
      "An error occurred: Couldn't get job id from submitted job! sbatch output:\n",
      "-----------------------------------------------------------------\n",
      "          Welcome to Wrangler at TACC          \n",
      "-----------------------------------------------------------------\n",
      "\n",
      "sbatch: error: Unable to open file tmp_ucHEwY.slurm\n",
      " (/home/01131/tg804093/anaconda2/lib/python2.7/site-packages/saga/adaptors/slurm/slurm_job.py +620 (_job_run)  :  \" sbatch output:\\n%s\" % out))\n"
     ]
    }
   ],
   "source": [
    "!saga-hadoop --resource=slurm://localhost \\\n",
    "             --queue=normal --walltime=59 --number_cores=24 \\\n",
    "             --project=TG-MCB090174 --framework spark"
   ]
  },
  {
   "cell_type": "code",
   "execution_count": 4,
   "metadata": {
    "collapsed": false
   },
   "outputs": [
    {
     "name": "stdout",
     "output_type": "stream",
     "text": [
      "             JOBID   PARTITION     NAME     USER ST       TIME  NODES NODELIST(REASON)\r\n",
      "              6478      normal Parametr poldrack  R   19:27:51     32 c251-[101-132]\r\n"
     ]
    }
   ],
   "source": [
    "!squeue"
   ]
  },
  {
   "cell_type": "code",
   "execution_count": 1,
   "metadata": {
    "collapsed": false
   },
   "outputs": [
    {
     "name": "stdout",
     "output_type": "stream",
     "text": [
      "SPARK Home: /home/01131/tg804093/work/spark-1.5.2-bin-hadoop2.6\n",
      "SPARK HOME: /home/01131/tg804093/work/spark-1.5.2-bin-hadoop2.6\n",
      "PYTHONPATH: /home/01131/tg804093/work/spark-1.5.2-bin-hadoop2.6/python:/home/01131/tg804093/work/spark-1.5.2-bin-hadoop2.6/python/lib/py4j-0.8.2.1-src.zip\n",
      "Connect to Spark cluster: spark://129.114.58.133:7077\n",
      "spark.app.name=Pilot-Spark\n",
      "spark.driver.host=129.114.58.2\n",
      "spark.master=spark://129.114.58.133:7077\n",
      "spark.submit.deployMode=client\n",
      "Spark Startup, 2.10\n"
     ]
    }
   ],
   "source": [
    "import os\n",
    "\n",
    "os.environ[\"SPARK_LOCAL_IP\"]=\"129.114.58.2\"\n",
    "\n",
    "%run util/init_spark_wrangler.py\n",
    "\n",
    "from pilot_hadoop import PilotComputeService as PilotSparkComputeService\n",
    "\n",
    "pilotcompute_description = {\n",
    "    \"service_url\": \"spark://129.114.58.133:7077\",\n",
    "    \"spark.driver.host\": \"129.114.58.2\"\n",
    "}\n",
    "\n",
    "print \"SPARK HOME: %s\"%os.environ[\"SPARK_HOME\"]\n",
    "print \"PYTHONPATH: %s\"%os.environ[\"PYTHONPATH\"]\n",
    "\n",
    "start = time.time()\n",
    "pilot_spark = PilotSparkComputeService.create_pilot(pilotcompute_description=pilotcompute_description)\n",
    "sc = pilot_spark.get_spark_context()\n",
    "print \"Spark Startup, %.2f\"%(time.time()-start)"
   ]
  },
  {
   "cell_type": "code",
   "execution_count": 2,
   "metadata": {
    "collapsed": false
   },
   "outputs": [],
   "source": [
    "rdd=sc.parallelize(range(10))"
   ]
  },
  {
   "cell_type": "code",
   "execution_count": 3,
   "metadata": {
    "collapsed": false
   },
   "outputs": [
    {
     "data": {
      "text/plain": [
       "10"
      ]
     },
     "execution_count": 3,
     "metadata": {},
     "output_type": "execute_result"
    }
   ],
   "source": [
    "rdd.count()"
   ]
  },
  {
   "cell_type": "code",
   "execution_count": null,
   "metadata": {
    "collapsed": true
   },
   "outputs": [],
   "source": []
  }
 ],
 "metadata": {
  "kernelspec": {
   "display_name": "Python 2",
   "language": "python",
   "name": "python2"
  },
  "language_info": {
   "codemirror_mode": {
    "name": "ipython",
    "version": 2
   },
   "file_extension": ".py",
   "mimetype": "text/x-python",
   "name": "python",
   "nbconvert_exporter": "python",
   "pygments_lexer": "ipython2",
   "version": "2.7.11"
  }
 },
 "nbformat": 4,
 "nbformat_minor": 0
}
