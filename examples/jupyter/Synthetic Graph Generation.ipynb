{
 "cells": [
  {
   "cell_type": "markdown",
   "metadata": {},
   "source": [
    "# Synthetic Graph Generation\n",
    "\n",
    "Look at example data from Oliver as base for creating a synthetic, large dataset"
   ]
  },
  {
   "cell_type": "code",
   "execution_count": null,
   "metadata": {
    "collapsed": false,
    "run_control": {
     "frozen": false,
     "read_only": false
    }
   },
   "outputs": [],
   "source": [
    "%matplotlib inline\n",
    "import matplotlib.pyplot as plt\n",
    "import networkx as NX\n",
    "import time\n",
    "import datetime\n",
    "import os,sys\n",
    "\n",
    "FILENAME_SMALL=\"../data/mdanalysis/small/graph_edges_95_215.csv\"\n",
    "FILENAME_MEDIUM=\"../data/mdanalysis/medium/graph_edges_24056_71826.csv\"\n",
    "OUTPUT_DIR=\"../data/mdanalysis/synthetic/\"\n",
    "!head -n 5 {FILENAME_MEDIUM}\n",
    "\n",
    "\n",
    "start = time.time()\n",
    "nxg = NX.read_edgelist(FILENAME_MEDIUM, delimiter=\",\")\n",
    "end_read = time.time()\n",
    "#NX.draw(nxg, pos=NX.spring_layout(nxg))"
   ]
  },
  {
   "cell_type": "code",
   "execution_count": 1,
   "metadata": {
    "collapsed": false,
    "run_control": {
     "frozen": false,
     "read_only": false
    }
   },
   "outputs": [
    {
     "name": "stdout",
     "output_type": "stream",
     "text": [
      "0,0\r\n",
      "0,17369\r\n",
      "0,17306\r\n",
      "0,179\r\n",
      "0,17446\r\n",
      "1,1\r\n",
      "1,2147\r\n",
      "1,7\r\n",
      "1,3886\r\n",
      "1,20150\r\n"
     ]
    }
   ],
   "source": [
    "!head ../data/mdanalysis/medium/graph_edges_24056_71826.csv"
   ]
  },
  {
   "cell_type": "code",
   "execution_count": 3,
   "metadata": {
    "collapsed": false,
    "run_control": {
     "frozen": false,
     "read_only": false
    }
   },
   "outputs": [
    {
     "name": "stdout",
     "output_type": "stream",
     "text": [
      "Length: 24056\n"
     ]
    },
    {
     "data": {
      "text/plain": [
       "<matplotlib.text.Text at 0x7f557ddbbb50>"
      ]
     },
     "execution_count": 3,
     "metadata": {},
     "output_type": "execute_result"
    },
    {
     "data": {
      "image/png": "[encoded data removed]",
      "text/plain": [
       "<matplotlib.figure.Figure at 0x7f557dea4790>"
      ]
     },
     "metadata": {},
     "output_type": "display_data"
    }
   ],
   "source": [
    "degree_sequence=sorted(NX.degree(nxg).values(),reverse=True) # degree sequence\n",
    "print \"Length: %d\" % len(degree_sequence)\n",
    "dmax=max(degree_sequence)\n",
    "plt.loglog(degree_sequence,'b-',marker='o')\n",
    "plt.title(\"Degree Histogram\")\n",
    "plt.ylabel(\"Degree\")\n",
    "plt.xlabel(\"Node\")"
   ]
  },
  {
   "cell_type": "markdown",
   "metadata": {},
   "source": [
    "# Data Generation\n"
   ]
  },
  {
   "cell_type": "code",
   "execution_count": 4,
   "metadata": {
    "collapsed": false,
    "run_control": {
     "frozen": false,
     "read_only": false
    }
   },
   "outputs": [
    {
     "data": {
      "text/plain": [
       "count    24056.000000\n",
       "mean         5.971566\n",
       "std          1.305737\n",
       "min          2.000000\n",
       "25%          5.000000\n",
       "50%          6.000000\n",
       "75%          7.000000\n",
       "max         12.000000\n",
       "dtype: float64"
      ]
     },
     "execution_count": 4,
     "metadata": {},
     "output_type": "execute_result"
    }
   ],
   "source": [
    "%matplotlib inline\n",
    "import pandas as pd\n",
    "import numpy as np\n",
    "series = pd.Series(NX.degree(nxg).values())\n",
    "series.describe()"
   ]
  },
  {
   "cell_type": "code",
   "execution_count": 5,
   "metadata": {
    "collapsed": false,
    "run_control": {
     "frozen": false,
     "read_only": false
    }
   },
   "outputs": [
    {
     "data": {
      "text/plain": [
       "<matplotlib.axes._subplots.AxesSubplot at 0x7f558a933410>"
      ]
     },
     "execution_count": 5,
     "metadata": {},
     "output_type": "execute_result"
    },
    {
     "data": {
      "image/png": "[encoded data removed]",
      "text/plain": [
       "<matplotlib.figure.Figure at 0x7f557e16c5d0>"
      ]
     },
     "metadata": {},
     "output_type": "display_data"
    }
   ],
   "source": [
    "series.hist()"
   ]
  },
  {
   "cell_type": "code",
   "execution_count": 6,
   "metadata": {
    "collapsed": false,
    "run_control": {
     "frozen": false,
     "read_only": false
    }
   },
   "outputs": [],
   "source": [
    "number_of_nodes=[145746]\n",
    "for number in number_of_nodes:\n",
    "    degree_vector = np.random.normal(series.mean(), series.std(), number)\n",
    "    graph = NX.expected_degree_graph(degree_vector)\n",
    "    NX.write_edgelist(graph,\n",
    "                      os.path.join(OUTPUT_DIR, \n",
    "                        \"graph_edges_%d_%d.csv\"%(number, NX.number_of_edges(graph))),\n",
    "                      delimiter=\",\")"
   ]
  },
  {
   "cell_type": "code",
   "execution_count": 10,
   "metadata": {
    "collapsed": false,
    "run_control": {
     "frozen": false,
     "read_only": false
    }
   },
   "outputs": [
    {
     "name": "stdout",
     "output_type": "stream",
     "text": [
      "graph_edges_10000_29900.csv    graph_edges_20000_59671.csv\r\n",
      "graph_edges_145746_435524.csv  graph_edges_30000_89157.csv\r\n"
     ]
    }
   ],
   "source": [
    "!ls ../data/mdanalysis/synthetic"
   ]
  },
  {
   "cell_type": "code",
   "execution_count": null,
   "metadata": {
    "collapsed": true,
    "run_control": {
     "frozen": false,
     "read_only": false
    }
   },
   "outputs": [],
   "source": [
    ""
   ]
  }
 ],
 "metadata": {
  "kernelspec": {
   "display_name": "Python 2",
   "language": "python",
   "name": "python2"
  },
  "language_info": {
   "codemirror_mode": {
    "name": "ipython",
    "version": 2.0
   },
   "file_extension": ".py",
   "mimetype": "text/x-python",
   "name": "python",
   "nbconvert_exporter": "python",
   "pygments_lexer": "ipython2",
   "version": "2.7.11"
  },
  "toc": {
   "toc_cell": false,
   "toc_number_sections": true,
   "toc_threshold": 6.0,
   "toc_window_display": false
  }
 },
 "nbformat": 4,
 "nbformat_minor": 0
}